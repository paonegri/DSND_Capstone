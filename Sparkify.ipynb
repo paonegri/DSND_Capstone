{
  "nbformat": 4,
  "nbformat_minor": 0,
  "metadata": {
    "kernelspec": {
      "display_name": "Python 3",
      "language": "python",
      "name": "python3"
    },
    "language_info": {
      "codemirror_mode": {
        "name": "ipython",
        "version": 3
      },
      "file_extension": ".py",
      "mimetype": "text/x-python",
      "name": "python",
      "nbconvert_exporter": "python",
      "pygments_lexer": "ipython3",
      "version": "3.6.3"
    },
    "colab": {
      "name": "Sparkify.ipynb",
      "provenance": [],
      "toc_visible": true
    }
  },
  "cells": [
    {
      "cell_type": "markdown",
      "metadata": {
        "id": "UQpYphq225tz",
        "colab_type": "text"
      },
      "source": [
        "# Sparkify Project Workspace\n",
        "This workspace contains a tiny subset (128MB) of the full dataset available (12GB). Feel free to use this workspace to build your project, or to explore a smaller subset with Spark before deploying your cluster on the cloud. Instructions for setting up your Spark cluster is included in the last lesson of the Extracurricular Spark Course content.\n",
        "\n",
        "You can follow the steps below to guide your data analysis and model building portion of this project."
      ]
    },
    {
      "cell_type": "code",
      "metadata": {
        "id": "V0hJfq0i25t3",
        "colab_type": "code",
        "colab": {}
      },
      "source": [
        "#import libraries\n",
        "import pandas as pd\n",
        "import numpy as np\n",
        "import matplotlib.pyplot as plt\n",
        "import seaborn as sns\n",
        "import re\n",
        "import datetime\n",
        "\n",
        "from scipy.stats import chi2_contingency\n",
        "from scipy.stats import chi2\n",
        "\n",
        "from pyspark.sql import SparkSession\n",
        "from pyspark.sql.functions import avg, stddev,col, concat, desc, isnan, explode, lit, count, when, sort_array, asc, avg, min, max, split, udf, isnull, countDistinct, rand\n",
        "from pyspark.sql.functions import min as fmin\n",
        "from pyspark.sql.functions import max as fmax\n",
        "from pyspark.sql.types import IntegerType\n",
        "from pyspark.sql.types import StringType\n",
        "\n",
        "from pyspark.ml import Pipeline\n",
        "\n",
        "from pyspark.ml.classification import LogisticRegression, RandomForestClassifier, GBTClassifier, DecisionTreeClassifier, NaiveBayes\n",
        "from pyspark.ml.evaluation import MulticlassClassificationEvaluator\n",
        "from pyspark.ml.feature import CountVectorizer, IDF, Normalizer, PCA, RegexTokenizer, StandardScaler, StopWordsRemover, StringIndexer, VectorAssembler\n",
        "from pyspark.ml.regression import LinearRegression\n",
        "from pyspark.ml.feature import OneHotEncoder, StringIndexer\n",
        "from pyspark.ml.tuning import CrossValidator, ParamGridBuilder\n",
        "from pyspark.ml.classification import LogisticRegression\n",
        "from pyspark.sql import Row\n",
        "from pyspark.sql.functions import sum as Fsum\n",
        "from pyspark.sql.window import Window\n",
        "%matplotlib inline\n"
      ],
      "execution_count": null,
      "outputs": []
    },
    {
      "cell_type": "code",
      "metadata": {
        "id": "t_p396iP25t_",
        "colab_type": "code",
        "colab": {}
      },
      "source": [
        "# Create a Spark Session\n",
        "spark = SparkSession \\\n",
        ".builder \\\n",
        ".appName('Sparkify') \\\n",
        ".getOrCreate()"
      ],
      "execution_count": null,
      "outputs": []
    },
    {
      "cell_type": "markdown",
      "metadata": {
        "id": "IfB6G6o925uG",
        "colab_type": "text"
      },
      "source": [
        "# Load and Clean Dataset\n",
        "In this workspace, the mini-dataset file is `mini_sparkify_event_data.json`. Load and clean the dataset, checking for invalid or missing data - for example, records without userids or sessionids. "
      ]
    },
    {
      "cell_type": "code",
      "metadata": {
        "id": "TEQTpNaR25uH",
        "colab_type": "code",
        "colab": {}
      },
      "source": [
        "# Load data and store it into a Spark dataframe\n",
        "path = \"mini_sparkify_event_data.json\"\n",
        "df = spark.read.json(path)"
      ],
      "execution_count": null,
      "outputs": []
    },
    {
      "cell_type": "code",
      "metadata": {
        "id": "EHgttqSf25uN",
        "colab_type": "code",
        "colab": {},
        "outputId": "2ea399b0-ea71-4620-c8ab-7c2cc80dfa89"
      },
      "source": [
        "# Structure of the dataframe\n",
        "df.printSchema()"
      ],
      "execution_count": null,
      "outputs": [
        {
          "output_type": "stream",
          "text": [
            "root\n",
            " |-- artist: string (nullable = true)\n",
            " |-- auth: string (nullable = true)\n",
            " |-- firstName: string (nullable = true)\n",
            " |-- gender: string (nullable = true)\n",
            " |-- itemInSession: long (nullable = true)\n",
            " |-- lastName: string (nullable = true)\n",
            " |-- length: double (nullable = true)\n",
            " |-- level: string (nullable = true)\n",
            " |-- location: string (nullable = true)\n",
            " |-- method: string (nullable = true)\n",
            " |-- page: string (nullable = true)\n",
            " |-- registration: long (nullable = true)\n",
            " |-- sessionId: long (nullable = true)\n",
            " |-- song: string (nullable = true)\n",
            " |-- status: long (nullable = true)\n",
            " |-- ts: long (nullable = true)\n",
            " |-- userAgent: string (nullable = true)\n",
            " |-- userId: string (nullable = true)\n",
            "\n"
          ],
          "name": "stdout"
        }
      ]
    },
    {
      "cell_type": "code",
      "metadata": {
        "id": "T5lSIabE25uT",
        "colab_type": "code",
        "colab": {},
        "outputId": "174180f2-0382-4bb6-f8a3-b54e3beaaf3a"
      },
      "source": [
        "# Print first line\n",
        "df = spark.read.json('mini_sparkify_event_data.json')\n",
        "df.show(1)"
      ],
      "execution_count": null,
      "outputs": [
        {
          "output_type": "stream",
          "text": [
            "+--------------+---------+---------+------+-------------+--------+---------+-----+---------------+------+--------+-------------+---------+---------+------+-------------+--------------------+------+\n",
            "|        artist|     auth|firstName|gender|itemInSession|lastName|   length|level|       location|method|    page| registration|sessionId|     song|status|           ts|           userAgent|userId|\n",
            "+--------------+---------+---------+------+-------------+--------+---------+-----+---------------+------+--------+-------------+---------+---------+------+-------------+--------------------+------+\n",
            "|Martha Tilston|Logged In|    Colin|     M|           50| Freeman|277.89016| paid|Bakersfield, CA|   PUT|NextSong|1538173362000|       29|Rockpools|   200|1538352117000|Mozilla/5.0 (Wind...|    30|\n",
            "+--------------+---------+---------+------+-------------+--------+---------+-----+---------------+------+--------+-------------+---------+---------+------+-------------+--------------------+------+\n",
            "only showing top 1 row\n",
            "\n"
          ],
          "name": "stdout"
        }
      ]
    },
    {
      "cell_type": "code",
      "metadata": {
        "id": "21JjR9Ui25uY",
        "colab_type": "code",
        "colab": {},
        "outputId": "ac95dd24-e57c-4779-d588-3384e84b33a1"
      },
      "source": [
        "# Describe user ID\n",
        "df.count()"
      ],
      "execution_count": null,
      "outputs": [
        {
          "output_type": "execute_result",
          "data": {
            "text/plain": [
              "286500"
            ]
          },
          "metadata": {
            "tags": []
          },
          "execution_count": 6
        }
      ]
    },
    {
      "cell_type": "code",
      "metadata": {
        "id": "2qJOrLWI25ud",
        "colab_type": "code",
        "colab": {},
        "outputId": "5b421b9e-6f52-4f9a-b34e-fe42076d2a42"
      },
      "source": [
        "# Check userId null values\n",
        "df.filter(isnull(df['userId'])).count()"
      ],
      "execution_count": null,
      "outputs": [
        {
          "output_type": "execute_result",
          "data": {
            "text/plain": [
              "0"
            ]
          },
          "metadata": {
            "tags": []
          },
          "execution_count": 7
        }
      ]
    },
    {
      "cell_type": "code",
      "metadata": {
        "id": "iKFbZvgI25uh",
        "colab_type": "code",
        "colab": {},
        "outputId": "18f4cca4-5c0c-4820-c532-5fcb27f186a8"
      },
      "source": [
        "# Check sessionId null values\n",
        "df.filter(isnull(df['sessionId'])).count()"
      ],
      "execution_count": null,
      "outputs": [
        {
          "output_type": "execute_result",
          "data": {
            "text/plain": [
              "0"
            ]
          },
          "metadata": {
            "tags": []
          },
          "execution_count": 8
        }
      ]
    },
    {
      "cell_type": "code",
      "metadata": {
        "id": "p6EkFadX25um",
        "colab_type": "code",
        "colab": {},
        "outputId": "cdbf6cd1-b83f-4af5-8153-050f13340abb"
      },
      "source": [
        "# Check userId missing values\n",
        "df.filter(df['userId']=='').count()"
      ],
      "execution_count": null,
      "outputs": [
        {
          "output_type": "execute_result",
          "data": {
            "text/plain": [
              "8346"
            ]
          },
          "metadata": {
            "tags": []
          },
          "execution_count": 9
        }
      ]
    },
    {
      "cell_type": "code",
      "metadata": {
        "id": "i5XLFcAt25up",
        "colab_type": "code",
        "colab": {},
        "outputId": "a2a5c1ec-12eb-4143-966f-84d8bb798ba4"
      },
      "source": [
        "# Check sessionId missing values\n",
        "df.filter(df['sessionId']=='').count()"
      ],
      "execution_count": null,
      "outputs": [
        {
          "output_type": "execute_result",
          "data": {
            "text/plain": [
              "0"
            ]
          },
          "metadata": {
            "tags": []
          },
          "execution_count": 10
        }
      ]
    },
    {
      "cell_type": "code",
      "metadata": {
        "id": "v_SJmxL-25ut",
        "colab_type": "code",
        "colab": {}
      },
      "source": [
        "# Remove userId with no values\n",
        "df_clean = df.filter(df['userId']!='')"
      ],
      "execution_count": null,
      "outputs": []
    },
    {
      "cell_type": "code",
      "metadata": {
        "id": "ZZC--Kxx25ux",
        "colab_type": "code",
        "colab": {},
        "outputId": "6813972a-44b6-442c-f907-938de5c5e7e3"
      },
      "source": [
        "df_clean.take(1)"
      ],
      "execution_count": null,
      "outputs": [
        {
          "output_type": "execute_result",
          "data": {
            "text/plain": [
              "[Row(artist='Martha Tilston', auth='Logged In', firstName='Colin', gender='M', itemInSession=50, lastName='Freeman', length=277.89016, level='paid', location='Bakersfield, CA', method='PUT', page='NextSong', registration=1538173362000, sessionId=29, song='Rockpools', status=200, ts=1538352117000, userAgent='Mozilla/5.0 (Windows NT 6.1; WOW64; rv:31.0) Gecko/20100101 Firefox/31.0', userId='30')]"
            ]
          },
          "metadata": {
            "tags": []
          },
          "execution_count": 12
        }
      ]
    },
    {
      "cell_type": "markdown",
      "metadata": {
        "id": "6SrCrGja25u3",
        "colab_type": "text"
      },
      "source": [
        "# Exploratory Data Analysis\n",
        "When you're working with the full dataset, perform EDA by loading a small subset of the data and doing basic manipulations within Spark. In this workspace, you are already provided a small subset of data you can explore."
      ]
    },
    {
      "cell_type": "code",
      "metadata": {
        "id": "OMhSJZT325u5",
        "colab_type": "code",
        "colab": {}
      },
      "source": [
        "# Sparksql\n",
        "# Create a temporary view to perform SQL operations\n",
        "df_clean.createOrReplaceTempView(\"Sparkify_clean\")"
      ],
      "execution_count": null,
      "outputs": []
    },
    {
      "cell_type": "code",
      "metadata": {
        "id": "RJBnvLDO25u8",
        "colab_type": "code",
        "colab": {},
        "outputId": "ff600ee7-ba13-46bc-82fe-dfd922d1bcd6"
      },
      "source": [
        "# Explore auth by user\n",
        "spark.sql('''\n",
        "        SELECT auth,COUNT(DISTINCT userId) AS distinct_users\n",
        "        FROM Sparkify_clean\n",
        "        GROUP BY auth\n",
        "        ORDER BY distinct_users DESC\n",
        "''').show()"
      ],
      "execution_count": null,
      "outputs": [
        {
          "output_type": "stream",
          "text": [
            "+---------+--------------+\n",
            "|     auth|distinct_users|\n",
            "+---------+--------------+\n",
            "|Logged In|           225|\n",
            "|Cancelled|            52|\n",
            "+---------+--------------+\n",
            "\n"
          ],
          "name": "stdout"
        }
      ]
    },
    {
      "cell_type": "code",
      "metadata": {
        "id": "era4qo3w25u_",
        "colab_type": "code",
        "colab": {},
        "outputId": "23a82b10-0d68-4898-fba5-9b2d755f9150"
      },
      "source": [
        "# Explore Gender\n",
        "gender_count = spark.sql('''\n",
        "        SELECT gender,COUNT(DISTINCT userId) AS distinct_users\n",
        "        FROM Sparkify_clean\n",
        "        GROUP BY gender\n",
        "        ORDER BY distinct_users DESC\n",
        "''').show()"
      ],
      "execution_count": null,
      "outputs": [
        {
          "output_type": "stream",
          "text": [
            "+------+--------------+\n",
            "|gender|distinct_users|\n",
            "+------+--------------+\n",
            "|     M|           121|\n",
            "|     F|           104|\n",
            "+------+--------------+\n",
            "\n"
          ],
          "name": "stdout"
        }
      ]
    },
    {
      "cell_type": "code",
      "metadata": {
        "id": "cnv-_BKt25vD",
        "colab_type": "code",
        "colab": {},
        "outputId": "afc0897f-6526-41ae-b4a4-e7049f4a5620"
      },
      "source": [
        "# Explore length distribution\n",
        "length = spark.sql('''\n",
        "        SELECT length\n",
        "        FROM Sparkify_clean\n",
        "''').toPandas()\n",
        "\n",
        "# Length Density viz\n",
        "sns.distplot(length.dropna())"
      ],
      "execution_count": null,
      "outputs": [
        {
          "output_type": "execute_result",
          "data": {
            "text/plain": [
              "<matplotlib.axes._subplots.AxesSubplot at 0x7f2270a34b70>"
            ]
          },
          "metadata": {
            "tags": []
          },
          "execution_count": 16
        },
        {
          "output_type": "display_data",
          "data": {
            "image/png": "[encoded data removed]",
            "text/plain": [
              "<matplotlib.figure.Figure at 0x7f22a08ae828>"
            ]
          },
          "metadata": {
            "tags": [],
            "needs_background": "light"
          }
        }
      ]
    },
    {
      "cell_type": "code",
      "metadata": {
        "id": "s0UNvVfs25vH",
        "colab_type": "code",
        "colab": {},
        "outputId": "a02c395d-b2ae-4e14-faae-6336d8d55c61"
      },
      "source": [
        "# Explore level type\n",
        "spark.sql('''\n",
        "        SELECT level,COUNT(DISTINCT userId) AS user_counts\n",
        "        FROM Sparkify_clean\n",
        "        GROUP BY level\n",
        "        ORDER BY user_counts DESC\n",
        "''').show()"
      ],
      "execution_count": null,
      "outputs": [
        {
          "output_type": "stream",
          "text": [
            "+-----+-----------+\n",
            "|level|user_counts|\n",
            "+-----+-----------+\n",
            "| free|        195|\n",
            "| paid|        165|\n",
            "+-----+-----------+\n",
            "\n"
          ],
          "name": "stdout"
        }
      ]
    },
    {
      "cell_type": "code",
      "metadata": {
        "id": "8ZfDS0u825vM",
        "colab_type": "code",
        "colab": {},
        "outputId": "d1fe75f0-0f6f-4dd4-e51e-23da159d93ff"
      },
      "source": [
        "# Explore page by user\n",
        "spark.sql('''\n",
        "        SELECT page,COUNT(userId) AS user_counts\n",
        "        FROM Sparkify_clean\n",
        "        GROUP BY page\n",
        "        ORDER BY user_counts DESC\n",
        "''').show()"
      ],
      "execution_count": null,
      "outputs": [
        {
          "output_type": "stream",
          "text": [
            "+--------------------+-----------+\n",
            "|                page|user_counts|\n",
            "+--------------------+-----------+\n",
            "|            NextSong|     228108|\n",
            "|           Thumbs Up|      12551|\n",
            "|                Home|      10082|\n",
            "|     Add to Playlist|       6526|\n",
            "|          Add Friend|       4277|\n",
            "|         Roll Advert|       3933|\n",
            "|              Logout|       3226|\n",
            "|         Thumbs Down|       2546|\n",
            "|           Downgrade|       2055|\n",
            "|            Settings|       1514|\n",
            "|                Help|       1454|\n",
            "|             Upgrade|        499|\n",
            "|               About|        495|\n",
            "|       Save Settings|        310|\n",
            "|               Error|        252|\n",
            "|      Submit Upgrade|        159|\n",
            "|    Submit Downgrade|         63|\n",
            "|              Cancel|         52|\n",
            "|Cancellation Conf...|         52|\n",
            "+--------------------+-----------+\n",
            "\n"
          ],
          "name": "stdout"
        }
      ]
    },
    {
      "cell_type": "markdown",
      "metadata": {
        "id": "l3Yd6ODh25vO",
        "colab_type": "text"
      },
      "source": [
        "### Define Churn\n",
        "\n",
        "Once you've done some preliminary analysis, create a column `Churn` to use as the label for your model. I suggest using the `Cancellation Confirmation` events to define your churn, which happen for both paid and free users. As a bonus task, you can also look into the `Downgrade` events.\n"
      ]
    },
    {
      "cell_type": "code",
      "metadata": {
        "id": "Yt26BoX425vP",
        "colab_type": "code",
        "colab": {}
      },
      "source": [
        "# Add a new colum called time to see clearly the timestamp\n",
        "get_datetime = udf(lambda x: datetime.datetime.fromtimestamp(x / 1000.0).strftime(\"%Y-%m-%d %H:%M:%S\"))\n",
        "df_clean = df_clean.withColumn(\"datetime\", get_datetime(df_clean.ts))"
      ],
      "execution_count": null,
      "outputs": []
    },
    {
      "cell_type": "code",
      "metadata": {
        "scrolled": true,
        "id": "4XLwik9Z25vR",
        "colab_type": "code",
        "colab": {},
        "outputId": "cae4e0e1-d45d-40de-8c6a-bcc1e4b7f83a"
      },
      "source": [
        "#next, let's take a look at the userId 100001\n",
        "df_clean.select(['datetime','userId','page','artist','song']).filter(df_clean['userId'] == 100001)\\\n",
        ".sort('datetime',ascending=False).show(20)"
      ],
      "execution_count": null,
      "outputs": [
        {
          "output_type": "stream",
          "text": [
            "+-------------------+------+--------------------+--------------------+--------------------+\n",
            "|           datetime|userId|                page|              artist|                song|\n",
            "+-------------------+------+--------------------+--------------------+--------------------+\n",
            "|2018-10-02 16:36:45|100001|Cancellation Conf...|                null|                null|\n",
            "|2018-10-02 16:34:34|100001|              Cancel|                null|                null|\n",
            "|2018-10-02 16:34:33|100001|         Roll Advert|                null|                null|\n",
            "|2018-10-02 16:33:52|100001|            NextSong|            Harmonia|       Sehr kosmisch|\n",
            "|2018-10-02 16:29:46|100001|                Home|                null|                null|\n",
            "|2018-10-02 16:29:19|100001|              Logout|                null|                null|\n",
            "|2018-10-02 16:29:18|100001|            NextSong|           Lady GaGa|           Alejandro|\n",
            "|2018-10-02 16:24:34|100001|            NextSong|Michael BublÃÂ© ...|Quando_ Quando_ Q...|\n",
            "|2018-10-02 16:19:54|100001|            NextSong|      Bebel Gilberto|     Samba Da Bencao|\n",
            "|2018-10-02 16:16:50|100001|                Help|                null|                null|\n",
            "|2018-10-02 16:16:24|100001|            NextSong|            Natiruts|Jamaica Roots II(...|\n",
            "|2018-10-02 16:13:59|100001|         Roll Advert|                null|                null|\n",
            "|2018-10-02 16:12:33|100001|            NextSong|Peter Bjorn And John|          Paris 2004|\n",
            "|2018-10-02 16:07:00|100001|            NextSong|         Sheryl Crow|     I Shall Believe|\n",
            "|2018-10-02 16:03:18|100001|            NextSong|            Sanalejo|             Amapola|\n",
            "|2018-10-02 16:00:21|100001|            NextSong|Sopor Aeternus & ...|    La Mort d'Arthur|\n",
            "|2018-10-02 15:50:27|100001|            NextSong|Beanfield feat. B...|Tides (C's Moveme...|\n",
            "|2018-10-02 15:42:36|100001|            NextSong|      Peter Frampton|  Most Of All (Live)|\n",
            "|2018-10-02 15:39:43|100001|            NextSong|        Matt Pond PA|     KC (LP Version)|\n",
            "|2018-10-02 15:33:45|100001|                Home|                null|                null|\n",
            "+-------------------+------+--------------------+--------------------+--------------------+\n",
            "only showing top 20 rows\n",
            "\n"
          ],
          "name": "stdout"
        }
      ]
    },
    {
      "cell_type": "code",
      "metadata": {
        "id": "qO7XsnuN25vV",
        "colab_type": "code",
        "colab": {}
      },
      "source": [
        "# Create a churn column which will contain 1 if the user cancelled, 0 otherwise\n",
        "cancellation_event = udf(lambda x: 1 if x == \"Cancellation Confirmation\" else 0, IntegerType())\n",
        "\n",
        "df_clean = df_clean.withColumn(\"churn\", cancellation_event('page'))\n",
        "windowval = Window.partitionBy(\"userId\").rangeBetween(Window.unboundedPreceding, Window.unboundedFollowing)\n",
        "df_clean = df_clean.withColumn(\"churn\",Fsum(\"churn\").over(windowval))"
      ],
      "execution_count": null,
      "outputs": []
    },
    {
      "cell_type": "code",
      "metadata": {
        "id": "eyCgfUDW25vY",
        "colab_type": "code",
        "colab": {},
        "outputId": "d15b30de-3346-40db-9da0-b3053efa0b42"
      },
      "source": [
        "# Use userId=100001 to confirm that the column Churn is indeed == 1 when the page event is 'Cancellation confirmation'\n",
        "df_clean.select(['datetime','userId','page','artist','song','churn']).filter(df_clean['userId'] == 100005)\\\n",
        ".sort('datetime',ascending=False).show(10)"
      ],
      "execution_count": null,
      "outputs": [
        {
          "output_type": "stream",
          "text": [
            "+-------------------+------+--------------------+---------------+--------------------+-----+\n",
            "|           datetime|userId|                page|         artist|                song|churn|\n",
            "+-------------------+------+--------------------+---------------+--------------------+-----+\n",
            "|2018-10-19 17:57:05|100005|Cancellation Conf...|           null|                null|    1|\n",
            "|2018-10-19 17:56:50|100005|              Cancel|           null|                null|    1|\n",
            "|2018-10-19 17:56:49|100005|            Settings|           null|                null|    1|\n",
            "|2018-10-19 17:56:43|100005|                Help|           null|                null|    1|\n",
            "|2018-10-19 17:56:40|100005|            NextSong|      Chris Rea|Driving Home For ...|    1|\n",
            "|2018-10-19 17:52:10|100005|            NextSong|    Gipsy Kings|         Trista Pena|    1|\n",
            "|2018-10-19 17:49:21|100005|            NextSong|  Flat Duo Jets|     My Life My Love|    1|\n",
            "|2018-10-19 17:42:56|100005|            NextSong|Jimmy Eat World|         Drugs Or Me|    1|\n",
            "|2018-10-19 17:40:04|100005|           Thumbs Up|           null|                null|    1|\n",
            "|2018-10-19 17:40:03|100005|            NextSong|      Cold Cave|The Laurels Of Er...|    1|\n",
            "+-------------------+------+--------------------+---------------+--------------------+-----+\n",
            "only showing top 10 rows\n",
            "\n"
          ],
          "name": "stdout"
        }
      ]
    },
    {
      "cell_type": "code",
      "metadata": {
        "id": "LkANCWjv25vb",
        "colab_type": "code",
        "colab": {}
      },
      "source": [
        "# Create a downgrade column which will contain 1 if the user downgrade, 0 otherwise\n",
        "dwngrade_event = udf(lambda x: 1 if x == \"Downgrade\" else 0, IntegerType())\n",
        "\n",
        "df_clean = df_clean.withColumn(\"downgrade\", dwngrade_event('page'))\n",
        "#windowval = Window.partitionBy(\"userId\").rangeBetween(Window.unboundedPreceding, Window.unboundedFollowing)\n",
        "#df_clean = df_clean.withColumn(\"downgrade\",Fsum(\"downgrade\").over(windowval))"
      ],
      "execution_count": null,
      "outputs": []
    },
    {
      "cell_type": "code",
      "metadata": {
        "id": "W4p_A6pC25ve",
        "colab_type": "code",
        "colab": {},
        "outputId": "b43b2045-61c4-455f-95b5-d0d71d9bb4d3"
      },
      "source": [
        "# Use userId=100001 to confirm that the column Churn is indeed == 1 when the page event is 'Cancellation confirmation'\n",
        "df_clean.select(['datetime','userId','page','artist','song','downgrade']).filter(df_clean['userId'] == 73)\\\n",
        ".sort('datetime',ascending=False).show(10)"
      ],
      "execution_count": null,
      "outputs": [
        {
          "output_type": "stream",
          "text": [
            "+-------------------+------+--------------------+--------------------+--------------------+---------+\n",
            "|           datetime|userId|                page|              artist|                song|downgrade|\n",
            "+-------------------+------+--------------------+--------------------+--------------------+---------+\n",
            "|2018-10-24 17:33:07|    73|Cancellation Conf...|                null|                null|        0|\n",
            "|2018-10-24 17:32:19|    73|              Cancel|                null|                null|        0|\n",
            "|2018-10-24 17:32:18|    73|           Downgrade|                null|                null|        1|\n",
            "|2018-10-24 17:31:59|    73|            NextSong|       M.A. Numminen|         TULENLIEKKI|        0|\n",
            "|2018-10-24 17:27:36|    73|            NextSong|HÃÂ©roes del Sil...|      La Lluvia Gris|        0|\n",
            "|2018-10-24 17:23:59|    73|            NextSong|          Yellowcard|    Light Up The Sky|        0|\n",
            "|2018-10-24 17:21:16|    73|            NextSong|        Kenny Rogers|Christmas Is My F...|        0|\n",
            "|2018-10-24 17:13:51|    73|            NextSong|     Curtis Mayfield|Beautiful Brother...|        0|\n",
            "|2018-10-24 17:02:56|    73|            NextSong|            Harmonia|       Sehr kosmisch|        0|\n",
            "|2018-10-24 17:02:30|    73|                Home|                null|                null|        0|\n",
            "+-------------------+------+--------------------+--------------------+--------------------+---------+\n",
            "only showing top 10 rows\n",
            "\n"
          ],
          "name": "stdout"
        }
      ]
    },
    {
      "cell_type": "markdown",
      "metadata": {
        "id": "uB0946zf25vg",
        "colab_type": "text"
      },
      "source": [
        "### Explore Data\n",
        "Once you've defined churn, perform some exploratory data analysis to observe the behavior for users who stayed vs users who churned. You can start by exploring aggregates on these two groups of users, observing how much of a specific action they experienced per a certain time unit or number of songs played."
      ]
    },
    {
      "cell_type": "code",
      "metadata": {
        "id": "MxrSAmkI25vh",
        "colab_type": "code",
        "colab": {},
        "outputId": "fc206df2-0422-433c-eac9-348da3a65ef2"
      },
      "source": [
        "# Print again the dataframe schema\n",
        "df_clean.printSchema()"
      ],
      "execution_count": null,
      "outputs": [
        {
          "output_type": "stream",
          "text": [
            "root\n",
            " |-- artist: string (nullable = true)\n",
            " |-- auth: string (nullable = true)\n",
            " |-- firstName: string (nullable = true)\n",
            " |-- gender: string (nullable = true)\n",
            " |-- itemInSession: long (nullable = true)\n",
            " |-- lastName: string (nullable = true)\n",
            " |-- length: double (nullable = true)\n",
            " |-- level: string (nullable = true)\n",
            " |-- location: string (nullable = true)\n",
            " |-- method: string (nullable = true)\n",
            " |-- page: string (nullable = true)\n",
            " |-- registration: long (nullable = true)\n",
            " |-- sessionId: long (nullable = true)\n",
            " |-- song: string (nullable = true)\n",
            " |-- status: long (nullable = true)\n",
            " |-- ts: long (nullable = true)\n",
            " |-- userAgent: string (nullable = true)\n",
            " |-- userId: string (nullable = true)\n",
            " |-- datetime: string (nullable = true)\n",
            " |-- churn: long (nullable = true)\n",
            " |-- downgrade: integer (nullable = true)\n",
            "\n"
          ],
          "name": "stdout"
        }
      ]
    },
    {
      "cell_type": "code",
      "metadata": {
        "id": "RMnMQu2j25vl",
        "colab_type": "code",
        "colab": {},
        "outputId": "ef9f0947-6687-4e83-8c89-4059674e2e58"
      },
      "source": [
        "print('number of distinct users in sparkify : {}'\\\n",
        "    .format(df_clean.select('userId').drop_duplicates().count()))"
      ],
      "execution_count": null,
      "outputs": [
        {
          "output_type": "stream",
          "text": [
            "number of distinct users in sparkify : 225\n"
          ],
          "name": "stdout"
        }
      ]
    },
    {
      "cell_type": "code",
      "metadata": {
        "id": "Uyl_y4KF25vp",
        "colab_type": "code",
        "colab": {},
        "outputId": "605d4f71-c418-42ed-ce04-99de6a7e0dae"
      },
      "source": [
        "# Total amount of churned users\n",
        "print('total amount of churned users : {}'.format(df_clean.select('userId')\\\n",
        "                                            .where(df_clean.churn == 1).drop_duplicates().count()))"
      ],
      "execution_count": null,
      "outputs": [
        {
          "output_type": "stream",
          "text": [
            "total amount of churned users : 52\n"
          ],
          "name": "stdout"
        }
      ]
    },
    {
      "cell_type": "code",
      "metadata": {
        "id": "gcydUwmc25vs",
        "colab_type": "code",
        "colab": {},
        "outputId": "b68898e0-c173-44fb-9227-e6bff72a662a"
      },
      "source": [
        "print('percentage of churned users : {}%'\\\n",
        "      .format(round(100*(df_clean.select('userId').where(df_clean.churn == 1)\\\n",
        "                         .drop_duplicates().count())/df_clean.select('userId')\\\n",
        "                         .drop_duplicates().count())))"
      ],
      "execution_count": null,
      "outputs": [
        {
          "output_type": "stream",
          "text": [
            "percentage of churned users : 23%\n"
          ],
          "name": "stdout"
        }
      ]
    },
    {
      "cell_type": "code",
      "metadata": {
        "id": "fjb50hVt25vv",
        "colab_type": "code",
        "colab": {},
        "outputId": "861c2e8d-de38-4c3d-ca9b-25432398e098"
      },
      "source": [
        "# Get churn rates based on Gender\n",
        "pd_gender = df_clean.select(['userId','churn','gender']).\\\n",
        "drop_duplicates([\"userId\",\"churn\",'gender']).groupby([\"churn\",\"gender\"]).count().toPandas()\n",
        "pd_gender"
      ],
      "execution_count": null,
      "outputs": [
        {
          "output_type": "execute_result",
          "data": {
            "text/html": [
              "<div>\n",
              "<style scoped>\n",
              "    .dataframe tbody tr th:only-of-type {\n",
              "        vertical-align: middle;\n",
              "    }\n",
              "\n",
              "    .dataframe tbody tr th {\n",
              "        vertical-align: top;\n",
              "    }\n",
              "\n",
              "    .dataframe thead th {\n",
              "        text-align: right;\n",
              "    }\n",
              "</style>\n",
              "<table border=\"1\" class=\"dataframe\">\n",
              "  <thead>\n",
              "    <tr style=\"text-align: right;\">\n",
              "      <th></th>\n",
              "      <th>churn</th>\n",
              "      <th>gender</th>\n",
              "      <th>count</th>\n",
              "    </tr>\n",
              "  </thead>\n",
              "  <tbody>\n",
              "    <tr>\n",
              "      <th>0</th>\n",
              "      <td>0</td>\n",
              "      <td>F</td>\n",
              "      <td>84</td>\n",
              "    </tr>\n",
              "    <tr>\n",
              "      <th>1</th>\n",
              "      <td>1</td>\n",
              "      <td>M</td>\n",
              "      <td>32</td>\n",
              "    </tr>\n",
              "    <tr>\n",
              "      <th>2</th>\n",
              "      <td>1</td>\n",
              "      <td>F</td>\n",
              "      <td>20</td>\n",
              "    </tr>\n",
              "    <tr>\n",
              "      <th>3</th>\n",
              "      <td>0</td>\n",
              "      <td>M</td>\n",
              "      <td>89</td>\n",
              "    </tr>\n",
              "  </tbody>\n",
              "</table>\n",
              "</div>"
            ],
            "text/plain": [
              "   churn gender  count\n",
              "0      0      F     84\n",
              "1      1      M     32\n",
              "2      1      F     20\n",
              "3      0      M     89"
            ]
          },
          "metadata": {
            "tags": []
          },
          "execution_count": 29
        }
      ]
    },
    {
      "cell_type": "code",
      "metadata": {
        "id": "D1BkMyTF25vx",
        "colab_type": "code",
        "colab": {},
        "outputId": "128b84d4-eb50-4215-81ba-caeacb3d2324"
      },
      "source": [
        "# Gender churn viz\n",
        "sns.barplot(x='churn',y='count',hue='gender',data=pd_gender)"
      ],
      "execution_count": null,
      "outputs": [
        {
          "output_type": "execute_result",
          "data": {
            "text/plain": [
              "<matplotlib.axes._subplots.AxesSubplot at 0x7f22702bc550>"
            ]
          },
          "metadata": {
            "tags": []
          },
          "execution_count": 30
        },
        {
          "output_type": "display_data",
          "data": {
            "image/png": "[encoded data removed]",
            "text/plain": [
              "<matplotlib.figure.Figure at 0x7f226d0a0438>"
            ]
          },
          "metadata": {
            "tags": [],
            "needs_background": "light"
          }
        }
      ]
    },
    {
      "cell_type": "code",
      "metadata": {
        "id": "XFH78JiM25v2",
        "colab_type": "code",
        "colab": {},
        "outputId": "2771af8a-50da-471a-f94c-2409ab2577e3"
      },
      "source": [
        "# contingency table\n",
        "table = [[pd_gender.iat[1,2], pd_gender.iat[3,2],],[pd_gender.iat[2,2],pd_gender.iat[0,2]]]\n",
        "print(table)\n",
        "stat, p, dof, expected = chi2_contingency(table)\n",
        "print('dof=%d' % dof)\n",
        "print(expected)\n",
        "\n",
        "# interpret test-statistic\n",
        "prob = 0.95\n",
        "critical = chi2.ppf(prob, dof)\n",
        "print('probability=%.3f, critical=%.3f, stat=%.3f' % (prob, critical, stat))\n",
        "\n",
        "#If Statistic >= Critical Value: significant result, reject null hypothesis (H0), dependent.\n",
        "#If Statistic < Critical Value: not significant result, fail to reject null hypothesis (H0), independent.\n",
        "\n",
        "if abs(stat) >= critical:\n",
        "    print('Dependent (reject H0)')\n",
        "else:\n",
        "    print('Independent (fail to reject H0)')\n",
        "# interpret p-value\n",
        "alpha = 1.0 - prob\n",
        "print('significance=%.3f, p=%.3f' % (alpha, p))\n",
        "if p <= alpha:\n",
        "    print('Dependent (reject H0)')\n",
        "else:\n",
        "    print('Independent (fail to reject H0), gender seems to be not significant in determining churn or not')\n"
      ],
      "execution_count": null,
      "outputs": [
        {
          "output_type": "stream",
          "text": [
            "[[32, 89], [20, 84]]\n",
            "dof=1\n",
            "[[ 27.96444444  93.03555556]\n",
            " [ 24.03555556  79.96444444]]\n",
            "probability=0.950, critical=3.841, stat=1.258\n",
            "Independent (fail to reject H0)\n",
            "significance=0.050, p=0.262\n",
            "Independent (fail to reject H0), gender seems to be not significant in determining churn or not\n"
          ],
          "name": "stdout"
        }
      ]
    },
    {
      "cell_type": "code",
      "metadata": {
        "id": "ZTGxdE1M25v5",
        "colab_type": "code",
        "colab": {}
      },
      "source": [
        "# Level churn\n",
        "pd_item = df_clean.select(['userId','churn','level']).\\\n",
        "drop_duplicates([\"userId\",\"churn\",'level']).groupby([\"churn\",\"level\"]).count().toPandas()"
      ],
      "execution_count": null,
      "outputs": []
    },
    {
      "cell_type": "code",
      "metadata": {
        "id": "4LRyYGh_25v-",
        "colab_type": "code",
        "colab": {},
        "outputId": "63dc4de1-43d3-471a-9f31-e7b1ea828935"
      },
      "source": [
        "pd_item"
      ],
      "execution_count": null,
      "outputs": [
        {
          "output_type": "execute_result",
          "data": {
            "text/html": [
              "<div>\n",
              "<style scoped>\n",
              "    .dataframe tbody tr th:only-of-type {\n",
              "        vertical-align: middle;\n",
              "    }\n",
              "\n",
              "    .dataframe tbody tr th {\n",
              "        vertical-align: top;\n",
              "    }\n",
              "\n",
              "    .dataframe thead th {\n",
              "        text-align: right;\n",
              "    }\n",
              "</style>\n",
              "<table border=\"1\" class=\"dataframe\">\n",
              "  <thead>\n",
              "    <tr style=\"text-align: right;\">\n",
              "      <th></th>\n",
              "      <th>churn</th>\n",
              "      <th>level</th>\n",
              "      <th>count</th>\n",
              "    </tr>\n",
              "  </thead>\n",
              "  <tbody>\n",
              "    <tr>\n",
              "      <th>0</th>\n",
              "      <td>1</td>\n",
              "      <td>paid</td>\n",
              "      <td>36</td>\n",
              "    </tr>\n",
              "    <tr>\n",
              "      <th>1</th>\n",
              "      <td>1</td>\n",
              "      <td>free</td>\n",
              "      <td>46</td>\n",
              "    </tr>\n",
              "    <tr>\n",
              "      <th>2</th>\n",
              "      <td>0</td>\n",
              "      <td>free</td>\n",
              "      <td>149</td>\n",
              "    </tr>\n",
              "    <tr>\n",
              "      <th>3</th>\n",
              "      <td>0</td>\n",
              "      <td>paid</td>\n",
              "      <td>129</td>\n",
              "    </tr>\n",
              "  </tbody>\n",
              "</table>\n",
              "</div>"
            ],
            "text/plain": [
              "   churn level  count\n",
              "0      1  paid     36\n",
              "1      1  free     46\n",
              "2      0  free    149\n",
              "3      0  paid    129"
            ]
          },
          "metadata": {
            "tags": []
          },
          "execution_count": 33
        }
      ]
    },
    {
      "cell_type": "code",
      "metadata": {
        "id": "tZ_PDB4F25wA",
        "colab_type": "code",
        "colab": {},
        "outputId": "f8e9278c-57e8-49c1-d7e1-2823e9278c21"
      },
      "source": [
        "# Level churn viz\n",
        "sns.barplot(x='churn',y='count',hue='level',data=pd_item)"
      ],
      "execution_count": null,
      "outputs": [
        {
          "output_type": "execute_result",
          "data": {
            "text/plain": [
              "<matplotlib.axes._subplots.AxesSubplot at 0x7f227022fac8>"
            ]
          },
          "metadata": {
            "tags": []
          },
          "execution_count": 34
        },
        {
          "output_type": "display_data",
          "data": {
            "image/png": "[encoded data removed]",
            "text/plain": [
              "<matplotlib.figure.Figure at 0x7f2270255400>"
            ]
          },
          "metadata": {
            "tags": [],
            "needs_background": "light"
          }
        }
      ]
    },
    {
      "cell_type": "code",
      "metadata": {
        "id": "gAyi9O1G25wD",
        "colab_type": "code",
        "colab": {},
        "outputId": "620c2f1e-ff1c-4a2f-ad70-e68165a26a93"
      },
      "source": [
        "# contingency table\n",
        "table = [[pd_item.iat[1,2], pd_item.iat[2,2],],[pd_item.iat[0,2],pd_item.iat[3,2]]]\n",
        "print(table)\n",
        "stat, p, dof, expected = chi2_contingency(table)\n",
        "print('dof=%d' % dof)\n",
        "print(expected)\n",
        "\n",
        "# interpret test-statistic\n",
        "prob = 0.95\n",
        "critical = chi2.ppf(prob, dof)\n",
        "print('probability=%.3f, critical=%.3f, stat=%.3f' % (prob, critical, stat))\n",
        "\n",
        "#If Statistic >= Critical Value: significant result, reject null hypothesis (H0), dependent.\n",
        "#If Statistic < Critical Value: not significant result, fail to reject null hypothesis (H0), independent.\n",
        "\n",
        "if abs(stat) >= critical:\n",
        "    print('Dependent (reject H0)')\n",
        "else:\n",
        "    print('Independent (fail to reject H0)')\n",
        "# interpret p-value\n",
        "alpha = 1.0 - prob\n",
        "print('significance=%.3f, p=%.3f' % (alpha, p))\n",
        "if p <= alpha:\n",
        "    print('Dependent (reject H0)')\n",
        "else:\n",
        "    print('Independent (fail to reject H0), item seems to be not significant in determining churn or not')\n"
      ],
      "execution_count": null,
      "outputs": [
        {
          "output_type": "stream",
          "text": [
            "[[46, 149], [36, 129]]\n",
            "dof=1\n",
            "[[  44.41666667  150.58333333]\n",
            " [  37.58333333  127.41666667]]\n",
            "probability=0.950, critical=3.841, stat=0.075\n",
            "Independent (fail to reject H0)\n",
            "significance=0.050, p=0.785\n",
            "Independent (fail to reject H0), item seems to be not significant in determining churn or not\n"
          ],
          "name": "stdout"
        }
      ]
    },
    {
      "cell_type": "code",
      "metadata": {
        "id": "BkJ3hytb25wG",
        "colab_type": "code",
        "colab": {},
        "outputId": "83704571-c243-4bb3-b0c9-91fa9c3b255d"
      },
      "source": [
        "# Length churn stats\n",
        "df_clean.select([\"churn\", \"length\"]).groupby([\"churn\"]).agg(avg('length').alias('mean_length'), \n",
        "                                                                     stddev('length').alias('stdev_length'),\n",
        "                                                                    fmax('length').alias('max_length'),\n",
        "                                                                    fmin('length').alias('min_length')).show()"
      ],
      "execution_count": null,
      "outputs": [
        {
          "output_type": "stream",
          "text": [
            "+-----+------------------+------------------+----------+----------+\n",
            "|churn|       mean_length|      stdev_length|max_length|min_length|\n",
            "+-----+------------------+------------------+----------+----------+\n",
            "|    0|249.20913538880816|  98.6258830014688|3024.66567|   0.78322|\n",
            "|    1|248.63279564406218|102.38497717575477|3024.66567|   4.04853|\n",
            "+-----+------------------+------------------+----------+----------+\n",
            "\n"
          ],
          "name": "stdout"
        }
      ]
    },
    {
      "cell_type": "code",
      "metadata": {
        "id": "50kKDQIQ25wK",
        "colab_type": "code",
        "colab": {}
      },
      "source": [
        "# Create two datasets; churned users vs.  active users\n",
        "churned = df_clean.select(['userId','page']).where(df_clean.churn == 1).groupby('page').agg(count(\"userId\")).toPandas()\n",
        "active = df_clean.select(['userId','page']).where(df_clean.churn == 0).groupby('page').agg(count(\"userId\")).toPandas()"
      ],
      "execution_count": null,
      "outputs": []
    },
    {
      "cell_type": "code",
      "metadata": {
        "id": "9FKsLWlM25wO",
        "colab_type": "code",
        "colab": {},
        "outputId": "83709a9b-ab9f-43fb-b0c6-5967d0331cf0"
      },
      "source": [
        "active['churned'] = 'No'\n",
        "active['%'] = round(100*active['count(userId)']/np.sum(active['count(userId)']),1)\n",
        "active = active.drop(labels=['count(userId)'],axis=1)\n",
        "active"
      ],
      "execution_count": null,
      "outputs": [
        {
          "output_type": "execute_result",
          "data": {
            "text/html": [
              "<div>\n",
              "<style scoped>\n",
              "    .dataframe tbody tr th:only-of-type {\n",
              "        vertical-align: middle;\n",
              "    }\n",
              "\n",
              "    .dataframe tbody tr th {\n",
              "        vertical-align: top;\n",
              "    }\n",
              "\n",
              "    .dataframe thead th {\n",
              "        text-align: right;\n",
              "    }\n",
              "</style>\n",
              "<table border=\"1\" class=\"dataframe\">\n",
              "  <thead>\n",
              "    <tr style=\"text-align: right;\">\n",
              "      <th></th>\n",
              "      <th>page</th>\n",
              "      <th>churned</th>\n",
              "      <th>%</th>\n",
              "    </tr>\n",
              "  </thead>\n",
              "  <tbody>\n",
              "    <tr>\n",
              "      <th>0</th>\n",
              "      <td>Submit Downgrade</td>\n",
              "      <td>No</td>\n",
              "      <td>0.0</td>\n",
              "    </tr>\n",
              "    <tr>\n",
              "      <th>1</th>\n",
              "      <td>Thumbs Down</td>\n",
              "      <td>No</td>\n",
              "      <td>0.9</td>\n",
              "    </tr>\n",
              "    <tr>\n",
              "      <th>2</th>\n",
              "      <td>Home</td>\n",
              "      <td>No</td>\n",
              "      <td>3.6</td>\n",
              "    </tr>\n",
              "    <tr>\n",
              "      <th>3</th>\n",
              "      <td>Downgrade</td>\n",
              "      <td>No</td>\n",
              "      <td>0.7</td>\n",
              "    </tr>\n",
              "    <tr>\n",
              "      <th>4</th>\n",
              "      <td>Roll Advert</td>\n",
              "      <td>No</td>\n",
              "      <td>1.3</td>\n",
              "    </tr>\n",
              "    <tr>\n",
              "      <th>5</th>\n",
              "      <td>Logout</td>\n",
              "      <td>No</td>\n",
              "      <td>1.1</td>\n",
              "    </tr>\n",
              "    <tr>\n",
              "      <th>6</th>\n",
              "      <td>Save Settings</td>\n",
              "      <td>No</td>\n",
              "      <td>0.1</td>\n",
              "    </tr>\n",
              "    <tr>\n",
              "      <th>7</th>\n",
              "      <td>About</td>\n",
              "      <td>No</td>\n",
              "      <td>0.2</td>\n",
              "    </tr>\n",
              "    <tr>\n",
              "      <th>8</th>\n",
              "      <td>Settings</td>\n",
              "      <td>No</td>\n",
              "      <td>0.5</td>\n",
              "    </tr>\n",
              "    <tr>\n",
              "      <th>9</th>\n",
              "      <td>Add to Playlist</td>\n",
              "      <td>No</td>\n",
              "      <td>2.4</td>\n",
              "    </tr>\n",
              "    <tr>\n",
              "      <th>10</th>\n",
              "      <td>Add Friend</td>\n",
              "      <td>No</td>\n",
              "      <td>1.6</td>\n",
              "    </tr>\n",
              "    <tr>\n",
              "      <th>11</th>\n",
              "      <td>NextSong</td>\n",
              "      <td>No</td>\n",
              "      <td>82.2</td>\n",
              "    </tr>\n",
              "    <tr>\n",
              "      <th>12</th>\n",
              "      <td>Thumbs Up</td>\n",
              "      <td>No</td>\n",
              "      <td>4.6</td>\n",
              "    </tr>\n",
              "    <tr>\n",
              "      <th>13</th>\n",
              "      <td>Help</td>\n",
              "      <td>No</td>\n",
              "      <td>0.5</td>\n",
              "    </tr>\n",
              "    <tr>\n",
              "      <th>14</th>\n",
              "      <td>Upgrade</td>\n",
              "      <td>No</td>\n",
              "      <td>0.2</td>\n",
              "    </tr>\n",
              "    <tr>\n",
              "      <th>15</th>\n",
              "      <td>Error</td>\n",
              "      <td>No</td>\n",
              "      <td>0.1</td>\n",
              "    </tr>\n",
              "    <tr>\n",
              "      <th>16</th>\n",
              "      <td>Submit Upgrade</td>\n",
              "      <td>No</td>\n",
              "      <td>0.1</td>\n",
              "    </tr>\n",
              "  </tbody>\n",
              "</table>\n",
              "</div>"
            ],
            "text/plain": [
              "                page churned     %\n",
              "0   Submit Downgrade      No   0.0\n",
              "1        Thumbs Down      No   0.9\n",
              "2               Home      No   3.6\n",
              "3          Downgrade      No   0.7\n",
              "4        Roll Advert      No   1.3\n",
              "5             Logout      No   1.1\n",
              "6      Save Settings      No   0.1\n",
              "7              About      No   0.2\n",
              "8           Settings      No   0.5\n",
              "9    Add to Playlist      No   2.4\n",
              "10        Add Friend      No   1.6\n",
              "11          NextSong      No  82.2\n",
              "12         Thumbs Up      No   4.6\n",
              "13              Help      No   0.5\n",
              "14           Upgrade      No   0.2\n",
              "15             Error      No   0.1\n",
              "16    Submit Upgrade      No   0.1"
            ]
          },
          "metadata": {
            "tags": []
          },
          "execution_count": 38
        }
      ]
    },
    {
      "cell_type": "code",
      "metadata": {
        "id": "9h_hOwb-25wR",
        "colab_type": "code",
        "colab": {},
        "outputId": "20bd2059-3971-4331-c3eb-8b69758750ed"
      },
      "source": [
        "churned['churned'] = 'Yes'\n",
        "churned['%'] = round(100*churned['count(userId)']/np.sum(churned['count(userId)']),1)\n",
        "churned= churned.drop(labels=['count(userId)'],axis=1)\n",
        "churned"
      ],
      "execution_count": null,
      "outputs": [
        {
          "output_type": "execute_result",
          "data": {
            "text/html": [
              "<div>\n",
              "<style scoped>\n",
              "    .dataframe tbody tr th:only-of-type {\n",
              "        vertical-align: middle;\n",
              "    }\n",
              "\n",
              "    .dataframe tbody tr th {\n",
              "        vertical-align: top;\n",
              "    }\n",
              "\n",
              "    .dataframe thead th {\n",
              "        text-align: right;\n",
              "    }\n",
              "</style>\n",
              "<table border=\"1\" class=\"dataframe\">\n",
              "  <thead>\n",
              "    <tr style=\"text-align: right;\">\n",
              "      <th></th>\n",
              "      <th>page</th>\n",
              "      <th>churned</th>\n",
              "      <th>%</th>\n",
              "    </tr>\n",
              "  </thead>\n",
              "  <tbody>\n",
              "    <tr>\n",
              "      <th>0</th>\n",
              "      <td>Cancel</td>\n",
              "      <td>Yes</td>\n",
              "      <td>0.1</td>\n",
              "    </tr>\n",
              "    <tr>\n",
              "      <th>1</th>\n",
              "      <td>Submit Downgrade</td>\n",
              "      <td>Yes</td>\n",
              "      <td>0.0</td>\n",
              "    </tr>\n",
              "    <tr>\n",
              "      <th>2</th>\n",
              "      <td>Thumbs Down</td>\n",
              "      <td>Yes</td>\n",
              "      <td>1.1</td>\n",
              "    </tr>\n",
              "    <tr>\n",
              "      <th>3</th>\n",
              "      <td>Home</td>\n",
              "      <td>Yes</td>\n",
              "      <td>3.7</td>\n",
              "    </tr>\n",
              "    <tr>\n",
              "      <th>4</th>\n",
              "      <td>Downgrade</td>\n",
              "      <td>Yes</td>\n",
              "      <td>0.8</td>\n",
              "    </tr>\n",
              "    <tr>\n",
              "      <th>5</th>\n",
              "      <td>Roll Advert</td>\n",
              "      <td>Yes</td>\n",
              "      <td>2.2</td>\n",
              "    </tr>\n",
              "    <tr>\n",
              "      <th>6</th>\n",
              "      <td>Logout</td>\n",
              "      <td>Yes</td>\n",
              "      <td>1.2</td>\n",
              "    </tr>\n",
              "    <tr>\n",
              "      <th>7</th>\n",
              "      <td>Save Settings</td>\n",
              "      <td>Yes</td>\n",
              "      <td>0.1</td>\n",
              "    </tr>\n",
              "    <tr>\n",
              "      <th>8</th>\n",
              "      <td>Cancellation Confirmation</td>\n",
              "      <td>Yes</td>\n",
              "      <td>0.1</td>\n",
              "    </tr>\n",
              "    <tr>\n",
              "      <th>9</th>\n",
              "      <td>About</td>\n",
              "      <td>Yes</td>\n",
              "      <td>0.1</td>\n",
              "    </tr>\n",
              "    <tr>\n",
              "      <th>10</th>\n",
              "      <td>Settings</td>\n",
              "      <td>Yes</td>\n",
              "      <td>0.6</td>\n",
              "    </tr>\n",
              "    <tr>\n",
              "      <th>11</th>\n",
              "      <td>Add to Playlist</td>\n",
              "      <td>Yes</td>\n",
              "      <td>2.3</td>\n",
              "    </tr>\n",
              "    <tr>\n",
              "      <th>12</th>\n",
              "      <td>Add Friend</td>\n",
              "      <td>Yes</td>\n",
              "      <td>1.4</td>\n",
              "    </tr>\n",
              "    <tr>\n",
              "      <th>13</th>\n",
              "      <td>NextSong</td>\n",
              "      <td>Yes</td>\n",
              "      <td>81.1</td>\n",
              "    </tr>\n",
              "    <tr>\n",
              "      <th>14</th>\n",
              "      <td>Thumbs Up</td>\n",
              "      <td>Yes</td>\n",
              "      <td>4.1</td>\n",
              "    </tr>\n",
              "    <tr>\n",
              "      <th>15</th>\n",
              "      <td>Help</td>\n",
              "      <td>Yes</td>\n",
              "      <td>0.5</td>\n",
              "    </tr>\n",
              "    <tr>\n",
              "      <th>16</th>\n",
              "      <td>Upgrade</td>\n",
              "      <td>Yes</td>\n",
              "      <td>0.2</td>\n",
              "    </tr>\n",
              "    <tr>\n",
              "      <th>17</th>\n",
              "      <td>Error</td>\n",
              "      <td>Yes</td>\n",
              "      <td>0.1</td>\n",
              "    </tr>\n",
              "    <tr>\n",
              "      <th>18</th>\n",
              "      <td>Submit Upgrade</td>\n",
              "      <td>Yes</td>\n",
              "      <td>0.1</td>\n",
              "    </tr>\n",
              "  </tbody>\n",
              "</table>\n",
              "</div>"
            ],
            "text/plain": [
              "                         page churned     %\n",
              "0                      Cancel     Yes   0.1\n",
              "1            Submit Downgrade     Yes   0.0\n",
              "2                 Thumbs Down     Yes   1.1\n",
              "3                        Home     Yes   3.7\n",
              "4                   Downgrade     Yes   0.8\n",
              "5                 Roll Advert     Yes   2.2\n",
              "6                      Logout     Yes   1.2\n",
              "7               Save Settings     Yes   0.1\n",
              "8   Cancellation Confirmation     Yes   0.1\n",
              "9                       About     Yes   0.1\n",
              "10                   Settings     Yes   0.6\n",
              "11            Add to Playlist     Yes   2.3\n",
              "12                 Add Friend     Yes   1.4\n",
              "13                   NextSong     Yes  81.1\n",
              "14                  Thumbs Up     Yes   4.1\n",
              "15                       Help     Yes   0.5\n",
              "16                    Upgrade     Yes   0.2\n",
              "17                      Error     Yes   0.1\n",
              "18             Submit Upgrade     Yes   0.1"
            ]
          },
          "metadata": {
            "tags": []
          },
          "execution_count": 39
        }
      ]
    },
    {
      "cell_type": "code",
      "metadata": {
        "id": "SVug1jvZ25wV",
        "colab_type": "code",
        "colab": {}
      },
      "source": [
        "users = pd.concat([churned,active],sort=False)"
      ],
      "execution_count": null,
      "outputs": []
    },
    {
      "cell_type": "code",
      "metadata": {
        "id": "xTIbFedN25wb",
        "colab_type": "code",
        "colab": {},
        "outputId": "846af446-70fc-4f58-c7c0-e086f5fa365e"
      },
      "source": [
        "users"
      ],
      "execution_count": null,
      "outputs": [
        {
          "output_type": "execute_result",
          "data": {
            "text/html": [
              "<div>\n",
              "<style scoped>\n",
              "    .dataframe tbody tr th:only-of-type {\n",
              "        vertical-align: middle;\n",
              "    }\n",
              "\n",
              "    .dataframe tbody tr th {\n",
              "        vertical-align: top;\n",
              "    }\n",
              "\n",
              "    .dataframe thead th {\n",
              "        text-align: right;\n",
              "    }\n",
              "</style>\n",
              "<table border=\"1\" class=\"dataframe\">\n",
              "  <thead>\n",
              "    <tr style=\"text-align: right;\">\n",
              "      <th></th>\n",
              "      <th>page</th>\n",
              "      <th>churned</th>\n",
              "      <th>%</th>\n",
              "    </tr>\n",
              "  </thead>\n",
              "  <tbody>\n",
              "    <tr>\n",
              "      <th>0</th>\n",
              "      <td>Cancel</td>\n",
              "      <td>Yes</td>\n",
              "      <td>0.1</td>\n",
              "    </tr>\n",
              "    <tr>\n",
              "      <th>1</th>\n",
              "      <td>Submit Downgrade</td>\n",
              "      <td>Yes</td>\n",
              "      <td>0.0</td>\n",
              "    </tr>\n",
              "    <tr>\n",
              "      <th>2</th>\n",
              "      <td>Thumbs Down</td>\n",
              "      <td>Yes</td>\n",
              "      <td>1.1</td>\n",
              "    </tr>\n",
              "    <tr>\n",
              "      <th>3</th>\n",
              "      <td>Home</td>\n",
              "      <td>Yes</td>\n",
              "      <td>3.7</td>\n",
              "    </tr>\n",
              "    <tr>\n",
              "      <th>4</th>\n",
              "      <td>Downgrade</td>\n",
              "      <td>Yes</td>\n",
              "      <td>0.8</td>\n",
              "    </tr>\n",
              "    <tr>\n",
              "      <th>5</th>\n",
              "      <td>Roll Advert</td>\n",
              "      <td>Yes</td>\n",
              "      <td>2.2</td>\n",
              "    </tr>\n",
              "    <tr>\n",
              "      <th>6</th>\n",
              "      <td>Logout</td>\n",
              "      <td>Yes</td>\n",
              "      <td>1.2</td>\n",
              "    </tr>\n",
              "    <tr>\n",
              "      <th>7</th>\n",
              "      <td>Save Settings</td>\n",
              "      <td>Yes</td>\n",
              "      <td>0.1</td>\n",
              "    </tr>\n",
              "    <tr>\n",
              "      <th>8</th>\n",
              "      <td>Cancellation Confirmation</td>\n",
              "      <td>Yes</td>\n",
              "      <td>0.1</td>\n",
              "    </tr>\n",
              "    <tr>\n",
              "      <th>9</th>\n",
              "      <td>About</td>\n",
              "      <td>Yes</td>\n",
              "      <td>0.1</td>\n",
              "    </tr>\n",
              "    <tr>\n",
              "      <th>10</th>\n",
              "      <td>Settings</td>\n",
              "      <td>Yes</td>\n",
              "      <td>0.6</td>\n",
              "    </tr>\n",
              "    <tr>\n",
              "      <th>11</th>\n",
              "      <td>Add to Playlist</td>\n",
              "      <td>Yes</td>\n",
              "      <td>2.3</td>\n",
              "    </tr>\n",
              "    <tr>\n",
              "      <th>12</th>\n",
              "      <td>Add Friend</td>\n",
              "      <td>Yes</td>\n",
              "      <td>1.4</td>\n",
              "    </tr>\n",
              "    <tr>\n",
              "      <th>13</th>\n",
              "      <td>NextSong</td>\n",
              "      <td>Yes</td>\n",
              "      <td>81.1</td>\n",
              "    </tr>\n",
              "    <tr>\n",
              "      <th>14</th>\n",
              "      <td>Thumbs Up</td>\n",
              "      <td>Yes</td>\n",
              "      <td>4.1</td>\n",
              "    </tr>\n",
              "    <tr>\n",
              "      <th>15</th>\n",
              "      <td>Help</td>\n",
              "      <td>Yes</td>\n",
              "      <td>0.5</td>\n",
              "    </tr>\n",
              "    <tr>\n",
              "      <th>16</th>\n",
              "      <td>Upgrade</td>\n",
              "      <td>Yes</td>\n",
              "      <td>0.2</td>\n",
              "    </tr>\n",
              "    <tr>\n",
              "      <th>17</th>\n",
              "      <td>Error</td>\n",
              "      <td>Yes</td>\n",
              "      <td>0.1</td>\n",
              "    </tr>\n",
              "    <tr>\n",
              "      <th>18</th>\n",
              "      <td>Submit Upgrade</td>\n",
              "      <td>Yes</td>\n",
              "      <td>0.1</td>\n",
              "    </tr>\n",
              "    <tr>\n",
              "      <th>0</th>\n",
              "      <td>Submit Downgrade</td>\n",
              "      <td>No</td>\n",
              "      <td>0.0</td>\n",
              "    </tr>\n",
              "    <tr>\n",
              "      <th>1</th>\n",
              "      <td>Thumbs Down</td>\n",
              "      <td>No</td>\n",
              "      <td>0.9</td>\n",
              "    </tr>\n",
              "    <tr>\n",
              "      <th>2</th>\n",
              "      <td>Home</td>\n",
              "      <td>No</td>\n",
              "      <td>3.6</td>\n",
              "    </tr>\n",
              "    <tr>\n",
              "      <th>3</th>\n",
              "      <td>Downgrade</td>\n",
              "      <td>No</td>\n",
              "      <td>0.7</td>\n",
              "    </tr>\n",
              "    <tr>\n",
              "      <th>4</th>\n",
              "      <td>Roll Advert</td>\n",
              "      <td>No</td>\n",
              "      <td>1.3</td>\n",
              "    </tr>\n",
              "    <tr>\n",
              "      <th>5</th>\n",
              "      <td>Logout</td>\n",
              "      <td>No</td>\n",
              "      <td>1.1</td>\n",
              "    </tr>\n",
              "    <tr>\n",
              "      <th>6</th>\n",
              "      <td>Save Settings</td>\n",
              "      <td>No</td>\n",
              "      <td>0.1</td>\n",
              "    </tr>\n",
              "    <tr>\n",
              "      <th>7</th>\n",
              "      <td>About</td>\n",
              "      <td>No</td>\n",
              "      <td>0.2</td>\n",
              "    </tr>\n",
              "    <tr>\n",
              "      <th>8</th>\n",
              "      <td>Settings</td>\n",
              "      <td>No</td>\n",
              "      <td>0.5</td>\n",
              "    </tr>\n",
              "    <tr>\n",
              "      <th>9</th>\n",
              "      <td>Add to Playlist</td>\n",
              "      <td>No</td>\n",
              "      <td>2.4</td>\n",
              "    </tr>\n",
              "    <tr>\n",
              "      <th>10</th>\n",
              "      <td>Add Friend</td>\n",
              "      <td>No</td>\n",
              "      <td>1.6</td>\n",
              "    </tr>\n",
              "    <tr>\n",
              "      <th>11</th>\n",
              "      <td>NextSong</td>\n",
              "      <td>No</td>\n",
              "      <td>82.2</td>\n",
              "    </tr>\n",
              "    <tr>\n",
              "      <th>12</th>\n",
              "      <td>Thumbs Up</td>\n",
              "      <td>No</td>\n",
              "      <td>4.6</td>\n",
              "    </tr>\n",
              "    <tr>\n",
              "      <th>13</th>\n",
              "      <td>Help</td>\n",
              "      <td>No</td>\n",
              "      <td>0.5</td>\n",
              "    </tr>\n",
              "    <tr>\n",
              "      <th>14</th>\n",
              "      <td>Upgrade</td>\n",
              "      <td>No</td>\n",
              "      <td>0.2</td>\n",
              "    </tr>\n",
              "    <tr>\n",
              "      <th>15</th>\n",
              "      <td>Error</td>\n",
              "      <td>No</td>\n",
              "      <td>0.1</td>\n",
              "    </tr>\n",
              "    <tr>\n",
              "      <th>16</th>\n",
              "      <td>Submit Upgrade</td>\n",
              "      <td>No</td>\n",
              "      <td>0.1</td>\n",
              "    </tr>\n",
              "  </tbody>\n",
              "</table>\n",
              "</div>"
            ],
            "text/plain": [
              "                         page churned     %\n",
              "0                      Cancel     Yes   0.1\n",
              "1            Submit Downgrade     Yes   0.0\n",
              "2                 Thumbs Down     Yes   1.1\n",
              "3                        Home     Yes   3.7\n",
              "4                   Downgrade     Yes   0.8\n",
              "5                 Roll Advert     Yes   2.2\n",
              "6                      Logout     Yes   1.2\n",
              "7               Save Settings     Yes   0.1\n",
              "8   Cancellation Confirmation     Yes   0.1\n",
              "9                       About     Yes   0.1\n",
              "10                   Settings     Yes   0.6\n",
              "11            Add to Playlist     Yes   2.3\n",
              "12                 Add Friend     Yes   1.4\n",
              "13                   NextSong     Yes  81.1\n",
              "14                  Thumbs Up     Yes   4.1\n",
              "15                       Help     Yes   0.5\n",
              "16                    Upgrade     Yes   0.2\n",
              "17                      Error     Yes   0.1\n",
              "18             Submit Upgrade     Yes   0.1\n",
              "0            Submit Downgrade      No   0.0\n",
              "1                 Thumbs Down      No   0.9\n",
              "2                        Home      No   3.6\n",
              "3                   Downgrade      No   0.7\n",
              "4                 Roll Advert      No   1.3\n",
              "5                      Logout      No   1.1\n",
              "6               Save Settings      No   0.1\n",
              "7                       About      No   0.2\n",
              "8                    Settings      No   0.5\n",
              "9             Add to Playlist      No   2.4\n",
              "10                 Add Friend      No   1.6\n",
              "11                   NextSong      No  82.2\n",
              "12                  Thumbs Up      No   4.6\n",
              "13                       Help      No   0.5\n",
              "14                    Upgrade      No   0.2\n",
              "15                      Error      No   0.1\n",
              "16             Submit Upgrade      No   0.1"
            ]
          },
          "metadata": {
            "tags": []
          },
          "execution_count": 41
        }
      ]
    },
    {
      "cell_type": "code",
      "metadata": {
        "id": "-vTgz4sY25we",
        "colab_type": "code",
        "colab": {},
        "outputId": "a8a48245-9ea7-485b-d0e3-05639ee82b3c"
      },
      "source": [
        "fig=plt.figure(figsize=(15,10))\n",
        "sns.set(font_scale=1)\n",
        "snsbp = sns.barplot(data=users,x='%',y='page',capsize=0.2,hue='churned');\n",
        "snsbp.set_xticklabels(snsbp.get_xticklabels(), rotation=90,minor=True);"
      ],
      "execution_count": null,
      "outputs": [
        {
          "output_type": "display_data",
          "data": {
            "image/png": "[encoded data removed]",
            "text/plain": [
              "<matplotlib.figure.Figure at 0x7f226d18f358>"
            ]
          },
          "metadata": {
            "tags": [],
            "needs_background": "light"
          }
        }
      ]
    },
    {
      "cell_type": "markdown",
      "metadata": {
        "id": "7UvNWXqF25wg",
        "colab_type": "text"
      },
      "source": [
        "# Feature Engineering\n",
        "Once you've familiarized yourself with the data, build out the features you find promising to train your model on. To work with the full dataset, you can follow the following steps.\n",
        "- Write a script to extract the necessary features from the smaller subset of data\n",
        "- Ensure that your script is scalable, using the best practices discussed in Lesson 3\n",
        "- Try your script on the full data set, debugging your script if necessary\n",
        "\n",
        "If you are working in the classroom workspace, you can just extract features based on the small subset of data contained here. Be sure to transfer over this work to the larger dataset when you work on your Spark cluster."
      ]
    },
    {
      "cell_type": "code",
      "metadata": {
        "id": "eXJHCRYg25wh",
        "colab_type": "code",
        "colab": {},
        "outputId": "4374ba68-2d62-46a9-fbb0-03873f496915"
      },
      "source": [
        "# Make gender to binary\n",
        "gender = df_clean.dropDuplicates(['userId']).sort('userId')\\\n",
        "    .select(['userId','gender']).replace(['F','M'], ['1', '0'], 'gender')\n",
        "gender.withColumn('gender', gender.gender.cast(\"int\"))\n",
        "gender.show(5)"
      ],
      "execution_count": null,
      "outputs": [
        {
          "output_type": "stream",
          "text": [
            "+------+------+\n",
            "|userId|gender|\n",
            "+------+------+\n",
            "|    10|     0|\n",
            "|   100|     0|\n",
            "|100001|     1|\n",
            "|100002|     1|\n",
            "|100003|     1|\n",
            "+------+------+\n",
            "only showing top 5 rows\n",
            "\n"
          ],
          "name": "stdout"
        }
      ]
    },
    {
      "cell_type": "code",
      "metadata": {
        "id": "_epS9nJk25wj",
        "colab_type": "code",
        "colab": {},
        "outputId": "385c4f77-9545-428b-d807-f1d3d8c481bf"
      },
      "source": [
        "gender.count()"
      ],
      "execution_count": null,
      "outputs": [
        {
          "output_type": "execute_result",
          "data": {
            "text/plain": [
              "225"
            ]
          },
          "metadata": {
            "tags": []
          },
          "execution_count": 44
        }
      ]
    },
    {
      "cell_type": "code",
      "metadata": {
        "id": "R7z4MwK425wm",
        "colab_type": "code",
        "colab": {},
        "outputId": "f40f2a0a-401f-4fd8-c09e-813300227f65"
      },
      "source": [
        "# Number of songs played\n",
        "songs = df_clean.where(df_clean.song!='null').groupby('userId')\\\n",
        "    .agg(count(df_clean.song).alias('songs_played')).orderBy('userId')\\\n",
        "    .select(['userId','songs_played'])\n",
        "songs.show(5)"
      ],
      "execution_count": null,
      "outputs": [
        {
          "output_type": "stream",
          "text": [
            "+------+------------+\n",
            "|userId|songs_played|\n",
            "+------+------------+\n",
            "|    10|         673|\n",
            "|   100|        2682|\n",
            "|100001|         133|\n",
            "|100002|         195|\n",
            "|100003|          51|\n",
            "+------+------------+\n",
            "only showing top 5 rows\n",
            "\n"
          ],
          "name": "stdout"
        }
      ]
    },
    {
      "cell_type": "code",
      "metadata": {
        "id": "np5Oerv825wp",
        "colab_type": "code",
        "colab": {},
        "outputId": "ac3ea747-ad8b-4a85-b7ff-c3e2902f3cba"
      },
      "source": [
        "songs.count()"
      ],
      "execution_count": null,
      "outputs": [
        {
          "output_type": "execute_result",
          "data": {
            "text/plain": [
              "225"
            ]
          },
          "metadata": {
            "tags": []
          },
          "execution_count": 46
        }
      ]
    },
    {
      "cell_type": "code",
      "metadata": {
        "id": "_EGrylsb25wt",
        "colab_type": "code",
        "colab": {},
        "outputId": "fb9ed920-3878-478a-e888-d1214cfc3433"
      },
      "source": [
        "# Number of roll advertisement\n",
        "ads = df_clean.where(df_clean.page=='Roll Advert') \\\n",
        "    .groupby(['userId']).agg(count(col('page')).alias('roll_advert'))\\\n",
        "    .orderBy('userId').select(['userId','roll_advert'])\n",
        "\n",
        "ads.show(5)"
      ],
      "execution_count": null,
      "outputs": [
        {
          "output_type": "stream",
          "text": [
            "+------+-----------+\n",
            "|userId|roll_advert|\n",
            "+------+-----------+\n",
            "|    10|          1|\n",
            "|   100|         25|\n",
            "|100001|         14|\n",
            "|100002|          3|\n",
            "|100003|          9|\n",
            "+------+-----------+\n",
            "only showing top 5 rows\n",
            "\n"
          ],
          "name": "stdout"
        }
      ]
    },
    {
      "cell_type": "code",
      "metadata": {
        "id": "KVm8m8d-25wv",
        "colab_type": "code",
        "colab": {},
        "outputId": "f2df936e-53a5-4541-8add-16dd81a9c3ff"
      },
      "source": [
        "ads.count()"
      ],
      "execution_count": null,
      "outputs": [
        {
          "output_type": "execute_result",
          "data": {
            "text/plain": [
              "207"
            ]
          },
          "metadata": {
            "tags": []
          },
          "execution_count": 48
        }
      ]
    },
    {
      "cell_type": "code",
      "metadata": {
        "id": "61CCJJJ225wz",
        "colab_type": "code",
        "colab": {},
        "outputId": "fb5f1d61-bf2d-4614-9c42-019b854c8fa4"
      },
      "source": [
        "# Number of settings in pages\n",
        "settings = df_clean.where(df_clean.page=='Settings')\\\n",
        "    .groupby(['userId']).agg(count(col('page')).alias('settings'))\\\n",
        "    .orderBy('userId').select(['userId','settings'])\n",
        "\n",
        "settings.show(5)"
      ],
      "execution_count": null,
      "outputs": [
        {
          "output_type": "stream",
          "text": [
            "+------+--------+\n",
            "|userId|settings|\n",
            "+------+--------+\n",
            "|    10|       7|\n",
            "|   100|      11|\n",
            "|100001|       1|\n",
            "|100004|      11|\n",
            "|100005|       2|\n",
            "+------+--------+\n",
            "only showing top 5 rows\n",
            "\n"
          ],
          "name": "stdout"
        }
      ]
    },
    {
      "cell_type": "code",
      "metadata": {
        "id": "fl_HrWDU25w2",
        "colab_type": "code",
        "colab": {},
        "outputId": "ac59af31-60b1-4df7-a39c-00daec93f766"
      },
      "source": [
        "settings.count()"
      ],
      "execution_count": null,
      "outputs": [
        {
          "output_type": "execute_result",
          "data": {
            "text/plain": [
              "195"
            ]
          },
          "metadata": {
            "tags": []
          },
          "execution_count": 50
        }
      ]
    },
    {
      "cell_type": "code",
      "metadata": {
        "id": "yWYOTFG025w4",
        "colab_type": "code",
        "colab": {},
        "outputId": "ce71633f-5754-442b-9dd9-6eff1fce9589"
      },
      "source": [
        "# Number of friends\n",
        "addfriend = df_clean.where(df_clean.page=='Add Friend')\\\n",
        "    .groupby(['userId']).agg(count(col('page')).alias('add_friend'))\\\n",
        "    .orderBy('userId').select(['userId','add_friend'])\n",
        "\n",
        "addfriend.show(5)"
      ],
      "execution_count": null,
      "outputs": [
        {
          "output_type": "stream",
          "text": [
            "+------+----------+\n",
            "|userId|add_friend|\n",
            "+------+----------+\n",
            "|    10|        12|\n",
            "|   100|        49|\n",
            "|100001|         2|\n",
            "|100002|         1|\n",
            "|100004|        19|\n",
            "+------+----------+\n",
            "only showing top 5 rows\n",
            "\n"
          ],
          "name": "stdout"
        }
      ]
    },
    {
      "cell_type": "code",
      "metadata": {
        "id": "gTtlvdmC25w_",
        "colab_type": "code",
        "colab": {},
        "outputId": "89e84ec8-1b75-49d5-a661-2c63dc1f47b6"
      },
      "source": [
        "# Number of thumbs up and thumbs down\n",
        "thumbsup = df_clean.where(df_clean.page=='Thumbs Up')\\\n",
        "    .groupby(['userId']).agg(count(col('page')).alias('thumbsUps'))\\\n",
        "    .orderBy('userId').select(['userId','thumbsUps'])\n",
        "\n",
        "thumbsdown = df_clean.where(df_clean.page=='Thumbs Down')\\\n",
        "    .groupby(['userId']).agg(count(col('page')).alias('thumbsDowns'))\\\n",
        "    .orderBy('userId').select(['userId','thumbsDowns'])\n",
        "\n",
        "thumbsup.show(5)"
      ],
      "execution_count": null,
      "outputs": [
        {
          "output_type": "stream",
          "text": [
            "+------+---------+\n",
            "|userId|thumbsUps|\n",
            "+------+---------+\n",
            "|    10|       37|\n",
            "|   100|      148|\n",
            "|100001|        8|\n",
            "|100002|        5|\n",
            "|100003|        3|\n",
            "+------+---------+\n",
            "only showing top 5 rows\n",
            "\n"
          ],
          "name": "stdout"
        }
      ]
    },
    {
      "cell_type": "code",
      "metadata": {
        "id": "lnjljXb625xD",
        "colab_type": "code",
        "colab": {},
        "outputId": "3107206c-58f5-49d1-c63a-87488e6c054a"
      },
      "source": [
        "# Average number of songs played per session per userId\n",
        "sessions_songs = df_clean.select(['userId','song','sessionId'])\\\n",
        "                    .groupby(['userId','sessionId'])\\\n",
        "                    .count().groupby(['userId']).agg({'count':'avg'})\n",
        "\n",
        "sessions_songs = sessions_songs.withColumnRenamed(\"avg(count)\", \"avg_session\")\n",
        "sessions_songs.show()"
      ],
      "execution_count": null,
      "outputs": [
        {
          "output_type": "stream",
          "text": [
            "+------+------------------+\n",
            "|userId|       avg_session|\n",
            "+------+------------------+\n",
            "|100010| 54.42857142857143|\n",
            "|200002|              79.0|\n",
            "|   125|              11.0|\n",
            "|    51|             246.4|\n",
            "|   124| 166.3793103448276|\n",
            "|     7|28.714285714285715|\n",
            "|    54| 92.89189189189189|\n",
            "|    15|151.86666666666667|\n",
            "|   155|             167.0|\n",
            "|100014|51.666666666666664|\n",
            "|   132|             144.0|\n",
            "|   154|39.333333333333336|\n",
            "|   101|             214.9|\n",
            "|    11|              53.0|\n",
            "|300017| 70.28571428571429|\n",
            "|   138|             164.6|\n",
            "|    29|105.97058823529412|\n",
            "|    69|149.11111111111111|\n",
            "|100021|              63.8|\n",
            "|    42| 90.57446808510639|\n",
            "+------+------------------+\n",
            "only showing top 20 rows\n",
            "\n"
          ],
          "name": "stdout"
        }
      ]
    },
    {
      "cell_type": "code",
      "metadata": {
        "id": "fpcGKrHW25xF",
        "colab_type": "code",
        "colab": {},
        "outputId": "9bb960ee-eb9e-4b8c-8b3a-766cfdf16719"
      },
      "source": [
        "# Length churn stats\n",
        "length = df_clean.select(['userId', \"length\"]).groupby(['userId']).agg(avg('length').alias('mean_length'))\n",
        "length.show()"
      ],
      "execution_count": null,
      "outputs": [
        {
          "output_type": "stream",
          "text": [
            "+------+------------------+\n",
            "|userId|       mean_length|\n",
            "+------+------------------+\n",
            "|100010|  243.421444909091|\n",
            "|200002|242.91699209302305|\n",
            "|   125|261.13913750000006|\n",
            "|    51|247.88055082899118|\n",
            "|   124|248.17653659965674|\n",
            "|     7| 253.5605806666668|\n",
            "|    54|250.38539934530132|\n",
            "|    15|249.37701452978064|\n",
            "|   155| 242.4137706097561|\n",
            "|   132|250.58034431535253|\n",
            "|   154| 245.9526655952382|\n",
            "|100014|263.43763455252935|\n",
            "|   101|249.00612947690533|\n",
            "|    11| 246.7851051622872|\n",
            "|   138|247.56032983574826|\n",
            "|300017|  247.083419661344|\n",
            "|    29|249.18017257926053|\n",
            "|    69|254.27913390222213|\n",
            "|100021| 250.5790245217391|\n",
            "|    42|246.79344140218322|\n",
            "+------+------------------+\n",
            "only showing top 20 rows\n",
            "\n"
          ],
          "name": "stdout"
        }
      ]
    },
    {
      "cell_type": "code",
      "metadata": {
        "id": "AwedGwH325xL",
        "colab_type": "code",
        "colab": {},
        "outputId": "c584bb00-0bbc-4d80-e200-1c49bd40a3df"
      },
      "source": [
        "# Number of songs added by the user to playlist\n",
        "playlist = df_clean.select(['userId','page'])\\\n",
        "                .filter(df_clean.page == 'Add to Playlist')\\\n",
        "                .groupby('userId').count()\n",
        "\n",
        "playlist = playlist.withColumnRenamed(\"count\", \"addtoplaylist\")\n",
        "playlist.show()"
      ],
      "execution_count": null,
      "outputs": [
        {
          "output_type": "stream",
          "text": [
            "+------+-------------+\n",
            "|userId|addtoplaylist|\n",
            "+------+-------------+\n",
            "|100010|            7|\n",
            "|200002|            8|\n",
            "|    51|           52|\n",
            "|   124|          118|\n",
            "|     7|            5|\n",
            "|    15|           59|\n",
            "|    54|           72|\n",
            "|   155|           24|\n",
            "|   132|           38|\n",
            "|   154|            1|\n",
            "|100014|            7|\n",
            "|   101|           61|\n",
            "|    11|           20|\n",
            "|   138|           67|\n",
            "|300017|          113|\n",
            "|    29|           89|\n",
            "|    69|           33|\n",
            "|100021|            7|\n",
            "|    42|          104|\n",
            "|   112|            7|\n",
            "+------+-------------+\n",
            "only showing top 20 rows\n",
            "\n"
          ],
          "name": "stdout"
        }
      ]
    },
    {
      "cell_type": "code",
      "metadata": {
        "id": "8YpGdDLo25xO",
        "colab_type": "code",
        "colab": {},
        "outputId": "787f4993-15b4-4aa8-f2a2-d5a5e737ab59"
      },
      "source": [
        "# Number of songs added by the user to playlist\n",
        "downgrade = df_clean.select(['userId','downgrade'])\\\n",
        "                .filter(df_clean.downgrade == 1).groupby('userId').count()\n",
        "                #.drop_duplicates([\"userId\",\"downgrade\"])\n",
        "                \n",
        "\n",
        "downgrade = downgrade.withColumnRenamed(\"count\", \"downgrade\")\n",
        "downgrade.show()"
      ],
      "execution_count": null,
      "outputs": [
        {
          "output_type": "stream",
          "text": [
            "+------+---------+\n",
            "|userId|downgrade|\n",
            "+------+---------+\n",
            "|200002|        5|\n",
            "|    51|       23|\n",
            "|   124|       41|\n",
            "|    54|       39|\n",
            "|    15|       28|\n",
            "|   155|       12|\n",
            "|   132|       19|\n",
            "|100014|        3|\n",
            "|   101|       22|\n",
            "|    11|        5|\n",
            "|   138|       21|\n",
            "|300017|       25|\n",
            "|    29|       18|\n",
            "|    69|        9|\n",
            "|    42|       37|\n",
            "|    87|        1|\n",
            "|    73|        1|\n",
            "|     3|        2|\n",
            "|   113|       16|\n",
            "|    30|        6|\n",
            "+------+---------+\n",
            "only showing top 20 rows\n",
            "\n"
          ],
          "name": "stdout"
        }
      ]
    },
    {
      "cell_type": "code",
      "metadata": {
        "id": "jfFaLeBN25xT",
        "colab_type": "code",
        "colab": {},
        "outputId": "fd079f18-c038-4a07-efd0-83d1598020ba"
      },
      "source": [
        "# Number of days spent using the service since registration date\n",
        "loyalty = df_clean.withColumn(\"loyalty\" , (df_clean.ts-df_clean.registration)/(1000*60*60*24))\\\n",
        "                    .select(['userId','loyalty']).groupby('userId').max('loyalty').alias('loyalty')\n",
        "\n",
        "loyalty = loyalty.withColumnRenamed(\"max(loyalty)\", \"loyalty\")\n",
        "\n",
        "loyalty.show()"
      ],
      "execution_count": null,
      "outputs": [
        {
          "output_type": "stream",
          "text": [
            "+------+------------------+\n",
            "|userId|           loyalty|\n",
            "+------+------------------+\n",
            "|100010| 55.64365740740741|\n",
            "|200002| 70.07462962962963|\n",
            "|   125| 71.31688657407408|\n",
            "|    51|19.455844907407407|\n",
            "|   124|131.55591435185184|\n",
            "|     7| 72.77818287037037|\n",
            "|    54|110.75168981481481|\n",
            "|    15|56.513576388888886|\n",
            "|   155|23.556018518518517|\n",
            "|   132|  66.8891087962963|\n",
            "|   154|23.872037037037035|\n",
            "|100014| 85.08340277777778|\n",
            "|   101|        53.9659375|\n",
            "|    11|124.47825231481481|\n",
            "|   138| 66.62668981481481|\n",
            "|300017| 74.35851851851852|\n",
            "|    29|60.104050925925925|\n",
            "|    69| 71.42444444444445|\n",
            "|100021| 64.73886574074074|\n",
            "|    42| 67.11364583333334|\n",
            "+------+------------------+\n",
            "only showing top 20 rows\n",
            "\n"
          ],
          "name": "stdout"
        }
      ]
    },
    {
      "cell_type": "code",
      "metadata": {
        "id": "myG9s9f425xV",
        "colab_type": "code",
        "colab": {},
        "outputId": "54636a35-73e9-41d6-f536-95c27339b268"
      },
      "source": [
        "# Create final dataset\n",
        "feature_list = [gender, songs, ads, addfriend, thumbsup, thumbsdown, \\\n",
        "                loyalty, downgrade, playlist, length, sessions_songs]\n",
        "\n",
        "df = df_clean.dropDuplicates(['userId']).sort('userId').select(['userId','churn'])\n",
        "for feature in feature_list:\n",
        "    df = df.join(feature,'userId', how='left').na.fill(0)\n",
        "\n",
        "df = df.withColumnRenamed(\"churn\", \"label\")\n",
        "df.show()"
      ],
      "execution_count": null,
      "outputs": [
        {
          "output_type": "stream",
          "text": [
            "+------+-----+------+------------+-----------+----------+---------+-----------+------------------+---------+-------------+------------------+------------------+\n",
            "|userId|label|gender|songs_played|roll_advert|add_friend|thumbsUps|thumbsDowns|           loyalty|downgrade|addtoplaylist|       mean_length|       avg_session|\n",
            "+------+-----+------+------------+-----------+----------+---------+-----------+------------------+---------+-------------+------------------+------------------+\n",
            "|100010|    0|     1|         275|         52|         4|       17|          5| 55.64365740740741|        0|            7|  243.421444909091| 54.42857142857143|\n",
            "|200002|    0|     0|         387|          7|         4|       21|          6| 70.07462962962963|        5|            8|242.91699209302305|              79.0|\n",
            "|   125|    1|     0|           8|          1|         0|        0|          0| 71.31688657407408|        0|            0|261.13913750000006|              11.0|\n",
            "|   124|    0|     1|        4079|          4|        74|      171|         41|131.55591435185184|       41|          118|248.17653659965674| 166.3793103448276|\n",
            "|    51|    1|     0|        2111|          0|        28|      100|         21|19.455844907407407|       23|           52|247.88055082899118|             246.4|\n",
            "|     7|    0|     0|         150|         16|         1|        7|          1| 72.77818287037037|        0|            5| 253.5605806666668|28.714285714285715|\n",
            "|    15|    0|     0|        1914|          1|        31|       81|         14|56.513576388888886|       28|           59|249.37701452978064|151.86666666666667|\n",
            "|    54|    1|     1|        2841|         47|        33|      163|         29|110.75168981481481|       39|           72|250.38539934530132| 92.89189189189189|\n",
            "|   155|    0|     1|         820|          8|        11|       58|          3|23.556018518518517|       12|           24| 242.4137706097561|             167.0|\n",
            "|100014|    1|     0|         257|          2|         6|       17|          3| 85.08340277777778|        3|            7|263.43763455252935|51.666666666666664|\n",
            "|   132|    0|     1|        1928|          2|        41|       96|         17|  66.8891087962963|       19|           38|250.58034431535253|             144.0|\n",
            "|   154|    0|     1|          84|         10|         3|       11|          0|23.872037037037035|        0|            1| 245.9526655952382|39.333333333333336|\n",
            "|   101|    1|     0|        1797|          8|        29|       86|         16|        53.9659375|       22|           61|249.00612947690533|             214.9|\n",
            "|    11|    0|     1|         647|         39|         6|       40|          9|124.47825231481481|        5|           20| 246.7851051622872|              53.0|\n",
            "|   138|    0|     0|        2070|         17|        41|       95|         24| 66.62668981481481|       21|           67|247.56032983574826|             164.6|\n",
            "|300017|    0|     1|        3632|         11|        63|      303|         28| 74.35851851851852|       25|          113|  247.083419661344| 70.28571428571429|\n",
            "|100021|    1|     0|         230|         30|         7|       11|          5| 64.73886574074074|        0|            7| 250.5790245217391|              63.8|\n",
            "|    29|    1|     0|        3028|         22|        47|      154|         22|60.104050925925925|       18|           89|249.18017257926053|105.97058823529412|\n",
            "|    69|    0|     1|        1125|          3|        12|       72|          9| 71.42444444444445|        9|           33|254.27913390222213|149.11111111111111|\n",
            "|   112|    0|     0|         215|         21|         7|        9|          3| 87.46262731481481|        0|            7|246.80347251162797|              29.2|\n",
            "+------+-----+------+------------+-----------+----------+---------+-----------+------------------+---------+-------------+------------------+------------------+\n",
            "only showing top 20 rows\n",
            "\n"
          ],
          "name": "stdout"
        }
      ]
    },
    {
      "cell_type": "code",
      "metadata": {
        "id": "HDKoC_ed25xX",
        "colab_type": "code",
        "colab": {}
      },
      "source": [
        "# Drop userid\n",
        "df = df.drop('userId')"
      ],
      "execution_count": null,
      "outputs": []
    },
    {
      "cell_type": "code",
      "metadata": {
        "id": "aXeS4Dxf25xb",
        "colab_type": "code",
        "colab": {}
      },
      "source": [
        "# Transform to float\n",
        "for feature in df.columns[1:]:\n",
        "    df = df.withColumn(feature, df[feature].cast('float'))"
      ],
      "execution_count": null,
      "outputs": []
    },
    {
      "cell_type": "code",
      "metadata": {
        "id": "PhiYo7Se25xe",
        "colab_type": "code",
        "colab": {},
        "outputId": "f86635b0-9543-4f6e-8bd6-a8debf4fa764"
      },
      "source": [
        "# This is the data we will use to train\n",
        "df.printSchema()"
      ],
      "execution_count": null,
      "outputs": [
        {
          "output_type": "stream",
          "text": [
            "root\n",
            " |-- label: long (nullable = true)\n",
            " |-- gender: float (nullable = true)\n",
            " |-- songs_played: float (nullable = true)\n",
            " |-- roll_advert: float (nullable = true)\n",
            " |-- add_friend: float (nullable = true)\n",
            " |-- thumbsUps: float (nullable = true)\n",
            " |-- thumbsDowns: float (nullable = true)\n",
            " |-- loyalty: float (nullable = false)\n",
            " |-- downgrade: float (nullable = true)\n",
            " |-- addtoplaylist: float (nullable = true)\n",
            " |-- mean_length: float (nullable = false)\n",
            " |-- avg_session: float (nullable = false)\n",
            "\n"
          ],
          "name": "stdout"
        }
      ]
    },
    {
      "cell_type": "code",
      "metadata": {
        "id": "gOVMHXtR25xg",
        "colab_type": "code",
        "colab": {},
        "outputId": "cc82c280-b42d-4da6-c0ab-e68f36fb2d3f"
      },
      "source": [
        "df.count()"
      ],
      "execution_count": null,
      "outputs": [
        {
          "output_type": "execute_result",
          "data": {
            "text/plain": [
              "225"
            ]
          },
          "metadata": {
            "tags": []
          },
          "execution_count": 62
        }
      ]
    },
    {
      "cell_type": "markdown",
      "metadata": {
        "id": "aemOk_4125xk",
        "colab_type": "text"
      },
      "source": [
        "# Modeling\n",
        "Split the full dataset into train, test, and validation sets. Test out several of the machine learning methods you learned. Evaluate the accuracy of the various models, tuning parameters as necessary. Determine your winning model based on test accuracy and report results on the validation set. Since the churned users are a fairly small subset, I suggest using F1 score as the metric to optimize."
      ]
    },
    {
      "cell_type": "code",
      "metadata": {
        "id": "ZfmIin-J25xk",
        "colab_type": "code",
        "colab": {}
      },
      "source": [
        "def undersample(df): \n",
        "    '''\n",
        "    Implement undersample on dataset, return a balanced dataset.\n",
        "    '''    \n",
        "    # size of minority class(0)\n",
        "    minoritySize = df.where(df.label == '1').count()\n",
        "    \n",
        "    # two classes with the same size\n",
        "    df_min = df.where(df.label == '1')\n",
        "    df_max = df.where(df.label == '0').sample(1.0, seed=7).limit(minoritySize)\n",
        "    \n",
        "    # concatenate them together\n",
        "    result = df_min.union(df_max)\n",
        "    \n",
        "    #shuffle data\n",
        "    result = result.orderBy(rand())\n",
        "    return result"
      ],
      "execution_count": null,
      "outputs": []
    },
    {
      "cell_type": "code",
      "metadata": {
        "id": "GqjexMmp25xm",
        "colab_type": "code",
        "colab": {}
      },
      "source": [
        "df_bal = undersample(df)"
      ],
      "execution_count": null,
      "outputs": []
    },
    {
      "cell_type": "code",
      "metadata": {
        "id": "hZC14LHb25xn",
        "colab_type": "code",
        "colab": {},
        "outputId": "b499e66f-61ea-4f7e-ce3d-a7087985586b"
      },
      "source": [
        "# Check the output\n",
        "df_bal.groupby(df_bal.label).count().show()"
      ],
      "execution_count": null,
      "outputs": [
        {
          "output_type": "stream",
          "text": [
            "+-----+-----+\n",
            "|label|count|\n",
            "+-----+-----+\n",
            "|    0|   52|\n",
            "|    1|   52|\n",
            "+-----+-----+\n",
            "\n"
          ],
          "name": "stdout"
        }
      ]
    },
    {
      "cell_type": "code",
      "metadata": {
        "id": "KL-httzC25xq",
        "colab_type": "code",
        "colab": {},
        "outputId": "0411bd3b-dadd-4f49-9915-9b93391fbb96"
      },
      "source": [
        "df_bal.printSchema()"
      ],
      "execution_count": null,
      "outputs": [
        {
          "output_type": "stream",
          "text": [
            "root\n",
            " |-- label: long (nullable = true)\n",
            " |-- gender: float (nullable = true)\n",
            " |-- songs_played: float (nullable = true)\n",
            " |-- roll_advert: float (nullable = true)\n",
            " |-- add_friend: float (nullable = true)\n",
            " |-- thumbsUps: float (nullable = true)\n",
            " |-- thumbsDowns: float (nullable = true)\n",
            " |-- loyalty: float (nullable = false)\n",
            " |-- downgrade: float (nullable = true)\n",
            " |-- addtoplaylist: float (nullable = true)\n",
            " |-- mean_length: float (nullable = false)\n",
            " |-- avg_session: float (nullable = false)\n",
            "\n"
          ],
          "name": "stdout"
        }
      ]
    },
    {
      "cell_type": "code",
      "metadata": {
        "id": "dVecneo425xs",
        "colab_type": "code",
        "colab": {}
      },
      "source": [
        "# Create VectorAssembler to push data to ML models\n",
        "assembler = VectorAssembler(inputCols=df_bal.columns[1:],\\\n",
        "                            outputCol=\"inputFeatures\")\n",
        "\n",
        "# Normalize data\n",
        "scaler = Normalizer(inputCol=\"inputFeatures\", outputCol=\"ScaledFeatures\");"
      ],
      "execution_count": null,
      "outputs": []
    },
    {
      "cell_type": "code",
      "metadata": {
        "id": "zD0k_tPc25xt",
        "colab_type": "code",
        "colab": {}
      },
      "source": [
        "# ElasticNetParam corresponds to α and regParam corresponds to λ.\n",
        "#model_lr = LogisticRegression(featuresCol=\"ScaledFeatures\", labelCol=\"label\", maxIter=10, regParam=0.01)\n",
        "#model_rf = RandomForestClassifier(featuresCol=\"ScaledFeatures\", labelCol=\"label\")\n",
        "#model_gbt = GBTClassifier(featuresCol=\"ScaledFeatures\", labelCol=\"label\")"
      ],
      "execution_count": null,
      "outputs": []
    },
    {
      "cell_type": "code",
      "metadata": {
        "id": "2Xmsl2DJ25xv",
        "colab_type": "code",
        "colab": {}
      },
      "source": [
        "# Create Pipeline\n",
        "#pipeline_lr = Pipeline(stages=[assembler, scaler, model_lr]);\n",
        "#pipeline_rf = Pipeline(stages=[assembler, scaler, model_rf]);\n",
        "#pipeline_gbt = Pipeline(stages=[assembler, scaler, model_gbt])"
      ],
      "execution_count": null,
      "outputs": []
    },
    {
      "cell_type": "code",
      "metadata": {
        "id": "8g5KJ15625xz",
        "colab_type": "code",
        "colab": {}
      },
      "source": [
        "# spilt data for Train and test \n",
        "train, test = df_bal.randomSplit([0.8, 0.2], seed=7);"
      ],
      "execution_count": null,
      "outputs": []
    },
    {
      "cell_type": "code",
      "metadata": {
        "id": "TYl-esut25x0",
        "colab_type": "code",
        "colab": {}
      },
      "source": [
        "#test"
      ],
      "execution_count": null,
      "outputs": []
    },
    {
      "cell_type": "code",
      "metadata": {
        "id": "mmSyHXdY25x2",
        "colab_type": "code",
        "colab": {}
      },
      "source": [
        "# Build Logistic Regression Classification Model\n",
        "\n",
        "# Initiate Log Regression model\n",
        "\n",
        "lr =  LogisticRegression(featuresCol=\"ScaledFeatures\", labelCol=\"label\", maxIter=10)\n",
        "\n",
        "# Make pipeline for lr\n",
        "pipeline_lr = Pipeline(stages=[assembler, \n",
        "                               scaler, \n",
        "                               lr\n",
        "                              ]\n",
        "                      )\n",
        "\n",
        "# Grid search params\n",
        "paramGrid_lr = ParamGridBuilder() \\\n",
        "    .addGrid(lr.elasticNetParam,[0.0]) \\\n",
        "    .addGrid(lr.regParam,[0.01]) \\\n",
        "    .build()\n",
        "\n",
        "# Cross-validation params\n",
        "cv_lr = CrossValidator(estimator=pipeline_lr,\n",
        "                             estimatorParamMaps=paramGrid_lr,\n",
        "                             evaluator=MulticlassClassificationEvaluator(),\n",
        "                             numFolds=5\n",
        "                            )\n",
        "\n",
        "\n",
        "# Build Random Forest Classification Model\n",
        "\n",
        "# Initiate Random Forest model\n",
        "\n",
        "model_rf = RandomForestClassifier(featuresCol=\"ScaledFeatures\", labelCol=\"label\")\n",
        "\n",
        "\n",
        "# Make pipeline for rf\n",
        "pipeline_rf = Pipeline(stages=[assembler, \n",
        "                               scaler, \n",
        "                               model_rf \n",
        "                              ]\n",
        "                      )\n",
        "\n",
        "# Grid search params\n",
        "paramGrid_rf = ParamGridBuilder() \\\n",
        "    .addGrid(model_rf.maxDepth, [8, 16,20]) \\\n",
        "    .addGrid(model_rf.maxBins, [8, 16, 20]) \\\n",
        "    .addGrid(model_rf.impurity, ['gini','entropy']) \\\n",
        "    .build()\n",
        "    \n",
        "# Cross validation params\n",
        "cv_rf = CrossValidator(estimator=pipeline_rf,\n",
        "                       estimatorParamMaps=paramGrid_rf,\n",
        "                       evaluator=MulticlassClassificationEvaluator(),\n",
        "                       numFolds=5\n",
        "                      )"
      ],
      "execution_count": null,
      "outputs": []
    },
    {
      "cell_type": "code",
      "metadata": {
        "id": "PfIQRJQ125x4",
        "colab_type": "code",
        "colab": {}
      },
      "source": [
        "#import time\n",
        "#from dateutil import tz\n",
        "#from datetime import datetime\n",
        "\n",
        "#rome_tz = tz.gettz(\"Europe/Rome\")\n",
        "#now = datetime.now(tz=rome_tz)\n",
        "#print(now)"
      ],
      "execution_count": null,
      "outputs": []
    },
    {
      "cell_type": "code",
      "metadata": {
        "id": "LbvwkeJq25x6",
        "colab_type": "code",
        "colab": {},
        "outputId": "74d142e6-4362-4095-fa58-49556504dedc"
      },
      "source": [
        "# Fit models\n",
        "import time\n",
        "from dateutil import tz\n",
        "from datetime import datetime\n",
        "\n",
        "rome_tz = tz.gettz(\"Europe/Rome\")\n",
        "now = datetime.now(tz=rome_tz)\n",
        "print(now)\n",
        "#print(datetime.datetime.now())\n",
        "\n",
        "start_time= time.time()\n",
        "\n",
        "model_lr_fitted = cv_lr.fit(train);\n",
        "model_rf_fitted = cv_rf.fit(train)\n",
        "#model_rf_fitted = pipeline_rf.fit(train);\n",
        "#model_gbt_fitted = pipeline_gbt.fit(train);\n",
        "\n",
        "end_time= time.time()\n",
        "\n",
        "print(\"Total execute time:{}\".format(end_time-start_time))"
      ],
      "execution_count": null,
      "outputs": [
        {
          "output_type": "stream",
          "text": [
            "2020-07-19 11:14:47.816730+02:00\n",
            "Total execute time:7646.481378078461\n"
          ],
          "name": "stdout"
        }
      ]
    },
    {
      "cell_type": "code",
      "metadata": {
        "id": "7F1O5e7p25x7",
        "colab_type": "code",
        "colab": {}
      },
      "source": [
        "# Function to calculate Accuracy scores:\n",
        "def model_performance_accuracy(model, test_data, metric = 'accuracy'):\n",
        "    \"\"\" Calculate Model Scores using f1 metric \n",
        "        Input: \n",
        "            model- trained model or pipeline object\n",
        "            metric- the metric used to measure performance\n",
        "            data - data on which performance measurement should be done\n",
        "        Output:\n",
        "            score\n",
        "    \"\"\"\n",
        "    evaluator = MulticlassClassificationEvaluator(metricName = metric)\n",
        "    prediction_result = model.transform(test_data)\n",
        "    # find f1 score\n",
        "    score = evaluator.evaluate(prediction_result)\n",
        "    #return score\n",
        "    return score"
      ],
      "execution_count": null,
      "outputs": []
    },
    {
      "cell_type": "code",
      "metadata": {
        "id": "ygQJrXpD25x_",
        "colab_type": "code",
        "colab": {},
        "outputId": "5d697fd2-2c8c-4dd3-d0d8-aa900adaaf43"
      },
      "source": [
        "# Print Models Accuracy\n",
        "print(\"Logistic Regression Classifier Accuracy:{}\".format(model_performance_accuracy(model_lr_fitted, test)));\n",
        "print(\"Random Forest Classifier Accuracy:{}\".format(model_performance_accuracy(model_rf_fitted, test)));\n",
        "#print(\"GBTClassifier  Classifier Accuracy:{}\".format(model_performance_accuracy(model_gbt_fitted, test)));"
      ],
      "execution_count": null,
      "outputs": [
        {
          "output_type": "stream",
          "text": [
            "Logistic Regression Classifier Accuracy:0.7647058823529411\n",
            "Random Forest  Classifier Accuracy:0.47058823529411764\n"
          ],
          "name": "stdout"
        }
      ]
    },
    {
      "cell_type": "code",
      "metadata": {
        "id": "GHSYYcQF25yE",
        "colab_type": "code",
        "colab": {}
      },
      "source": [
        "feature_importances = model_rf_fitted.bestModel.stages[2].featureImportances.values.tolist()"
      ],
      "execution_count": null,
      "outputs": []
    },
    {
      "cell_type": "code",
      "metadata": {
        "id": "OPUr2EAt25yG",
        "colab_type": "code",
        "colab": {},
        "outputId": "c31740c3-1d52-4f66-bd02-47e670065b95"
      },
      "source": [
        "feature_importances"
      ],
      "execution_count": null,
      "outputs": [
        {
          "output_type": "execute_result",
          "data": {
            "text/plain": [
              "[0.0526684546051774,\n",
              " 0.08374028916518438,\n",
              " 0.08036777049819223,\n",
              " 0.08577652824385731,\n",
              " 0.1265252967779142,\n",
              " 0.11148366815144042,\n",
              " 0.11078729214315644,\n",
              " 0.06948804597697564,\n",
              " 0.08954813077401333,\n",
              " 0.0713712247674207,\n",
              " 0.11824329889666799]"
            ]
          },
          "metadata": {
            "tags": []
          },
          "execution_count": 78
        }
      ]
    },
    {
      "cell_type": "code",
      "metadata": {
        "id": "lK9ZFN__25yH",
        "colab_type": "code",
        "colab": {}
      },
      "source": [
        "feature_importance_df = pd.DataFrame({'feature_importance': feature_importances, 'feature name': df_bal.columns[1:]})"
      ],
      "execution_count": null,
      "outputs": []
    },
    {
      "cell_type": "code",
      "metadata": {
        "id": "Vkq6I5Q625yJ",
        "colab_type": "code",
        "colab": {},
        "outputId": "b0ea98dd-e8ea-4695-8cd0-6c7038cc61a8"
      },
      "source": [
        "sns.barplot(x='feature_importance', y='feature name', data=feature_importance_df)"
      ],
      "execution_count": null,
      "outputs": [
        {
          "output_type": "execute_result",
          "data": {
            "text/plain": [
              "<matplotlib.axes._subplots.AxesSubplot at 0x7f226c9f76a0>"
            ]
          },
          "metadata": {
            "tags": []
          },
          "execution_count": 81
        },
        {
          "output_type": "display_data",
          "data": {
            "image/png": "[encoded data removed]",
            "text/plain": [
              "<matplotlib.figure.Figure at 0x7f226ca1af98>"
            ]
          },
          "metadata": {
            "tags": []
          }
        }
      ]
    },
    {
      "cell_type": "code",
      "metadata": {
        "id": "FjtBvRcz25yL",
        "colab_type": "code",
        "colab": {}
      },
      "source": [
        "# Function to calculate F-1 scores:\n",
        "def model_performance_f1(model, test_data, metric = 'f1'):\n",
        "    \"\"\" Calculate Model Scores using f1 metric \n",
        "        Input: \n",
        "            model- trained model or pipeline object\n",
        "            metric- the metric used to measure performance\n",
        "            data - data on which performance measurement should be done\n",
        "        Output:\n",
        "            score\n",
        "    \"\"\"\n",
        "    evaluator = MulticlassClassificationEvaluator(metricName = metric)\n",
        "    prediction_result = model.transform(test_data)\n",
        "    # find f1 score\n",
        "    score = evaluator.evaluate(prediction_result)\n",
        "    #return score\n",
        "    return score"
      ],
      "execution_count": null,
      "outputs": []
    },
    {
      "cell_type": "code",
      "metadata": {
        "id": "1DVyomxZ25yM",
        "colab_type": "code",
        "colab": {},
        "outputId": "4f096c56-02c1-467b-f68a-4aa24394f95b"
      },
      "source": [
        "# Print Models F-1 score\n",
        "print(\"Logistic Regression Classifier F1-Score:{}\".format(model_performance_f1(model_lr_fitted, test)));\n",
        "print(\"Random Forest Classifier F1-Score:{}\".format(model_performance_f1(model_rf_fitted, test)));\n",
        "#print(\"GBTClassifier  Classifier F1-Score:{}\".format(model_performance(model_gbt_fitted, test)));"
      ],
      "execution_count": null,
      "outputs": [
        {
          "output_type": "stream",
          "text": [
            "Logistic Regression Classifier F1-Score:0.7630718954248366\n",
            "Random Forest Classifier F1-Score:0.45944272445820433\n"
          ],
          "name": "stdout"
        }
      ]
    },
    {
      "cell_type": "markdown",
      "metadata": {
        "id": "i_H88urg25yP",
        "colab_type": "text"
      },
      "source": [
        "# Final Steps\n",
        "Clean up your code, adding comments and renaming variables to make the code easier to read and maintain. Refer to the Spark Project Overview page and Data Scientist Capstone Project Rubric to make sure you are including all components of the capstone project and meet all expectations. Remember, this includes thorough documentation in a README file in a Github repository, as well as a web app or blog post."
      ]
    },
    {
      "cell_type": "code",
      "metadata": {
        "id": "ICd0fsuc25yP",
        "colab_type": "code",
        "colab": {}
      },
      "source": [
        ""
      ],
      "execution_count": null,
      "outputs": []
    }
  ]
}