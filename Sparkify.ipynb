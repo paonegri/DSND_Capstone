{
  "nbformat": 4,
  "nbformat_minor": 0,
  "metadata": {
    "kernelspec": {
      "display_name": "Python 3",
      "language": "python",
      "name": "python3"
    },
    "language_info": {
      "codemirror_mode": {
        "name": "ipython",
        "version": 3
      },
      "file_extension": ".py",
      "mimetype": "text/x-python",
      "name": "python",
      "nbconvert_exporter": "python",
      "pygments_lexer": "ipython3",
      "version": "3.6.3"
    },
    "colab": {
      "name": "Sparkify.ipynb",
      "provenance": [],
      "collapsed_sections": [
        "TyHD4NKms-VC"
      ],
      "toc_visible": true
    }
  },
  "cells": [
    {
      "cell_type": "markdown",
      "metadata": {
        "id": "ygPmM5ZLs-Rj",
        "colab_type": "text"
      },
      "source": [
        "# Sparkify Project Workspace\n",
        "This workspace contains a tiny subset (128MB) of the full dataset available (12GB). Feel free to use this workspace to build your project, or to explore a smaller subset with Spark before deploying your cluster on the cloud. Instructions for setting up your Spark cluster is included in the last lesson of the Extracurricular Spark Course content.\n",
        "\n",
        "You can follow the steps below to guide your data analysis and model building portion of this project."
      ]
    },
    {
      "cell_type": "code",
      "metadata": {
        "id": "TtmaeAjls-Rk",
        "colab_type": "code",
        "colab": {}
      },
      "source": [
        "#import libraries\n",
        "import pandas as pd\n",
        "import numpy as np\n",
        "import matplotlib.pyplot as plt\n",
        "import seaborn as sns\n",
        "import re\n",
        "import datetime\n",
        "\n",
        "from scipy.stats import chi2_contingency\n",
        "from scipy.stats import chi2\n",
        "\n",
        "from pyspark.sql import SparkSession\n",
        "from pyspark.sql.functions import avg, stddev,col, concat, desc, isnan, explode, lit, count, when, sort_array, asc, avg, min, max, split, udf, isnull, countDistinct, rand\n",
        "from pyspark.sql.functions import sum as Fsum\n",
        "from pyspark.sql.types import IntegerType\n",
        "from pyspark.sql.types import StringType\n",
        "\n",
        "from pyspark.ml import Pipeline\n",
        "\n",
        "from pyspark.ml.classification import LogisticRegression, RandomForestClassifier, GBTClassifier, DecisionTreeClassifier, NaiveBayes\n",
        "from pyspark.ml.evaluation import MulticlassClassificationEvaluator\n",
        "from pyspark.ml.feature import CountVectorizer, IDF, Normalizer, PCA, RegexTokenizer, StandardScaler, StopWordsRemover, StringIndexer, VectorAssembler\n",
        "from pyspark.ml.regression import LinearRegression\n",
        "from pyspark.ml.feature import OneHotEncoder, StringIndexer\n",
        "from pyspark.ml.tuning import CrossValidator, ParamGridBuilder\n",
        "from pyspark.sql import Row\n",
        "from pyspark.sql.window import Window\n",
        "\n",
        "%matplotlib inline\n"
      ],
      "execution_count": null,
      "outputs": []
    },
    {
      "cell_type": "code",
      "metadata": {
        "id": "a2uKNoWzs-Rp",
        "colab_type": "code",
        "colab": {}
      },
      "source": [
        "# Create a Spark Session\n",
        "spark = SparkSession \\\n",
        ".builder \\\n",
        ".appName('Sparkify') \\\n",
        ".getOrCreate()"
      ],
      "execution_count": null,
      "outputs": []
    },
    {
      "cell_type": "markdown",
      "metadata": {
        "id": "M3h4cn64s-Rs",
        "colab_type": "text"
      },
      "source": [
        "# Load and Clean Dataset\n",
        "In this workspace, the mini-dataset file is `mini_sparkify_event_data.json`. Load and clean the dataset, checking for invalid or missing data - for example, records without userids or sessionids. "
      ]
    },
    {
      "cell_type": "code",
      "metadata": {
        "id": "73PiK22as-Rt",
        "colab_type": "code",
        "colab": {}
      },
      "source": [
        "# Load data and store it into a Spark dataframe\n",
        "path = \"mini_sparkify_event_data.json\"\n",
        "df = spark.read.json(path)"
      ],
      "execution_count": null,
      "outputs": []
    },
    {
      "cell_type": "code",
      "metadata": {
        "id": "abRZg8l4s-Rw",
        "colab_type": "code",
        "colab": {},
        "outputId": "9b169460-ceb7-44dc-8655-14516ff26f7d"
      },
      "source": [
        "# Structure of the dataframe\n",
        "df.printSchema()"
      ],
      "execution_count": null,
      "outputs": [
        {
          "output_type": "stream",
          "text": [
            "root\n",
            " |-- artist: string (nullable = true)\n",
            " |-- auth: string (nullable = true)\n",
            " |-- firstName: string (nullable = true)\n",
            " |-- gender: string (nullable = true)\n",
            " |-- itemInSession: long (nullable = true)\n",
            " |-- lastName: string (nullable = true)\n",
            " |-- length: double (nullable = true)\n",
            " |-- level: string (nullable = true)\n",
            " |-- location: string (nullable = true)\n",
            " |-- method: string (nullable = true)\n",
            " |-- page: string (nullable = true)\n",
            " |-- registration: long (nullable = true)\n",
            " |-- sessionId: long (nullable = true)\n",
            " |-- song: string (nullable = true)\n",
            " |-- status: long (nullable = true)\n",
            " |-- ts: long (nullable = true)\n",
            " |-- userAgent: string (nullable = true)\n",
            " |-- userId: string (nullable = true)\n",
            "\n"
          ],
          "name": "stdout"
        }
      ]
    },
    {
      "cell_type": "code",
      "metadata": {
        "id": "qBXQ395Ys-R0",
        "colab_type": "code",
        "colab": {},
        "outputId": "60d10afb-409e-4cb0-f2bf-8320367d5677"
      },
      "source": [
        "# Print first line\n",
        "df = spark.read.json('mini_sparkify_event_data.json')\n",
        "df.show(1)"
      ],
      "execution_count": null,
      "outputs": [
        {
          "output_type": "stream",
          "text": [
            "+--------------+---------+---------+------+-------------+--------+---------+-----+---------------+------+--------+-------------+---------+---------+------+-------------+--------------------+------+\n",
            "|        artist|     auth|firstName|gender|itemInSession|lastName|   length|level|       location|method|    page| registration|sessionId|     song|status|           ts|           userAgent|userId|\n",
            "+--------------+---------+---------+------+-------------+--------+---------+-----+---------------+------+--------+-------------+---------+---------+------+-------------+--------------------+------+\n",
            "|Martha Tilston|Logged In|    Colin|     M|           50| Freeman|277.89016| paid|Bakersfield, CA|   PUT|NextSong|1538173362000|       29|Rockpools|   200|1538352117000|Mozilla/5.0 (Wind...|    30|\n",
            "+--------------+---------+---------+------+-------------+--------+---------+-----+---------------+------+--------+-------------+---------+---------+------+-------------+--------------------+------+\n",
            "only showing top 1 row\n",
            "\n"
          ],
          "name": "stdout"
        }
      ]
    },
    {
      "cell_type": "code",
      "metadata": {
        "id": "cquaOu5us-R3",
        "colab_type": "code",
        "colab": {},
        "outputId": "e06980df-0963-46af-a55e-d19e27b190b8"
      },
      "source": [
        "# Describe userId\n",
        "df.count()"
      ],
      "execution_count": null,
      "outputs": [
        {
          "output_type": "execute_result",
          "data": {
            "text/plain": [
              "286500"
            ]
          },
          "metadata": {
            "tags": []
          },
          "execution_count": 6
        }
      ]
    },
    {
      "cell_type": "code",
      "metadata": {
        "id": "ESuabIuHs-R6",
        "colab_type": "code",
        "colab": {},
        "outputId": "edc35b10-b2bb-4eb4-9385-79591e470c9e"
      },
      "source": [
        "# Check userId null values\n",
        "df.filter(isnull(df['userId'])).count()"
      ],
      "execution_count": null,
      "outputs": [
        {
          "output_type": "execute_result",
          "data": {
            "text/plain": [
              "0"
            ]
          },
          "metadata": {
            "tags": []
          },
          "execution_count": 7
        }
      ]
    },
    {
      "cell_type": "code",
      "metadata": {
        "id": "anQDAOY-s-R9",
        "colab_type": "code",
        "colab": {},
        "outputId": "eeae66fb-8c60-4e97-9ab3-eb30d3205dc3"
      },
      "source": [
        "# Check sessionId null values\n",
        "df.filter(isnull(df['sessionId'])).count()"
      ],
      "execution_count": null,
      "outputs": [
        {
          "output_type": "execute_result",
          "data": {
            "text/plain": [
              "0"
            ]
          },
          "metadata": {
            "tags": []
          },
          "execution_count": 8
        }
      ]
    },
    {
      "cell_type": "code",
      "metadata": {
        "id": "8LG_Mmvss-SA",
        "colab_type": "code",
        "colab": {},
        "outputId": "31beccc0-d97d-47bd-a732-cdf55cfa58c4"
      },
      "source": [
        "# Check userId missing values\n",
        "df.filter(df['userId']=='').count()"
      ],
      "execution_count": null,
      "outputs": [
        {
          "output_type": "execute_result",
          "data": {
            "text/plain": [
              "8346"
            ]
          },
          "metadata": {
            "tags": []
          },
          "execution_count": 9
        }
      ]
    },
    {
      "cell_type": "code",
      "metadata": {
        "id": "bg5Z1mygs-SD",
        "colab_type": "code",
        "colab": {},
        "outputId": "6fc5727f-a9d0-4631-827e-e65669d1cd97"
      },
      "source": [
        "# Check sessionId missing values\n",
        "df.filter(df['sessionId']=='').count()"
      ],
      "execution_count": null,
      "outputs": [
        {
          "output_type": "execute_result",
          "data": {
            "text/plain": [
              "0"
            ]
          },
          "metadata": {
            "tags": []
          },
          "execution_count": 10
        }
      ]
    },
    {
      "cell_type": "code",
      "metadata": {
        "id": "FfbonVyMs-SF",
        "colab_type": "code",
        "colab": {}
      },
      "source": [
        "# Remove userId with no values\n",
        "df_clean = df.filter(df['userId']!='')"
      ],
      "execution_count": null,
      "outputs": []
    },
    {
      "cell_type": "code",
      "metadata": {
        "id": "_BO9L1Ems-SI",
        "colab_type": "code",
        "colab": {},
        "outputId": "922698db-32b2-4966-83ea-c796d854f440"
      },
      "source": [
        "df_clean.take(1)"
      ],
      "execution_count": null,
      "outputs": [
        {
          "output_type": "execute_result",
          "data": {
            "text/plain": [
              "[Row(artist='Martha Tilston', auth='Logged In', firstName='Colin', gender='M', itemInSession=50, lastName='Freeman', length=277.89016, level='paid', location='Bakersfield, CA', method='PUT', page='NextSong', registration=1538173362000, sessionId=29, song='Rockpools', status=200, ts=1538352117000, userAgent='Mozilla/5.0 (Windows NT 6.1; WOW64; rv:31.0) Gecko/20100101 Firefox/31.0', userId='30')]"
            ]
          },
          "metadata": {
            "tags": []
          },
          "execution_count": 12
        }
      ]
    },
    {
      "cell_type": "markdown",
      "metadata": {
        "id": "yyFYZ4D7s-SL",
        "colab_type": "text"
      },
      "source": [
        "# Exploratory Data Analysis\n",
        "When you're working with the full dataset, perform EDA by loading a small subset of the data and doing basic manipulations within Spark. In this workspace, you are already provided a small subset of data you can explore."
      ]
    },
    {
      "cell_type": "code",
      "metadata": {
        "id": "zZff7b2ns-SL",
        "colab_type": "code",
        "colab": {}
      },
      "source": [
        "# Sparksql\n",
        "# Create a temporary view to perform SQL operations\n",
        "df_clean.createOrReplaceTempView(\"Sparkify_clean\")"
      ],
      "execution_count": null,
      "outputs": []
    },
    {
      "cell_type": "code",
      "metadata": {
        "id": "j2vWX8Q8s-SO",
        "colab_type": "code",
        "colab": {},
        "outputId": "bec0be7d-dee0-4440-d5c0-ad88ef373f80"
      },
      "source": [
        "# Explore auth by user\n",
        "spark.sql('''\n",
        "        SELECT auth,COUNT(DISTINCT userId) AS distinct_users\n",
        "        FROM Sparkify_clean\n",
        "        GROUP BY auth\n",
        "        ORDER BY distinct_users DESC\n",
        "''').show()"
      ],
      "execution_count": null,
      "outputs": [
        {
          "output_type": "stream",
          "text": [
            "+---------+--------------+\n",
            "|     auth|distinct_users|\n",
            "+---------+--------------+\n",
            "|Logged In|           225|\n",
            "|Cancelled|            52|\n",
            "+---------+--------------+\n",
            "\n"
          ],
          "name": "stdout"
        }
      ]
    },
    {
      "cell_type": "code",
      "metadata": {
        "id": "Q-UfQ8Lls-SQ",
        "colab_type": "code",
        "colab": {},
        "outputId": "72e8c4b8-47ea-4d9a-a8cd-bb6ea809cee9"
      },
      "source": [
        "# Explore Gender\n",
        "gender_count = spark.sql('''\n",
        "        SELECT gender,COUNT(DISTINCT userId) AS distinct_users\n",
        "        FROM Sparkify_clean\n",
        "        GROUP BY gender\n",
        "        ORDER BY distinct_users DESC\n",
        "''').show()"
      ],
      "execution_count": null,
      "outputs": [
        {
          "output_type": "stream",
          "text": [
            "+------+--------------+\n",
            "|gender|distinct_users|\n",
            "+------+--------------+\n",
            "|     M|           121|\n",
            "|     F|           104|\n",
            "+------+--------------+\n",
            "\n"
          ],
          "name": "stdout"
        }
      ]
    },
    {
      "cell_type": "code",
      "metadata": {
        "id": "vlvidNwms-ST",
        "colab_type": "code",
        "colab": {},
        "outputId": "b5a8ac91-96eb-4a1b-9062-80a9f2dc5c1f"
      },
      "source": [
        "# Explore length distribution\n",
        "length = spark.sql('''\n",
        "        SELECT length\n",
        "        FROM Sparkify_clean\n",
        "''').toPandas()\n",
        "\n",
        "# Length Density viz\n",
        "sns.distplot(length.dropna())"
      ],
      "execution_count": null,
      "outputs": [
        {
          "output_type": "execute_result",
          "data": {
            "text/plain": [
              "<matplotlib.axes._subplots.AxesSubplot at 0x7f24f5322b38>"
            ]
          },
          "metadata": {
            "tags": []
          },
          "execution_count": 16
        },
        {
          "output_type": "display_data",
          "data": {
            "image/png": "[encoded data removed]",
            "text/plain": [
              "<matplotlib.figure.Figure at 0x7f2525199898>"
            ]
          },
          "metadata": {
            "tags": [],
            "needs_background": "light"
          }
        }
      ]
    },
    {
      "cell_type": "code",
      "metadata": {
        "id": "ATZD3lX4s-SV",
        "colab_type": "code",
        "colab": {},
        "outputId": "27f6911d-abce-4caa-999c-e7a1a3c1ca2b"
      },
      "source": [
        "# Explore level type\n",
        "spark.sql('''\n",
        "        SELECT level,COUNT(DISTINCT userId) AS user_counts\n",
        "        FROM Sparkify_clean\n",
        "        GROUP BY level\n",
        "        ORDER BY user_counts DESC\n",
        "''').show()"
      ],
      "execution_count": null,
      "outputs": [
        {
          "output_type": "stream",
          "text": [
            "+-----+-----------+\n",
            "|level|user_counts|\n",
            "+-----+-----------+\n",
            "| free|        195|\n",
            "| paid|        165|\n",
            "+-----+-----------+\n",
            "\n"
          ],
          "name": "stdout"
        }
      ]
    },
    {
      "cell_type": "code",
      "metadata": {
        "id": "nX40w4bts-SY",
        "colab_type": "code",
        "colab": {},
        "outputId": "a09069e3-3f24-4342-8e05-5699f10b2cbd"
      },
      "source": [
        "# Explore page by user\n",
        "spark.sql('''\n",
        "        SELECT page,COUNT(userId) AS user_counts\n",
        "        FROM Sparkify_clean\n",
        "        GROUP BY page\n",
        "        ORDER BY user_counts DESC\n",
        "''').show()"
      ],
      "execution_count": null,
      "outputs": [
        {
          "output_type": "stream",
          "text": [
            "+--------------------+-----------+\n",
            "|                page|user_counts|\n",
            "+--------------------+-----------+\n",
            "|            NextSong|     228108|\n",
            "|           Thumbs Up|      12551|\n",
            "|                Home|      10082|\n",
            "|     Add to Playlist|       6526|\n",
            "|          Add Friend|       4277|\n",
            "|         Roll Advert|       3933|\n",
            "|              Logout|       3226|\n",
            "|         Thumbs Down|       2546|\n",
            "|           Downgrade|       2055|\n",
            "|            Settings|       1514|\n",
            "|                Help|       1454|\n",
            "|             Upgrade|        499|\n",
            "|               About|        495|\n",
            "|       Save Settings|        310|\n",
            "|               Error|        252|\n",
            "|      Submit Upgrade|        159|\n",
            "|    Submit Downgrade|         63|\n",
            "|              Cancel|         52|\n",
            "|Cancellation Conf...|         52|\n",
            "+--------------------+-----------+\n",
            "\n"
          ],
          "name": "stdout"
        }
      ]
    },
    {
      "cell_type": "markdown",
      "metadata": {
        "id": "8StBx3AVs-Sb",
        "colab_type": "text"
      },
      "source": [
        "### Define Churn\n",
        "\n",
        "Once you've done some preliminary analysis, create a column `Churn` to use as the label for your model. I suggest using the `Cancellation Confirmation` events to define your churn, which happen for both paid and free users. As a bonus task, you can also look into the `Downgrade` events.\n"
      ]
    },
    {
      "cell_type": "code",
      "metadata": {
        "id": "maHjyfXes-Sb",
        "colab_type": "code",
        "colab": {}
      },
      "source": [
        "# Add a new colum called time to see clearly the timestamp\n",
        "get_datetime = udf(lambda x: datetime.datetime.fromtimestamp(x / 1000.0).strftime(\"%Y-%m-%d %H:%M:%S\"))\n",
        "df_clean = df_clean.withColumn(\"datetime\", get_datetime(df_clean.ts))"
      ],
      "execution_count": null,
      "outputs": []
    },
    {
      "cell_type": "code",
      "metadata": {
        "scrolled": true,
        "id": "H9sdLtUYs-Sd",
        "colab_type": "code",
        "colab": {},
        "outputId": "914f3768-ee35-4cf9-be96-1424fa03f0d9"
      },
      "source": [
        "# Take a look at a random userId\n",
        "df_clean.select(['datetime','userId','page','artist','song']).filter(df_clean['userId'] == 100001)\\\n",
        ".sort('datetime',ascending=False).show(20)"
      ],
      "execution_count": null,
      "outputs": [
        {
          "output_type": "stream",
          "text": [
            "+-------------------+------+--------------------+--------------------+--------------------+\n",
            "|           datetime|userId|                page|              artist|                song|\n",
            "+-------------------+------+--------------------+--------------------+--------------------+\n",
            "|2018-10-02 16:36:45|100001|Cancellation Conf...|                null|                null|\n",
            "|2018-10-02 16:34:34|100001|              Cancel|                null|                null|\n",
            "|2018-10-02 16:34:33|100001|         Roll Advert|                null|                null|\n",
            "|2018-10-02 16:33:52|100001|            NextSong|            Harmonia|       Sehr kosmisch|\n",
            "|2018-10-02 16:29:46|100001|                Home|                null|                null|\n",
            "|2018-10-02 16:29:19|100001|              Logout|                null|                null|\n",
            "|2018-10-02 16:29:18|100001|            NextSong|           Lady GaGa|           Alejandro|\n",
            "|2018-10-02 16:24:34|100001|            NextSong|Michael BublÃÂ© ...|Quando_ Quando_ Q...|\n",
            "|2018-10-02 16:19:54|100001|            NextSong|      Bebel Gilberto|     Samba Da Bencao|\n",
            "|2018-10-02 16:16:50|100001|                Help|                null|                null|\n",
            "|2018-10-02 16:16:24|100001|            NextSong|            Natiruts|Jamaica Roots II(...|\n",
            "|2018-10-02 16:13:59|100001|         Roll Advert|                null|                null|\n",
            "|2018-10-02 16:12:33|100001|            NextSong|Peter Bjorn And John|          Paris 2004|\n",
            "|2018-10-02 16:07:00|100001|            NextSong|         Sheryl Crow|     I Shall Believe|\n",
            "|2018-10-02 16:03:18|100001|            NextSong|            Sanalejo|             Amapola|\n",
            "|2018-10-02 16:00:21|100001|            NextSong|Sopor Aeternus & ...|    La Mort d'Arthur|\n",
            "|2018-10-02 15:50:27|100001|            NextSong|Beanfield feat. B...|Tides (C's Moveme...|\n",
            "|2018-10-02 15:42:36|100001|            NextSong|      Peter Frampton|  Most Of All (Live)|\n",
            "|2018-10-02 15:39:43|100001|            NextSong|        Matt Pond PA|     KC (LP Version)|\n",
            "|2018-10-02 15:33:45|100001|                Home|                null|                null|\n",
            "+-------------------+------+--------------------+--------------------+--------------------+\n",
            "only showing top 20 rows\n",
            "\n"
          ],
          "name": "stdout"
        }
      ]
    },
    {
      "cell_type": "code",
      "metadata": {
        "id": "km38l0YWs-Sg",
        "colab_type": "code",
        "colab": {}
      },
      "source": [
        "# Create a churn column containing 1 if the user cancelled, 0 otherwise\n",
        "cancellation_event = udf(lambda x: 1 if x == \"Cancellation Confirmation\" else 0, IntegerType())\n",
        "\n",
        "df_clean = df_clean.withColumn(\"churn\", cancellation_event('page'))\n",
        "windowval = Window.partitionBy(\"userId\").rangeBetween(Window.unboundedPreceding, Window.unboundedFollowing)\n",
        "df_clean = df_clean.withColumn(\"churn\",Fsum(\"churn\").over(windowval))"
      ],
      "execution_count": null,
      "outputs": []
    },
    {
      "cell_type": "code",
      "metadata": {
        "id": "8Ed1bJecs-Si",
        "colab_type": "code",
        "colab": {},
        "outputId": "2740f43f-00f6-4827-ca0b-407d420fb242"
      },
      "source": [
        "# Use a random userId to check that the column Churn is == 1 when the page event is 'Cancellation confirmation'\n",
        "df_clean.select(['datetime','userId','page','artist','song','churn']).filter(df_clean['userId'] == 100005)\\\n",
        ".sort('datetime',ascending=False).show(10)"
      ],
      "execution_count": null,
      "outputs": [
        {
          "output_type": "stream",
          "text": [
            "+-------------------+------+--------------------+---------------+--------------------+-----+\n",
            "|           datetime|userId|                page|         artist|                song|churn|\n",
            "+-------------------+------+--------------------+---------------+--------------------+-----+\n",
            "|2018-10-19 17:57:05|100005|Cancellation Conf...|           null|                null|    1|\n",
            "|2018-10-19 17:56:50|100005|              Cancel|           null|                null|    1|\n",
            "|2018-10-19 17:56:49|100005|            Settings|           null|                null|    1|\n",
            "|2018-10-19 17:56:43|100005|                Help|           null|                null|    1|\n",
            "|2018-10-19 17:56:40|100005|            NextSong|      Chris Rea|Driving Home For ...|    1|\n",
            "|2018-10-19 17:52:10|100005|            NextSong|    Gipsy Kings|         Trista Pena|    1|\n",
            "|2018-10-19 17:49:21|100005|            NextSong|  Flat Duo Jets|     My Life My Love|    1|\n",
            "|2018-10-19 17:42:56|100005|            NextSong|Jimmy Eat World|         Drugs Or Me|    1|\n",
            "|2018-10-19 17:40:04|100005|           Thumbs Up|           null|                null|    1|\n",
            "|2018-10-19 17:40:03|100005|            NextSong|      Cold Cave|The Laurels Of Er...|    1|\n",
            "+-------------------+------+--------------------+---------------+--------------------+-----+\n",
            "only showing top 10 rows\n",
            "\n"
          ],
          "name": "stdout"
        }
      ]
    },
    {
      "cell_type": "code",
      "metadata": {
        "id": "4MQB9xrOs-Sk",
        "colab_type": "code",
        "colab": {}
      },
      "source": [
        "# Create a downgrade column which will contain 1 if the user downgrade, 0 otherwise\n",
        "downgrade_event = udf(lambda x: 1 if x == \"Downgrade\" else 0, IntegerType())\n",
        "\n",
        "df_clean = df_clean.withColumn(\"downgrade\", downgrade_event('page'))"
      ],
      "execution_count": null,
      "outputs": []
    },
    {
      "cell_type": "code",
      "metadata": {
        "id": "1CWn_3xes-Sm",
        "colab_type": "code",
        "colab": {},
        "outputId": "adb7aed3-67ce-4f60-a0f1-ff26575c4429"
      },
      "source": [
        "# Use a random userId to confirm that the column downgrade is == 1 when the page event is 'downgrade'\n",
        "df_clean.select(['datetime','userId','page','artist','song','downgrade']).filter(df_clean['userId'] == 73)\\\n",
        ".sort('datetime',ascending=False).show(10)"
      ],
      "execution_count": null,
      "outputs": [
        {
          "output_type": "stream",
          "text": [
            "+-------------------+------+--------------------+--------------------+--------------------+---------+\n",
            "|           datetime|userId|                page|              artist|                song|downgrade|\n",
            "+-------------------+------+--------------------+--------------------+--------------------+---------+\n",
            "|2018-10-24 17:33:07|    73|Cancellation Conf...|                null|                null|        0|\n",
            "|2018-10-24 17:32:19|    73|              Cancel|                null|                null|        0|\n",
            "|2018-10-24 17:32:18|    73|           Downgrade|                null|                null|        1|\n",
            "|2018-10-24 17:31:59|    73|            NextSong|       M.A. Numminen|         TULENLIEKKI|        0|\n",
            "|2018-10-24 17:27:36|    73|            NextSong|HÃÂ©roes del Sil...|      La Lluvia Gris|        0|\n",
            "|2018-10-24 17:23:59|    73|            NextSong|          Yellowcard|    Light Up The Sky|        0|\n",
            "|2018-10-24 17:21:16|    73|            NextSong|        Kenny Rogers|Christmas Is My F...|        0|\n",
            "|2018-10-24 17:13:51|    73|            NextSong|     Curtis Mayfield|Beautiful Brother...|        0|\n",
            "|2018-10-24 17:02:56|    73|            NextSong|            Harmonia|       Sehr kosmisch|        0|\n",
            "|2018-10-24 17:02:30|    73|                Home|                null|                null|        0|\n",
            "+-------------------+------+--------------------+--------------------+--------------------+---------+\n",
            "only showing top 10 rows\n",
            "\n"
          ],
          "name": "stdout"
        }
      ]
    },
    {
      "cell_type": "markdown",
      "metadata": {
        "id": "8STmPWjEs-So",
        "colab_type": "text"
      },
      "source": [
        "### Explore Data\n",
        "Once you've defined churn, perform some exploratory data analysis to observe the behavior for users who stayed vs users who churned. You can start by exploring aggregates on these two groups of users, observing how much of a specific action they experienced per a certain time unit or number of songs played."
      ]
    },
    {
      "cell_type": "code",
      "metadata": {
        "id": "A0hdbp9ss-Sp",
        "colab_type": "code",
        "colab": {},
        "outputId": "d294f987-1744-4ef2-aa7b-b4da067622f1"
      },
      "source": [
        "# Print again the dataframe schema\n",
        "df_clean.printSchema()"
      ],
      "execution_count": null,
      "outputs": [
        {
          "output_type": "stream",
          "text": [
            "root\n",
            " |-- artist: string (nullable = true)\n",
            " |-- auth: string (nullable = true)\n",
            " |-- firstName: string (nullable = true)\n",
            " |-- gender: string (nullable = true)\n",
            " |-- itemInSession: long (nullable = true)\n",
            " |-- lastName: string (nullable = true)\n",
            " |-- length: double (nullable = true)\n",
            " |-- level: string (nullable = true)\n",
            " |-- location: string (nullable = true)\n",
            " |-- method: string (nullable = true)\n",
            " |-- page: string (nullable = true)\n",
            " |-- registration: long (nullable = true)\n",
            " |-- sessionId: long (nullable = true)\n",
            " |-- song: string (nullable = true)\n",
            " |-- status: long (nullable = true)\n",
            " |-- ts: long (nullable = true)\n",
            " |-- userAgent: string (nullable = true)\n",
            " |-- userId: string (nullable = true)\n",
            " |-- datetime: string (nullable = true)\n",
            " |-- churn: long (nullable = true)\n",
            " |-- downgrade: integer (nullable = true)\n",
            "\n"
          ],
          "name": "stdout"
        }
      ]
    },
    {
      "cell_type": "code",
      "metadata": {
        "id": "dcfUB10Ms-Sr",
        "colab_type": "code",
        "colab": {},
        "outputId": "f76067e5-774f-4fdd-dce2-1e1475a97807"
      },
      "source": [
        "# Total amount of distinct users\n",
        "print('number of distinct users in sparkify : {}'\\\n",
        "    .format(df_clean.select('userId').drop_duplicates().count()))"
      ],
      "execution_count": null,
      "outputs": [
        {
          "output_type": "stream",
          "text": [
            "number of distinct users in sparkify : 225\n"
          ],
          "name": "stdout"
        }
      ]
    },
    {
      "cell_type": "code",
      "metadata": {
        "id": "FFYWH31Es-Su",
        "colab_type": "code",
        "colab": {},
        "outputId": "79f8c6a6-8c7c-49e2-cdc2-3077501f8c61"
      },
      "source": [
        "# Total amount of churned users\n",
        "print('total amount of churned users : {}'.format(df_clean.select('userId')\\\n",
        "                                            .where(df_clean.churn == 1).drop_duplicates().count()))"
      ],
      "execution_count": null,
      "outputs": [
        {
          "output_type": "stream",
          "text": [
            "total amount of churned users : 52\n"
          ],
          "name": "stdout"
        }
      ]
    },
    {
      "cell_type": "code",
      "metadata": {
        "id": "gdKEbkQYs-Sw",
        "colab_type": "code",
        "colab": {},
        "outputId": "b57ae2c1-f0e7-4ab1-df9c-1b503399dc0c"
      },
      "source": [
        "# Percentage of churned users\n",
        "print('percentage of churned users : {}%'\\\n",
        "      .format(round(100*(df_clean.select('userId').where(df_clean.churn == 1)\\\n",
        "                         .drop_duplicates().count())/df_clean.select('userId')\\\n",
        "                         .drop_duplicates().count())))"
      ],
      "execution_count": null,
      "outputs": [
        {
          "output_type": "stream",
          "text": [
            "percentage of churned users : 23%\n"
          ],
          "name": "stdout"
        }
      ]
    },
    {
      "cell_type": "code",
      "metadata": {
        "id": "i1jHBxB0s-Sy",
        "colab_type": "code",
        "colab": {},
        "outputId": "fed9f3c4-2438-4d7f-f08d-44e43d7ea60f"
      },
      "source": [
        "# Gender churn\n",
        "pd_gender = df_clean.select(['userId','churn','gender']).\\\n",
        "drop_duplicates([\"userId\",\"churn\",'gender']).groupby([\"churn\",\"gender\"]).count().toPandas()\n",
        "pd_gender"
      ],
      "execution_count": null,
      "outputs": [
        {
          "output_type": "execute_result",
          "data": {
            "text/html": [
              "<div>\n",
              "<style scoped>\n",
              "    .dataframe tbody tr th:only-of-type {\n",
              "        vertical-align: middle;\n",
              "    }\n",
              "\n",
              "    .dataframe tbody tr th {\n",
              "        vertical-align: top;\n",
              "    }\n",
              "\n",
              "    .dataframe thead th {\n",
              "        text-align: right;\n",
              "    }\n",
              "</style>\n",
              "<table border=\"1\" class=\"dataframe\">\n",
              "  <thead>\n",
              "    <tr style=\"text-align: right;\">\n",
              "      <th></th>\n",
              "      <th>churn</th>\n",
              "      <th>gender</th>\n",
              "      <th>count</th>\n",
              "    </tr>\n",
              "  </thead>\n",
              "  <tbody>\n",
              "    <tr>\n",
              "      <th>0</th>\n",
              "      <td>0</td>\n",
              "      <td>F</td>\n",
              "      <td>84</td>\n",
              "    </tr>\n",
              "    <tr>\n",
              "      <th>1</th>\n",
              "      <td>1</td>\n",
              "      <td>M</td>\n",
              "      <td>32</td>\n",
              "    </tr>\n",
              "    <tr>\n",
              "      <th>2</th>\n",
              "      <td>1</td>\n",
              "      <td>F</td>\n",
              "      <td>20</td>\n",
              "    </tr>\n",
              "    <tr>\n",
              "      <th>3</th>\n",
              "      <td>0</td>\n",
              "      <td>M</td>\n",
              "      <td>89</td>\n",
              "    </tr>\n",
              "  </tbody>\n",
              "</table>\n",
              "</div>"
            ],
            "text/plain": [
              "   churn gender  count\n",
              "0      0      F     84\n",
              "1      1      M     32\n",
              "2      1      F     20\n",
              "3      0      M     89"
            ]
          },
          "metadata": {
            "tags": []
          },
          "execution_count": 29
        }
      ]
    },
    {
      "cell_type": "code",
      "metadata": {
        "id": "Sct1u6DYs-S0",
        "colab_type": "code",
        "colab": {},
        "outputId": "e906a6a0-7328-4192-e507-8f777301863e"
      },
      "source": [
        "# Gender churn viz\n",
        "sns.barplot(x='churn',y='count',hue='gender',data=pd_gender)"
      ],
      "execution_count": null,
      "outputs": [
        {
          "output_type": "execute_result",
          "data": {
            "text/plain": [
              "<matplotlib.axes._subplots.AxesSubplot at 0x7f24f4ba2390>"
            ]
          },
          "metadata": {
            "tags": []
          },
          "execution_count": 30
        },
        {
          "output_type": "display_data",
          "data": {
            "image/png": "[encoded data removed]",
            "text/plain": [
              "<matplotlib.figure.Figure at 0x7f24ecdcd278>"
            ]
          },
          "metadata": {
            "tags": [],
            "needs_background": "light"
          }
        }
      ]
    },
    {
      "cell_type": "code",
      "metadata": {
        "id": "XwiEVh4Ts-S4",
        "colab_type": "code",
        "colab": {},
        "outputId": "5e3e4e34-6373-4338-8a79-64d5261163c7"
      },
      "source": [
        "# Create a contingency table for gender\n",
        "table = [[pd_gender.iat[1,2], pd_gender.iat[3,2],],[pd_gender.iat[2,2],pd_gender.iat[0,2]]]\n",
        "print(table)\n",
        "stat, p, dof, expected = chi2_contingency(table)\n",
        "print('dof=%d' % dof)\n",
        "print(expected)\n",
        "\n",
        "# interpret test-statistic\n",
        "prob = 0.95\n",
        "critical = chi2.ppf(prob, dof)\n",
        "print('probability=%.3f, critical=%.3f, stat=%.3f' % (prob, critical, stat))\n",
        "\n",
        "#If Statistic >= Critical Value: significant result, reject null hypothesis (H0), dependent.\n",
        "#If Statistic < Critical Value: not significant result, fail to reject null hypothesis (H0), independent.\n",
        "\n",
        "if abs(stat) >= critical:\n",
        "    print('Dependent (reject H0)')\n",
        "else:\n",
        "    print('Independent (fail to reject H0)')\n",
        "# interpret p-value\n",
        "alpha = 1.0 - prob\n",
        "print('significance=%.3f, p=%.3f' % (alpha, p))\n",
        "if p <= alpha:\n",
        "    print('Dependent (reject H0)')\n",
        "else:\n",
        "    print('Independent (fail to reject H0), gender seems to be not significant in determining churn or not')\n"
      ],
      "execution_count": null,
      "outputs": [
        {
          "output_type": "stream",
          "text": [
            "[[32, 89], [20, 84]]\n",
            "dof=1\n",
            "[[ 27.96444444  93.03555556]\n",
            " [ 24.03555556  79.96444444]]\n",
            "probability=0.950, critical=3.841, stat=1.258\n",
            "Independent (fail to reject H0)\n",
            "significance=0.050, p=0.262\n",
            "Independent (fail to reject H0), gender seems to be not significant in determining churn or not\n"
          ],
          "name": "stdout"
        }
      ]
    },
    {
      "cell_type": "code",
      "metadata": {
        "id": "GeziPFKRs-S7",
        "colab_type": "code",
        "colab": {}
      },
      "source": [
        "# Level churn\n",
        "pd_item = df_clean.select(['userId','churn','level']).\\\n",
        "drop_duplicates([\"userId\",\"churn\",'level']).groupby([\"churn\",\"level\"]).count().toPandas()"
      ],
      "execution_count": null,
      "outputs": []
    },
    {
      "cell_type": "code",
      "metadata": {
        "id": "AIm47irss-S-",
        "colab_type": "code",
        "colab": {},
        "outputId": "a7335f31-0f33-49e4-a98e-7b39b26ec386"
      },
      "source": [
        "pd_item"
      ],
      "execution_count": null,
      "outputs": [
        {
          "output_type": "execute_result",
          "data": {
            "text/html": [
              "<div>\n",
              "<style scoped>\n",
              "    .dataframe tbody tr th:only-of-type {\n",
              "        vertical-align: middle;\n",
              "    }\n",
              "\n",
              "    .dataframe tbody tr th {\n",
              "        vertical-align: top;\n",
              "    }\n",
              "\n",
              "    .dataframe thead th {\n",
              "        text-align: right;\n",
              "    }\n",
              "</style>\n",
              "<table border=\"1\" class=\"dataframe\">\n",
              "  <thead>\n",
              "    <tr style=\"text-align: right;\">\n",
              "      <th></th>\n",
              "      <th>churn</th>\n",
              "      <th>level</th>\n",
              "      <th>count</th>\n",
              "    </tr>\n",
              "  </thead>\n",
              "  <tbody>\n",
              "    <tr>\n",
              "      <th>0</th>\n",
              "      <td>1</td>\n",
              "      <td>paid</td>\n",
              "      <td>36</td>\n",
              "    </tr>\n",
              "    <tr>\n",
              "      <th>1</th>\n",
              "      <td>1</td>\n",
              "      <td>free</td>\n",
              "      <td>46</td>\n",
              "    </tr>\n",
              "    <tr>\n",
              "      <th>2</th>\n",
              "      <td>0</td>\n",
              "      <td>free</td>\n",
              "      <td>149</td>\n",
              "    </tr>\n",
              "    <tr>\n",
              "      <th>3</th>\n",
              "      <td>0</td>\n",
              "      <td>paid</td>\n",
              "      <td>129</td>\n",
              "    </tr>\n",
              "  </tbody>\n",
              "</table>\n",
              "</div>"
            ],
            "text/plain": [
              "   churn level  count\n",
              "0      1  paid     36\n",
              "1      1  free     46\n",
              "2      0  free    149\n",
              "3      0  paid    129"
            ]
          },
          "metadata": {
            "tags": []
          },
          "execution_count": 33
        }
      ]
    },
    {
      "cell_type": "code",
      "metadata": {
        "id": "OPrgy5mEs-TB",
        "colab_type": "code",
        "colab": {},
        "outputId": "5fc4e5a1-af20-4691-93bb-79ec777399a0"
      },
      "source": [
        "# Level churn viz\n",
        "sns.barplot(x='churn',y='count',hue='level',data=pd_item)"
      ],
      "execution_count": null,
      "outputs": [
        {
          "output_type": "execute_result",
          "data": {
            "text/plain": [
              "<matplotlib.axes._subplots.AxesSubplot at 0x7f24f4b18b00>"
            ]
          },
          "metadata": {
            "tags": []
          },
          "execution_count": 34
        },
        {
          "output_type": "display_data",
          "data": {
            "image/png": "[encoded data removed]",
            "text/plain": [
              "<matplotlib.figure.Figure at 0x7f24f4a8a390>"
            ]
          },
          "metadata": {
            "tags": [],
            "needs_background": "light"
          }
        }
      ]
    },
    {
      "cell_type": "code",
      "metadata": {
        "id": "QnSIiW4Js-TD",
        "colab_type": "code",
        "colab": {},
        "outputId": "a986736b-3a51-4387-b8ab-24164df1da49"
      },
      "source": [
        "# Create a contingency table for level\n",
        "table = [[pd_item.iat[1,2], pd_item.iat[2,2],],[pd_item.iat[0,2],pd_item.iat[3,2]]]\n",
        "print(table)\n",
        "stat, p, dof, expected = chi2_contingency(table)\n",
        "print('dof=%d' % dof)\n",
        "print(expected)\n",
        "\n",
        "# interpret test-statistic\n",
        "prob = 0.95\n",
        "critical = chi2.ppf(prob, dof)\n",
        "print('probability=%.3f, critical=%.3f, stat=%.3f' % (prob, critical, stat))\n",
        "\n",
        "#If Statistic >= Critical Value: significant result, reject null hypothesis (H0), dependent.\n",
        "#If Statistic < Critical Value: not significant result, fail to reject null hypothesis (H0), independent.\n",
        "\n",
        "if abs(stat) >= critical:\n",
        "    print('Dependent (reject H0)')\n",
        "else:\n",
        "    print('Independent (fail to reject H0)')\n",
        "# interpret p-value\n",
        "alpha = 1.0 - prob\n",
        "print('significance=%.3f, p=%.3f' % (alpha, p))\n",
        "if p <= alpha:\n",
        "    print('Dependent (reject H0)')\n",
        "else:\n",
        "    print('Independent (fail to reject H0), item seems to be not significant in determining churn or not')\n"
      ],
      "execution_count": null,
      "outputs": [
        {
          "output_type": "stream",
          "text": [
            "[[46, 149], [36, 129]]\n",
            "dof=1\n",
            "[[  44.41666667  150.58333333]\n",
            " [  37.58333333  127.41666667]]\n",
            "probability=0.950, critical=3.841, stat=0.075\n",
            "Independent (fail to reject H0)\n",
            "significance=0.050, p=0.785\n",
            "Independent (fail to reject H0), item seems to be not significant in determining churn or not\n"
          ],
          "name": "stdout"
        }
      ]
    },
    {
      "cell_type": "code",
      "metadata": {
        "id": "OJ8vNSajs-TF",
        "colab_type": "code",
        "colab": {},
        "outputId": "5f759bcb-b7b0-4930-a7e2-025e4e6aa3aa"
      },
      "source": [
        "# Length churn stats\n",
        "df_clean.select([\"churn\", \"length\"]).groupby([\"churn\"]).agg(avg('length').alias('mean_length'), \n",
        "                                                                     stddev('length').alias('stdev_length'),\n",
        "                                                                    fmax('length').alias('max_length'),\n",
        "                                                                    fmin('length').alias('min_length')).show()"
      ],
      "execution_count": null,
      "outputs": [
        {
          "output_type": "stream",
          "text": [
            "+-----+------------------+------------------+----------+----------+\n",
            "|churn|       mean_length|      stdev_length|max_length|min_length|\n",
            "+-----+------------------+------------------+----------+----------+\n",
            "|    0|249.20913538880816|  98.6258830014688|3024.66567|   0.78322|\n",
            "|    1|248.63279564406218|102.38497717575477|3024.66567|   4.04853|\n",
            "+-----+------------------+------------------+----------+----------+\n",
            "\n"
          ],
          "name": "stdout"
        }
      ]
    },
    {
      "cell_type": "code",
      "metadata": {
        "id": "BW7IHx-Us-TJ",
        "colab_type": "code",
        "colab": {}
      },
      "source": [
        "# Create two datasets; churned users vs. active users\n",
        "churned = df_clean.select(['userId','page']).where(df_clean.churn == 1).groupby('page').agg(count(\"userId\")).toPandas()\n",
        "active = df_clean.select(['userId','page']).where(df_clean.churn == 0).groupby('page').agg(count(\"userId\")).toPandas()"
      ],
      "execution_count": null,
      "outputs": []
    },
    {
      "cell_type": "code",
      "metadata": {
        "id": "TzchYYDBs-TL",
        "colab_type": "code",
        "colab": {},
        "outputId": "cc191709-7f6b-4275-f819-c392c6ca1d63"
      },
      "source": [
        "active['churned'] = 'No'\n",
        "active['%'] = round(100*active['count(userId)']/np.sum(active['count(userId)']),1)\n",
        "active = active.drop(labels=['count(userId)'],axis=1)\n",
        "active"
      ],
      "execution_count": null,
      "outputs": [
        {
          "output_type": "execute_result",
          "data": {
            "text/html": [
              "<div>\n",
              "<style scoped>\n",
              "    .dataframe tbody tr th:only-of-type {\n",
              "        vertical-align: middle;\n",
              "    }\n",
              "\n",
              "    .dataframe tbody tr th {\n",
              "        vertical-align: top;\n",
              "    }\n",
              "\n",
              "    .dataframe thead th {\n",
              "        text-align: right;\n",
              "    }\n",
              "</style>\n",
              "<table border=\"1\" class=\"dataframe\">\n",
              "  <thead>\n",
              "    <tr style=\"text-align: right;\">\n",
              "      <th></th>\n",
              "      <th>page</th>\n",
              "      <th>churned</th>\n",
              "      <th>%</th>\n",
              "    </tr>\n",
              "  </thead>\n",
              "  <tbody>\n",
              "    <tr>\n",
              "      <th>0</th>\n",
              "      <td>Submit Downgrade</td>\n",
              "      <td>No</td>\n",
              "      <td>0.0</td>\n",
              "    </tr>\n",
              "    <tr>\n",
              "      <th>1</th>\n",
              "      <td>Thumbs Down</td>\n",
              "      <td>No</td>\n",
              "      <td>0.9</td>\n",
              "    </tr>\n",
              "    <tr>\n",
              "      <th>2</th>\n",
              "      <td>Home</td>\n",
              "      <td>No</td>\n",
              "      <td>3.6</td>\n",
              "    </tr>\n",
              "    <tr>\n",
              "      <th>3</th>\n",
              "      <td>Downgrade</td>\n",
              "      <td>No</td>\n",
              "      <td>0.7</td>\n",
              "    </tr>\n",
              "    <tr>\n",
              "      <th>4</th>\n",
              "      <td>Roll Advert</td>\n",
              "      <td>No</td>\n",
              "      <td>1.3</td>\n",
              "    </tr>\n",
              "    <tr>\n",
              "      <th>5</th>\n",
              "      <td>Logout</td>\n",
              "      <td>No</td>\n",
              "      <td>1.1</td>\n",
              "    </tr>\n",
              "    <tr>\n",
              "      <th>6</th>\n",
              "      <td>Save Settings</td>\n",
              "      <td>No</td>\n",
              "      <td>0.1</td>\n",
              "    </tr>\n",
              "    <tr>\n",
              "      <th>7</th>\n",
              "      <td>About</td>\n",
              "      <td>No</td>\n",
              "      <td>0.2</td>\n",
              "    </tr>\n",
              "    <tr>\n",
              "      <th>8</th>\n",
              "      <td>Settings</td>\n",
              "      <td>No</td>\n",
              "      <td>0.5</td>\n",
              "    </tr>\n",
              "    <tr>\n",
              "      <th>9</th>\n",
              "      <td>Add to Playlist</td>\n",
              "      <td>No</td>\n",
              "      <td>2.4</td>\n",
              "    </tr>\n",
              "    <tr>\n",
              "      <th>10</th>\n",
              "      <td>Add Friend</td>\n",
              "      <td>No</td>\n",
              "      <td>1.6</td>\n",
              "    </tr>\n",
              "    <tr>\n",
              "      <th>11</th>\n",
              "      <td>NextSong</td>\n",
              "      <td>No</td>\n",
              "      <td>82.2</td>\n",
              "    </tr>\n",
              "    <tr>\n",
              "      <th>12</th>\n",
              "      <td>Thumbs Up</td>\n",
              "      <td>No</td>\n",
              "      <td>4.6</td>\n",
              "    </tr>\n",
              "    <tr>\n",
              "      <th>13</th>\n",
              "      <td>Help</td>\n",
              "      <td>No</td>\n",
              "      <td>0.5</td>\n",
              "    </tr>\n",
              "    <tr>\n",
              "      <th>14</th>\n",
              "      <td>Upgrade</td>\n",
              "      <td>No</td>\n",
              "      <td>0.2</td>\n",
              "    </tr>\n",
              "    <tr>\n",
              "      <th>15</th>\n",
              "      <td>Error</td>\n",
              "      <td>No</td>\n",
              "      <td>0.1</td>\n",
              "    </tr>\n",
              "    <tr>\n",
              "      <th>16</th>\n",
              "      <td>Submit Upgrade</td>\n",
              "      <td>No</td>\n",
              "      <td>0.1</td>\n",
              "    </tr>\n",
              "  </tbody>\n",
              "</table>\n",
              "</div>"
            ],
            "text/plain": [
              "                page churned     %\n",
              "0   Submit Downgrade      No   0.0\n",
              "1        Thumbs Down      No   0.9\n",
              "2               Home      No   3.6\n",
              "3          Downgrade      No   0.7\n",
              "4        Roll Advert      No   1.3\n",
              "5             Logout      No   1.1\n",
              "6      Save Settings      No   0.1\n",
              "7              About      No   0.2\n",
              "8           Settings      No   0.5\n",
              "9    Add to Playlist      No   2.4\n",
              "10        Add Friend      No   1.6\n",
              "11          NextSong      No  82.2\n",
              "12         Thumbs Up      No   4.6\n",
              "13              Help      No   0.5\n",
              "14           Upgrade      No   0.2\n",
              "15             Error      No   0.1\n",
              "16    Submit Upgrade      No   0.1"
            ]
          },
          "metadata": {
            "tags": []
          },
          "execution_count": 38
        }
      ]
    },
    {
      "cell_type": "code",
      "metadata": {
        "id": "KmUbeAKIs-TN",
        "colab_type": "code",
        "colab": {},
        "outputId": "65ac7e16-a6b9-4e9c-acd8-ac4c2901d998"
      },
      "source": [
        "churned['churned'] = 'Yes'\n",
        "churned['%'] = round(100*churned['count(userId)']/np.sum(churned['count(userId)']),1)\n",
        "churned= churned.drop(labels=['count(userId)'],axis=1)\n",
        "churned"
      ],
      "execution_count": null,
      "outputs": [
        {
          "output_type": "execute_result",
          "data": {
            "text/html": [
              "<div>\n",
              "<style scoped>\n",
              "    .dataframe tbody tr th:only-of-type {\n",
              "        vertical-align: middle;\n",
              "    }\n",
              "\n",
              "    .dataframe tbody tr th {\n",
              "        vertical-align: top;\n",
              "    }\n",
              "\n",
              "    .dataframe thead th {\n",
              "        text-align: right;\n",
              "    }\n",
              "</style>\n",
              "<table border=\"1\" class=\"dataframe\">\n",
              "  <thead>\n",
              "    <tr style=\"text-align: right;\">\n",
              "      <th></th>\n",
              "      <th>page</th>\n",
              "      <th>churned</th>\n",
              "      <th>%</th>\n",
              "    </tr>\n",
              "  </thead>\n",
              "  <tbody>\n",
              "    <tr>\n",
              "      <th>0</th>\n",
              "      <td>Cancel</td>\n",
              "      <td>Yes</td>\n",
              "      <td>0.1</td>\n",
              "    </tr>\n",
              "    <tr>\n",
              "      <th>1</th>\n",
              "      <td>Submit Downgrade</td>\n",
              "      <td>Yes</td>\n",
              "      <td>0.0</td>\n",
              "    </tr>\n",
              "    <tr>\n",
              "      <th>2</th>\n",
              "      <td>Thumbs Down</td>\n",
              "      <td>Yes</td>\n",
              "      <td>1.1</td>\n",
              "    </tr>\n",
              "    <tr>\n",
              "      <th>3</th>\n",
              "      <td>Home</td>\n",
              "      <td>Yes</td>\n",
              "      <td>3.7</td>\n",
              "    </tr>\n",
              "    <tr>\n",
              "      <th>4</th>\n",
              "      <td>Downgrade</td>\n",
              "      <td>Yes</td>\n",
              "      <td>0.8</td>\n",
              "    </tr>\n",
              "    <tr>\n",
              "      <th>5</th>\n",
              "      <td>Roll Advert</td>\n",
              "      <td>Yes</td>\n",
              "      <td>2.2</td>\n",
              "    </tr>\n",
              "    <tr>\n",
              "      <th>6</th>\n",
              "      <td>Logout</td>\n",
              "      <td>Yes</td>\n",
              "      <td>1.2</td>\n",
              "    </tr>\n",
              "    <tr>\n",
              "      <th>7</th>\n",
              "      <td>Save Settings</td>\n",
              "      <td>Yes</td>\n",
              "      <td>0.1</td>\n",
              "    </tr>\n",
              "    <tr>\n",
              "      <th>8</th>\n",
              "      <td>Cancellation Confirmation</td>\n",
              "      <td>Yes</td>\n",
              "      <td>0.1</td>\n",
              "    </tr>\n",
              "    <tr>\n",
              "      <th>9</th>\n",
              "      <td>About</td>\n",
              "      <td>Yes</td>\n",
              "      <td>0.1</td>\n",
              "    </tr>\n",
              "    <tr>\n",
              "      <th>10</th>\n",
              "      <td>Settings</td>\n",
              "      <td>Yes</td>\n",
              "      <td>0.6</td>\n",
              "    </tr>\n",
              "    <tr>\n",
              "      <th>11</th>\n",
              "      <td>Add to Playlist</td>\n",
              "      <td>Yes</td>\n",
              "      <td>2.3</td>\n",
              "    </tr>\n",
              "    <tr>\n",
              "      <th>12</th>\n",
              "      <td>Add Friend</td>\n",
              "      <td>Yes</td>\n",
              "      <td>1.4</td>\n",
              "    </tr>\n",
              "    <tr>\n",
              "      <th>13</th>\n",
              "      <td>NextSong</td>\n",
              "      <td>Yes</td>\n",
              "      <td>81.1</td>\n",
              "    </tr>\n",
              "    <tr>\n",
              "      <th>14</th>\n",
              "      <td>Thumbs Up</td>\n",
              "      <td>Yes</td>\n",
              "      <td>4.1</td>\n",
              "    </tr>\n",
              "    <tr>\n",
              "      <th>15</th>\n",
              "      <td>Help</td>\n",
              "      <td>Yes</td>\n",
              "      <td>0.5</td>\n",
              "    </tr>\n",
              "    <tr>\n",
              "      <th>16</th>\n",
              "      <td>Upgrade</td>\n",
              "      <td>Yes</td>\n",
              "      <td>0.2</td>\n",
              "    </tr>\n",
              "    <tr>\n",
              "      <th>17</th>\n",
              "      <td>Error</td>\n",
              "      <td>Yes</td>\n",
              "      <td>0.1</td>\n",
              "    </tr>\n",
              "    <tr>\n",
              "      <th>18</th>\n",
              "      <td>Submit Upgrade</td>\n",
              "      <td>Yes</td>\n",
              "      <td>0.1</td>\n",
              "    </tr>\n",
              "  </tbody>\n",
              "</table>\n",
              "</div>"
            ],
            "text/plain": [
              "                         page churned     %\n",
              "0                      Cancel     Yes   0.1\n",
              "1            Submit Downgrade     Yes   0.0\n",
              "2                 Thumbs Down     Yes   1.1\n",
              "3                        Home     Yes   3.7\n",
              "4                   Downgrade     Yes   0.8\n",
              "5                 Roll Advert     Yes   2.2\n",
              "6                      Logout     Yes   1.2\n",
              "7               Save Settings     Yes   0.1\n",
              "8   Cancellation Confirmation     Yes   0.1\n",
              "9                       About     Yes   0.1\n",
              "10                   Settings     Yes   0.6\n",
              "11            Add to Playlist     Yes   2.3\n",
              "12                 Add Friend     Yes   1.4\n",
              "13                   NextSong     Yes  81.1\n",
              "14                  Thumbs Up     Yes   4.1\n",
              "15                       Help     Yes   0.5\n",
              "16                    Upgrade     Yes   0.2\n",
              "17                      Error     Yes   0.1\n",
              "18             Submit Upgrade     Yes   0.1"
            ]
          },
          "metadata": {
            "tags": []
          },
          "execution_count": 39
        }
      ]
    },
    {
      "cell_type": "code",
      "metadata": {
        "id": "u5HyzPmEs-TQ",
        "colab_type": "code",
        "colab": {}
      },
      "source": [
        "users = pd.concat([churned,active],sort=False)"
      ],
      "execution_count": null,
      "outputs": []
    },
    {
      "cell_type": "code",
      "metadata": {
        "id": "-WVn-CXis-TY",
        "colab_type": "code",
        "colab": {},
        "outputId": "b99d9369-d6a5-4392-b56c-7e8ccb8cb6f1"
      },
      "source": [
        "# Page churn % per page-type\n",
        "users"
      ],
      "execution_count": null,
      "outputs": [
        {
          "output_type": "execute_result",
          "data": {
            "text/html": [
              "<div>\n",
              "<style scoped>\n",
              "    .dataframe tbody tr th:only-of-type {\n",
              "        vertical-align: middle;\n",
              "    }\n",
              "\n",
              "    .dataframe tbody tr th {\n",
              "        vertical-align: top;\n",
              "    }\n",
              "\n",
              "    .dataframe thead th {\n",
              "        text-align: right;\n",
              "    }\n",
              "</style>\n",
              "<table border=\"1\" class=\"dataframe\">\n",
              "  <thead>\n",
              "    <tr style=\"text-align: right;\">\n",
              "      <th></th>\n",
              "      <th>page</th>\n",
              "      <th>churned</th>\n",
              "      <th>%</th>\n",
              "    </tr>\n",
              "  </thead>\n",
              "  <tbody>\n",
              "    <tr>\n",
              "      <th>0</th>\n",
              "      <td>Cancel</td>\n",
              "      <td>Yes</td>\n",
              "      <td>0.1</td>\n",
              "    </tr>\n",
              "    <tr>\n",
              "      <th>1</th>\n",
              "      <td>Submit Downgrade</td>\n",
              "      <td>Yes</td>\n",
              "      <td>0.0</td>\n",
              "    </tr>\n",
              "    <tr>\n",
              "      <th>2</th>\n",
              "      <td>Thumbs Down</td>\n",
              "      <td>Yes</td>\n",
              "      <td>1.1</td>\n",
              "    </tr>\n",
              "    <tr>\n",
              "      <th>3</th>\n",
              "      <td>Home</td>\n",
              "      <td>Yes</td>\n",
              "      <td>3.7</td>\n",
              "    </tr>\n",
              "    <tr>\n",
              "      <th>4</th>\n",
              "      <td>Downgrade</td>\n",
              "      <td>Yes</td>\n",
              "      <td>0.8</td>\n",
              "    </tr>\n",
              "    <tr>\n",
              "      <th>5</th>\n",
              "      <td>Roll Advert</td>\n",
              "      <td>Yes</td>\n",
              "      <td>2.2</td>\n",
              "    </tr>\n",
              "    <tr>\n",
              "      <th>6</th>\n",
              "      <td>Logout</td>\n",
              "      <td>Yes</td>\n",
              "      <td>1.2</td>\n",
              "    </tr>\n",
              "    <tr>\n",
              "      <th>7</th>\n",
              "      <td>Save Settings</td>\n",
              "      <td>Yes</td>\n",
              "      <td>0.1</td>\n",
              "    </tr>\n",
              "    <tr>\n",
              "      <th>8</th>\n",
              "      <td>Cancellation Confirmation</td>\n",
              "      <td>Yes</td>\n",
              "      <td>0.1</td>\n",
              "    </tr>\n",
              "    <tr>\n",
              "      <th>9</th>\n",
              "      <td>About</td>\n",
              "      <td>Yes</td>\n",
              "      <td>0.1</td>\n",
              "    </tr>\n",
              "    <tr>\n",
              "      <th>10</th>\n",
              "      <td>Settings</td>\n",
              "      <td>Yes</td>\n",
              "      <td>0.6</td>\n",
              "    </tr>\n",
              "    <tr>\n",
              "      <th>11</th>\n",
              "      <td>Add to Playlist</td>\n",
              "      <td>Yes</td>\n",
              "      <td>2.3</td>\n",
              "    </tr>\n",
              "    <tr>\n",
              "      <th>12</th>\n",
              "      <td>Add Friend</td>\n",
              "      <td>Yes</td>\n",
              "      <td>1.4</td>\n",
              "    </tr>\n",
              "    <tr>\n",
              "      <th>13</th>\n",
              "      <td>NextSong</td>\n",
              "      <td>Yes</td>\n",
              "      <td>81.1</td>\n",
              "    </tr>\n",
              "    <tr>\n",
              "      <th>14</th>\n",
              "      <td>Thumbs Up</td>\n",
              "      <td>Yes</td>\n",
              "      <td>4.1</td>\n",
              "    </tr>\n",
              "    <tr>\n",
              "      <th>15</th>\n",
              "      <td>Help</td>\n",
              "      <td>Yes</td>\n",
              "      <td>0.5</td>\n",
              "    </tr>\n",
              "    <tr>\n",
              "      <th>16</th>\n",
              "      <td>Upgrade</td>\n",
              "      <td>Yes</td>\n",
              "      <td>0.2</td>\n",
              "    </tr>\n",
              "    <tr>\n",
              "      <th>17</th>\n",
              "      <td>Error</td>\n",
              "      <td>Yes</td>\n",
              "      <td>0.1</td>\n",
              "    </tr>\n",
              "    <tr>\n",
              "      <th>18</th>\n",
              "      <td>Submit Upgrade</td>\n",
              "      <td>Yes</td>\n",
              "      <td>0.1</td>\n",
              "    </tr>\n",
              "    <tr>\n",
              "      <th>0</th>\n",
              "      <td>Submit Downgrade</td>\n",
              "      <td>No</td>\n",
              "      <td>0.0</td>\n",
              "    </tr>\n",
              "    <tr>\n",
              "      <th>1</th>\n",
              "      <td>Thumbs Down</td>\n",
              "      <td>No</td>\n",
              "      <td>0.9</td>\n",
              "    </tr>\n",
              "    <tr>\n",
              "      <th>2</th>\n",
              "      <td>Home</td>\n",
              "      <td>No</td>\n",
              "      <td>3.6</td>\n",
              "    </tr>\n",
              "    <tr>\n",
              "      <th>3</th>\n",
              "      <td>Downgrade</td>\n",
              "      <td>No</td>\n",
              "      <td>0.7</td>\n",
              "    </tr>\n",
              "    <tr>\n",
              "      <th>4</th>\n",
              "      <td>Roll Advert</td>\n",
              "      <td>No</td>\n",
              "      <td>1.3</td>\n",
              "    </tr>\n",
              "    <tr>\n",
              "      <th>5</th>\n",
              "      <td>Logout</td>\n",
              "      <td>No</td>\n",
              "      <td>1.1</td>\n",
              "    </tr>\n",
              "    <tr>\n",
              "      <th>6</th>\n",
              "      <td>Save Settings</td>\n",
              "      <td>No</td>\n",
              "      <td>0.1</td>\n",
              "    </tr>\n",
              "    <tr>\n",
              "      <th>7</th>\n",
              "      <td>About</td>\n",
              "      <td>No</td>\n",
              "      <td>0.2</td>\n",
              "    </tr>\n",
              "    <tr>\n",
              "      <th>8</th>\n",
              "      <td>Settings</td>\n",
              "      <td>No</td>\n",
              "      <td>0.5</td>\n",
              "    </tr>\n",
              "    <tr>\n",
              "      <th>9</th>\n",
              "      <td>Add to Playlist</td>\n",
              "      <td>No</td>\n",
              "      <td>2.4</td>\n",
              "    </tr>\n",
              "    <tr>\n",
              "      <th>10</th>\n",
              "      <td>Add Friend</td>\n",
              "      <td>No</td>\n",
              "      <td>1.6</td>\n",
              "    </tr>\n",
              "    <tr>\n",
              "      <th>11</th>\n",
              "      <td>NextSong</td>\n",
              "      <td>No</td>\n",
              "      <td>82.2</td>\n",
              "    </tr>\n",
              "    <tr>\n",
              "      <th>12</th>\n",
              "      <td>Thumbs Up</td>\n",
              "      <td>No</td>\n",
              "      <td>4.6</td>\n",
              "    </tr>\n",
              "    <tr>\n",
              "      <th>13</th>\n",
              "      <td>Help</td>\n",
              "      <td>No</td>\n",
              "      <td>0.5</td>\n",
              "    </tr>\n",
              "    <tr>\n",
              "      <th>14</th>\n",
              "      <td>Upgrade</td>\n",
              "      <td>No</td>\n",
              "      <td>0.2</td>\n",
              "    </tr>\n",
              "    <tr>\n",
              "      <th>15</th>\n",
              "      <td>Error</td>\n",
              "      <td>No</td>\n",
              "      <td>0.1</td>\n",
              "    </tr>\n",
              "    <tr>\n",
              "      <th>16</th>\n",
              "      <td>Submit Upgrade</td>\n",
              "      <td>No</td>\n",
              "      <td>0.1</td>\n",
              "    </tr>\n",
              "  </tbody>\n",
              "</table>\n",
              "</div>"
            ],
            "text/plain": [
              "                         page churned     %\n",
              "0                      Cancel     Yes   0.1\n",
              "1            Submit Downgrade     Yes   0.0\n",
              "2                 Thumbs Down     Yes   1.1\n",
              "3                        Home     Yes   3.7\n",
              "4                   Downgrade     Yes   0.8\n",
              "5                 Roll Advert     Yes   2.2\n",
              "6                      Logout     Yes   1.2\n",
              "7               Save Settings     Yes   0.1\n",
              "8   Cancellation Confirmation     Yes   0.1\n",
              "9                       About     Yes   0.1\n",
              "10                   Settings     Yes   0.6\n",
              "11            Add to Playlist     Yes   2.3\n",
              "12                 Add Friend     Yes   1.4\n",
              "13                   NextSong     Yes  81.1\n",
              "14                  Thumbs Up     Yes   4.1\n",
              "15                       Help     Yes   0.5\n",
              "16                    Upgrade     Yes   0.2\n",
              "17                      Error     Yes   0.1\n",
              "18             Submit Upgrade     Yes   0.1\n",
              "0            Submit Downgrade      No   0.0\n",
              "1                 Thumbs Down      No   0.9\n",
              "2                        Home      No   3.6\n",
              "3                   Downgrade      No   0.7\n",
              "4                 Roll Advert      No   1.3\n",
              "5                      Logout      No   1.1\n",
              "6               Save Settings      No   0.1\n",
              "7                       About      No   0.2\n",
              "8                    Settings      No   0.5\n",
              "9             Add to Playlist      No   2.4\n",
              "10                 Add Friend      No   1.6\n",
              "11                   NextSong      No  82.2\n",
              "12                  Thumbs Up      No   4.6\n",
              "13                       Help      No   0.5\n",
              "14                    Upgrade      No   0.2\n",
              "15                      Error      No   0.1\n",
              "16             Submit Upgrade      No   0.1"
            ]
          },
          "metadata": {
            "tags": []
          },
          "execution_count": 41
        }
      ]
    },
    {
      "cell_type": "code",
      "metadata": {
        "id": "vO3TSw5Bs-Tb",
        "colab_type": "code",
        "colab": {},
        "outputId": "2381b611-82e6-46b7-e001-71ccd79bfc96"
      },
      "source": [
        "# Page churn attribute viz\n",
        "fig=plt.figure(figsize=(15,10))\n",
        "sns.set(font_scale=1)\n",
        "snsbp = sns.barplot(data=users,x='%',y='page',capsize=0.2,hue='churned');\n",
        "snsbp.set_xticklabels(snsbp.get_xticklabels(), rotation=90,minor=True);"
      ],
      "execution_count": null,
      "outputs": [
        {
          "output_type": "display_data",
          "data": {
            "image/png": "[encoded data removed]",
            "text/plain": [
              "<matplotlib.figure.Figure at 0x7f24eda4d470>"
            ]
          },
          "metadata": {
            "tags": [],
            "needs_background": "light"
          }
        }
      ]
    },
    {
      "cell_type": "markdown",
      "metadata": {
        "id": "c5qt7_22s-Td",
        "colab_type": "text"
      },
      "source": [
        "# Feature Engineering\n",
        "Once you've familiarized yourself with the data, build out the features you find promising to train your model on. To work with the full dataset, you can follow the following steps.\n",
        "- Write a script to extract the necessary features from the smaller subset of data\n",
        "- Ensure that your script is scalable, using the best practices discussed in Lesson 3\n",
        "- Try your script on the full data set, debugging your script if necessary\n",
        "\n",
        "If you are working in the classroom workspace, you can just extract features based on the small subset of data contained here. Be sure to transfer over this work to the larger dataset when you work on your Spark cluster."
      ]
    },
    {
      "cell_type": "code",
      "metadata": {
        "id": "Y_MpNLS9s-Td",
        "colab_type": "code",
        "colab": {},
        "outputId": "cfb6c860-ac4b-4d29-8f23-73cc327f9eea"
      },
      "source": [
        "# Make gender to binary\n",
        "gender = df_clean.dropDuplicates(['userId']).sort('userId')\\\n",
        "    .select(['userId','gender']).replace(['F','M'], ['1', '0'], 'gender')\n",
        "gender.withColumn('gender', gender.gender.cast(\"int\"))\n",
        "gender.show(5)"
      ],
      "execution_count": null,
      "outputs": [
        {
          "output_type": "stream",
          "text": [
            "+------+------+\n",
            "|userId|gender|\n",
            "+------+------+\n",
            "|    10|     0|\n",
            "|   100|     0|\n",
            "|100001|     1|\n",
            "|100002|     1|\n",
            "|100003|     1|\n",
            "+------+------+\n",
            "only showing top 5 rows\n",
            "\n"
          ],
          "name": "stdout"
        }
      ]
    },
    {
      "cell_type": "code",
      "metadata": {
        "id": "A--R452Qs-Tf",
        "colab_type": "code",
        "colab": {},
        "outputId": "9889b614-615f-48e4-e3e4-83dbad759611"
      },
      "source": [
        "gender.count()"
      ],
      "execution_count": null,
      "outputs": [
        {
          "output_type": "execute_result",
          "data": {
            "text/plain": [
              "225"
            ]
          },
          "metadata": {
            "tags": []
          },
          "execution_count": 44
        }
      ]
    },
    {
      "cell_type": "code",
      "metadata": {
        "id": "chNXqA8Ws-Tm",
        "colab_type": "code",
        "colab": {},
        "outputId": "ca4498ae-ce15-4b01-e903-ea0709f2689a"
      },
      "source": [
        "# Number of songs played (user-level)\n",
        "songs = df_clean.where(df_clean.song!='null').groupby('userId')\\\n",
        "    .agg(count(df_clean.song).alias('songs_played')).orderBy('userId')\\\n",
        "    .select(['userId','songs_played'])\n",
        "songs.show(5)"
      ],
      "execution_count": null,
      "outputs": [
        {
          "output_type": "stream",
          "text": [
            "+------+------------+\n",
            "|userId|songs_played|\n",
            "+------+------------+\n",
            "|    10|         673|\n",
            "|   100|        2682|\n",
            "|100001|         133|\n",
            "|100002|         195|\n",
            "|100003|          51|\n",
            "+------+------------+\n",
            "only showing top 5 rows\n",
            "\n"
          ],
          "name": "stdout"
        }
      ]
    },
    {
      "cell_type": "code",
      "metadata": {
        "id": "grpNSBe2s-Tp",
        "colab_type": "code",
        "colab": {},
        "outputId": "a9305b32-e4af-4711-8393-86ceff3b3da7"
      },
      "source": [
        "songs.count()"
      ],
      "execution_count": null,
      "outputs": [
        {
          "output_type": "execute_result",
          "data": {
            "text/plain": [
              "225"
            ]
          },
          "metadata": {
            "tags": []
          },
          "execution_count": 46
        }
      ]
    },
    {
      "cell_type": "code",
      "metadata": {
        "id": "VecLmdCks-Tt",
        "colab_type": "code",
        "colab": {},
        "outputId": "2f7db7bf-1b32-48ea-8625-8fd1f2b3d9f7"
      },
      "source": [
        "# Number of roll advertisement (user-level)\n",
        "ads = df_clean.where(df_clean.page=='Roll Advert') \\\n",
        "    .groupby(['userId']).agg(count(col('page')).alias('roll_advert'))\\\n",
        "    .orderBy('userId').select(['userId','roll_advert'])\n",
        "\n",
        "ads.show(5)"
      ],
      "execution_count": null,
      "outputs": [
        {
          "output_type": "stream",
          "text": [
            "+------+-----------+\n",
            "|userId|roll_advert|\n",
            "+------+-----------+\n",
            "|    10|          1|\n",
            "|   100|         25|\n",
            "|100001|         14|\n",
            "|100002|          3|\n",
            "|100003|          9|\n",
            "+------+-----------+\n",
            "only showing top 5 rows\n",
            "\n"
          ],
          "name": "stdout"
        }
      ]
    },
    {
      "cell_type": "code",
      "metadata": {
        "id": "F05mQwHXs-Tw",
        "colab_type": "code",
        "colab": {},
        "outputId": "ef52c2a1-f463-48d5-b285-c1ec8a67c43d"
      },
      "source": [
        "ads.count()"
      ],
      "execution_count": null,
      "outputs": [
        {
          "output_type": "execute_result",
          "data": {
            "text/plain": [
              "207"
            ]
          },
          "metadata": {
            "tags": []
          },
          "execution_count": 48
        }
      ]
    },
    {
      "cell_type": "code",
      "metadata": {
        "id": "jPZyFx6Us-Ty",
        "colab_type": "code",
        "colab": {},
        "outputId": "6e8c1657-2fb0-4cd8-fedc-b1b86c282ef2"
      },
      "source": [
        "# Number of settings in pages (user-level)\n",
        "settings = df_clean.where(df_clean.page=='Settings')\\\n",
        "    .groupby(['userId']).agg(count(col('page')).alias('settings'))\\\n",
        "    .orderBy('userId').select(['userId','settings'])\n",
        "\n",
        "settings.show(5)"
      ],
      "execution_count": null,
      "outputs": [
        {
          "output_type": "stream",
          "text": [
            "+------+--------+\n",
            "|userId|settings|\n",
            "+------+--------+\n",
            "|    10|       7|\n",
            "|   100|      11|\n",
            "|100001|       1|\n",
            "|100004|      11|\n",
            "|100005|       2|\n",
            "+------+--------+\n",
            "only showing top 5 rows\n",
            "\n"
          ],
          "name": "stdout"
        }
      ]
    },
    {
      "cell_type": "code",
      "metadata": {
        "id": "lsx-xN38s-T1",
        "colab_type": "code",
        "colab": {},
        "outputId": "009f77b7-0f3f-4ba6-e95b-a278db8f13c4"
      },
      "source": [
        "settings.count()"
      ],
      "execution_count": null,
      "outputs": [
        {
          "output_type": "execute_result",
          "data": {
            "text/plain": [
              "195"
            ]
          },
          "metadata": {
            "tags": []
          },
          "execution_count": 50
        }
      ]
    },
    {
      "cell_type": "code",
      "metadata": {
        "id": "5fNaZxl0s-T3",
        "colab_type": "code",
        "colab": {},
        "outputId": "f6c18c5c-fae9-4369-8ef9-1c5a6a2b7dd3"
      },
      "source": [
        "# Number of friends (user-level)\n",
        "addfriend = df_clean.where(df_clean.page=='Add Friend')\\\n",
        "    .groupby(['userId']).agg(count(col('page')).alias('add_friend'))\\\n",
        "    .orderBy('userId').select(['userId','add_friend'])\n",
        "\n",
        "addfriend.show(5)"
      ],
      "execution_count": null,
      "outputs": [
        {
          "output_type": "stream",
          "text": [
            "+------+----------+\n",
            "|userId|add_friend|\n",
            "+------+----------+\n",
            "|    10|        12|\n",
            "|   100|        49|\n",
            "|100001|         2|\n",
            "|100002|         1|\n",
            "|100004|        19|\n",
            "+------+----------+\n",
            "only showing top 5 rows\n",
            "\n"
          ],
          "name": "stdout"
        }
      ]
    },
    {
      "cell_type": "code",
      "metadata": {
        "id": "tEdQcDpZs-T9",
        "colab_type": "code",
        "colab": {},
        "outputId": "a72714f8-1d40-46e8-c8da-9c1578868a97"
      },
      "source": [
        "# Number of thumbs up and thumbs down (user-level)\n",
        "thumbsup = df_clean.where(df_clean.page=='Thumbs Up')\\\n",
        "    .groupby(['userId']).agg(count(col('page')).alias('thumbsUps'))\\\n",
        "    .orderBy('userId').select(['userId','thumbsUps'])\n",
        "\n",
        "thumbsdown = df_clean.where(df_clean.page=='Thumbs Down')\\\n",
        "    .groupby(['userId']).agg(count(col('page')).alias('thumbsDowns'))\\\n",
        "    .orderBy('userId').select(['userId','thumbsDowns'])\n",
        "\n",
        "thumbsup.show(5)"
      ],
      "execution_count": null,
      "outputs": [
        {
          "output_type": "stream",
          "text": [
            "+------+---------+\n",
            "|userId|thumbsUps|\n",
            "+------+---------+\n",
            "|    10|       37|\n",
            "|   100|      148|\n",
            "|100001|        8|\n",
            "|100002|        5|\n",
            "|100003|        3|\n",
            "+------+---------+\n",
            "only showing top 5 rows\n",
            "\n"
          ],
          "name": "stdout"
        }
      ]
    },
    {
      "cell_type": "code",
      "metadata": {
        "id": "UDO0wZmis-UA",
        "colab_type": "code",
        "colab": {},
        "outputId": "72d13c76-fb79-4c8b-9b3d-3199770a323f"
      },
      "source": [
        "# Average number of songs played per session (user-level)\n",
        "sessions_songs = df_clean.select(['userId','song','sessionId'])\\\n",
        "                    .groupby(['userId','sessionId'])\\\n",
        "                    .count().groupby(['userId']).agg({'count':'avg'})\n",
        "\n",
        "sessions_songs = sessions_songs.withColumnRenamed(\"avg(count)\", \"avg_session\")\n",
        "sessions_songs.show()"
      ],
      "execution_count": null,
      "outputs": [
        {
          "output_type": "stream",
          "text": [
            "+------+------------------+\n",
            "|userId|       avg_session|\n",
            "+------+------------------+\n",
            "|100010| 54.42857142857143|\n",
            "|200002|              79.0|\n",
            "|   125|              11.0|\n",
            "|    51|             246.4|\n",
            "|   124| 166.3793103448276|\n",
            "|     7|28.714285714285715|\n",
            "|    54| 92.89189189189189|\n",
            "|    15|151.86666666666667|\n",
            "|   155|             167.0|\n",
            "|100014|51.666666666666664|\n",
            "|   132|             144.0|\n",
            "|   154|39.333333333333336|\n",
            "|   101|             214.9|\n",
            "|    11|              53.0|\n",
            "|300017| 70.28571428571429|\n",
            "|   138|             164.6|\n",
            "|    29|105.97058823529412|\n",
            "|    69|149.11111111111111|\n",
            "|100021|              63.8|\n",
            "|    42| 90.57446808510639|\n",
            "+------+------------------+\n",
            "only showing top 20 rows\n",
            "\n"
          ],
          "name": "stdout"
        }
      ]
    },
    {
      "cell_type": "code",
      "metadata": {
        "id": "LZfKqIj9s-UC",
        "colab_type": "code",
        "colab": {},
        "outputId": "7782a3c3-b1cf-48b3-ba1e-1b8aacc8c8ad"
      },
      "source": [
        "# Length churn stats (user-level)\n",
        "length = df_clean.select(['userId', \"length\"]).groupby(['userId']).agg(avg('length').alias('mean_length'))\n",
        "length.show()"
      ],
      "execution_count": null,
      "outputs": [
        {
          "output_type": "stream",
          "text": [
            "+------+------------------+\n",
            "|userId|       mean_length|\n",
            "+------+------------------+\n",
            "|100010|  243.421444909091|\n",
            "|200002|242.91699209302305|\n",
            "|   125|261.13913750000006|\n",
            "|    51|247.88055082899118|\n",
            "|   124|248.17653659965674|\n",
            "|     7| 253.5605806666668|\n",
            "|    54|250.38539934530132|\n",
            "|    15|249.37701452978064|\n",
            "|   155| 242.4137706097561|\n",
            "|   132|250.58034431535253|\n",
            "|   154| 245.9526655952382|\n",
            "|100014|263.43763455252935|\n",
            "|   101|249.00612947690533|\n",
            "|    11| 246.7851051622872|\n",
            "|   138|247.56032983574826|\n",
            "|300017|  247.083419661344|\n",
            "|    29|249.18017257926053|\n",
            "|    69|254.27913390222213|\n",
            "|100021| 250.5790245217391|\n",
            "|    42|246.79344140218322|\n",
            "+------+------------------+\n",
            "only showing top 20 rows\n",
            "\n"
          ],
          "name": "stdout"
        }
      ]
    },
    {
      "cell_type": "code",
      "metadata": {
        "id": "6Uoy9bQts-UI",
        "colab_type": "code",
        "colab": {},
        "outputId": "22595c26-a4fd-4aca-fd8e-cd2ede14eab8"
      },
      "source": [
        "# Number of songs added to playlist (user-level)\n",
        "playlist = df_clean.select(['userId','page'])\\\n",
        "                .filter(df_clean.page == 'Add to Playlist')\\\n",
        "                .groupby('userId').count()\n",
        "\n",
        "playlist = playlist.withColumnRenamed(\"count\", \"add_to_playlist\")\n",
        "playlist.show()"
      ],
      "execution_count": null,
      "outputs": [
        {
          "output_type": "stream",
          "text": [
            "+------+---------------+\n",
            "|userId|add_to_playlist|\n",
            "+------+---------------+\n",
            "|100010|              7|\n",
            "|200002|              8|\n",
            "|    51|             52|\n",
            "|   124|            118|\n",
            "|     7|              5|\n",
            "|    15|             59|\n",
            "|    54|             72|\n",
            "|   155|             24|\n",
            "|   132|             38|\n",
            "|   154|              1|\n",
            "|100014|              7|\n",
            "|   101|             61|\n",
            "|    11|             20|\n",
            "|   138|             67|\n",
            "|300017|            113|\n",
            "|    29|             89|\n",
            "|    69|             33|\n",
            "|100021|              7|\n",
            "|    42|            104|\n",
            "|   112|              7|\n",
            "+------+---------------+\n",
            "only showing top 20 rows\n",
            "\n"
          ],
          "name": "stdout"
        }
      ]
    },
    {
      "cell_type": "code",
      "metadata": {
        "id": "S4BGQEFUs-UL",
        "colab_type": "code",
        "colab": {},
        "outputId": "7c4c0ecb-7d81-4eab-88e8-84d3b04bd1d9"
      },
      "source": [
        "# Number of songs added to playlist (user-level)\n",
        "downgrade = df_clean.select(['userId','downgrade'])\\\n",
        "                .filter(df_clean.downgrade == 1).groupby('userId').count()\n",
        "                #.drop_duplicates([\"userId\",\"downgrade\"])\n",
        "                \n",
        "\n",
        "downgrade = downgrade.withColumnRenamed(\"count\", \"downgrade\")\n",
        "downgrade.show()"
      ],
      "execution_count": null,
      "outputs": [
        {
          "output_type": "stream",
          "text": [
            "+------+---------+\n",
            "|userId|downgrade|\n",
            "+------+---------+\n",
            "|200002|        5|\n",
            "|    51|       23|\n",
            "|   124|       41|\n",
            "|    54|       39|\n",
            "|    15|       28|\n",
            "|   155|       12|\n",
            "|   132|       19|\n",
            "|100014|        3|\n",
            "|   101|       22|\n",
            "|    11|        5|\n",
            "|   138|       21|\n",
            "|300017|       25|\n",
            "|    29|       18|\n",
            "|    69|        9|\n",
            "|    42|       37|\n",
            "|    87|        1|\n",
            "|    73|        1|\n",
            "|     3|        2|\n",
            "|   113|       16|\n",
            "|    30|        6|\n",
            "+------+---------+\n",
            "only showing top 20 rows\n",
            "\n"
          ],
          "name": "stdout"
        }
      ]
    },
    {
      "cell_type": "code",
      "metadata": {
        "id": "Bzjg0h8ls-UO",
        "colab_type": "code",
        "colab": {},
        "outputId": "6f2b25fd-0a2b-46f7-aa33-0b8bb5b1d0ca"
      },
      "source": [
        "# Number of days spent using the service since registration date (user-level)\n",
        "loyalty = df_clean.withColumn(\"loyalty\" , (df_clean.ts-df_clean.registration)/(1000*60*60*24))\\\n",
        "                    .select(['userId','loyalty']).groupby('userId').max('loyalty').alias('loyalty')\n",
        "\n",
        "loyalty = loyalty.withColumnRenamed(\"max(loyalty)\", \"loyalty\")\n",
        "\n",
        "loyalty.show()"
      ],
      "execution_count": null,
      "outputs": [
        {
          "output_type": "stream",
          "text": [
            "+------+------------------+\n",
            "|userId|           loyalty|\n",
            "+------+------------------+\n",
            "|100010| 55.64365740740741|\n",
            "|200002| 70.07462962962963|\n",
            "|   125| 71.31688657407408|\n",
            "|    51|19.455844907407407|\n",
            "|   124|131.55591435185184|\n",
            "|     7| 72.77818287037037|\n",
            "|    54|110.75168981481481|\n",
            "|    15|56.513576388888886|\n",
            "|   155|23.556018518518517|\n",
            "|   132|  66.8891087962963|\n",
            "|   154|23.872037037037035|\n",
            "|100014| 85.08340277777778|\n",
            "|   101|        53.9659375|\n",
            "|    11|124.47825231481481|\n",
            "|   138| 66.62668981481481|\n",
            "|300017| 74.35851851851852|\n",
            "|    29|60.104050925925925|\n",
            "|    69| 71.42444444444445|\n",
            "|100021| 64.73886574074074|\n",
            "|    42| 67.11364583333334|\n",
            "+------+------------------+\n",
            "only showing top 20 rows\n",
            "\n"
          ],
          "name": "stdout"
        }
      ]
    },
    {
      "cell_type": "code",
      "metadata": {
        "id": "uvJUt14Ps-UQ",
        "colab_type": "code",
        "colab": {},
        "outputId": "ed96d797-1acc-4ff8-ac14-bdb1ea5f9457"
      },
      "source": [
        "# Create the final dataset\n",
        "feature_list = [songs, ads, addfriend, thumbsup, thumbsdown, \\\n",
        "                loyalty, playlist, length, sessions_songs]\n",
        "\n",
        "df = df_clean.dropDuplicates(['userId']).sort('userId').select(['userId','churn'])\n",
        "for feature in feature_list:\n",
        "    df = df.join(feature,'userId', how='left').na.fill(0)\n",
        "\n",
        "df = df.withColumnRenamed(\"churn\", \"label\")\n",
        "df.show()"
      ],
      "execution_count": null,
      "outputs": [
        {
          "output_type": "stream",
          "text": [
            "+------+-----+------------+-----------+----------+---------+-----------+------------------+---------------+------------------+------------------+\n",
            "|userId|label|songs_played|roll_advert|add_friend|thumbsUps|thumbsDowns|           loyalty|add_to_playlist|       mean_length|       avg_session|\n",
            "+------+-----+------------+-----------+----------+---------+-----------+------------------+---------------+------------------+------------------+\n",
            "|100010|    0|         275|         52|         4|       17|          5| 55.64365740740741|              7|  243.421444909091| 54.42857142857143|\n",
            "|200002|    0|         387|          7|         4|       21|          6| 70.07462962962963|              8|242.91699209302305|              79.0|\n",
            "|   125|    1|           8|          1|         0|        0|          0| 71.31688657407408|              0|261.13913750000006|              11.0|\n",
            "|   124|    0|        4079|          4|        74|      171|         41|131.55591435185184|            118|248.17653659965674| 166.3793103448276|\n",
            "|    51|    1|        2111|          0|        28|      100|         21|19.455844907407407|             52|247.88055082899118|             246.4|\n",
            "|     7|    0|         150|         16|         1|        7|          1| 72.77818287037037|              5| 253.5605806666668|28.714285714285715|\n",
            "|    15|    0|        1914|          1|        31|       81|         14|56.513576388888886|             59|249.37701452978064|151.86666666666667|\n",
            "|    54|    1|        2841|         47|        33|      163|         29|110.75168981481481|             72|250.38539934530132| 92.89189189189189|\n",
            "|   155|    0|         820|          8|        11|       58|          3|23.556018518518517|             24| 242.4137706097561|             167.0|\n",
            "|100014|    1|         257|          2|         6|       17|          3| 85.08340277777778|              7|263.43763455252935|51.666666666666664|\n",
            "|   132|    0|        1928|          2|        41|       96|         17|  66.8891087962963|             38|250.58034431535253|             144.0|\n",
            "|   154|    0|          84|         10|         3|       11|          0|23.872037037037035|              1| 245.9526655952382|39.333333333333336|\n",
            "|   101|    1|        1797|          8|        29|       86|         16|        53.9659375|             61|249.00612947690533|             214.9|\n",
            "|    11|    0|         647|         39|         6|       40|          9|124.47825231481481|             20| 246.7851051622872|              53.0|\n",
            "|   138|    0|        2070|         17|        41|       95|         24| 66.62668981481481|             67|247.56032983574826|             164.6|\n",
            "|300017|    0|        3632|         11|        63|      303|         28| 74.35851851851852|            113|  247.083419661344| 70.28571428571429|\n",
            "|100021|    1|         230|         30|         7|       11|          5| 64.73886574074074|              7| 250.5790245217391|              63.8|\n",
            "|    29|    1|        3028|         22|        47|      154|         22|60.104050925925925|             89|249.18017257926053|105.97058823529412|\n",
            "|    69|    0|        1125|          3|        12|       72|          9| 71.42444444444445|             33|254.27913390222213|149.11111111111111|\n",
            "|   112|    0|         215|         21|         7|        9|          3| 87.46262731481481|              7|246.80347251162797|              29.2|\n",
            "+------+-----+------------+-----------+----------+---------+-----------+------------------+---------------+------------------+------------------+\n",
            "only showing top 20 rows\n",
            "\n"
          ],
          "name": "stdout"
        }
      ]
    },
    {
      "cell_type": "code",
      "metadata": {
        "id": "mO0BtCCRs-UT",
        "colab_type": "code",
        "colab": {}
      },
      "source": [
        "# Drop userid\n",
        "df = df.drop('userId')"
      ],
      "execution_count": null,
      "outputs": []
    },
    {
      "cell_type": "code",
      "metadata": {
        "id": "cq3dxL5Xs-UY",
        "colab_type": "code",
        "colab": {}
      },
      "source": [
        "# Transform variables to float\n",
        "for feature in df.columns[1:]:\n",
        "    df = df.withColumn(feature, df[feature].cast('float'))"
      ],
      "execution_count": null,
      "outputs": []
    },
    {
      "cell_type": "code",
      "metadata": {
        "id": "jHJXb-V6s-Ua",
        "colab_type": "code",
        "colab": {},
        "outputId": "c9e7b53e-3c86-4949-e947-02f07562458d"
      },
      "source": [
        "# Print the dataset used to train the model\n",
        "df.printSchema()"
      ],
      "execution_count": null,
      "outputs": [
        {
          "output_type": "stream",
          "text": [
            "root\n",
            " |-- label: long (nullable = true)\n",
            " |-- songs_played: float (nullable = true)\n",
            " |-- roll_advert: float (nullable = true)\n",
            " |-- add_friend: float (nullable = true)\n",
            " |-- thumbsUps: float (nullable = true)\n",
            " |-- thumbsDowns: float (nullable = true)\n",
            " |-- loyalty: float (nullable = false)\n",
            " |-- add_to_playlist: float (nullable = true)\n",
            " |-- mean_length: float (nullable = false)\n",
            " |-- avg_session: float (nullable = false)\n",
            "\n"
          ],
          "name": "stdout"
        }
      ]
    },
    {
      "cell_type": "code",
      "metadata": {
        "id": "uUMCIDCns-Uc",
        "colab_type": "code",
        "colab": {},
        "outputId": "a3d691a7-438d-4532-cd0c-f99644cb29b0"
      },
      "source": [
        "df.count()"
      ],
      "execution_count": null,
      "outputs": [
        {
          "output_type": "execute_result",
          "data": {
            "text/plain": [
              "225"
            ]
          },
          "metadata": {
            "tags": []
          },
          "execution_count": 62
        }
      ]
    },
    {
      "cell_type": "markdown",
      "metadata": {
        "id": "RNnjOGu7s-Ue",
        "colab_type": "text"
      },
      "source": [
        "# Modeling\n",
        "Split the full dataset into train, test, and validation sets. Test out several of the machine learning methods you learned. Evaluate the accuracy of the various models, tuning parameters as necessary. Determine your winning model based on test accuracy and report results on the validation set. Since the churned users are a fairly small subset, I suggest using F1 score as the metric to optimize."
      ]
    },
    {
      "cell_type": "code",
      "metadata": {
        "id": "EROy6ndds-Uf",
        "colab_type": "code",
        "colab": {}
      },
      "source": [
        "def undersample(df): \n",
        "    '''\n",
        "    Implement undersample on dataset, return a balanced dataset.\n",
        "    '''    \n",
        "    # Size of minority class(0)\n",
        "    minoritySize = df.where(df.label == '1').count()\n",
        "    \n",
        "    # Two classes with the same size\n",
        "    df_min = df.where(df.label == '1')\n",
        "    df_max = df.where(df.label == '0').sample(1.0, seed=7).limit(minoritySize)\n",
        "    \n",
        "    # Concatenate them together\n",
        "    result = df_min.union(df_max)\n",
        "    \n",
        "    # Shuffle data\n",
        "    result = result.orderBy(rand())\n",
        "    return result"
      ],
      "execution_count": null,
      "outputs": []
    },
    {
      "cell_type": "code",
      "metadata": {
        "id": "ES3baYZbs-Uj",
        "colab_type": "code",
        "colab": {},
        "outputId": "fb64df1d-7001-46e8-cb96-70cfc643564d"
      },
      "source": [
        "# Undersample the original dataset\n",
        "df_bal = undersample(df)\n",
        "# Check the output\n",
        "df_bal.groupby(df_bal.label).count().show()"
      ],
      "execution_count": null,
      "outputs": [
        {
          "output_type": "stream",
          "text": [
            "+-----+-----+\n",
            "|label|count|\n",
            "+-----+-----+\n",
            "|    0|   52|\n",
            "|    1|   52|\n",
            "+-----+-----+\n",
            "\n"
          ],
          "name": "stdout"
        }
      ]
    },
    {
      "cell_type": "code",
      "metadata": {
        "id": "1MxgfKANs-Ul",
        "colab_type": "code",
        "colab": {},
        "outputId": "e7274114-1481-40fc-a390-92398a42c1cf"
      },
      "source": [
        "# Print the balanced dataset schema used to train the model\n",
        "df_bal.printSchema()"
      ],
      "execution_count": null,
      "outputs": [
        {
          "output_type": "stream",
          "text": [
            "root\n",
            " |-- label: long (nullable = true)\n",
            " |-- songs_played: float (nullable = true)\n",
            " |-- roll_advert: float (nullable = true)\n",
            " |-- add_friend: float (nullable = true)\n",
            " |-- thumbsUps: float (nullable = true)\n",
            " |-- thumbsDowns: float (nullable = true)\n",
            " |-- loyalty: float (nullable = false)\n",
            " |-- add_to_playlist: float (nullable = true)\n",
            " |-- mean_length: float (nullable = false)\n",
            " |-- avg_session: float (nullable = false)\n",
            "\n"
          ],
          "name": "stdout"
        }
      ]
    },
    {
      "cell_type": "code",
      "metadata": {
        "id": "DYrzIvyds-Un",
        "colab_type": "code",
        "colab": {}
      },
      "source": [
        "# Create VectorAssembler to push data to ML models\n",
        "assembler = VectorAssembler(inputCols=df_bal.columns[1:],\\\n",
        "                            outputCol=\"inputFeatures\")\n",
        "\n",
        "# Normalize data\n",
        "scaler = Normalizer(inputCol=\"inputFeatures\", outputCol=\"ScaledFeatures\");"
      ],
      "execution_count": null,
      "outputs": []
    },
    {
      "cell_type": "code",
      "metadata": {
        "id": "9SaMBoX0s-Ut",
        "colab_type": "code",
        "colab": {}
      },
      "source": [
        "# Spilt dataset for Train and Test \n",
        "train, test = df_bal.randomSplit([0.8, 0.2], seed=7);"
      ],
      "execution_count": null,
      "outputs": []
    },
    {
      "cell_type": "code",
      "metadata": {
        "id": "CR5C9xk_s-Uw",
        "colab_type": "code",
        "colab": {}
      },
      "source": [
        "# Build Logistic Regression Classification Model\n",
        "\n",
        "# Initiate Log Regression model\n",
        "\n",
        "lr =  LogisticRegression(featuresCol=\"ScaledFeatures\", labelCol=\"label\", maxIter=10)\n",
        "\n",
        "# Make pipeline for lr\n",
        "pipeline_lr = Pipeline(stages=[assembler, \n",
        "                               scaler, \n",
        "                               lr\n",
        "                              ]\n",
        "                      )\n",
        "\n",
        "# Grid search params\n",
        "paramGrid_lr = ParamGridBuilder() \\\n",
        "    .addGrid(lr.elasticNetParam,[0.1, 0.5, 1]) \\\n",
        "    .addGrid(lr.regParam,[0.01, 0.05, 0.1]) \\\n",
        "    .build()\n",
        "\n",
        "# Cross-validation params\n",
        "cv_lr = CrossValidator(estimator=pipeline_lr,\n",
        "                             estimatorParamMaps=paramGrid_lr,\n",
        "                             evaluator=MulticlassClassificationEvaluator(),\n",
        "                             numFolds=3\n",
        "                            )\n",
        "\n",
        "\n",
        "# Build Random Forest Classification Model\n",
        "\n",
        "# Initiate Random Forest model\n",
        "\n",
        "model_rf = RandomForestClassifier(featuresCol=\"ScaledFeatures\", labelCol=\"label\")\n",
        "\n",
        "\n",
        "# Make pipeline for rf\n",
        "pipeline_rf = Pipeline(stages=[assembler, \n",
        "                               scaler, \n",
        "                               model_rf \n",
        "                              ]\n",
        "                      )\n",
        "\n",
        "# Grid search params\n",
        "paramGrid_rf = ParamGridBuilder() \\\n",
        "    .addGrid(model_rf.maxDepth, [8, 16,20]) \\\n",
        "    .addGrid(model_rf.maxBins, [8, 16, 20]) \\\n",
        "    .addGrid(model_rf.impurity, ['gini','entropy']) \\\n",
        "    .build()\n",
        "    \n",
        "# Cross validation params\n",
        "cv_rf = CrossValidator(estimator=pipeline_rf,\n",
        "                       estimatorParamMaps=paramGrid_rf,\n",
        "                       evaluator=MulticlassClassificationEvaluator(),\n",
        "                       numFolds=3\n",
        "                      )"
      ],
      "execution_count": null,
      "outputs": []
    },
    {
      "cell_type": "code",
      "metadata": {
        "id": "3EcduXXWs-Uy",
        "colab_type": "code",
        "colab": {},
        "outputId": "3d5cd023-f580-4ecd-c077-09de6208e6dc"
      },
      "source": [
        "# Fit models\n",
        "import time\n",
        "from dateutil import tz\n",
        "from datetime import datetime\n",
        "\n",
        "start_time= time.time()\n",
        "\n",
        "model_lr_fitted = cv_lr.fit(train);\n",
        "model_rf_fitted = cv_rf.fit(train)\n",
        "\n",
        "end_time= time.time()\n",
        "\n",
        "print(\"Total execute time:{}\".format(end_time-start_time))"
      ],
      "execution_count": null,
      "outputs": [
        {
          "output_type": "stream",
          "text": [
            "2020-07-20 09:43:10.790980+02:00\n",
            "Total execute time:4516.192127227783\n"
          ],
          "name": "stdout"
        }
      ]
    },
    {
      "cell_type": "code",
      "metadata": {
        "id": "WSfmNOzns-U0",
        "colab_type": "code",
        "colab": {}
      },
      "source": [
        "# Function to calculate Accuracy scores:\n",
        "def model_performance_accuracy(model, test_data, metric = 'accuracy'):\n",
        "    \"\"\" Calculate Model Scores using accuracy metric \n",
        "        Input: \n",
        "            model- trained model or pipeline object\n",
        "            metric- the metric used to measure performance\n",
        "            data - data on which performance measurement should be done\n",
        "        Output:\n",
        "            score\n",
        "    \"\"\"\n",
        "    evaluator = MulticlassClassificationEvaluator(metricName = metric)\n",
        "    prediction_result = model.transform(test_data)\n",
        "    # find f1 score\n",
        "    score = evaluator.evaluate(prediction_result)\n",
        "    #return score\n",
        "    return score"
      ],
      "execution_count": null,
      "outputs": []
    },
    {
      "cell_type": "code",
      "metadata": {
        "id": "PBVfuyEls-U1",
        "colab_type": "code",
        "colab": {},
        "outputId": "4a725155-39db-4bc6-d059-f1efb872b7d9"
      },
      "source": [
        "# Print Models Accuracy score\n",
        "print(\"Logistic Regression Classifier Accuracy:{}\".format(model_performance_accuracy(model_lr_fitted, test)));\n",
        "print(\"Random Forest Classifier Accuracy:{}\".format(model_performance_accuracy(model_rf_fitted, test)));"
      ],
      "execution_count": null,
      "outputs": [
        {
          "output_type": "stream",
          "text": [
            "Logistic Regression Classifier Accuracy:0.8235294117647058\n",
            "Random Forest Classifier Accuracy:0.5294117647058824\n"
          ],
          "name": "stdout"
        }
      ]
    },
    {
      "cell_type": "code",
      "metadata": {
        "id": "SucQ_Ds-s-U3",
        "colab_type": "code",
        "colab": {}
      },
      "source": [
        "# Calculate random forest features importance\n",
        "feature_importances = model_rf_fitted.bestModel.stages[2].featureImportances.values.tolist()\n",
        "feature_importance_df = pd.DataFrame({'feature_importance': feature_importances, 'feature name': df_bal.columns[1:]})"
      ],
      "execution_count": null,
      "outputs": []
    },
    {
      "cell_type": "code",
      "metadata": {
        "id": "IG5cMBcls-U-",
        "colab_type": "code",
        "colab": {},
        "outputId": "82a2b7d3-caf8-4aaa-cf8b-e4afd9db7ede"
      },
      "source": [
        "# Random forest features importance viz\n",
        "sns.barplot(x='feature_importance', y='feature name', data=feature_importance_df)"
      ],
      "execution_count": null,
      "outputs": [
        {
          "output_type": "execute_result",
          "data": {
            "text/plain": [
              "<matplotlib.axes._subplots.AxesSubplot at 0x7f24ed5b1470>"
            ]
          },
          "metadata": {
            "tags": []
          },
          "execution_count": 78
        },
        {
          "output_type": "display_data",
          "data": {
            "image/png": "[encoded data removed]",
            "text/plain": [
              "<matplotlib.figure.Figure at 0x7f24ed5b1908>"
            ]
          },
          "metadata": {
            "tags": []
          }
        }
      ]
    },
    {
      "cell_type": "code",
      "metadata": {
        "id": "B9XYd4vSs-U_",
        "colab_type": "code",
        "colab": {}
      },
      "source": [
        "# Function to calculate F-1 scores:\n",
        "def model_performance_f1(model, test_data, metric = 'f1'):\n",
        "    \"\"\" Calculate Model Scores using f1 metric \n",
        "        Input: \n",
        "            model- trained model or pipeline object\n",
        "            metric- the metric used to measure performance\n",
        "            data - data on which performance measurement should be done\n",
        "        Output:\n",
        "            score\n",
        "    \"\"\"\n",
        "    evaluator = MulticlassClassificationEvaluator(metricName = metric)\n",
        "    prediction_result = model.transform(test_data)\n",
        "    # find f1 score\n",
        "    score = evaluator.evaluate(prediction_result)\n",
        "    #return score\n",
        "    return score"
      ],
      "execution_count": null,
      "outputs": []
    },
    {
      "cell_type": "code",
      "metadata": {
        "id": "aZrEhaTis-VB",
        "colab_type": "code",
        "colab": {},
        "outputId": "280f0d48-db7c-464c-dff2-c5f1c96c6d11"
      },
      "source": [
        "# Print Models F-1 score\n",
        "print(\"Logistic Regression Classifier F1-Score:{}\".format(model_performance_f1(model_lr_fitted, test)));\n",
        "print(\"Random Forest Classifier F1-Score:{}\".format(model_performance_f1(model_rf_fitted, test)));"
      ],
      "execution_count": null,
      "outputs": [
        {
          "output_type": "stream",
          "text": [
            "Logistic Regression Classifier F1-Score:0.8198142414860681\n",
            "Random Forest Classifier F1-Score:0.5261437908496732\n"
          ],
          "name": "stdout"
        }
      ]
    },
    {
      "cell_type": "markdown",
      "metadata": {
        "id": "TyHD4NKms-VC",
        "colab_type": "text"
      },
      "source": [
        "# Final Steps\n",
        "Clean up your code, adding comments and renaming variables to make the code easier to read and maintain. Refer to the Spark Project Overview page and Data Scientist Capstone Project Rubric to make sure you are including all components of the capstone project and meet all expectations. Remember, this includes thorough documentation in a README file in a Github repository, as well as a web app or blog post."
      ]
    }
  ]
}