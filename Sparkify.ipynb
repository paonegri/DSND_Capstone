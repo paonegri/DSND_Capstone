{
  "nbformat": 4,
  "nbformat_minor": 0,
  "metadata": {
    "kernelspec": {
      "display_name": "Python 3",
      "language": "python",
      "name": "python3"
    },
    "language_info": {
      "codemirror_mode": {
        "name": "ipython",
        "version": 3
      },
      "file_extension": ".py",
      "mimetype": "text/x-python",
      "name": "python",
      "nbconvert_exporter": "python",
      "pygments_lexer": "ipython3",
      "version": "3.6.3"
    },
    "colab": {
      "name": "Sparkify.ipynb",
      "provenance": []
    }
  },
  "cells": [
    {
      "cell_type": "markdown",
      "metadata": {
        "id": "PZevecNfU2EX",
        "colab_type": "text"
      },
      "source": [
        "# Sparkify Project Workspace\n",
        "This workspace contains a tiny subset (128MB) of the full dataset available (12GB). Feel free to use this workspace to build your project, or to explore a smaller subset with Spark before deploying your cluster on the cloud. Instructions for setting up your Spark cluster is included in the last lesson of the Extracurricular Spark Course content.\n",
        "\n",
        "You can follow the steps below to guide your data analysis and model building portion of this project."
      ]
    },
    {
      "cell_type": "code",
      "metadata": {
        "id": "4vFkKMvJU2Eb",
        "colab_type": "code",
        "colab": {}
      },
      "source": [
        "#import libraries\n",
        "import pandas as pd\n",
        "import numpy as np\n",
        "import matplotlib.pyplot as plt\n",
        "import seaborn as sns\n",
        "import re\n",
        "import datetime\n",
        "\n",
        "from scipy.stats import chi2_contingency\n",
        "from scipy.stats import chi2\n",
        "\n",
        "from pyspark.sql import SparkSession\n",
        "from pyspark.sql.functions import avg, stddev,col, concat, desc, isnan, explode, lit, count, when, sort_array, asc, avg, min, max, split, udf, isnull, countDistinct, rand\n",
        "from pyspark.sql.functions import min as fmin\n",
        "from pyspark.sql.functions import max as fmax\n",
        "from pyspark.sql.types import IntegerType\n",
        "\n",
        "from pyspark.ml import Pipeline\n",
        "\n",
        "from pyspark.ml.classification import LogisticRegression, RandomForestClassifier, GBTClassifier, DecisionTreeClassifier, NaiveBayes\n",
        "from pyspark.ml.evaluation import MulticlassClassificationEvaluator\n",
        "from pyspark.ml.feature import CountVectorizer, IDF, Normalizer, PCA, RegexTokenizer, StandardScaler, StopWordsRemover, StringIndexer, VectorAssembler\n",
        "from pyspark.ml.regression import LinearRegression\n",
        "from pyspark.ml.feature import OneHotEncoder, StringIndexer\n",
        "from pyspark.ml.tuning import CrossValidator, ParamGridBuilder\n",
        "from pyspark.ml.classification import LogisticRegression\n",
        "from pyspark.sql import Row\n",
        "from pyspark.sql.functions import sum as Fsum\n",
        "from pyspark.sql.window import Window\n",
        "%matplotlib inline"
      ],
      "execution_count": null,
      "outputs": []
    },
    {
      "cell_type": "code",
      "metadata": {
        "id": "d4__gTqfU2Eo",
        "colab_type": "code",
        "colab": {}
      },
      "source": [
        "# Create a Spark Session\n",
        "spark = SparkSession \\\n",
        ".builder \\\n",
        ".appName('Sparkify') \\\n",
        ".getOrCreate()"
      ],
      "execution_count": null,
      "outputs": []
    },
    {
      "cell_type": "markdown",
      "metadata": {
        "id": "boCuKOapU2Et",
        "colab_type": "text"
      },
      "source": [
        "# Load and Clean Dataset\n",
        "In this workspace, the mini-dataset file is `mini_sparkify_event_data.json`. Load and clean the dataset, checking for invalid or missing data - for example, records without userids or sessionids. "
      ]
    },
    {
      "cell_type": "code",
      "metadata": {
        "id": "8sR_Li6oU2Eu",
        "colab_type": "code",
        "colab": {}
      },
      "source": [
        "# Load data and store it into a Spark dataframe\n",
        "path = \"mini_sparkify_event_data.json\"\n",
        "df = spark.read.json(path)"
      ],
      "execution_count": null,
      "outputs": []
    },
    {
      "cell_type": "code",
      "metadata": {
        "id": "UObEXGfRU2E1",
        "colab_type": "code",
        "colab": {},
        "outputId": "0f23e7fc-813b-422a-bed7-c991e9f9b0d3"
      },
      "source": [
        "# Structure of the dataframe\n",
        "df.printSchema()"
      ],
      "execution_count": null,
      "outputs": [
        {
          "output_type": "stream",
          "text": [
            "root\n",
            " |-- artist: string (nullable = true)\n",
            " |-- auth: string (nullable = true)\n",
            " |-- firstName: string (nullable = true)\n",
            " |-- gender: string (nullable = true)\n",
            " |-- itemInSession: long (nullable = true)\n",
            " |-- lastName: string (nullable = true)\n",
            " |-- length: double (nullable = true)\n",
            " |-- level: string (nullable = true)\n",
            " |-- location: string (nullable = true)\n",
            " |-- method: string (nullable = true)\n",
            " |-- page: string (nullable = true)\n",
            " |-- registration: long (nullable = true)\n",
            " |-- sessionId: long (nullable = true)\n",
            " |-- song: string (nullable = true)\n",
            " |-- status: long (nullable = true)\n",
            " |-- ts: long (nullable = true)\n",
            " |-- userAgent: string (nullable = true)\n",
            " |-- userId: string (nullable = true)\n",
            "\n"
          ],
          "name": "stdout"
        }
      ]
    },
    {
      "cell_type": "code",
      "metadata": {
        "id": "Azr4w831U2E_",
        "colab_type": "code",
        "colab": {},
        "outputId": "c84ba55d-e1f6-41b8-cade-3f9934b73495"
      },
      "source": [
        "# Print first line\n",
        "df = spark.read.json('mini_sparkify_event_data.json')\n",
        "df.show(1)"
      ],
      "execution_count": null,
      "outputs": [
        {
          "output_type": "stream",
          "text": [
            "+--------------+---------+---------+------+-------------+--------+---------+-----+---------------+------+--------+-------------+---------+---------+------+-------------+--------------------+------+\n",
            "|        artist|     auth|firstName|gender|itemInSession|lastName|   length|level|       location|method|    page| registration|sessionId|     song|status|           ts|           userAgent|userId|\n",
            "+--------------+---------+---------+------+-------------+--------+---------+-----+---------------+------+--------+-------------+---------+---------+------+-------------+--------------------+------+\n",
            "|Martha Tilston|Logged In|    Colin|     M|           50| Freeman|277.89016| paid|Bakersfield, CA|   PUT|NextSong|1538173362000|       29|Rockpools|   200|1538352117000|Mozilla/5.0 (Wind...|    30|\n",
            "+--------------+---------+---------+------+-------------+--------+---------+-----+---------------+------+--------+-------------+---------+---------+------+-------------+--------------------+------+\n",
            "only showing top 1 row\n",
            "\n"
          ],
          "name": "stdout"
        }
      ]
    },
    {
      "cell_type": "code",
      "metadata": {
        "id": "dWLFEFuzU2Fo",
        "colab_type": "code",
        "colab": {},
        "outputId": "e131860e-1555-4005-9306-75c612fcaa47"
      },
      "source": [
        "# Describe user ID\n",
        "df.count()"
      ],
      "execution_count": null,
      "outputs": [
        {
          "output_type": "execute_result",
          "data": {
            "text/plain": [
              "286500"
            ]
          },
          "metadata": {
            "tags": []
          },
          "execution_count": 6
        }
      ]
    },
    {
      "cell_type": "code",
      "metadata": {
        "id": "ivE-I-pZU2Fv",
        "colab_type": "code",
        "colab": {},
        "outputId": "7defe064-4110-41ee-fd12-8f4cdb9e5d3b"
      },
      "source": [
        "# Check userId null values\n",
        "df.filter(isnull(df['userId'])).count()"
      ],
      "execution_count": null,
      "outputs": [
        {
          "output_type": "execute_result",
          "data": {
            "text/plain": [
              "0"
            ]
          },
          "metadata": {
            "tags": []
          },
          "execution_count": 7
        }
      ]
    },
    {
      "cell_type": "code",
      "metadata": {
        "id": "weLvLGgWU2F0",
        "colab_type": "code",
        "colab": {},
        "outputId": "c0bb9386-37b8-446d-e405-a97593b9f9de"
      },
      "source": [
        "# Check sessionId null values\n",
        "df.filter(isnull(df['sessionId'])).count()"
      ],
      "execution_count": null,
      "outputs": [
        {
          "output_type": "execute_result",
          "data": {
            "text/plain": [
              "0"
            ]
          },
          "metadata": {
            "tags": []
          },
          "execution_count": 8
        }
      ]
    },
    {
      "cell_type": "code",
      "metadata": {
        "id": "46ZV3OlVU2F9",
        "colab_type": "code",
        "colab": {},
        "outputId": "a9ea7a98-6b4b-4b5b-9a6b-e497b0701573"
      },
      "source": [
        "# Check userId missing values\n",
        "df.filter(df['userId']=='').count()"
      ],
      "execution_count": null,
      "outputs": [
        {
          "output_type": "execute_result",
          "data": {
            "text/plain": [
              "8346"
            ]
          },
          "metadata": {
            "tags": []
          },
          "execution_count": 9
        }
      ]
    },
    {
      "cell_type": "code",
      "metadata": {
        "id": "L87oBzd_U2GB",
        "colab_type": "code",
        "colab": {},
        "outputId": "a1c3a437-9ba6-4e5f-eadd-938e11fe1320"
      },
      "source": [
        "# Check sessionId missing values\n",
        "df.filter(df['sessionId']=='').count()"
      ],
      "execution_count": null,
      "outputs": [
        {
          "output_type": "execute_result",
          "data": {
            "text/plain": [
              "0"
            ]
          },
          "metadata": {
            "tags": []
          },
          "execution_count": 10
        }
      ]
    },
    {
      "cell_type": "code",
      "metadata": {
        "id": "Pqoviv96U2GI",
        "colab_type": "code",
        "colab": {}
      },
      "source": [
        "# Remove userId with no values\n",
        "df_clean = df.filter(df['userId']!='')"
      ],
      "execution_count": null,
      "outputs": []
    },
    {
      "cell_type": "code",
      "metadata": {
        "id": "YxHNfwFYU2GP",
        "colab_type": "code",
        "colab": {},
        "outputId": "2783c0d9-5003-40db-f397-d6b5496a3dee"
      },
      "source": [
        "df_clean.take(1)"
      ],
      "execution_count": null,
      "outputs": [
        {
          "output_type": "execute_result",
          "data": {
            "text/plain": [
              "[Row(artist='Martha Tilston', auth='Logged In', firstName='Colin', gender='M', itemInSession=50, lastName='Freeman', length=277.89016, level='paid', location='Bakersfield, CA', method='PUT', page='NextSong', registration=1538173362000, sessionId=29, song='Rockpools', status=200, ts=1538352117000, userAgent='Mozilla/5.0 (Windows NT 6.1; WOW64; rv:31.0) Gecko/20100101 Firefox/31.0', userId='30')]"
            ]
          },
          "metadata": {
            "tags": []
          },
          "execution_count": 12
        }
      ]
    },
    {
      "cell_type": "markdown",
      "metadata": {
        "id": "csDnic4CU2GY",
        "colab_type": "text"
      },
      "source": [
        "# Exploratory Data Analysis\n",
        "When you're working with the full dataset, perform EDA by loading a small subset of the data and doing basic manipulations within Spark. In this workspace, you are already provided a small subset of data you can explore."
      ]
    },
    {
      "cell_type": "code",
      "metadata": {
        "id": "qDqHgGlSU2Gb",
        "colab_type": "code",
        "colab": {}
      },
      "source": [
        "# Sparksql\n",
        "# Create a temporary view to perform SQL operations\n",
        "df_clean.createOrReplaceTempView(\"Sparkify_clean\")"
      ],
      "execution_count": null,
      "outputs": []
    },
    {
      "cell_type": "code",
      "metadata": {
        "id": "E69kUvdvU2Gj",
        "colab_type": "code",
        "colab": {},
        "outputId": "794bca11-18e3-4ba1-f63e-a92b342fd64c"
      },
      "source": [
        "# Explore auth by user\n",
        "spark.sql('''\n",
        "        SELECT auth,COUNT(DISTINCT userId) AS distinct_users\n",
        "        FROM Sparkify_clean\n",
        "        GROUP BY auth\n",
        "        ORDER BY distinct_users DESC\n",
        "''').show()"
      ],
      "execution_count": null,
      "outputs": [
        {
          "output_type": "stream",
          "text": [
            "+---------+--------------+\n",
            "|     auth|distinct_users|\n",
            "+---------+--------------+\n",
            "|Logged In|           225|\n",
            "|Cancelled|            52|\n",
            "+---------+--------------+\n",
            "\n"
          ],
          "name": "stdout"
        }
      ]
    },
    {
      "cell_type": "code",
      "metadata": {
        "id": "yKq1-WfsU2Gv",
        "colab_type": "code",
        "colab": {},
        "outputId": "a9acb33c-81bf-4ca4-ac76-3d68ba5f2e59"
      },
      "source": [
        "# Explore Gender\n",
        "gender_count = spark.sql('''\n",
        "        SELECT gender,COUNT(DISTINCT userId) AS distinct_users\n",
        "        FROM Sparkify_clean\n",
        "        GROUP BY gender\n",
        "        ORDER BY distinct_users DESC\n",
        "''').show()"
      ],
      "execution_count": null,
      "outputs": [
        {
          "output_type": "stream",
          "text": [
            "+------+--------------+\n",
            "|gender|distinct_users|\n",
            "+------+--------------+\n",
            "|     M|           121|\n",
            "|     F|           104|\n",
            "+------+--------------+\n",
            "\n"
          ],
          "name": "stdout"
        }
      ]
    },
    {
      "cell_type": "code",
      "metadata": {
        "id": "F9F22z24U2G3",
        "colab_type": "code",
        "colab": {},
        "outputId": "b6f2676f-9200-4012-95f3-518d3d1fda8e"
      },
      "source": [
        "# Explore length distribution\n",
        "length = spark.sql('''\n",
        "        SELECT length\n",
        "        FROM Sparkify_clean\n",
        "''').toPandas()\n",
        "\n",
        "# Length Density viz\n",
        "sns.distplot(length.dropna())"
      ],
      "execution_count": null,
      "outputs": [
        {
          "output_type": "execute_result",
          "data": {
            "text/plain": [
              "<matplotlib.axes._subplots.AxesSubplot at 0x7f309c25d5c0>"
            ]
          },
          "metadata": {
            "tags": []
          },
          "execution_count": 16
        },
        {
          "output_type": "display_data",
          "data": {
            "image/png": "[encoded data removed]",
            "text/plain": [
              "<matplotlib.figure.Figure at 0x7f30c53c4860>"
            ]
          },
          "metadata": {
            "tags": [],
            "needs_background": "light"
          }
        }
      ]
    },
    {
      "cell_type": "code",
      "metadata": {
        "id": "B6hez6dgU2G-",
        "colab_type": "code",
        "colab": {},
        "outputId": "2342ec66-573d-43e2-b5f9-c832413f010b"
      },
      "source": [
        "# Explore level type\n",
        "spark.sql('''\n",
        "        SELECT level,COUNT(DISTINCT userId) AS user_counts\n",
        "        FROM Sparkify_clean\n",
        "        GROUP BY level\n",
        "        ORDER BY user_counts DESC\n",
        "''').show()"
      ],
      "execution_count": null,
      "outputs": [
        {
          "output_type": "stream",
          "text": [
            "+-----+-----------+\n",
            "|level|user_counts|\n",
            "+-----+-----------+\n",
            "| free|        195|\n",
            "| paid|        165|\n",
            "+-----+-----------+\n",
            "\n"
          ],
          "name": "stdout"
        }
      ]
    },
    {
      "cell_type": "code",
      "metadata": {
        "id": "RDbIv4PkU2HG",
        "colab_type": "code",
        "colab": {},
        "outputId": "f789f224-d793-404d-8ecd-95f6b9b976b7"
      },
      "source": [
        "# Explore page by user\n",
        "spark.sql('''\n",
        "        SELECT page,COUNT(userId) AS user_counts\n",
        "        FROM Sparkify_clean\n",
        "        GROUP BY page\n",
        "        ORDER BY user_counts DESC\n",
        "''').show()"
      ],
      "execution_count": null,
      "outputs": [
        {
          "output_type": "stream",
          "text": [
            "+--------------------+-----------+\n",
            "|                page|user_counts|\n",
            "+--------------------+-----------+\n",
            "|            NextSong|     228108|\n",
            "|           Thumbs Up|      12551|\n",
            "|                Home|      10082|\n",
            "|     Add to Playlist|       6526|\n",
            "|          Add Friend|       4277|\n",
            "|         Roll Advert|       3933|\n",
            "|              Logout|       3226|\n",
            "|         Thumbs Down|       2546|\n",
            "|           Downgrade|       2055|\n",
            "|            Settings|       1514|\n",
            "|                Help|       1454|\n",
            "|             Upgrade|        499|\n",
            "|               About|        495|\n",
            "|       Save Settings|        310|\n",
            "|               Error|        252|\n",
            "|      Submit Upgrade|        159|\n",
            "|    Submit Downgrade|         63|\n",
            "|              Cancel|         52|\n",
            "|Cancellation Conf...|         52|\n",
            "+--------------------+-----------+\n",
            "\n"
          ],
          "name": "stdout"
        }
      ]
    },
    {
      "cell_type": "markdown",
      "metadata": {
        "id": "1ZCocIeLU2HS",
        "colab_type": "text"
      },
      "source": [
        "### Define Churn\n",
        "\n",
        "Once you've done some preliminary analysis, create a column `Churn` to use as the label for your model. I suggest using the `Cancellation Confirmation` events to define your churn, which happen for both paid and free users. As a bonus task, you can also look into the `Downgrade` events.\n"
      ]
    },
    {
      "cell_type": "code",
      "metadata": {
        "id": "OlBkVrOVU2HT",
        "colab_type": "code",
        "colab": {}
      },
      "source": [
        "# Add a new colum called time to see clearly the timestamp\n",
        "get_datetime = udf(lambda x: datetime.datetime.fromtimestamp(x / 1000.0).strftime(\"%Y-%m-%d %H:%M:%S\"))\n",
        "df_clean = df_clean.withColumn(\"datetime\", get_datetime(df_clean.ts))"
      ],
      "execution_count": null,
      "outputs": []
    },
    {
      "cell_type": "code",
      "metadata": {
        "id": "AAiuBus2U2Ha",
        "colab_type": "code",
        "colab": {},
        "outputId": "17cb9c8f-950f-4470-98b3-a6a37c2689bb"
      },
      "source": [
        "#next, let's take a look at the userId 100001\n",
        "df_clean.select(['datetime','userId','page','artist','song']).filter(df_clean['userId'] == 100001)\\\n",
        ".sort('datetime',ascending=False).show(20)"
      ],
      "execution_count": null,
      "outputs": [
        {
          "output_type": "stream",
          "text": [
            "+-------------------+------+--------------------+--------------------+--------------------+\n",
            "|           datetime|userId|                page|              artist|                song|\n",
            "+-------------------+------+--------------------+--------------------+--------------------+\n",
            "|2018-10-02 16:36:45|100001|Cancellation Conf...|                null|                null|\n",
            "|2018-10-02 16:34:34|100001|              Cancel|                null|                null|\n",
            "|2018-10-02 16:34:33|100001|         Roll Advert|                null|                null|\n",
            "|2018-10-02 16:33:52|100001|            NextSong|            Harmonia|       Sehr kosmisch|\n",
            "|2018-10-02 16:29:46|100001|                Home|                null|                null|\n",
            "|2018-10-02 16:29:19|100001|              Logout|                null|                null|\n",
            "|2018-10-02 16:29:18|100001|            NextSong|           Lady GaGa|           Alejandro|\n",
            "|2018-10-02 16:24:34|100001|            NextSong|Michael BublÃÂ© ...|Quando_ Quando_ Q...|\n",
            "|2018-10-02 16:19:54|100001|            NextSong|      Bebel Gilberto|     Samba Da Bencao|\n",
            "|2018-10-02 16:16:50|100001|                Help|                null|                null|\n",
            "|2018-10-02 16:16:24|100001|            NextSong|            Natiruts|Jamaica Roots II(...|\n",
            "|2018-10-02 16:13:59|100001|         Roll Advert|                null|                null|\n",
            "|2018-10-02 16:12:33|100001|            NextSong|Peter Bjorn And John|          Paris 2004|\n",
            "|2018-10-02 16:07:00|100001|            NextSong|         Sheryl Crow|     I Shall Believe|\n",
            "|2018-10-02 16:03:18|100001|            NextSong|            Sanalejo|             Amapola|\n",
            "|2018-10-02 16:00:21|100001|            NextSong|Sopor Aeternus & ...|    La Mort d'Arthur|\n",
            "|2018-10-02 15:50:27|100001|            NextSong|Beanfield feat. B...|Tides (C's Moveme...|\n",
            "|2018-10-02 15:42:36|100001|            NextSong|      Peter Frampton|  Most Of All (Live)|\n",
            "|2018-10-02 15:39:43|100001|            NextSong|        Matt Pond PA|     KC (LP Version)|\n",
            "|2018-10-02 15:33:45|100001|                Home|                null|                null|\n",
            "+-------------------+------+--------------------+--------------------+--------------------+\n",
            "only showing top 20 rows\n",
            "\n"
          ],
          "name": "stdout"
        }
      ]
    },
    {
      "cell_type": "code",
      "metadata": {
        "id": "aTedhkbqU2Hi",
        "colab_type": "code",
        "colab": {}
      },
      "source": [
        "# Create a churn column which will contain 1 if the user cancelled, 0 otherwise\n",
        "cancellation_event = udf(lambda x: 1 if x == \"Cancellation Confirmation\" else 0, IntegerType())\n",
        "\n",
        "df_clean = df_clean.withColumn(\"churn\", cancellation_event('page'))\n",
        "windowval = Window.partitionBy(\"userId\").rangeBetween(Window.unboundedPreceding, Window.unboundedFollowing)\n",
        "df_clean = df_clean.withColumn(\"churn\",Fsum(\"churn\").over(windowval))"
      ],
      "execution_count": null,
      "outputs": []
    },
    {
      "cell_type": "code",
      "metadata": {
        "id": "ibw5jXq2U2Hm",
        "colab_type": "code",
        "colab": {},
        "outputId": "c1e2c6e1-1933-4652-dca9-e85cda49026f"
      },
      "source": [
        "#let's reuse userId=100001 to confirm that the column Churn is indeed == 1 when the page event is 'Cancellation confirmation'\n",
        "df_clean.select(['datetime','userId','page','artist','song','churn']).filter(df_clean['userId'] == 100005)\\\n",
        ".sort('datetime',ascending=False).show(10)\n"
      ],
      "execution_count": null,
      "outputs": [
        {
          "output_type": "stream",
          "text": [
            "+-------------------+------+--------------------+---------------+--------------------+-----+\n",
            "|           datetime|userId|                page|         artist|                song|churn|\n",
            "+-------------------+------+--------------------+---------------+--------------------+-----+\n",
            "|2018-10-19 17:57:05|100005|Cancellation Conf...|           null|                null|    1|\n",
            "|2018-10-19 17:56:50|100005|              Cancel|           null|                null|    1|\n",
            "|2018-10-19 17:56:49|100005|            Settings|           null|                null|    1|\n",
            "|2018-10-19 17:56:43|100005|                Help|           null|                null|    1|\n",
            "|2018-10-19 17:56:40|100005|            NextSong|      Chris Rea|Driving Home For ...|    1|\n",
            "|2018-10-19 17:52:10|100005|            NextSong|    Gipsy Kings|         Trista Pena|    1|\n",
            "|2018-10-19 17:49:21|100005|            NextSong|  Flat Duo Jets|     My Life My Love|    1|\n",
            "|2018-10-19 17:42:56|100005|            NextSong|Jimmy Eat World|         Drugs Or Me|    1|\n",
            "|2018-10-19 17:40:04|100005|           Thumbs Up|           null|                null|    1|\n",
            "|2018-10-19 17:40:03|100005|            NextSong|      Cold Cave|The Laurels Of Er...|    1|\n",
            "+-------------------+------+--------------------+---------------+--------------------+-----+\n",
            "only showing top 10 rows\n",
            "\n"
          ],
          "name": "stdout"
        }
      ]
    },
    {
      "cell_type": "markdown",
      "metadata": {
        "id": "E3wBnjgCU2Hy",
        "colab_type": "text"
      },
      "source": [
        "### Explore Data\n",
        "Once you've defined churn, perform some exploratory data analysis to observe the behavior for users who stayed vs users who churned. You can start by exploring aggregates on these two groups of users, observing how much of a specific action they experienced per a certain time unit or number of songs played."
      ]
    },
    {
      "cell_type": "code",
      "metadata": {
        "id": "ewMV3YnPU2Hz",
        "colab_type": "code",
        "colab": {},
        "outputId": "fab24d09-f0a8-443b-867b-e1656880421c"
      },
      "source": [
        "# Print again the dataframe schema\n",
        "df_clean.printSchema()"
      ],
      "execution_count": null,
      "outputs": [
        {
          "output_type": "stream",
          "text": [
            "root\n",
            " |-- artist: string (nullable = true)\n",
            " |-- auth: string (nullable = true)\n",
            " |-- firstName: string (nullable = true)\n",
            " |-- gender: string (nullable = true)\n",
            " |-- itemInSession: long (nullable = true)\n",
            " |-- lastName: string (nullable = true)\n",
            " |-- length: double (nullable = true)\n",
            " |-- level: string (nullable = true)\n",
            " |-- location: string (nullable = true)\n",
            " |-- method: string (nullable = true)\n",
            " |-- page: string (nullable = true)\n",
            " |-- registration: long (nullable = true)\n",
            " |-- sessionId: long (nullable = true)\n",
            " |-- song: string (nullable = true)\n",
            " |-- status: long (nullable = true)\n",
            " |-- ts: long (nullable = true)\n",
            " |-- userAgent: string (nullable = true)\n",
            " |-- userId: string (nullable = true)\n",
            " |-- datetime: string (nullable = true)\n",
            " |-- churn: long (nullable = true)\n",
            "\n"
          ],
          "name": "stdout"
        }
      ]
    },
    {
      "cell_type": "code",
      "metadata": {
        "id": "oFDJZ4CgU2H9",
        "colab_type": "code",
        "colab": {},
        "outputId": "267da6a2-2b90-44a7-b0d9-ac4d02bf3fcc"
      },
      "source": [
        "print('number of distinct users in sparkify : {}'\\\n",
        "    .format(df_clean.select('userId').drop_duplicates().count()))"
      ],
      "execution_count": null,
      "outputs": [
        {
          "output_type": "stream",
          "text": [
            "number of distinct users in sparkify : 225\n"
          ],
          "name": "stdout"
        }
      ]
    },
    {
      "cell_type": "code",
      "metadata": {
        "id": "XTza5xpHU2IB",
        "colab_type": "code",
        "colab": {},
        "outputId": "2f70e244-74cf-428c-fb36-3c1bddc9198f"
      },
      "source": [
        "# Total amount of churned users\n",
        "print('total amount of churned users : {}'.format(df_clean.select('userId')\\\n",
        "                                            .where(df_clean.churn == 1).drop_duplicates().count()))"
      ],
      "execution_count": null,
      "outputs": [
        {
          "output_type": "stream",
          "text": [
            "total amount of churned users : 52\n"
          ],
          "name": "stdout"
        }
      ]
    },
    {
      "cell_type": "code",
      "metadata": {
        "id": "OfQ6YLPTU2ID",
        "colab_type": "code",
        "colab": {},
        "outputId": "be1aa116-2278-4994-99c4-0f78146a5d2c"
      },
      "source": [
        "print('percentage of churned users : {}%'\\\n",
        "      .format(round(100*(df_clean.select('userId').where(df_clean.churn == 1)\\\n",
        "                         .drop_duplicates().count())/df_clean.select('userId')\\\n",
        "                         .drop_duplicates().count())))"
      ],
      "execution_count": null,
      "outputs": [
        {
          "output_type": "stream",
          "text": [
            "percentage of churned users : 23%\n"
          ],
          "name": "stdout"
        }
      ]
    },
    {
      "cell_type": "code",
      "metadata": {
        "id": "_fAw_Vy_U2IH",
        "colab_type": "code",
        "colab": {},
        "outputId": "9d29c4dc-38e6-4c17-b9f2-107e49997c7f"
      },
      "source": [
        "# Get churn rates based on Gender\n",
        "pd_gender = df_clean.select(['userId','Churn','gender']).\\\n",
        "drop_duplicates([\"userId\",\"churn\",'gender']).groupby([\"churn\",\"gender\"]).count().toPandas()\n",
        "pd_gender"
      ],
      "execution_count": null,
      "outputs": [
        {
          "output_type": "execute_result",
          "data": {
            "text/html": [
              "<div>\n",
              "<style scoped>\n",
              "    .dataframe tbody tr th:only-of-type {\n",
              "        vertical-align: middle;\n",
              "    }\n",
              "\n",
              "    .dataframe tbody tr th {\n",
              "        vertical-align: top;\n",
              "    }\n",
              "\n",
              "    .dataframe thead th {\n",
              "        text-align: right;\n",
              "    }\n",
              "</style>\n",
              "<table border=\"1\" class=\"dataframe\">\n",
              "  <thead>\n",
              "    <tr style=\"text-align: right;\">\n",
              "      <th></th>\n",
              "      <th>churn</th>\n",
              "      <th>gender</th>\n",
              "      <th>count</th>\n",
              "    </tr>\n",
              "  </thead>\n",
              "  <tbody>\n",
              "    <tr>\n",
              "      <th>0</th>\n",
              "      <td>0</td>\n",
              "      <td>F</td>\n",
              "      <td>84</td>\n",
              "    </tr>\n",
              "    <tr>\n",
              "      <th>1</th>\n",
              "      <td>1</td>\n",
              "      <td>M</td>\n",
              "      <td>32</td>\n",
              "    </tr>\n",
              "    <tr>\n",
              "      <th>2</th>\n",
              "      <td>1</td>\n",
              "      <td>F</td>\n",
              "      <td>20</td>\n",
              "    </tr>\n",
              "    <tr>\n",
              "      <th>3</th>\n",
              "      <td>0</td>\n",
              "      <td>M</td>\n",
              "      <td>89</td>\n",
              "    </tr>\n",
              "  </tbody>\n",
              "</table>\n",
              "</div>"
            ],
            "text/plain": [
              "   churn gender  count\n",
              "0      0      F     84\n",
              "1      1      M     32\n",
              "2      1      F     20\n",
              "3      0      M     89"
            ]
          },
          "metadata": {
            "tags": []
          },
          "execution_count": 27
        }
      ]
    },
    {
      "cell_type": "code",
      "metadata": {
        "id": "0BnzdLaUU2IL",
        "colab_type": "code",
        "colab": {},
        "outputId": "4c6a75b8-9c93-4b50-b6ff-191c24fa4c2d"
      },
      "source": [
        "# Gender churn viz\n",
        "sns.barplot(x='churn',y='count',hue='gender',data=pd_gender)"
      ],
      "execution_count": null,
      "outputs": [
        {
          "output_type": "execute_result",
          "data": {
            "text/plain": [
              "<matplotlib.axes._subplots.AxesSubplot at 0x7f30996db208>"
            ]
          },
          "metadata": {
            "tags": []
          },
          "execution_count": 28
        },
        {
          "output_type": "display_data",
          "data": {
            "image/png": "[encoded data removed]",
            "text/plain": [
              "<matplotlib.figure.Figure at 0x7f309970fa20>"
            ]
          },
          "metadata": {
            "tags": [],
            "needs_background": "light"
          }
        }
      ]
    },
    {
      "cell_type": "code",
      "metadata": {
        "id": "yY801z5_U2IQ",
        "colab_type": "code",
        "colab": {},
        "outputId": "84b3a72c-7675-4aea-ed87-0c4c6c8bb811"
      },
      "source": [
        "# contingency table\n",
        "table = [[pd_gender.iat[1,2], pd_gender.iat[3,2],],[pd_gender.iat[2,2],pd_gender.iat[0,2]]]\n",
        "print(table)\n",
        "stat, p, dof, expected = chi2_contingency(table)\n",
        "print('dof=%d' % dof)\n",
        "print(expected)\n",
        "\n",
        "# interpret test-statistic\n",
        "prob = 0.95\n",
        "critical = chi2.ppf(prob, dof)\n",
        "print('probability=%.3f, critical=%.3f, stat=%.3f' % (prob, critical, stat))\n",
        "\n",
        "#If Statistic >= Critical Value: significant result, reject null hypothesis (H0), dependent.\n",
        "#If Statistic < Critical Value: not significant result, fail to reject null hypothesis (H0), independent.\n",
        "\n",
        "if abs(stat) >= critical:\n",
        "    print('Dependent (reject H0)')\n",
        "else:\n",
        "    print('Independent (fail to reject H0)')\n",
        "# interpret p-value\n",
        "alpha = 1.0 - prob\n",
        "print('significance=%.3f, p=%.3f' % (alpha, p))\n",
        "if p <= alpha:\n",
        "    print('Dependent (reject H0)')\n",
        "else:\n",
        "    print('Independent (fail to reject H0), gender seems to be not significant in determining churn or not')\n"
      ],
      "execution_count": null,
      "outputs": [
        {
          "output_type": "stream",
          "text": [
            "[[32, 89], [20, 84]]\n",
            "dof=1\n",
            "[[ 27.96444444  93.03555556]\n",
            " [ 24.03555556  79.96444444]]\n",
            "probability=0.950, critical=3.841, stat=1.258\n",
            "Independent (fail to reject H0)\n",
            "significance=0.050, p=0.262\n",
            "Independent (fail to reject H0), gender seems to be not significant in determining churn or not\n"
          ],
          "name": "stdout"
        }
      ]
    },
    {
      "cell_type": "code",
      "metadata": {
        "id": "jkM9ny6GU2Ic",
        "colab_type": "code",
        "colab": {}
      },
      "source": [
        "# Level churn\n",
        "pd_item = df_clean.select(['userId','churn','level']).\\\n",
        "drop_duplicates([\"userId\",\"churn\",'level']).groupby([\"churn\",\"level\"]).count().toPandas()"
      ],
      "execution_count": null,
      "outputs": []
    },
    {
      "cell_type": "code",
      "metadata": {
        "id": "JXAvXM61U2Ij",
        "colab_type": "code",
        "colab": {},
        "outputId": "548eb1d8-3994-4ac4-ed2e-fba8c8ce5ac2"
      },
      "source": [
        "pd_item"
      ],
      "execution_count": null,
      "outputs": [
        {
          "output_type": "execute_result",
          "data": {
            "text/html": [
              "<div>\n",
              "<style scoped>\n",
              "    .dataframe tbody tr th:only-of-type {\n",
              "        vertical-align: middle;\n",
              "    }\n",
              "\n",
              "    .dataframe tbody tr th {\n",
              "        vertical-align: top;\n",
              "    }\n",
              "\n",
              "    .dataframe thead th {\n",
              "        text-align: right;\n",
              "    }\n",
              "</style>\n",
              "<table border=\"1\" class=\"dataframe\">\n",
              "  <thead>\n",
              "    <tr style=\"text-align: right;\">\n",
              "      <th></th>\n",
              "      <th>churn</th>\n",
              "      <th>level</th>\n",
              "      <th>count</th>\n",
              "    </tr>\n",
              "  </thead>\n",
              "  <tbody>\n",
              "    <tr>\n",
              "      <th>0</th>\n",
              "      <td>1</td>\n",
              "      <td>paid</td>\n",
              "      <td>36</td>\n",
              "    </tr>\n",
              "    <tr>\n",
              "      <th>1</th>\n",
              "      <td>1</td>\n",
              "      <td>free</td>\n",
              "      <td>46</td>\n",
              "    </tr>\n",
              "    <tr>\n",
              "      <th>2</th>\n",
              "      <td>0</td>\n",
              "      <td>free</td>\n",
              "      <td>149</td>\n",
              "    </tr>\n",
              "    <tr>\n",
              "      <th>3</th>\n",
              "      <td>0</td>\n",
              "      <td>paid</td>\n",
              "      <td>129</td>\n",
              "    </tr>\n",
              "  </tbody>\n",
              "</table>\n",
              "</div>"
            ],
            "text/plain": [
              "   churn level  count\n",
              "0      1  paid     36\n",
              "1      1  free     46\n",
              "2      0  free    149\n",
              "3      0  paid    129"
            ]
          },
          "metadata": {
            "tags": []
          },
          "execution_count": 31
        }
      ]
    },
    {
      "cell_type": "code",
      "metadata": {
        "id": "HzoAIruJU2In",
        "colab_type": "code",
        "colab": {},
        "outputId": "6a25cb93-a1c4-468e-a70d-0c84afa23508"
      },
      "source": [
        "# Level churn viz\n",
        "sns.barplot(x='churn',y='count',hue='level',data=pd_item)"
      ],
      "execution_count": null,
      "outputs": [
        {
          "output_type": "execute_result",
          "data": {
            "text/plain": [
              "<matplotlib.axes._subplots.AxesSubplot at 0x7f30996502e8>"
            ]
          },
          "metadata": {
            "tags": []
          },
          "execution_count": 32
        },
        {
          "output_type": "display_data",
          "data": {
            "image/png": "[encoded data removed]",
            "text/plain": [
              "<matplotlib.figure.Figure at 0x7f30983c0320>"
            ]
          },
          "metadata": {
            "tags": [],
            "needs_background": "light"
          }
        }
      ]
    },
    {
      "cell_type": "code",
      "metadata": {
        "id": "wwAO8Np9U2I0",
        "colab_type": "code",
        "colab": {},
        "outputId": "82c52dfa-a545-4db9-e345-16a20e13ea15"
      },
      "source": [
        "# contingency table\n",
        "table = [[pd_item.iat[1,2], pd_item.iat[2,2],],[pd_item.iat[0,2],pd_item.iat[3,2]]]\n",
        "print(table)\n",
        "stat, p, dof, expected = chi2_contingency(table)\n",
        "print('dof=%d' % dof)\n",
        "print(expected)\n",
        "\n",
        "# interpret test-statistic\n",
        "prob = 0.95\n",
        "critical = chi2.ppf(prob, dof)\n",
        "print('probability=%.3f, critical=%.3f, stat=%.3f' % (prob, critical, stat))\n",
        "\n",
        "#If Statistic >= Critical Value: significant result, reject null hypothesis (H0), dependent.\n",
        "#If Statistic < Critical Value: not significant result, fail to reject null hypothesis (H0), independent.\n",
        "\n",
        "if abs(stat) >= critical:\n",
        "    print('Dependent (reject H0)')\n",
        "else:\n",
        "    print('Independent (fail to reject H0)')\n",
        "# interpret p-value\n",
        "alpha = 1.0 - prob\n",
        "print('significance=%.3f, p=%.3f' % (alpha, p))\n",
        "if p <= alpha:\n",
        "    print('Dependent (reject H0)')\n",
        "else:\n",
        "    print('Independent (fail to reject H0), item seems to be not significant in determining churn or not')\n"
      ],
      "execution_count": null,
      "outputs": [
        {
          "output_type": "stream",
          "text": [
            "[[46, 149], [36, 129]]\n",
            "dof=1\n",
            "[[  44.41666667  150.58333333]\n",
            " [  37.58333333  127.41666667]]\n",
            "probability=0.950, critical=3.841, stat=0.075\n",
            "Independent (fail to reject H0)\n",
            "significance=0.050, p=0.785\n",
            "Independent (fail to reject H0), item seems to be not significant in determining churn or not\n"
          ],
          "name": "stdout"
        }
      ]
    },
    {
      "cell_type": "code",
      "metadata": {
        "id": "rPj0x14eU2I4",
        "colab_type": "code",
        "colab": {},
        "outputId": "1ddd566c-5b8e-4382-a659-4891a6a3cd89"
      },
      "source": [
        "# Length churn stats\n",
        "df_clean.select([\"churn\", \"length\"]).groupby([\"churn\"]).agg(avg('length').alias('mean_length'), \n",
        "                                                                     stddev('length').alias('stdev_length'),\n",
        "                                                                    fmax('length').alias('max_length'),\n",
        "                                                                    fmin('length').alias('min_length')).show()"
      ],
      "execution_count": null,
      "outputs": [
        {
          "output_type": "stream",
          "text": [
            "+-----+------------------+------------------+----------+----------+\n",
            "|churn|       mean_length|      stdev_length|max_length|min_length|\n",
            "+-----+------------------+------------------+----------+----------+\n",
            "|    0|249.20913538880816|  98.6258830014688|3024.66567|   0.78322|\n",
            "|    1|248.63279564406218|102.38497717575477|3024.66567|   4.04853|\n",
            "+-----+------------------+------------------+----------+----------+\n",
            "\n"
          ],
          "name": "stdout"
        }
      ]
    },
    {
      "cell_type": "code",
      "metadata": {
        "id": "NZBoAu8aU2JB",
        "colab_type": "code",
        "colab": {}
      },
      "source": [
        "# Create two datasets; churned users vs.  active users\n",
        "churned = df_clean.select(['userId','page']).where(df_clean.churn == 1).groupby('page').agg(count(\"userId\")).toPandas()\n",
        "active = df_clean.select(['userId','page']).where(df_clean.churn == 0).groupby('page').agg(count(\"userId\")).toPandas()"
      ],
      "execution_count": null,
      "outputs": []
    },
    {
      "cell_type": "code",
      "metadata": {
        "id": "qgrnS3OhU2JH",
        "colab_type": "code",
        "colab": {},
        "outputId": "eb893061-2cd3-4c56-c2a1-7f182968b013"
      },
      "source": [
        "active['churned'] = 'No'\n",
        "active['%'] = round(100*active['count(userId)']/np.sum(active['count(userId)']),1)\n",
        "active = active.drop(labels=['count(userId)'],axis=1)\n",
        "active"
      ],
      "execution_count": null,
      "outputs": [
        {
          "output_type": "execute_result",
          "data": {
            "text/html": [
              "<div>\n",
              "<style scoped>\n",
              "    .dataframe tbody tr th:only-of-type {\n",
              "        vertical-align: middle;\n",
              "    }\n",
              "\n",
              "    .dataframe tbody tr th {\n",
              "        vertical-align: top;\n",
              "    }\n",
              "\n",
              "    .dataframe thead th {\n",
              "        text-align: right;\n",
              "    }\n",
              "</style>\n",
              "<table border=\"1\" class=\"dataframe\">\n",
              "  <thead>\n",
              "    <tr style=\"text-align: right;\">\n",
              "      <th></th>\n",
              "      <th>page</th>\n",
              "      <th>churned</th>\n",
              "      <th>%</th>\n",
              "    </tr>\n",
              "  </thead>\n",
              "  <tbody>\n",
              "    <tr>\n",
              "      <th>0</th>\n",
              "      <td>Submit Downgrade</td>\n",
              "      <td>No</td>\n",
              "      <td>0.0</td>\n",
              "    </tr>\n",
              "    <tr>\n",
              "      <th>1</th>\n",
              "      <td>Thumbs Down</td>\n",
              "      <td>No</td>\n",
              "      <td>0.9</td>\n",
              "    </tr>\n",
              "    <tr>\n",
              "      <th>2</th>\n",
              "      <td>Home</td>\n",
              "      <td>No</td>\n",
              "      <td>3.6</td>\n",
              "    </tr>\n",
              "    <tr>\n",
              "      <th>3</th>\n",
              "      <td>Downgrade</td>\n",
              "      <td>No</td>\n",
              "      <td>0.7</td>\n",
              "    </tr>\n",
              "    <tr>\n",
              "      <th>4</th>\n",
              "      <td>Roll Advert</td>\n",
              "      <td>No</td>\n",
              "      <td>1.3</td>\n",
              "    </tr>\n",
              "    <tr>\n",
              "      <th>5</th>\n",
              "      <td>Logout</td>\n",
              "      <td>No</td>\n",
              "      <td>1.1</td>\n",
              "    </tr>\n",
              "    <tr>\n",
              "      <th>6</th>\n",
              "      <td>Save Settings</td>\n",
              "      <td>No</td>\n",
              "      <td>0.1</td>\n",
              "    </tr>\n",
              "    <tr>\n",
              "      <th>7</th>\n",
              "      <td>About</td>\n",
              "      <td>No</td>\n",
              "      <td>0.2</td>\n",
              "    </tr>\n",
              "    <tr>\n",
              "      <th>8</th>\n",
              "      <td>Settings</td>\n",
              "      <td>No</td>\n",
              "      <td>0.5</td>\n",
              "    </tr>\n",
              "    <tr>\n",
              "      <th>9</th>\n",
              "      <td>Add to Playlist</td>\n",
              "      <td>No</td>\n",
              "      <td>2.4</td>\n",
              "    </tr>\n",
              "    <tr>\n",
              "      <th>10</th>\n",
              "      <td>Add Friend</td>\n",
              "      <td>No</td>\n",
              "      <td>1.6</td>\n",
              "    </tr>\n",
              "    <tr>\n",
              "      <th>11</th>\n",
              "      <td>NextSong</td>\n",
              "      <td>No</td>\n",
              "      <td>82.2</td>\n",
              "    </tr>\n",
              "    <tr>\n",
              "      <th>12</th>\n",
              "      <td>Thumbs Up</td>\n",
              "      <td>No</td>\n",
              "      <td>4.6</td>\n",
              "    </tr>\n",
              "    <tr>\n",
              "      <th>13</th>\n",
              "      <td>Help</td>\n",
              "      <td>No</td>\n",
              "      <td>0.5</td>\n",
              "    </tr>\n",
              "    <tr>\n",
              "      <th>14</th>\n",
              "      <td>Upgrade</td>\n",
              "      <td>No</td>\n",
              "      <td>0.2</td>\n",
              "    </tr>\n",
              "    <tr>\n",
              "      <th>15</th>\n",
              "      <td>Error</td>\n",
              "      <td>No</td>\n",
              "      <td>0.1</td>\n",
              "    </tr>\n",
              "    <tr>\n",
              "      <th>16</th>\n",
              "      <td>Submit Upgrade</td>\n",
              "      <td>No</td>\n",
              "      <td>0.1</td>\n",
              "    </tr>\n",
              "  </tbody>\n",
              "</table>\n",
              "</div>"
            ],
            "text/plain": [
              "                page churned     %\n",
              "0   Submit Downgrade      No   0.0\n",
              "1        Thumbs Down      No   0.9\n",
              "2               Home      No   3.6\n",
              "3          Downgrade      No   0.7\n",
              "4        Roll Advert      No   1.3\n",
              "5             Logout      No   1.1\n",
              "6      Save Settings      No   0.1\n",
              "7              About      No   0.2\n",
              "8           Settings      No   0.5\n",
              "9    Add to Playlist      No   2.4\n",
              "10        Add Friend      No   1.6\n",
              "11          NextSong      No  82.2\n",
              "12         Thumbs Up      No   4.6\n",
              "13              Help      No   0.5\n",
              "14           Upgrade      No   0.2\n",
              "15             Error      No   0.1\n",
              "16    Submit Upgrade      No   0.1"
            ]
          },
          "metadata": {
            "tags": []
          },
          "execution_count": 36
        }
      ]
    },
    {
      "cell_type": "code",
      "metadata": {
        "id": "7l6n-A7aU2JN",
        "colab_type": "code",
        "colab": {},
        "outputId": "0c6413b6-1a62-4de3-a48b-721a363244c9"
      },
      "source": [
        "churned['churned'] = 'Yes'\n",
        "churned['%'] = round(100*churned['count(userId)']/np.sum(churned['count(userId)']),1)\n",
        "churned= churned.drop(labels=['count(userId)'],axis=1)\n",
        "churned"
      ],
      "execution_count": null,
      "outputs": [
        {
          "output_type": "execute_result",
          "data": {
            "text/html": [
              "<div>\n",
              "<style scoped>\n",
              "    .dataframe tbody tr th:only-of-type {\n",
              "        vertical-align: middle;\n",
              "    }\n",
              "\n",
              "    .dataframe tbody tr th {\n",
              "        vertical-align: top;\n",
              "    }\n",
              "\n",
              "    .dataframe thead th {\n",
              "        text-align: right;\n",
              "    }\n",
              "</style>\n",
              "<table border=\"1\" class=\"dataframe\">\n",
              "  <thead>\n",
              "    <tr style=\"text-align: right;\">\n",
              "      <th></th>\n",
              "      <th>page</th>\n",
              "      <th>churned</th>\n",
              "      <th>%</th>\n",
              "    </tr>\n",
              "  </thead>\n",
              "  <tbody>\n",
              "    <tr>\n",
              "      <th>0</th>\n",
              "      <td>Cancel</td>\n",
              "      <td>Yes</td>\n",
              "      <td>0.1</td>\n",
              "    </tr>\n",
              "    <tr>\n",
              "      <th>1</th>\n",
              "      <td>Submit Downgrade</td>\n",
              "      <td>Yes</td>\n",
              "      <td>0.0</td>\n",
              "    </tr>\n",
              "    <tr>\n",
              "      <th>2</th>\n",
              "      <td>Thumbs Down</td>\n",
              "      <td>Yes</td>\n",
              "      <td>1.1</td>\n",
              "    </tr>\n",
              "    <tr>\n",
              "      <th>3</th>\n",
              "      <td>Home</td>\n",
              "      <td>Yes</td>\n",
              "      <td>3.7</td>\n",
              "    </tr>\n",
              "    <tr>\n",
              "      <th>4</th>\n",
              "      <td>Downgrade</td>\n",
              "      <td>Yes</td>\n",
              "      <td>0.8</td>\n",
              "    </tr>\n",
              "    <tr>\n",
              "      <th>5</th>\n",
              "      <td>Roll Advert</td>\n",
              "      <td>Yes</td>\n",
              "      <td>2.2</td>\n",
              "    </tr>\n",
              "    <tr>\n",
              "      <th>6</th>\n",
              "      <td>Logout</td>\n",
              "      <td>Yes</td>\n",
              "      <td>1.2</td>\n",
              "    </tr>\n",
              "    <tr>\n",
              "      <th>7</th>\n",
              "      <td>Save Settings</td>\n",
              "      <td>Yes</td>\n",
              "      <td>0.1</td>\n",
              "    </tr>\n",
              "    <tr>\n",
              "      <th>8</th>\n",
              "      <td>Cancellation Confirmation</td>\n",
              "      <td>Yes</td>\n",
              "      <td>0.1</td>\n",
              "    </tr>\n",
              "    <tr>\n",
              "      <th>9</th>\n",
              "      <td>About</td>\n",
              "      <td>Yes</td>\n",
              "      <td>0.1</td>\n",
              "    </tr>\n",
              "    <tr>\n",
              "      <th>10</th>\n",
              "      <td>Settings</td>\n",
              "      <td>Yes</td>\n",
              "      <td>0.6</td>\n",
              "    </tr>\n",
              "    <tr>\n",
              "      <th>11</th>\n",
              "      <td>Add to Playlist</td>\n",
              "      <td>Yes</td>\n",
              "      <td>2.3</td>\n",
              "    </tr>\n",
              "    <tr>\n",
              "      <th>12</th>\n",
              "      <td>Add Friend</td>\n",
              "      <td>Yes</td>\n",
              "      <td>1.4</td>\n",
              "    </tr>\n",
              "    <tr>\n",
              "      <th>13</th>\n",
              "      <td>NextSong</td>\n",
              "      <td>Yes</td>\n",
              "      <td>81.1</td>\n",
              "    </tr>\n",
              "    <tr>\n",
              "      <th>14</th>\n",
              "      <td>Thumbs Up</td>\n",
              "      <td>Yes</td>\n",
              "      <td>4.1</td>\n",
              "    </tr>\n",
              "    <tr>\n",
              "      <th>15</th>\n",
              "      <td>Help</td>\n",
              "      <td>Yes</td>\n",
              "      <td>0.5</td>\n",
              "    </tr>\n",
              "    <tr>\n",
              "      <th>16</th>\n",
              "      <td>Upgrade</td>\n",
              "      <td>Yes</td>\n",
              "      <td>0.2</td>\n",
              "    </tr>\n",
              "    <tr>\n",
              "      <th>17</th>\n",
              "      <td>Error</td>\n",
              "      <td>Yes</td>\n",
              "      <td>0.1</td>\n",
              "    </tr>\n",
              "    <tr>\n",
              "      <th>18</th>\n",
              "      <td>Submit Upgrade</td>\n",
              "      <td>Yes</td>\n",
              "      <td>0.1</td>\n",
              "    </tr>\n",
              "  </tbody>\n",
              "</table>\n",
              "</div>"
            ],
            "text/plain": [
              "                         page churned     %\n",
              "0                      Cancel     Yes   0.1\n",
              "1            Submit Downgrade     Yes   0.0\n",
              "2                 Thumbs Down     Yes   1.1\n",
              "3                        Home     Yes   3.7\n",
              "4                   Downgrade     Yes   0.8\n",
              "5                 Roll Advert     Yes   2.2\n",
              "6                      Logout     Yes   1.2\n",
              "7               Save Settings     Yes   0.1\n",
              "8   Cancellation Confirmation     Yes   0.1\n",
              "9                       About     Yes   0.1\n",
              "10                   Settings     Yes   0.6\n",
              "11            Add to Playlist     Yes   2.3\n",
              "12                 Add Friend     Yes   1.4\n",
              "13                   NextSong     Yes  81.1\n",
              "14                  Thumbs Up     Yes   4.1\n",
              "15                       Help     Yes   0.5\n",
              "16                    Upgrade     Yes   0.2\n",
              "17                      Error     Yes   0.1\n",
              "18             Submit Upgrade     Yes   0.1"
            ]
          },
          "metadata": {
            "tags": []
          },
          "execution_count": 37
        }
      ]
    },
    {
      "cell_type": "code",
      "metadata": {
        "id": "ROIkHq6nU2Ja",
        "colab_type": "code",
        "colab": {}
      },
      "source": [
        "users = pd.concat([churned,active],sort=False)"
      ],
      "execution_count": null,
      "outputs": []
    },
    {
      "cell_type": "code",
      "metadata": {
        "id": "GsBGuPx-U2Jf",
        "colab_type": "code",
        "colab": {},
        "outputId": "c3675137-2795-40e6-adf2-05fdd98b288b"
      },
      "source": [
        "users"
      ],
      "execution_count": null,
      "outputs": [
        {
          "output_type": "execute_result",
          "data": {
            "text/html": [
              "<div>\n",
              "<style scoped>\n",
              "    .dataframe tbody tr th:only-of-type {\n",
              "        vertical-align: middle;\n",
              "    }\n",
              "\n",
              "    .dataframe tbody tr th {\n",
              "        vertical-align: top;\n",
              "    }\n",
              "\n",
              "    .dataframe thead th {\n",
              "        text-align: right;\n",
              "    }\n",
              "</style>\n",
              "<table border=\"1\" class=\"dataframe\">\n",
              "  <thead>\n",
              "    <tr style=\"text-align: right;\">\n",
              "      <th></th>\n",
              "      <th>page</th>\n",
              "      <th>churned</th>\n",
              "      <th>%</th>\n",
              "    </tr>\n",
              "  </thead>\n",
              "  <tbody>\n",
              "    <tr>\n",
              "      <th>0</th>\n",
              "      <td>Cancel</td>\n",
              "      <td>Yes</td>\n",
              "      <td>0.1</td>\n",
              "    </tr>\n",
              "    <tr>\n",
              "      <th>1</th>\n",
              "      <td>Submit Downgrade</td>\n",
              "      <td>Yes</td>\n",
              "      <td>0.0</td>\n",
              "    </tr>\n",
              "    <tr>\n",
              "      <th>2</th>\n",
              "      <td>Thumbs Down</td>\n",
              "      <td>Yes</td>\n",
              "      <td>1.1</td>\n",
              "    </tr>\n",
              "    <tr>\n",
              "      <th>3</th>\n",
              "      <td>Home</td>\n",
              "      <td>Yes</td>\n",
              "      <td>3.7</td>\n",
              "    </tr>\n",
              "    <tr>\n",
              "      <th>4</th>\n",
              "      <td>Downgrade</td>\n",
              "      <td>Yes</td>\n",
              "      <td>0.8</td>\n",
              "    </tr>\n",
              "    <tr>\n",
              "      <th>5</th>\n",
              "      <td>Roll Advert</td>\n",
              "      <td>Yes</td>\n",
              "      <td>2.2</td>\n",
              "    </tr>\n",
              "    <tr>\n",
              "      <th>6</th>\n",
              "      <td>Logout</td>\n",
              "      <td>Yes</td>\n",
              "      <td>1.2</td>\n",
              "    </tr>\n",
              "    <tr>\n",
              "      <th>7</th>\n",
              "      <td>Save Settings</td>\n",
              "      <td>Yes</td>\n",
              "      <td>0.1</td>\n",
              "    </tr>\n",
              "    <tr>\n",
              "      <th>8</th>\n",
              "      <td>Cancellation Confirmation</td>\n",
              "      <td>Yes</td>\n",
              "      <td>0.1</td>\n",
              "    </tr>\n",
              "    <tr>\n",
              "      <th>9</th>\n",
              "      <td>About</td>\n",
              "      <td>Yes</td>\n",
              "      <td>0.1</td>\n",
              "    </tr>\n",
              "    <tr>\n",
              "      <th>10</th>\n",
              "      <td>Settings</td>\n",
              "      <td>Yes</td>\n",
              "      <td>0.6</td>\n",
              "    </tr>\n",
              "    <tr>\n",
              "      <th>11</th>\n",
              "      <td>Add to Playlist</td>\n",
              "      <td>Yes</td>\n",
              "      <td>2.3</td>\n",
              "    </tr>\n",
              "    <tr>\n",
              "      <th>12</th>\n",
              "      <td>Add Friend</td>\n",
              "      <td>Yes</td>\n",
              "      <td>1.4</td>\n",
              "    </tr>\n",
              "    <tr>\n",
              "      <th>13</th>\n",
              "      <td>NextSong</td>\n",
              "      <td>Yes</td>\n",
              "      <td>81.1</td>\n",
              "    </tr>\n",
              "    <tr>\n",
              "      <th>14</th>\n",
              "      <td>Thumbs Up</td>\n",
              "      <td>Yes</td>\n",
              "      <td>4.1</td>\n",
              "    </tr>\n",
              "    <tr>\n",
              "      <th>15</th>\n",
              "      <td>Help</td>\n",
              "      <td>Yes</td>\n",
              "      <td>0.5</td>\n",
              "    </tr>\n",
              "    <tr>\n",
              "      <th>16</th>\n",
              "      <td>Upgrade</td>\n",
              "      <td>Yes</td>\n",
              "      <td>0.2</td>\n",
              "    </tr>\n",
              "    <tr>\n",
              "      <th>17</th>\n",
              "      <td>Error</td>\n",
              "      <td>Yes</td>\n",
              "      <td>0.1</td>\n",
              "    </tr>\n",
              "    <tr>\n",
              "      <th>18</th>\n",
              "      <td>Submit Upgrade</td>\n",
              "      <td>Yes</td>\n",
              "      <td>0.1</td>\n",
              "    </tr>\n",
              "    <tr>\n",
              "      <th>0</th>\n",
              "      <td>Submit Downgrade</td>\n",
              "      <td>No</td>\n",
              "      <td>0.0</td>\n",
              "    </tr>\n",
              "    <tr>\n",
              "      <th>1</th>\n",
              "      <td>Thumbs Down</td>\n",
              "      <td>No</td>\n",
              "      <td>0.9</td>\n",
              "    </tr>\n",
              "    <tr>\n",
              "      <th>2</th>\n",
              "      <td>Home</td>\n",
              "      <td>No</td>\n",
              "      <td>3.6</td>\n",
              "    </tr>\n",
              "    <tr>\n",
              "      <th>3</th>\n",
              "      <td>Downgrade</td>\n",
              "      <td>No</td>\n",
              "      <td>0.7</td>\n",
              "    </tr>\n",
              "    <tr>\n",
              "      <th>4</th>\n",
              "      <td>Roll Advert</td>\n",
              "      <td>No</td>\n",
              "      <td>1.3</td>\n",
              "    </tr>\n",
              "    <tr>\n",
              "      <th>5</th>\n",
              "      <td>Logout</td>\n",
              "      <td>No</td>\n",
              "      <td>1.1</td>\n",
              "    </tr>\n",
              "    <tr>\n",
              "      <th>6</th>\n",
              "      <td>Save Settings</td>\n",
              "      <td>No</td>\n",
              "      <td>0.1</td>\n",
              "    </tr>\n",
              "    <tr>\n",
              "      <th>7</th>\n",
              "      <td>About</td>\n",
              "      <td>No</td>\n",
              "      <td>0.2</td>\n",
              "    </tr>\n",
              "    <tr>\n",
              "      <th>8</th>\n",
              "      <td>Settings</td>\n",
              "      <td>No</td>\n",
              "      <td>0.5</td>\n",
              "    </tr>\n",
              "    <tr>\n",
              "      <th>9</th>\n",
              "      <td>Add to Playlist</td>\n",
              "      <td>No</td>\n",
              "      <td>2.4</td>\n",
              "    </tr>\n",
              "    <tr>\n",
              "      <th>10</th>\n",
              "      <td>Add Friend</td>\n",
              "      <td>No</td>\n",
              "      <td>1.6</td>\n",
              "    </tr>\n",
              "    <tr>\n",
              "      <th>11</th>\n",
              "      <td>NextSong</td>\n",
              "      <td>No</td>\n",
              "      <td>82.2</td>\n",
              "    </tr>\n",
              "    <tr>\n",
              "      <th>12</th>\n",
              "      <td>Thumbs Up</td>\n",
              "      <td>No</td>\n",
              "      <td>4.6</td>\n",
              "    </tr>\n",
              "    <tr>\n",
              "      <th>13</th>\n",
              "      <td>Help</td>\n",
              "      <td>No</td>\n",
              "      <td>0.5</td>\n",
              "    </tr>\n",
              "    <tr>\n",
              "      <th>14</th>\n",
              "      <td>Upgrade</td>\n",
              "      <td>No</td>\n",
              "      <td>0.2</td>\n",
              "    </tr>\n",
              "    <tr>\n",
              "      <th>15</th>\n",
              "      <td>Error</td>\n",
              "      <td>No</td>\n",
              "      <td>0.1</td>\n",
              "    </tr>\n",
              "    <tr>\n",
              "      <th>16</th>\n",
              "      <td>Submit Upgrade</td>\n",
              "      <td>No</td>\n",
              "      <td>0.1</td>\n",
              "    </tr>\n",
              "  </tbody>\n",
              "</table>\n",
              "</div>"
            ],
            "text/plain": [
              "                         page churned     %\n",
              "0                      Cancel     Yes   0.1\n",
              "1            Submit Downgrade     Yes   0.0\n",
              "2                 Thumbs Down     Yes   1.1\n",
              "3                        Home     Yes   3.7\n",
              "4                   Downgrade     Yes   0.8\n",
              "5                 Roll Advert     Yes   2.2\n",
              "6                      Logout     Yes   1.2\n",
              "7               Save Settings     Yes   0.1\n",
              "8   Cancellation Confirmation     Yes   0.1\n",
              "9                       About     Yes   0.1\n",
              "10                   Settings     Yes   0.6\n",
              "11            Add to Playlist     Yes   2.3\n",
              "12                 Add Friend     Yes   1.4\n",
              "13                   NextSong     Yes  81.1\n",
              "14                  Thumbs Up     Yes   4.1\n",
              "15                       Help     Yes   0.5\n",
              "16                    Upgrade     Yes   0.2\n",
              "17                      Error     Yes   0.1\n",
              "18             Submit Upgrade     Yes   0.1\n",
              "0            Submit Downgrade      No   0.0\n",
              "1                 Thumbs Down      No   0.9\n",
              "2                        Home      No   3.6\n",
              "3                   Downgrade      No   0.7\n",
              "4                 Roll Advert      No   1.3\n",
              "5                      Logout      No   1.1\n",
              "6               Save Settings      No   0.1\n",
              "7                       About      No   0.2\n",
              "8                    Settings      No   0.5\n",
              "9             Add to Playlist      No   2.4\n",
              "10                 Add Friend      No   1.6\n",
              "11                   NextSong      No  82.2\n",
              "12                  Thumbs Up      No   4.6\n",
              "13                       Help      No   0.5\n",
              "14                    Upgrade      No   0.2\n",
              "15                      Error      No   0.1\n",
              "16             Submit Upgrade      No   0.1"
            ]
          },
          "metadata": {
            "tags": []
          },
          "execution_count": 39
        }
      ]
    },
    {
      "cell_type": "code",
      "metadata": {
        "id": "aiO9CtOiU2Jt",
        "colab_type": "code",
        "colab": {},
        "outputId": "0f693751-b46b-4921-96c5-39b4560f38a6"
      },
      "source": [
        "fig=plt.figure(figsize=(15,10))\n",
        "sns.set(font_scale=1)\n",
        "snsbp = sns.barplot(data=users,x='%',y='page',capsize=0.2,hue='churned');\n",
        "snsbp.set_xticklabels(snsbp.get_xticklabels(), rotation=90,minor=True);"
      ],
      "execution_count": null,
      "outputs": [
        {
          "output_type": "display_data",
          "data": {
            "image/png": "[encoded data removed]",
            "text/plain": [
              "<matplotlib.figure.Figure at 0x7f3099633978>"
            ]
          },
          "metadata": {
            "tags": [],
            "needs_background": "light"
          }
        }
      ]
    },
    {
      "cell_type": "code",
      "metadata": {
        "id": "MCS6UBZZU2J-",
        "colab_type": "code",
        "colab": {}
      },
      "source": [
        "# Time dimensions churn (hours, weekday)\n",
        "get_hour = udf(lambda x: datetime.datetime.fromtimestamp(x / 1000.0).hour)\n",
        "get_weekday = udf(lambda x: datetime.datetime.fromtimestamp(x / 1000.0).strftime(\"%w\"))\n",
        "get_month = udf(lambda x: datetime.datetime.fromtimestamp(x / 1000.0).strftime(\"%m\"))\n",
        "\n",
        "df_clean = df_clean.withColumn(\"hour\", get_hour(df_clean.ts))\n",
        "df_clean = df_clean.withColumn(\"weekday\", get_weekday(df_clean.ts))\n",
        "df_clean = df_clean.withColumn(\"month\", get_month(df_clean.ts))"
      ],
      "execution_count": null,
      "outputs": []
    },
    {
      "cell_type": "code",
      "metadata": {
        "id": "37KUn-NjU2KD",
        "colab_type": "code",
        "colab": {},
        "outputId": "0f09f413-91f1-46d8-c279-d28230e6e8c2"
      },
      "source": [
        "df_clean.select(['userId','firstName','hour','weekday','month']).where(df_clean.userId == 10).show()"
      ],
      "execution_count": null,
      "outputs": [
        {
          "output_type": "stream",
          "text": [
            "+------+---------+----+-------+-----+\n",
            "|userId|firstName|hour|weekday|month|\n",
            "+------+---------+----+-------+-----+\n",
            "|    10|   Brycen|   2|      1|   10|\n",
            "|    10|   Brycen|   2|      1|   10|\n",
            "|    10|   Brycen|   2|      1|   10|\n",
            "|    10|   Brycen|   2|      1|   10|\n",
            "|    10|   Brycen|   2|      1|   10|\n",
            "|    10|   Brycen|   2|      1|   10|\n",
            "|    10|   Brycen|   2|      1|   10|\n",
            "|    10|   Brycen|   2|      1|   10|\n",
            "|    10|   Brycen|   2|      1|   10|\n",
            "|    10|   Brycen|   2|      1|   10|\n",
            "|    10|   Brycen|   2|      1|   10|\n",
            "|    10|   Brycen|   2|      1|   10|\n",
            "|    10|   Brycen|   2|      1|   10|\n",
            "|    10|   Brycen|   3|      1|   10|\n",
            "|    10|   Brycen|   3|      1|   10|\n",
            "|    10|   Brycen|   3|      1|   10|\n",
            "|    10|   Brycen|   3|      1|   10|\n",
            "|    10|   Brycen|   3|      1|   10|\n",
            "|    10|   Brycen|   3|      1|   10|\n",
            "|    10|   Brycen|   3|      1|   10|\n",
            "+------+---------+----+-------+-----+\n",
            "only showing top 20 rows\n",
            "\n"
          ],
          "name": "stdout"
        }
      ]
    },
    {
      "cell_type": "code",
      "metadata": {
        "id": "W4bJqgkRU2KH",
        "colab_type": "code",
        "colab": {}
      },
      "source": [
        ""
      ],
      "execution_count": null,
      "outputs": []
    },
    {
      "cell_type": "code",
      "metadata": {
        "id": "bC3ytTNcU2KU",
        "colab_type": "code",
        "colab": {}
      },
      "source": [
        ""
      ],
      "execution_count": null,
      "outputs": []
    },
    {
      "cell_type": "markdown",
      "metadata": {
        "id": "vrWZG3NRU2Kc",
        "colab_type": "text"
      },
      "source": [
        "# Feature Engineering\n",
        "Once you've familiarized yourself with the data, build out the features you find promising to train your model on. To work with the full dataset, you can follow the following steps.\n",
        "- Write a script to extract the necessary features from the smaller subset of data\n",
        "- Ensure that your script is scalable, using the best practices discussed in Lesson 3\n",
        "- Try your script on the full data set, debugging your script if necessary\n",
        "\n",
        "If you are working in the classroom workspace, you can just extract features based on the small subset of data contained here. Be sure to transfer over this work to the larger dataset when you work on your Spark cluster."
      ]
    },
    {
      "cell_type": "code",
      "metadata": {
        "id": "VayQ69slU2Kc",
        "colab_type": "code",
        "colab": {},
        "outputId": "76bc62da-32f2-48f8-8183-9984775bb5fd"
      },
      "source": [
        "# Make gender to binary\n",
        "gender_bin = df_clean.dropDuplicates(['userId']).sort('userId')\\\n",
        "    .select(['userId','gender']).replace(['F','M'], ['1', '0'], 'gender')\n",
        "gender_bin.withColumn('gender_bin', gender_bin.gender.cast(\"int\"))\n",
        "gender_bin.show(5)"
      ],
      "execution_count": null,
      "outputs": [
        {
          "output_type": "stream",
          "text": [
            "+------+------+\n",
            "|userId|gender|\n",
            "+------+------+\n",
            "|    10|     0|\n",
            "|   100|     0|\n",
            "|100001|     1|\n",
            "|100002|     1|\n",
            "|100003|     1|\n",
            "+------+------+\n",
            "only showing top 5 rows\n",
            "\n"
          ],
          "name": "stdout"
        }
      ]
    },
    {
      "cell_type": "code",
      "metadata": {
        "id": "qBuAry3ZU2Ks",
        "colab_type": "code",
        "colab": {},
        "outputId": "5a66f7a8-7a7e-428e-a772-b5eacf90296a"
      },
      "source": [
        "gender_bin.count()"
      ],
      "execution_count": null,
      "outputs": [
        {
          "output_type": "execute_result",
          "data": {
            "text/plain": [
              "225"
            ]
          },
          "metadata": {
            "tags": []
          },
          "execution_count": 44
        }
      ]
    },
    {
      "cell_type": "code",
      "metadata": {
        "id": "TNCBOeo5U2LN",
        "colab_type": "code",
        "colab": {},
        "outputId": "4f555733-b6f8-490c-bbe3-4c7ca189c84f"
      },
      "source": [
        "# Number of songs played\n",
        "songs = df_clean.where(df_clean.song!='null').groupby('userId')\\\n",
        "    .agg(count(df_clean.song).alias('SongsPlayed')).orderBy('userId')\\\n",
        "    .select(['userId','SongsPlayed'])\n",
        "songs.show(5)"
      ],
      "execution_count": null,
      "outputs": [
        {
          "output_type": "stream",
          "text": [
            "+------+-----------+\n",
            "|userId|SongsPlayed|\n",
            "+------+-----------+\n",
            "|    10|        673|\n",
            "|   100|       2682|\n",
            "|100001|        133|\n",
            "|100002|        195|\n",
            "|100003|         51|\n",
            "+------+-----------+\n",
            "only showing top 5 rows\n",
            "\n"
          ],
          "name": "stdout"
        }
      ]
    },
    {
      "cell_type": "code",
      "metadata": {
        "id": "qKeJZyUoU2Lh",
        "colab_type": "code",
        "colab": {},
        "outputId": "96db10cd-f30b-4011-ee61-83126c217c07"
      },
      "source": [
        "songs.count()"
      ],
      "execution_count": null,
      "outputs": [
        {
          "output_type": "execute_result",
          "data": {
            "text/plain": [
              "225"
            ]
          },
          "metadata": {
            "tags": []
          },
          "execution_count": 46
        }
      ]
    },
    {
      "cell_type": "code",
      "metadata": {
        "id": "0ZWSNeqLU2Lq",
        "colab_type": "code",
        "colab": {},
        "outputId": "5b51f2d2-d1ea-4de1-dd45-9f4c380a0f40"
      },
      "source": [
        "# Number of roll advertisement\n",
        "ads = df_clean.where(df_clean.page=='Roll Advert') \\\n",
        "    .groupby(['userId']).agg(count(col('page')).alias('Roll Advert'))\\\n",
        "    .orderBy('userId').select(['userId','Roll Advert'])\n",
        "\n",
        "ads.show(5)"
      ],
      "execution_count": null,
      "outputs": [
        {
          "output_type": "stream",
          "text": [
            "+------+-----------+\n",
            "|userId|Roll Advert|\n",
            "+------+-----------+\n",
            "|    10|          1|\n",
            "|   100|         25|\n",
            "|100001|         14|\n",
            "|100002|          3|\n",
            "|100003|          9|\n",
            "+------+-----------+\n",
            "only showing top 5 rows\n",
            "\n"
          ],
          "name": "stdout"
        }
      ]
    },
    {
      "cell_type": "code",
      "metadata": {
        "id": "M18q37nQU2Lw",
        "colab_type": "code",
        "colab": {},
        "outputId": "d853ff16-e2ce-41bb-bf32-9b722c9700cd"
      },
      "source": [
        "ads.count()"
      ],
      "execution_count": null,
      "outputs": [
        {
          "output_type": "execute_result",
          "data": {
            "text/plain": [
              "207"
            ]
          },
          "metadata": {
            "tags": []
          },
          "execution_count": 48
        }
      ]
    },
    {
      "cell_type": "code",
      "metadata": {
        "id": "-OXUAD-6U2L6",
        "colab_type": "code",
        "colab": {},
        "outputId": "60fff1d2-8f3d-4054-a2c6-7c613fe96a91"
      },
      "source": [
        "# Number of settings in pages\n",
        "settings = df_clean.where(df_clean.page=='Settings')\\\n",
        "    .groupby(['userId']).agg(count(col('page')).alias('Settings'))\\\n",
        "    .orderBy('userId').select(['userId','Settings'])\n",
        "\n",
        "settings.show(5)"
      ],
      "execution_count": null,
      "outputs": [
        {
          "output_type": "stream",
          "text": [
            "+------+--------+\n",
            "|userId|Settings|\n",
            "+------+--------+\n",
            "|    10|       7|\n",
            "|   100|      11|\n",
            "|100001|       1|\n",
            "|100004|      11|\n",
            "|100005|       2|\n",
            "+------+--------+\n",
            "only showing top 5 rows\n",
            "\n"
          ],
          "name": "stdout"
        }
      ]
    },
    {
      "cell_type": "code",
      "metadata": {
        "id": "BDpPYu3bU2MA",
        "colab_type": "code",
        "colab": {},
        "outputId": "e2475c93-29fe-4a73-9c37-107ce30c7ccd"
      },
      "source": [
        "settings.count()"
      ],
      "execution_count": null,
      "outputs": [
        {
          "output_type": "execute_result",
          "data": {
            "text/plain": [
              "195"
            ]
          },
          "metadata": {
            "tags": []
          },
          "execution_count": 50
        }
      ]
    },
    {
      "cell_type": "code",
      "metadata": {
        "id": "WFlWWxHRU2MO",
        "colab_type": "code",
        "colab": {},
        "outputId": "c51db138-1cd9-4fb4-ce59-a4368009128b"
      },
      "source": [
        "# Number of friends\n",
        "addfriend = df_clean.where(df_clean.page=='Add Friend')\\\n",
        "    .groupby(['userId']).agg(count(col('page')).alias('Add Friend'))\\\n",
        "    .orderBy('userId').select(['userId','Add Friend'])\n",
        "\n",
        "addfriend.show(5)"
      ],
      "execution_count": null,
      "outputs": [
        {
          "output_type": "stream",
          "text": [
            "+------+----------+\n",
            "|userId|Add Friend|\n",
            "+------+----------+\n",
            "|    10|        12|\n",
            "|   100|        49|\n",
            "|100001|         2|\n",
            "|100002|         1|\n",
            "|100004|        19|\n",
            "+------+----------+\n",
            "only showing top 5 rows\n",
            "\n"
          ],
          "name": "stdout"
        }
      ]
    },
    {
      "cell_type": "code",
      "metadata": {
        "id": "dnaSSZhnU2MY",
        "colab_type": "code",
        "colab": {},
        "outputId": "f783421b-3373-4bff-f2a9-b57da3f6a6c7"
      },
      "source": [
        "# Number of thumbs up and thumbs down\n",
        "thumbsup = df_clean.where(df_clean.page=='Thumbs Up')\\\n",
        "    .groupby(['userId']).agg(count(col('page')).alias('ThumbsUps'))\\\n",
        "    .orderBy('userId').select(['userId','ThumbsUps'])\n",
        "\n",
        "thumbsdown = df_clean.where(df_clean.page=='Thumbs Down')\\\n",
        "    .groupby(['userId']).agg(count(col('page')).alias('ThumbsDowns'))\\\n",
        "    .orderBy('userId').select(['userId','ThumbsDowns'])\n",
        "\n",
        "thumbsup.show(5)"
      ],
      "execution_count": null,
      "outputs": [
        {
          "output_type": "stream",
          "text": [
            "+------+---------+\n",
            "|userId|ThumbsUps|\n",
            "+------+---------+\n",
            "|    10|       37|\n",
            "|   100|      148|\n",
            "|100001|        8|\n",
            "|100002|        5|\n",
            "|100003|        3|\n",
            "+------+---------+\n",
            "only showing top 5 rows\n",
            "\n"
          ],
          "name": "stdout"
        }
      ]
    },
    {
      "cell_type": "code",
      "metadata": {
        "id": "lHPbBB5KU2Mi",
        "colab_type": "code",
        "colab": {},
        "outputId": "b23a0113-eaef-4902-ac4a-eac503684f8f"
      },
      "source": [
        "# Create final dataset\n",
        "feature_list = [gender_bin, songs, ads, settings, addfriend, thumbsup, thumbsdown]\n",
        "\n",
        "df = df_clean.dropDuplicates(['userId']).sort('userId').select(['userId','churn'])\n",
        "for feature in feature_list:\n",
        "    df = df.join(feature,'userId', how='left')\n",
        "\n",
        "df.na.fill(0).show()"
      ],
      "execution_count": null,
      "outputs": [
        {
          "output_type": "stream",
          "text": [
            "+------+-----+------+-----------+-----------+--------+----------+---------+-----------+\n",
            "|userId|churn|gender|SongsPlayed|Roll Advert|Settings|Add Friend|ThumbsUps|ThumbsDowns|\n",
            "+------+-----+------+-----------+-----------+--------+----------+---------+-----------+\n",
            "|100010|    0|     1|        275|         52|       0|         4|       17|          5|\n",
            "|200002|    0|     0|        387|          7|       3|         4|       21|          6|\n",
            "|   125|    1|     0|          8|          1|       0|         0|        0|          0|\n",
            "|   124|    0|     1|       4079|          4|      20|        74|      171|         41|\n",
            "|    51|    1|     0|       2111|          0|      12|        28|      100|         21|\n",
            "|     7|    0|     0|        150|         16|       3|         1|        7|          1|\n",
            "|    15|    0|     0|       1914|          1|      16|        31|       81|         14|\n",
            "|    54|    1|     1|       2841|         47|      17|        33|      163|         29|\n",
            "|   155|    0|     1|        820|          8|       5|        11|       58|          3|\n",
            "|100014|    1|     0|        257|          2|       1|         6|       17|          3|\n",
            "|   132|    0|     1|       1928|          2|      17|        41|       96|         17|\n",
            "|   154|    0|     1|         84|         10|       0|         3|       11|          0|\n",
            "|   101|    1|     0|       1797|          8|       9|        29|       86|         16|\n",
            "|    11|    0|     1|        647|         39|       6|         6|       40|          9|\n",
            "|   138|    0|     0|       2070|         17|      17|        41|       95|         24|\n",
            "|300017|    0|     1|       3632|         11|      23|        63|      303|         28|\n",
            "|100021|    1|     0|        230|         30|       0|         7|       11|          5|\n",
            "|    29|    1|     0|       3028|         22|      19|        47|      154|         22|\n",
            "|    69|    0|     1|       1125|          3|       3|        12|       72|          9|\n",
            "|   112|    0|     0|        215|         21|       4|         7|        9|          3|\n",
            "+------+-----+------+-----------+-----------+--------+----------+---------+-----------+\n",
            "only showing top 20 rows\n",
            "\n"
          ],
          "name": "stdout"
        }
      ]
    },
    {
      "cell_type": "code",
      "metadata": {
        "id": "amLTIzwnU2Mu",
        "colab_type": "code",
        "colab": {}
      },
      "source": [
        "for feature in df.columns[1:]:\n",
        "    df = df.withColumn(feature, df[feature].cast('float'))"
      ],
      "execution_count": null,
      "outputs": []
    },
    {
      "cell_type": "code",
      "metadata": {
        "id": "ESad9mk2U2M8",
        "colab_type": "code",
        "colab": {},
        "outputId": "e8906f1c-23c0-4d5e-d954-721fca1753d1"
      },
      "source": [
        "# This is the data we will use to train\n",
        "df.printSchema()"
      ],
      "execution_count": null,
      "outputs": [
        {
          "output_type": "stream",
          "text": [
            "root\n",
            " |-- userId: string (nullable = true)\n",
            " |-- churn: float (nullable = true)\n",
            " |-- gender: float (nullable = true)\n",
            " |-- SongsPlayed: float (nullable = true)\n",
            " |-- Roll Advert: float (nullable = true)\n",
            " |-- Settings: float (nullable = true)\n",
            " |-- Add Friend: float (nullable = true)\n",
            " |-- ThumbsUps: float (nullable = true)\n",
            " |-- ThumbsDowns: float (nullable = true)\n",
            "\n"
          ],
          "name": "stdout"
        }
      ]
    },
    {
      "cell_type": "code",
      "metadata": {
        "id": "m-U4g2iLU2NH",
        "colab_type": "code",
        "colab": {},
        "outputId": "5478fe2a-4409-4963-fc1e-c87b28f93d5a"
      },
      "source": [
        "df.count()"
      ],
      "execution_count": null,
      "outputs": [
        {
          "output_type": "execute_result",
          "data": {
            "text/plain": [
              "225"
            ]
          },
          "metadata": {
            "tags": []
          },
          "execution_count": 56
        }
      ]
    },
    {
      "cell_type": "markdown",
      "metadata": {
        "id": "87qdMRxBU2NQ",
        "colab_type": "text"
      },
      "source": [
        "# Modeling\n",
        "Split the full dataset into train, test, and validation sets. Test out several of the machine learning methods you learned. Evaluate the accuracy of the various models, tuning parameters as necessary. Determine your winning model based on test accuracy and report results on the validation set. Since the churned users are a fairly small subset, I suggest using F1 score as the metric to optimize."
      ]
    },
    {
      "cell_type": "code",
      "metadata": {
        "id": "HS6l1oZ5U2NS",
        "colab_type": "code",
        "colab": {}
      },
      "source": [
        "def undersample(df): \n",
        "    '''\n",
        "    Implement undersample on dataset, return a balanced dataset.\n",
        "    '''    \n",
        "    # size of minority class(0)\n",
        "    minoritySize = df.where(df.churn == '1').count()\n",
        "    \n",
        "    # two classes with the same size\n",
        "    df_min = df.where(df.churn == '1')\n",
        "    df_max = df.where(df.churn == '0').sample(1.0, seed=7).limit(minoritySize)\n",
        "    \n",
        "    # concatenate them together\n",
        "    result = df_min.union(df_max)\n",
        "    \n",
        "    #shuffle data\n",
        "    result = result.orderBy(rand())\n",
        "    return result"
      ],
      "execution_count": null,
      "outputs": []
    },
    {
      "cell_type": "markdown",
      "metadata": {
        "id": "Zwr56J9oU2Nd",
        "colab_type": "text"
      },
      "source": [
        "# Train, test\n",
        "train, val = df.randomSplit([0.80, 0.20], seed=5)\n",
        "print(\"Training set churn count: \" + str(train.filter(train.churn==1).count()))\n",
        "print(\"Test set churn count: \" + str(val.filter(val.churn==1).count()))"
      ]
    },
    {
      "cell_type": "code",
      "metadata": {
        "id": "cGpqjXiuU2Nf",
        "colab_type": "code",
        "colab": {}
      },
      "source": [
        "#Towards the beginning, it was established that this set is imbalanced \n",
        "#and that would create a problem (expecting high \"artificial\" accuracy in the predictions); \n",
        "#using more training data for validation set is not an option. \n",
        "#One way to metigate the imbalanced data set problem is by using the .sampleBy() function in PySpark. \n",
        "#This function returns a stratified sample without replacement; it is perfect for this occasion."
      ],
      "execution_count": null,
      "outputs": []
    },
    {
      "cell_type": "code",
      "metadata": {
        "id": "N6nJabb1U2No",
        "colab_type": "code",
        "colab": {}
      },
      "source": [
        "df_bal = undersample(df)"
      ],
      "execution_count": null,
      "outputs": []
    },
    {
      "cell_type": "code",
      "metadata": {
        "id": "5s3UeyhbU2Nw",
        "colab_type": "code",
        "colab": {}
      },
      "source": [
        "#check out\n",
        "df_bal.groupby(df_bal.churn).count().show()"
      ],
      "execution_count": null,
      "outputs": []
    },
    {
      "cell_type": "markdown",
      "metadata": {
        "id": "9DRZ_B95U2N0",
        "colab_type": "text"
      },
      "source": [
        "\n",
        "#Stratified sampling without replacement to create train and val sets\n",
        "\n",
        "# Check initial distributions of 0's and 1's\n",
        "df.groupBy(\"churn\").count().show()\n",
        "\n",
        "# Get 90% of both 0's and 50% of 1's into training set\n",
        "train = df.sampleBy(\"churn\", fractions={0: 0.90, 1: 0.50}, seed=7)\n",
        "\n",
        "# Get test set by subtracting the train set from original data set\n",
        "val = df.subtract(train)\n",
        "\n",
        "# Check distributions of 0's and 1's in train and test sets after the sampling\n",
        "print(\"Training set churn count: \" + str(train.filter(train.churn==1).count()))\n",
        "print(\"Test set churn count: \" + str(val.filter(val.churn==1).count()))"
      ]
    },
    {
      "cell_type": "code",
      "metadata": {
        "id": "JxD3uj5vU2N1",
        "colab_type": "code",
        "colab": {}
      },
      "source": [
        "#For this miniset (~120MB), it would be appropriate to build NNs to find the nonlinearities between the features, \n",
        "#but since this procedure is met for a larger set of 12Gb, we have chosen the logistric regresssion \n",
        "#classifier and random forest; these models are much faster to train and have relatively high F1 scores. \n",
        "#A metric much better suited for this type of problem; more on this in the model evaluation section."
      ],
      "execution_count": null,
      "outputs": []
    },
    {
      "cell_type": "code",
      "metadata": {
        "id": "1x_SxOfhU2N4",
        "colab_type": "code",
        "colab": {}
      },
      "source": [
        "#k-Fold Cross-Validation (of k =5) was used. \n",
        "#Cross-validation is a resampling procedure used to evaluate machine learning models\n",
        "#on a limited data sample (such as the miniset presented here); \n",
        "#for the bigger, 12Gb, set this might be over kill, please make sure to less k-folds. \n",
        "#The procedure has a single parameter called k that refers \n",
        "#to the number of groups that a given data sample is to be split into."
      ],
      "execution_count": null,
      "outputs": []
    },
    {
      "cell_type": "code",
      "metadata": {
        "id": "ABzsuemYU2OA",
        "colab_type": "code",
        "colab": {}
      },
      "source": [
        "# assemble and scale features for ML modeling\n",
        "assembler = VectorAssembler(inputCols= df.columns[2:], outputCol='all_features')\n",
        "scaler = StandardScaler(inputCol=\"all_features\", outputCol=\"features\", withStd=True)\n",
        "indexer = StringIndexer(inputCol=\"churn\", outputCol=\"label\")"
      ],
      "execution_count": null,
      "outputs": []
    },
    {
      "cell_type": "code",
      "metadata": {
        "id": "KZYKNY4MU2OD",
        "colab_type": "code",
        "colab": {}
      },
      "source": [
        "# Build Log Regression Classification Model\n",
        "\n",
        "# Initiate log regression model\n",
        "lr =  LogisticRegression(maxIter=10, regParam=0.0, elasticNetParam=0)\n",
        "\n",
        "# Make pipeline for lr\n",
        "pipeline_lr = Pipeline(stages=[assembler, \n",
        "                               scaler, \n",
        "                               indexer, \n",
        "                               lr\n",
        "                              ]\n",
        "                      )\n",
        "\n",
        "# Grid Search Params\n",
        "paramGrid_lr = ParamGridBuilder() \\\n",
        "    .addGrid(lr.regParam,[0.1, 1]) \\\n",
        "    .build()\n",
        "\n",
        "# Cross-validation\n",
        "cv_lr = CrossValidator(estimator=pipeline_lr,\n",
        "                             estimatorParamMaps=paramGrid_lr,\n",
        "                             evaluator=MulticlassClassificationEvaluator(),\n",
        "                             numFolds=3\n",
        "                            )"
      ],
      "execution_count": null,
      "outputs": []
    },
    {
      "cell_type": "code",
      "metadata": {
        "id": "rN3k3XxmU2OF",
        "colab_type": "code",
        "colab": {}
      },
      "source": [
        "# train log regression model\n",
        "model_lr = cv_lr.fit(train)"
      ],
      "execution_count": null,
      "outputs": []
    },
    {
      "cell_type": "code",
      "metadata": {
        "id": "k3MNenSuU2ON",
        "colab_type": "code",
        "colab": {}
      },
      "source": [
        "# Build Random Forest Classification Model\n",
        "\n",
        "# Initiate Random Forest model\n",
        "stringIndexer = StringIndexer(inputCol=\"label\", outputCol=\"indexed\")\n",
        "\n",
        "rf = RandomForestClassifier(maxDepth=2, labelCol=\"indexed\", seed=7)\n",
        "\n",
        "\n",
        "# build pipeline\n",
        "pipeline_rf = Pipeline(stages=[assembler, \n",
        "                               scaler, \n",
        "                               indexer, \n",
        "                               stringIndexer, \n",
        "                               rf\n",
        "                              ]\n",
        "                      )\n",
        "\n",
        "# build grid of params\n",
        "paramGrid_rf = ParamGridBuilder() \\\n",
        "    .addGrid(rf.numTrees,[25]) \\\n",
        "    .addGrid(rf.impurity,['entropy', 'gini']) \\\n",
        "    .build()\n",
        "\n",
        "# Cross validation specs\n",
        "cv_rf = CrossValidator(estimator=pipeline_rf,\n",
        "                       estimatorParamMaps=paramGrid_rf,\n",
        "                       evaluator=MulticlassClassificationEvaluator(),\n",
        "                       numFolds=5\n",
        "                      )"
      ],
      "execution_count": null,
      "outputs": []
    },
    {
      "cell_type": "code",
      "metadata": {
        "id": "j3a5YehlU2OR",
        "colab_type": "code",
        "colab": {}
      },
      "source": [
        "# Train random forest model\n",
        "model_rf = cv_rf.fit(train)"
      ],
      "execution_count": null,
      "outputs": []
    },
    {
      "cell_type": "code",
      "metadata": {
        "id": "HRbYtI5CU2OX",
        "colab_type": "code",
        "colab": {}
      },
      "source": [
        "def model_evaluation(model_name, model, test_data):\n",
        "    '''\n",
        "    Use to evaluate the models prediction with accuracy and f1 metrics   \n",
        "    \n",
        "    Arguments:\n",
        "        model_name = 'lr model' as a string\n",
        "        model: ml model\n",
        "        test_data: test data\n",
        "    Output:\n",
        "        \n",
        "       \n",
        "   \n",
        "    '''\n",
        "    preds = model.transform(test_data)\n",
        "    \n",
        "    acc_scorer = MulticlassClassificationEvaluator(metricName = 'accuracy')\n",
        "    f1_scorer = MulticlassClassificationEvaluator(metricName = 'f1')\n",
        "    evaluator = MulticlassClassificationEvaluator(predictionCol=\"prediction\")\n",
        "    \n",
        "    accuracy = evaluator.evaluate(preds, {evaluator.metricName: \"accuracy\"})\n",
        "    f1 = evaluator.evaluate(preds, {evaluator.metricName: \"f1\"})\n",
        "    \n",
        "    print('Scores for model:', model_name)\n",
        "    print('Accuracy:{}'.format(accuracy))\n",
        "    print('F-1 Score:{}'.format(f1))\n",
        "    \n",
        "    return accuracy, f1"
      ],
      "execution_count": null,
      "outputs": []
    },
    {
      "cell_type": "code",
      "metadata": {
        "id": "SymS9y_1U2Oa",
        "colab_type": "code",
        "colab": {}
      },
      "source": [
        "lr_accuracy, lr_f1 = model_evaluation('Logistic Regression Classification', model_lr, val)"
      ],
      "execution_count": null,
      "outputs": []
    },
    {
      "cell_type": "code",
      "metadata": {
        "id": "qPl1PWB6U2Oj",
        "colab_type": "code",
        "colab": {}
      },
      "source": [
        "rf_accuracy, rf_f1 = model_evaluation('Random Forest Classification', model_rf, val)"
      ],
      "execution_count": null,
      "outputs": []
    },
    {
      "cell_type": "markdown",
      "metadata": {
        "id": "WIc5Z7G-U2On",
        "colab_type": "text"
      },
      "source": [
        "# Final Steps\n",
        "Clean up your code, adding comments and renaming variables to make the code easier to read and maintain. Refer to the Spark Project Overview page and Data Scientist Capstone Project Rubric to make sure you are including all components of the capstone project and meet all expectations. Remember, this includes thorough documentation in a README file in a Github repository, as well as a web app or blog post."
      ]
    },
    {
      "cell_type": "code",
      "metadata": {
        "id": "cOFy1aj6U2Oo",
        "colab_type": "code",
        "colab": {}
      },
      "source": [
        ""
      ],
      "execution_count": null,
      "outputs": []
    }
  ]
}