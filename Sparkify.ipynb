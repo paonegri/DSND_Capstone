{
  "nbformat": 4,
  "nbformat_minor": 0,
  "metadata": {
    "kernelspec": {
      "display_name": "Python 3",
      "language": "python",
      "name": "python3"
    },
    "language_info": {
      "codemirror_mode": {
        "name": "ipython",
        "version": 3
      },
      "file_extension": ".py",
      "mimetype": "text/x-python",
      "name": "python",
      "nbconvert_exporter": "python",
      "pygments_lexer": "ipython3",
      "version": "3.6.3"
    },
    "colab": {
      "name": "Sparkify.ipynb",
      "provenance": [],
      "toc_visible": true
    }
  },
  "cells": [
    {
      "cell_type": "markdown",
      "metadata": {
        "id": "VJIsjDgYzz0z",
        "colab_type": "text"
      },
      "source": [
        "# Sparkify Project Workspace\n",
        "This workspace contains a tiny subset (128MB) of the full dataset available (12GB). Feel free to use this workspace to build your project, or to explore a smaller subset with Spark before deploying your cluster on the cloud. Instructions for setting up your Spark cluster is included in the last lesson of the Extracurricular Spark Course content.\n",
        "\n",
        "You can follow the steps below to guide your data analysis and model building portion of this project."
      ]
    },
    {
      "cell_type": "code",
      "metadata": {
        "id": "O4icIKXAzz02",
        "colab_type": "code",
        "colab": {}
      },
      "source": [
        "#import libraries\n",
        "import pandas as pd\n",
        "import numpy as np\n",
        "import matplotlib.pyplot as plt\n",
        "import seaborn as sns\n",
        "import re\n",
        "import datetime\n",
        "\n",
        "from scipy.stats import chi2_contingency\n",
        "from scipy.stats import chi2\n",
        "\n",
        "from pyspark.sql import SparkSession\n",
        "from pyspark.sql.functions import avg, stddev,col, concat, desc, isnan, explode, lit, count, when, sort_array, asc, avg, min, max, split, udf, isnull, countDistinct, rand\n",
        "from pyspark.sql.functions import min as fmin\n",
        "from pyspark.sql.functions import max as fmax\n",
        "from pyspark.sql.types import IntegerType\n",
        "from pyspark.sql.types import StringType\n",
        "\n",
        "from pyspark.ml import Pipeline\n",
        "\n",
        "from pyspark.ml.classification import LogisticRegression, RandomForestClassifier, GBTClassifier, DecisionTreeClassifier, NaiveBayes\n",
        "from pyspark.ml.evaluation import MulticlassClassificationEvaluator\n",
        "from pyspark.ml.feature import CountVectorizer, IDF, Normalizer, PCA, RegexTokenizer, StandardScaler, StopWordsRemover, StringIndexer, VectorAssembler\n",
        "from pyspark.ml.regression import LinearRegression\n",
        "from pyspark.ml.feature import OneHotEncoder, StringIndexer\n",
        "from pyspark.ml.tuning import CrossValidator, ParamGridBuilder\n",
        "from pyspark.ml.classification import LogisticRegression\n",
        "from pyspark.sql import Row\n",
        "from pyspark.sql.functions import sum as Fsum\n",
        "from pyspark.sql.window import Window\n",
        "%matplotlib inline\n"
      ],
      "execution_count": null,
      "outputs": []
    },
    {
      "cell_type": "code",
      "metadata": {
        "id": "ffwvTbRjzz0_",
        "colab_type": "code",
        "colab": {}
      },
      "source": [
        "# Create a Spark Session\n",
        "spark = SparkSession \\\n",
        ".builder \\\n",
        ".appName('Sparkify') \\\n",
        ".getOrCreate()"
      ],
      "execution_count": null,
      "outputs": []
    },
    {
      "cell_type": "markdown",
      "metadata": {
        "id": "5Q3rR5eBzz1E",
        "colab_type": "text"
      },
      "source": [
        "# Load and Clean Dataset\n",
        "In this workspace, the mini-dataset file is `mini_sparkify_event_data.json`. Load and clean the dataset, checking for invalid or missing data - for example, records without userids or sessionids. "
      ]
    },
    {
      "cell_type": "code",
      "metadata": {
        "id": "huusAr5zzz1F",
        "colab_type": "code",
        "colab": {}
      },
      "source": [
        "# Load data and store it into a Spark dataframe\n",
        "path = \"mini_sparkify_event_data.json\"\n",
        "df = spark.read.json(path)"
      ],
      "execution_count": null,
      "outputs": []
    },
    {
      "cell_type": "code",
      "metadata": {
        "id": "11mZXtoVzz1L",
        "colab_type": "code",
        "colab": {},
        "outputId": "9097f0b2-6219-4395-b812-29b1d104537b"
      },
      "source": [
        "# Structure of the dataframe\n",
        "df.printSchema()"
      ],
      "execution_count": null,
      "outputs": [
        {
          "output_type": "stream",
          "text": [
            "root\n",
            " |-- artist: string (nullable = true)\n",
            " |-- auth: string (nullable = true)\n",
            " |-- firstName: string (nullable = true)\n",
            " |-- gender: string (nullable = true)\n",
            " |-- itemInSession: long (nullable = true)\n",
            " |-- lastName: string (nullable = true)\n",
            " |-- length: double (nullable = true)\n",
            " |-- level: string (nullable = true)\n",
            " |-- location: string (nullable = true)\n",
            " |-- method: string (nullable = true)\n",
            " |-- page: string (nullable = true)\n",
            " |-- registration: long (nullable = true)\n",
            " |-- sessionId: long (nullable = true)\n",
            " |-- song: string (nullable = true)\n",
            " |-- status: long (nullable = true)\n",
            " |-- ts: long (nullable = true)\n",
            " |-- userAgent: string (nullable = true)\n",
            " |-- userId: string (nullable = true)\n",
            "\n"
          ],
          "name": "stdout"
        }
      ]
    },
    {
      "cell_type": "code",
      "metadata": {
        "id": "9J73_w3ozz1R",
        "colab_type": "code",
        "colab": {},
        "outputId": "ffa7e68e-c41a-4118-f3f4-0d45a0bfe609"
      },
      "source": [
        "# Print first line\n",
        "df = spark.read.json('mini_sparkify_event_data.json')\n",
        "df.show(1)"
      ],
      "execution_count": null,
      "outputs": [
        {
          "output_type": "stream",
          "text": [
            "+--------------+---------+---------+------+-------------+--------+---------+-----+---------------+------+--------+-------------+---------+---------+------+-------------+--------------------+------+\n",
            "|        artist|     auth|firstName|gender|itemInSession|lastName|   length|level|       location|method|    page| registration|sessionId|     song|status|           ts|           userAgent|userId|\n",
            "+--------------+---------+---------+------+-------------+--------+---------+-----+---------------+------+--------+-------------+---------+---------+------+-------------+--------------------+------+\n",
            "|Martha Tilston|Logged In|    Colin|     M|           50| Freeman|277.89016| paid|Bakersfield, CA|   PUT|NextSong|1538173362000|       29|Rockpools|   200|1538352117000|Mozilla/5.0 (Wind...|    30|\n",
            "+--------------+---------+---------+------+-------------+--------+---------+-----+---------------+------+--------+-------------+---------+---------+------+-------------+--------------------+------+\n",
            "only showing top 1 row\n",
            "\n"
          ],
          "name": "stdout"
        }
      ]
    },
    {
      "cell_type": "code",
      "metadata": {
        "id": "7aUR0Xwhzz1X",
        "colab_type": "code",
        "colab": {},
        "outputId": "2e67491c-a4db-47c2-fee2-aae65bdcf857"
      },
      "source": [
        "# Describe user ID\n",
        "df.count()"
      ],
      "execution_count": null,
      "outputs": [
        {
          "output_type": "execute_result",
          "data": {
            "text/plain": [
              "286500"
            ]
          },
          "metadata": {
            "tags": []
          },
          "execution_count": 6
        }
      ]
    },
    {
      "cell_type": "code",
      "metadata": {
        "id": "EcXFfsiczz1c",
        "colab_type": "code",
        "colab": {},
        "outputId": "114423f8-cb7d-496b-ff31-0e40b1fd26d3"
      },
      "source": [
        "# Check userId null values\n",
        "df.filter(isnull(df['userId'])).count()"
      ],
      "execution_count": null,
      "outputs": [
        {
          "output_type": "execute_result",
          "data": {
            "text/plain": [
              "0"
            ]
          },
          "metadata": {
            "tags": []
          },
          "execution_count": 7
        }
      ]
    },
    {
      "cell_type": "code",
      "metadata": {
        "id": "jLNbxTitzz1h",
        "colab_type": "code",
        "colab": {},
        "outputId": "1984876a-0284-40a3-d4b0-e212da927d01"
      },
      "source": [
        "# Check sessionId null values\n",
        "df.filter(isnull(df['sessionId'])).count()"
      ],
      "execution_count": null,
      "outputs": [
        {
          "output_type": "execute_result",
          "data": {
            "text/plain": [
              "0"
            ]
          },
          "metadata": {
            "tags": []
          },
          "execution_count": 8
        }
      ]
    },
    {
      "cell_type": "code",
      "metadata": {
        "id": "qdpypkdfzz1n",
        "colab_type": "code",
        "colab": {},
        "outputId": "98dbbb4e-21e0-4927-87ac-27bc93048371"
      },
      "source": [
        "# Check userId missing values\n",
        "df.filter(df['userId']=='').count()"
      ],
      "execution_count": null,
      "outputs": [
        {
          "output_type": "execute_result",
          "data": {
            "text/plain": [
              "8346"
            ]
          },
          "metadata": {
            "tags": []
          },
          "execution_count": 9
        }
      ]
    },
    {
      "cell_type": "code",
      "metadata": {
        "id": "DFMv4CUbzz1s",
        "colab_type": "code",
        "colab": {},
        "outputId": "bcdef5db-106c-4a69-fbc6-d937cf8c6f99"
      },
      "source": [
        "# Check sessionId missing values\n",
        "df.filter(df['sessionId']=='').count()"
      ],
      "execution_count": null,
      "outputs": [
        {
          "output_type": "execute_result",
          "data": {
            "text/plain": [
              "0"
            ]
          },
          "metadata": {
            "tags": []
          },
          "execution_count": 10
        }
      ]
    },
    {
      "cell_type": "code",
      "metadata": {
        "id": "z8Slm0jwzz1x",
        "colab_type": "code",
        "colab": {}
      },
      "source": [
        "# Remove userId with no values\n",
        "df_clean = df.filter(df['userId']!='')"
      ],
      "execution_count": null,
      "outputs": []
    },
    {
      "cell_type": "code",
      "metadata": {
        "id": "YMTcJCiszz13",
        "colab_type": "code",
        "colab": {},
        "outputId": "1c4ff450-7ba0-4eb5-c8f7-8c76bf8c7c26"
      },
      "source": [
        "df_clean.take(1)"
      ],
      "execution_count": null,
      "outputs": [
        {
          "output_type": "execute_result",
          "data": {
            "text/plain": [
              "[Row(artist='Martha Tilston', auth='Logged In', firstName='Colin', gender='M', itemInSession=50, lastName='Freeman', length=277.89016, level='paid', location='Bakersfield, CA', method='PUT', page='NextSong', registration=1538173362000, sessionId=29, song='Rockpools', status=200, ts=1538352117000, userAgent='Mozilla/5.0 (Windows NT 6.1; WOW64; rv:31.0) Gecko/20100101 Firefox/31.0', userId='30')]"
            ]
          },
          "metadata": {
            "tags": []
          },
          "execution_count": 12
        }
      ]
    },
    {
      "cell_type": "markdown",
      "metadata": {
        "id": "GU4vCpVvzz19",
        "colab_type": "text"
      },
      "source": [
        "# Exploratory Data Analysis\n",
        "When you're working with the full dataset, perform EDA by loading a small subset of the data and doing basic manipulations within Spark. In this workspace, you are already provided a small subset of data you can explore."
      ]
    },
    {
      "cell_type": "code",
      "metadata": {
        "id": "Im_3_itxzz1-",
        "colab_type": "code",
        "colab": {}
      },
      "source": [
        "# Sparksql\n",
        "# Create a temporary view to perform SQL operations\n",
        "df_clean.createOrReplaceTempView(\"Sparkify_clean\")"
      ],
      "execution_count": null,
      "outputs": []
    },
    {
      "cell_type": "code",
      "metadata": {
        "id": "ClCXzlDfzz2C",
        "colab_type": "code",
        "colab": {},
        "outputId": "07304a5b-baf8-4e6e-8f65-dc738cd68259"
      },
      "source": [
        "# Explore auth by user\n",
        "spark.sql('''\n",
        "        SELECT auth,COUNT(DISTINCT userId) AS distinct_users\n",
        "        FROM Sparkify_clean\n",
        "        GROUP BY auth\n",
        "        ORDER BY distinct_users DESC\n",
        "''').show()"
      ],
      "execution_count": null,
      "outputs": [
        {
          "output_type": "stream",
          "text": [
            "+---------+--------------+\n",
            "|     auth|distinct_users|\n",
            "+---------+--------------+\n",
            "|Logged In|           225|\n",
            "|Cancelled|            52|\n",
            "+---------+--------------+\n",
            "\n"
          ],
          "name": "stdout"
        }
      ]
    },
    {
      "cell_type": "code",
      "metadata": {
        "id": "zAktthYDzz2I",
        "colab_type": "code",
        "colab": {},
        "outputId": "0747b19f-fafa-494c-d932-6857ef27c0cd"
      },
      "source": [
        "# Explore Gender\n",
        "gender_count = spark.sql('''\n",
        "        SELECT gender,COUNT(DISTINCT userId) AS distinct_users\n",
        "        FROM Sparkify_clean\n",
        "        GROUP BY gender\n",
        "        ORDER BY distinct_users DESC\n",
        "''').show()"
      ],
      "execution_count": null,
      "outputs": [
        {
          "output_type": "stream",
          "text": [
            "+------+--------------+\n",
            "|gender|distinct_users|\n",
            "+------+--------------+\n",
            "|     M|           121|\n",
            "|     F|           104|\n",
            "+------+--------------+\n",
            "\n"
          ],
          "name": "stdout"
        }
      ]
    },
    {
      "cell_type": "code",
      "metadata": {
        "id": "Yn11L6ALzz2N",
        "colab_type": "code",
        "colab": {},
        "outputId": "a8c35620-f94e-42cf-d173-6aeaea7957d7"
      },
      "source": [
        "# Explore length distribution\n",
        "length = spark.sql('''\n",
        "        SELECT length\n",
        "        FROM Sparkify_clean\n",
        "''').toPandas()\n",
        "\n",
        "# Length Density viz\n",
        "sns.distplot(length.dropna())"
      ],
      "execution_count": null,
      "outputs": [
        {
          "output_type": "execute_result",
          "data": {
            "text/plain": [
              "<matplotlib.axes._subplots.AxesSubplot at 0x7ff9d932c358>"
            ]
          },
          "metadata": {
            "tags": []
          },
          "execution_count": 16
        },
        {
          "output_type": "display_data",
          "data": {
            "image/png": "[encoded data removed]",
            "text/plain": [
              "<matplotlib.figure.Figure at 0x7ffa0982d7f0>"
            ]
          },
          "metadata": {
            "tags": [],
            "needs_background": "light"
          }
        }
      ]
    },
    {
      "cell_type": "code",
      "metadata": {
        "id": "tcIhRpU3zz2R",
        "colab_type": "code",
        "colab": {},
        "outputId": "fd50c4e3-d662-4ab6-deb9-081edb941cd1"
      },
      "source": [
        "# Explore level type\n",
        "spark.sql('''\n",
        "        SELECT level,COUNT(DISTINCT userId) AS user_counts\n",
        "        FROM Sparkify_clean\n",
        "        GROUP BY level\n",
        "        ORDER BY user_counts DESC\n",
        "''').show()"
      ],
      "execution_count": null,
      "outputs": [
        {
          "output_type": "stream",
          "text": [
            "+-----+-----------+\n",
            "|level|user_counts|\n",
            "+-----+-----------+\n",
            "| free|        195|\n",
            "| paid|        165|\n",
            "+-----+-----------+\n",
            "\n"
          ],
          "name": "stdout"
        }
      ]
    },
    {
      "cell_type": "code",
      "metadata": {
        "id": "8dN1gxsJzz2X",
        "colab_type": "code",
        "colab": {},
        "outputId": "d3f4f2e2-5336-4e2e-b00a-e7098c5b9c6d"
      },
      "source": [
        "# Explore page by user\n",
        "spark.sql('''\n",
        "        SELECT page,COUNT(userId) AS user_counts\n",
        "        FROM Sparkify_clean\n",
        "        GROUP BY page\n",
        "        ORDER BY user_counts DESC\n",
        "''').show()"
      ],
      "execution_count": null,
      "outputs": [
        {
          "output_type": "stream",
          "text": [
            "+--------------------+-----------+\n",
            "|                page|user_counts|\n",
            "+--------------------+-----------+\n",
            "|            NextSong|     228108|\n",
            "|           Thumbs Up|      12551|\n",
            "|                Home|      10082|\n",
            "|     Add to Playlist|       6526|\n",
            "|          Add Friend|       4277|\n",
            "|         Roll Advert|       3933|\n",
            "|              Logout|       3226|\n",
            "|         Thumbs Down|       2546|\n",
            "|           Downgrade|       2055|\n",
            "|            Settings|       1514|\n",
            "|                Help|       1454|\n",
            "|             Upgrade|        499|\n",
            "|               About|        495|\n",
            "|       Save Settings|        310|\n",
            "|               Error|        252|\n",
            "|      Submit Upgrade|        159|\n",
            "|    Submit Downgrade|         63|\n",
            "|              Cancel|         52|\n",
            "|Cancellation Conf...|         52|\n",
            "+--------------------+-----------+\n",
            "\n"
          ],
          "name": "stdout"
        }
      ]
    },
    {
      "cell_type": "markdown",
      "metadata": {
        "id": "fAN6XZSmzz2c",
        "colab_type": "text"
      },
      "source": [
        "### Define Churn\n",
        "\n",
        "Once you've done some preliminary analysis, create a column `Churn` to use as the label for your model. I suggest using the `Cancellation Confirmation` events to define your churn, which happen for both paid and free users. As a bonus task, you can also look into the `Downgrade` events.\n"
      ]
    },
    {
      "cell_type": "code",
      "metadata": {
        "id": "a7WWT4_Jzz2c",
        "colab_type": "code",
        "colab": {}
      },
      "source": [
        "# Add a new colum called time to see clearly the timestamp\n",
        "get_datetime = udf(lambda x: datetime.datetime.fromtimestamp(x / 1000.0).strftime(\"%Y-%m-%d %H:%M:%S\"))\n",
        "df_clean = df_clean.withColumn(\"datetime\", get_datetime(df_clean.ts))"
      ],
      "execution_count": null,
      "outputs": []
    },
    {
      "cell_type": "code",
      "metadata": {
        "scrolled": true,
        "id": "9yj-KQ4szz2g",
        "colab_type": "code",
        "colab": {},
        "outputId": "b5e42c3f-1651-422f-f3b3-0544de6a5090"
      },
      "source": [
        "#next, let's take a look at the userId 100001\n",
        "df_clean.select(['datetime','userId','page','artist','song']).filter(df_clean['userId'] == 100001)\\\n",
        ".sort('datetime',ascending=False).show(20)"
      ],
      "execution_count": null,
      "outputs": [
        {
          "output_type": "stream",
          "text": [
            "+-------------------+------+--------------------+--------------------+--------------------+\n",
            "|           datetime|userId|                page|              artist|                song|\n",
            "+-------------------+------+--------------------+--------------------+--------------------+\n",
            "|2018-10-02 16:36:45|100001|Cancellation Conf...|                null|                null|\n",
            "|2018-10-02 16:34:34|100001|              Cancel|                null|                null|\n",
            "|2018-10-02 16:34:33|100001|         Roll Advert|                null|                null|\n",
            "|2018-10-02 16:33:52|100001|            NextSong|            Harmonia|       Sehr kosmisch|\n",
            "|2018-10-02 16:29:46|100001|                Home|                null|                null|\n",
            "|2018-10-02 16:29:19|100001|              Logout|                null|                null|\n",
            "|2018-10-02 16:29:18|100001|            NextSong|           Lady GaGa|           Alejandro|\n",
            "|2018-10-02 16:24:34|100001|            NextSong|Michael BublÃÂ© ...|Quando_ Quando_ Q...|\n",
            "|2018-10-02 16:19:54|100001|            NextSong|      Bebel Gilberto|     Samba Da Bencao|\n",
            "|2018-10-02 16:16:50|100001|                Help|                null|                null|\n",
            "|2018-10-02 16:16:24|100001|            NextSong|            Natiruts|Jamaica Roots II(...|\n",
            "|2018-10-02 16:13:59|100001|         Roll Advert|                null|                null|\n",
            "|2018-10-02 16:12:33|100001|            NextSong|Peter Bjorn And John|          Paris 2004|\n",
            "|2018-10-02 16:07:00|100001|            NextSong|         Sheryl Crow|     I Shall Believe|\n",
            "|2018-10-02 16:03:18|100001|            NextSong|            Sanalejo|             Amapola|\n",
            "|2018-10-02 16:00:21|100001|            NextSong|Sopor Aeternus & ...|    La Mort d'Arthur|\n",
            "|2018-10-02 15:50:27|100001|            NextSong|Beanfield feat. B...|Tides (C's Moveme...|\n",
            "|2018-10-02 15:42:36|100001|            NextSong|      Peter Frampton|  Most Of All (Live)|\n",
            "|2018-10-02 15:39:43|100001|            NextSong|        Matt Pond PA|     KC (LP Version)|\n",
            "|2018-10-02 15:33:45|100001|                Home|                null|                null|\n",
            "+-------------------+------+--------------------+--------------------+--------------------+\n",
            "only showing top 20 rows\n",
            "\n"
          ],
          "name": "stdout"
        }
      ]
    },
    {
      "cell_type": "code",
      "metadata": {
        "id": "1q0_s-v4zz2m",
        "colab_type": "code",
        "colab": {}
      },
      "source": [
        "# Create a churn column which will contain 1 if the user cancelled, 0 otherwise\n",
        "cancellation_event = udf(lambda x: 1 if x == \"Cancellation Confirmation\" else 0, IntegerType())\n",
        "\n",
        "df_clean = df_clean.withColumn(\"churn\", cancellation_event('page'))\n",
        "windowval = Window.partitionBy(\"userId\").rangeBetween(Window.unboundedPreceding, Window.unboundedFollowing)\n",
        "df_clean = df_clean.withColumn(\"churn\",Fsum(\"churn\").over(windowval))"
      ],
      "execution_count": null,
      "outputs": []
    },
    {
      "cell_type": "code",
      "metadata": {
        "id": "jAWM581nzz2r",
        "colab_type": "code",
        "colab": {},
        "outputId": "4d563976-bdce-4d1d-cbe1-d64f95c6dd19"
      },
      "source": [
        "# Use userId=100001 to confirm that the column Churn is indeed == 1 when the page event is 'Cancellation confirmation'\n",
        "df_clean.select(['datetime','userId','page','artist','song','churn']).filter(df_clean['userId'] == 100005)\\\n",
        ".sort('datetime',ascending=False).show(10)"
      ],
      "execution_count": null,
      "outputs": [
        {
          "output_type": "stream",
          "text": [
            "+-------------------+------+--------------------+---------------+--------------------+-----+\n",
            "|           datetime|userId|                page|         artist|                song|churn|\n",
            "+-------------------+------+--------------------+---------------+--------------------+-----+\n",
            "|2018-10-19 17:57:05|100005|Cancellation Conf...|           null|                null|    1|\n",
            "|2018-10-19 17:56:50|100005|              Cancel|           null|                null|    1|\n",
            "|2018-10-19 17:56:49|100005|            Settings|           null|                null|    1|\n",
            "|2018-10-19 17:56:43|100005|                Help|           null|                null|    1|\n",
            "|2018-10-19 17:56:40|100005|            NextSong|      Chris Rea|Driving Home For ...|    1|\n",
            "|2018-10-19 17:52:10|100005|            NextSong|    Gipsy Kings|         Trista Pena|    1|\n",
            "|2018-10-19 17:49:21|100005|            NextSong|  Flat Duo Jets|     My Life My Love|    1|\n",
            "|2018-10-19 17:42:56|100005|            NextSong|Jimmy Eat World|         Drugs Or Me|    1|\n",
            "|2018-10-19 17:40:04|100005|           Thumbs Up|           null|                null|    1|\n",
            "|2018-10-19 17:40:03|100005|            NextSong|      Cold Cave|The Laurels Of Er...|    1|\n",
            "+-------------------+------+--------------------+---------------+--------------------+-----+\n",
            "only showing top 10 rows\n",
            "\n"
          ],
          "name": "stdout"
        }
      ]
    },
    {
      "cell_type": "code",
      "metadata": {
        "id": "YFN10Bxmzz2w",
        "colab_type": "code",
        "colab": {}
      },
      "source": [
        "# Create a downgrade column which will contain 1 if the user downgrade, 0 otherwise\n",
        "downgrade_event = udf(lambda x: 1 if x == \"Downgrade\" else 0, IntegerType())\n",
        "\n",
        "df_clean = df_clean.withColumn(\"downgrade\", downgrade_event('page'))"
      ],
      "execution_count": null,
      "outputs": []
    },
    {
      "cell_type": "code",
      "metadata": {
        "id": "PsSi_aKSzz20",
        "colab_type": "code",
        "colab": {},
        "outputId": "a619cbc1-d9fa-485b-f0ad-602bbac1e4c3"
      },
      "source": [
        "# Use userId=100001 to confirm that the column Churn is indeed == 1 when the page event is 'Cancellation confirmation'\n",
        "df_clean.select(['datetime','userId','page','artist','song','downgrade']).filter(df_clean['userId'] == 73)\\\n",
        ".sort('datetime',ascending=False).show(10)"
      ],
      "execution_count": null,
      "outputs": [
        {
          "output_type": "stream",
          "text": [
            "+-------------------+------+--------------------+--------------------+--------------------+---------+\n",
            "|           datetime|userId|                page|              artist|                song|downgrade|\n",
            "+-------------------+------+--------------------+--------------------+--------------------+---------+\n",
            "|2018-10-24 17:33:07|    73|Cancellation Conf...|                null|                null|        0|\n",
            "|2018-10-24 17:32:19|    73|              Cancel|                null|                null|        0|\n",
            "|2018-10-24 17:32:18|    73|           Downgrade|                null|                null|        1|\n",
            "|2018-10-24 17:31:59|    73|            NextSong|       M.A. Numminen|         TULENLIEKKI|        0|\n",
            "|2018-10-24 17:27:36|    73|            NextSong|HÃÂ©roes del Sil...|      La Lluvia Gris|        0|\n",
            "|2018-10-24 17:23:59|    73|            NextSong|          Yellowcard|    Light Up The Sky|        0|\n",
            "|2018-10-24 17:21:16|    73|            NextSong|        Kenny Rogers|Christmas Is My F...|        0|\n",
            "|2018-10-24 17:13:51|    73|            NextSong|     Curtis Mayfield|Beautiful Brother...|        0|\n",
            "|2018-10-24 17:02:56|    73|            NextSong|            Harmonia|       Sehr kosmisch|        0|\n",
            "|2018-10-24 17:02:30|    73|                Home|                null|                null|        0|\n",
            "+-------------------+------+--------------------+--------------------+--------------------+---------+\n",
            "only showing top 10 rows\n",
            "\n"
          ],
          "name": "stdout"
        }
      ]
    },
    {
      "cell_type": "markdown",
      "metadata": {
        "id": "iw_kWRJIzz24",
        "colab_type": "text"
      },
      "source": [
        "### Explore Data\n",
        "Once you've defined churn, perform some exploratory data analysis to observe the behavior for users who stayed vs users who churned. You can start by exploring aggregates on these two groups of users, observing how much of a specific action they experienced per a certain time unit or number of songs played."
      ]
    },
    {
      "cell_type": "code",
      "metadata": {
        "id": "ZghblHvFzz25",
        "colab_type": "code",
        "colab": {},
        "outputId": "7add4c4d-29b2-4a55-a9df-052a9e612e66"
      },
      "source": [
        "# Print again the dataframe schema\n",
        "df_clean.printSchema()"
      ],
      "execution_count": null,
      "outputs": [
        {
          "output_type": "stream",
          "text": [
            "root\n",
            " |-- artist: string (nullable = true)\n",
            " |-- auth: string (nullable = true)\n",
            " |-- firstName: string (nullable = true)\n",
            " |-- gender: string (nullable = true)\n",
            " |-- itemInSession: long (nullable = true)\n",
            " |-- lastName: string (nullable = true)\n",
            " |-- length: double (nullable = true)\n",
            " |-- level: string (nullable = true)\n",
            " |-- location: string (nullable = true)\n",
            " |-- method: string (nullable = true)\n",
            " |-- page: string (nullable = true)\n",
            " |-- registration: long (nullable = true)\n",
            " |-- sessionId: long (nullable = true)\n",
            " |-- song: string (nullable = true)\n",
            " |-- status: long (nullable = true)\n",
            " |-- ts: long (nullable = true)\n",
            " |-- userAgent: string (nullable = true)\n",
            " |-- userId: string (nullable = true)\n",
            " |-- datetime: string (nullable = true)\n",
            " |-- churn: long (nullable = true)\n",
            " |-- downgrade: integer (nullable = true)\n",
            "\n"
          ],
          "name": "stdout"
        }
      ]
    },
    {
      "cell_type": "code",
      "metadata": {
        "id": "LGRdVXJHzz29",
        "colab_type": "code",
        "colab": {},
        "outputId": "c97f1b48-f045-4b5f-ffc1-30d735d36e49"
      },
      "source": [
        "print('number of distinct users in sparkify : {}'\\\n",
        "    .format(df_clean.select('userId').drop_duplicates().count()))"
      ],
      "execution_count": null,
      "outputs": [
        {
          "output_type": "stream",
          "text": [
            "number of distinct users in sparkify : 225\n"
          ],
          "name": "stdout"
        }
      ]
    },
    {
      "cell_type": "code",
      "metadata": {
        "id": "0kfO8NDkzz3B",
        "colab_type": "code",
        "colab": {},
        "outputId": "e6e79457-7d6b-453c-b464-6dbe3dcc491c"
      },
      "source": [
        "# Total amount of churned users\n",
        "print('total amount of churned users : {}'.format(df_clean.select('userId')\\\n",
        "                                            .where(df_clean.churn == 1).drop_duplicates().count()))"
      ],
      "execution_count": null,
      "outputs": [
        {
          "output_type": "stream",
          "text": [
            "total amount of churned users : 52\n"
          ],
          "name": "stdout"
        }
      ]
    },
    {
      "cell_type": "code",
      "metadata": {
        "id": "BKeqbm7Ezz3G",
        "colab_type": "code",
        "colab": {},
        "outputId": "cbcfd66b-f937-4dbf-b523-f6bd7b1d6ef8"
      },
      "source": [
        "print('percentage of churned users : {}%'\\\n",
        "      .format(round(100*(df_clean.select('userId').where(df_clean.churn == 1)\\\n",
        "                         .drop_duplicates().count())/df_clean.select('userId')\\\n",
        "                         .drop_duplicates().count())))"
      ],
      "execution_count": null,
      "outputs": [
        {
          "output_type": "stream",
          "text": [
            "percentage of churned users : 23%\n"
          ],
          "name": "stdout"
        }
      ]
    },
    {
      "cell_type": "code",
      "metadata": {
        "id": "PmnLPR55zz3S",
        "colab_type": "code",
        "colab": {},
        "outputId": "de8b2b8f-2eb8-42fc-e715-970038d7e6ea"
      },
      "source": [
        "# Get churn rates based on Gender\n",
        "pd_gender = df_clean.select(['userId','churn','gender']).\\\n",
        "drop_duplicates([\"userId\",\"churn\",'gender']).groupby([\"churn\",\"gender\"]).count().toPandas()\n",
        "pd_gender"
      ],
      "execution_count": null,
      "outputs": [
        {
          "output_type": "execute_result",
          "data": {
            "text/html": [
              "<div>\n",
              "<style scoped>\n",
              "    .dataframe tbody tr th:only-of-type {\n",
              "        vertical-align: middle;\n",
              "    }\n",
              "\n",
              "    .dataframe tbody tr th {\n",
              "        vertical-align: top;\n",
              "    }\n",
              "\n",
              "    .dataframe thead th {\n",
              "        text-align: right;\n",
              "    }\n",
              "</style>\n",
              "<table border=\"1\" class=\"dataframe\">\n",
              "  <thead>\n",
              "    <tr style=\"text-align: right;\">\n",
              "      <th></th>\n",
              "      <th>churn</th>\n",
              "      <th>gender</th>\n",
              "      <th>count</th>\n",
              "    </tr>\n",
              "  </thead>\n",
              "  <tbody>\n",
              "    <tr>\n",
              "      <th>0</th>\n",
              "      <td>0</td>\n",
              "      <td>F</td>\n",
              "      <td>84</td>\n",
              "    </tr>\n",
              "    <tr>\n",
              "      <th>1</th>\n",
              "      <td>1</td>\n",
              "      <td>M</td>\n",
              "      <td>32</td>\n",
              "    </tr>\n",
              "    <tr>\n",
              "      <th>2</th>\n",
              "      <td>1</td>\n",
              "      <td>F</td>\n",
              "      <td>20</td>\n",
              "    </tr>\n",
              "    <tr>\n",
              "      <th>3</th>\n",
              "      <td>0</td>\n",
              "      <td>M</td>\n",
              "      <td>89</td>\n",
              "    </tr>\n",
              "  </tbody>\n",
              "</table>\n",
              "</div>"
            ],
            "text/plain": [
              "   churn gender  count\n",
              "0      0      F     84\n",
              "1      1      M     32\n",
              "2      1      F     20\n",
              "3      0      M     89"
            ]
          },
          "metadata": {
            "tags": []
          },
          "execution_count": 29
        }
      ]
    },
    {
      "cell_type": "code",
      "metadata": {
        "id": "tOaFsUWxzz3W",
        "colab_type": "code",
        "colab": {},
        "outputId": "338faa81-2afd-473b-a4c2-b8ee8515e769"
      },
      "source": [
        "# Gender churn viz\n",
        "sns.barplot(x='churn',y='count',hue='gender',data=pd_gender)"
      ],
      "execution_count": null,
      "outputs": [
        {
          "output_type": "execute_result",
          "data": {
            "text/plain": [
              "<matplotlib.axes._subplots.AxesSubplot at 0x7ff9d92324e0>"
            ]
          },
          "metadata": {
            "tags": []
          },
          "execution_count": 30
        },
        {
          "output_type": "display_data",
          "data": {
            "image/png": "[encoded data removed]",
            "text/plain": [
              "<matplotlib.figure.Figure at 0x7ff9d144ec18>"
            ]
          },
          "metadata": {
            "tags": [],
            "needs_background": "light"
          }
        }
      ]
    },
    {
      "cell_type": "code",
      "metadata": {
        "id": "dcxYclt9zz3b",
        "colab_type": "code",
        "colab": {},
        "outputId": "45a83a23-59a2-49e0-d2d2-7f16530f2e9d"
      },
      "source": [
        "# contingency table\n",
        "table = [[pd_gender.iat[1,2], pd_gender.iat[3,2],],[pd_gender.iat[2,2],pd_gender.iat[0,2]]]\n",
        "print(table)\n",
        "stat, p, dof, expected = chi2_contingency(table)\n",
        "print('dof=%d' % dof)\n",
        "print(expected)\n",
        "\n",
        "# interpret test-statistic\n",
        "prob = 0.95\n",
        "critical = chi2.ppf(prob, dof)\n",
        "print('probability=%.3f, critical=%.3f, stat=%.3f' % (prob, critical, stat))\n",
        "\n",
        "#If Statistic >= Critical Value: significant result, reject null hypothesis (H0), dependent.\n",
        "#If Statistic < Critical Value: not significant result, fail to reject null hypothesis (H0), independent.\n",
        "\n",
        "if abs(stat) >= critical:\n",
        "    print('Dependent (reject H0)')\n",
        "else:\n",
        "    print('Independent (fail to reject H0)')\n",
        "# interpret p-value\n",
        "alpha = 1.0 - prob\n",
        "print('significance=%.3f, p=%.3f' % (alpha, p))\n",
        "if p <= alpha:\n",
        "    print('Dependent (reject H0)')\n",
        "else:\n",
        "    print('Independent (fail to reject H0), gender seems to be not significant in determining churn or not')\n"
      ],
      "execution_count": null,
      "outputs": [
        {
          "output_type": "stream",
          "text": [
            "[[32, 89], [20, 84]]\n",
            "dof=1\n",
            "[[ 27.96444444  93.03555556]\n",
            " [ 24.03555556  79.96444444]]\n",
            "probability=0.950, critical=3.841, stat=1.258\n",
            "Independent (fail to reject H0)\n",
            "significance=0.050, p=0.262\n",
            "Independent (fail to reject H0), gender seems to be not significant in determining churn or not\n"
          ],
          "name": "stdout"
        }
      ]
    },
    {
      "cell_type": "code",
      "metadata": {
        "id": "pT3gv1X2zz3g",
        "colab_type": "code",
        "colab": {}
      },
      "source": [
        "# Level churn\n",
        "pd_item = df_clean.select(['userId','churn','level']).\\\n",
        "drop_duplicates([\"userId\",\"churn\",'level']).groupby([\"churn\",\"level\"]).count().toPandas()"
      ],
      "execution_count": null,
      "outputs": []
    },
    {
      "cell_type": "code",
      "metadata": {
        "id": "NuTwHp-Czz3k",
        "colab_type": "code",
        "colab": {},
        "outputId": "79c1f7ba-8807-4ddf-e420-e12347ab8999"
      },
      "source": [
        "pd_item"
      ],
      "execution_count": null,
      "outputs": [
        {
          "output_type": "execute_result",
          "data": {
            "text/html": [
              "<div>\n",
              "<style scoped>\n",
              "    .dataframe tbody tr th:only-of-type {\n",
              "        vertical-align: middle;\n",
              "    }\n",
              "\n",
              "    .dataframe tbody tr th {\n",
              "        vertical-align: top;\n",
              "    }\n",
              "\n",
              "    .dataframe thead th {\n",
              "        text-align: right;\n",
              "    }\n",
              "</style>\n",
              "<table border=\"1\" class=\"dataframe\">\n",
              "  <thead>\n",
              "    <tr style=\"text-align: right;\">\n",
              "      <th></th>\n",
              "      <th>churn</th>\n",
              "      <th>level</th>\n",
              "      <th>count</th>\n",
              "    </tr>\n",
              "  </thead>\n",
              "  <tbody>\n",
              "    <tr>\n",
              "      <th>0</th>\n",
              "      <td>1</td>\n",
              "      <td>paid</td>\n",
              "      <td>36</td>\n",
              "    </tr>\n",
              "    <tr>\n",
              "      <th>1</th>\n",
              "      <td>1</td>\n",
              "      <td>free</td>\n",
              "      <td>46</td>\n",
              "    </tr>\n",
              "    <tr>\n",
              "      <th>2</th>\n",
              "      <td>0</td>\n",
              "      <td>free</td>\n",
              "      <td>149</td>\n",
              "    </tr>\n",
              "    <tr>\n",
              "      <th>3</th>\n",
              "      <td>0</td>\n",
              "      <td>paid</td>\n",
              "      <td>129</td>\n",
              "    </tr>\n",
              "  </tbody>\n",
              "</table>\n",
              "</div>"
            ],
            "text/plain": [
              "   churn level  count\n",
              "0      1  paid     36\n",
              "1      1  free     46\n",
              "2      0  free    149\n",
              "3      0  paid    129"
            ]
          },
          "metadata": {
            "tags": []
          },
          "execution_count": 33
        }
      ]
    },
    {
      "cell_type": "code",
      "metadata": {
        "id": "OAY2e2gXzz3o",
        "colab_type": "code",
        "colab": {},
        "outputId": "1dded014-ced7-4df2-8931-a70d6932b0b6"
      },
      "source": [
        "# Level churn viz\n",
        "sns.barplot(x='churn',y='count',hue='level',data=pd_item)"
      ],
      "execution_count": null,
      "outputs": [
        {
          "output_type": "execute_result",
          "data": {
            "text/plain": [
              "<matplotlib.axes._subplots.AxesSubplot at 0x7ff9d91a69b0>"
            ]
          },
          "metadata": {
            "tags": []
          },
          "execution_count": 34
        },
        {
          "output_type": "display_data",
          "data": {
            "image/png": "[encoded data removed]",
            "text/plain": [
              "<matplotlib.figure.Figure at 0x7ff9d917bc88>"
            ]
          },
          "metadata": {
            "tags": [],
            "needs_background": "light"
          }
        }
      ]
    },
    {
      "cell_type": "code",
      "metadata": {
        "id": "ZxW4ybR6zz3s",
        "colab_type": "code",
        "colab": {},
        "outputId": "267c6327-04a7-46be-cc8b-2954de364aa7"
      },
      "source": [
        "# contingency table\n",
        "table = [[pd_item.iat[1,2], pd_item.iat[2,2],],[pd_item.iat[0,2],pd_item.iat[3,2]]]\n",
        "print(table)\n",
        "stat, p, dof, expected = chi2_contingency(table)\n",
        "print('dof=%d' % dof)\n",
        "print(expected)\n",
        "\n",
        "# interpret test-statistic\n",
        "prob = 0.95\n",
        "critical = chi2.ppf(prob, dof)\n",
        "print('probability=%.3f, critical=%.3f, stat=%.3f' % (prob, critical, stat))\n",
        "\n",
        "#If Statistic >= Critical Value: significant result, reject null hypothesis (H0), dependent.\n",
        "#If Statistic < Critical Value: not significant result, fail to reject null hypothesis (H0), independent.\n",
        "\n",
        "if abs(stat) >= critical:\n",
        "    print('Dependent (reject H0)')\n",
        "else:\n",
        "    print('Independent (fail to reject H0)')\n",
        "# interpret p-value\n",
        "alpha = 1.0 - prob\n",
        "print('significance=%.3f, p=%.3f' % (alpha, p))\n",
        "if p <= alpha:\n",
        "    print('Dependent (reject H0)')\n",
        "else:\n",
        "    print('Independent (fail to reject H0), item seems to be not significant in determining churn or not')\n"
      ],
      "execution_count": null,
      "outputs": [
        {
          "output_type": "stream",
          "text": [
            "[[46, 149], [36, 129]]\n",
            "dof=1\n",
            "[[  44.41666667  150.58333333]\n",
            " [  37.58333333  127.41666667]]\n",
            "probability=0.950, critical=3.841, stat=0.075\n",
            "Independent (fail to reject H0)\n",
            "significance=0.050, p=0.785\n",
            "Independent (fail to reject H0), item seems to be not significant in determining churn or not\n"
          ],
          "name": "stdout"
        }
      ]
    },
    {
      "cell_type": "code",
      "metadata": {
        "id": "o6VBf_pvzz3w",
        "colab_type": "code",
        "colab": {},
        "outputId": "678d2c48-deec-444b-ebf7-57c2f2b42aee"
      },
      "source": [
        "# Length churn stats\n",
        "df_clean.select([\"churn\", \"length\"]).groupby([\"churn\"]).agg(avg('length').alias('mean_length'), \n",
        "                                                                     stddev('length').alias('stdev_length'),\n",
        "                                                                    fmax('length').alias('max_length'),\n",
        "                                                                    fmin('length').alias('min_length')).show()"
      ],
      "execution_count": null,
      "outputs": [
        {
          "output_type": "stream",
          "text": [
            "+-----+------------------+------------------+----------+----------+\n",
            "|churn|       mean_length|      stdev_length|max_length|min_length|\n",
            "+-----+------------------+------------------+----------+----------+\n",
            "|    0|249.20913538880816|  98.6258830014688|3024.66567|   0.78322|\n",
            "|    1|248.63279564406218|102.38497717575477|3024.66567|   4.04853|\n",
            "+-----+------------------+------------------+----------+----------+\n",
            "\n"
          ],
          "name": "stdout"
        }
      ]
    },
    {
      "cell_type": "code",
      "metadata": {
        "id": "HdkUZyg7zz31",
        "colab_type": "code",
        "colab": {}
      },
      "source": [
        "# Create two datasets; churned users vs.  active users\n",
        "churned = df_clean.select(['userId','page']).where(df_clean.churn == 1).groupby('page').agg(count(\"userId\")).toPandas()\n",
        "active = df_clean.select(['userId','page']).where(df_clean.churn == 0).groupby('page').agg(count(\"userId\")).toPandas()"
      ],
      "execution_count": null,
      "outputs": []
    },
    {
      "cell_type": "code",
      "metadata": {
        "id": "icwPcmp6zz35",
        "colab_type": "code",
        "colab": {},
        "outputId": "6e9ad603-4d3d-47d3-838d-858184ebd54d"
      },
      "source": [
        "active['churned'] = 'No'\n",
        "active['%'] = round(100*active['count(userId)']/np.sum(active['count(userId)']),1)\n",
        "active = active.drop(labels=['count(userId)'],axis=1)\n",
        "active"
      ],
      "execution_count": null,
      "outputs": [
        {
          "output_type": "execute_result",
          "data": {
            "text/html": [
              "<div>\n",
              "<style scoped>\n",
              "    .dataframe tbody tr th:only-of-type {\n",
              "        vertical-align: middle;\n",
              "    }\n",
              "\n",
              "    .dataframe tbody tr th {\n",
              "        vertical-align: top;\n",
              "    }\n",
              "\n",
              "    .dataframe thead th {\n",
              "        text-align: right;\n",
              "    }\n",
              "</style>\n",
              "<table border=\"1\" class=\"dataframe\">\n",
              "  <thead>\n",
              "    <tr style=\"text-align: right;\">\n",
              "      <th></th>\n",
              "      <th>page</th>\n",
              "      <th>churned</th>\n",
              "      <th>%</th>\n",
              "    </tr>\n",
              "  </thead>\n",
              "  <tbody>\n",
              "    <tr>\n",
              "      <th>0</th>\n",
              "      <td>Submit Downgrade</td>\n",
              "      <td>No</td>\n",
              "      <td>0.0</td>\n",
              "    </tr>\n",
              "    <tr>\n",
              "      <th>1</th>\n",
              "      <td>Thumbs Down</td>\n",
              "      <td>No</td>\n",
              "      <td>0.9</td>\n",
              "    </tr>\n",
              "    <tr>\n",
              "      <th>2</th>\n",
              "      <td>Home</td>\n",
              "      <td>No</td>\n",
              "      <td>3.6</td>\n",
              "    </tr>\n",
              "    <tr>\n",
              "      <th>3</th>\n",
              "      <td>Downgrade</td>\n",
              "      <td>No</td>\n",
              "      <td>0.7</td>\n",
              "    </tr>\n",
              "    <tr>\n",
              "      <th>4</th>\n",
              "      <td>Roll Advert</td>\n",
              "      <td>No</td>\n",
              "      <td>1.3</td>\n",
              "    </tr>\n",
              "    <tr>\n",
              "      <th>5</th>\n",
              "      <td>Logout</td>\n",
              "      <td>No</td>\n",
              "      <td>1.1</td>\n",
              "    </tr>\n",
              "    <tr>\n",
              "      <th>6</th>\n",
              "      <td>Save Settings</td>\n",
              "      <td>No</td>\n",
              "      <td>0.1</td>\n",
              "    </tr>\n",
              "    <tr>\n",
              "      <th>7</th>\n",
              "      <td>About</td>\n",
              "      <td>No</td>\n",
              "      <td>0.2</td>\n",
              "    </tr>\n",
              "    <tr>\n",
              "      <th>8</th>\n",
              "      <td>Settings</td>\n",
              "      <td>No</td>\n",
              "      <td>0.5</td>\n",
              "    </tr>\n",
              "    <tr>\n",
              "      <th>9</th>\n",
              "      <td>Add to Playlist</td>\n",
              "      <td>No</td>\n",
              "      <td>2.4</td>\n",
              "    </tr>\n",
              "    <tr>\n",
              "      <th>10</th>\n",
              "      <td>Add Friend</td>\n",
              "      <td>No</td>\n",
              "      <td>1.6</td>\n",
              "    </tr>\n",
              "    <tr>\n",
              "      <th>11</th>\n",
              "      <td>NextSong</td>\n",
              "      <td>No</td>\n",
              "      <td>82.2</td>\n",
              "    </tr>\n",
              "    <tr>\n",
              "      <th>12</th>\n",
              "      <td>Thumbs Up</td>\n",
              "      <td>No</td>\n",
              "      <td>4.6</td>\n",
              "    </tr>\n",
              "    <tr>\n",
              "      <th>13</th>\n",
              "      <td>Help</td>\n",
              "      <td>No</td>\n",
              "      <td>0.5</td>\n",
              "    </tr>\n",
              "    <tr>\n",
              "      <th>14</th>\n",
              "      <td>Upgrade</td>\n",
              "      <td>No</td>\n",
              "      <td>0.2</td>\n",
              "    </tr>\n",
              "    <tr>\n",
              "      <th>15</th>\n",
              "      <td>Error</td>\n",
              "      <td>No</td>\n",
              "      <td>0.1</td>\n",
              "    </tr>\n",
              "    <tr>\n",
              "      <th>16</th>\n",
              "      <td>Submit Upgrade</td>\n",
              "      <td>No</td>\n",
              "      <td>0.1</td>\n",
              "    </tr>\n",
              "  </tbody>\n",
              "</table>\n",
              "</div>"
            ],
            "text/plain": [
              "                page churned     %\n",
              "0   Submit Downgrade      No   0.0\n",
              "1        Thumbs Down      No   0.9\n",
              "2               Home      No   3.6\n",
              "3          Downgrade      No   0.7\n",
              "4        Roll Advert      No   1.3\n",
              "5             Logout      No   1.1\n",
              "6      Save Settings      No   0.1\n",
              "7              About      No   0.2\n",
              "8           Settings      No   0.5\n",
              "9    Add to Playlist      No   2.4\n",
              "10        Add Friend      No   1.6\n",
              "11          NextSong      No  82.2\n",
              "12         Thumbs Up      No   4.6\n",
              "13              Help      No   0.5\n",
              "14           Upgrade      No   0.2\n",
              "15             Error      No   0.1\n",
              "16    Submit Upgrade      No   0.1"
            ]
          },
          "metadata": {
            "tags": []
          },
          "execution_count": 38
        }
      ]
    },
    {
      "cell_type": "code",
      "metadata": {
        "id": "NJbAo6AIzz39",
        "colab_type": "code",
        "colab": {},
        "outputId": "898e30a5-32f7-4ee3-f3dc-20488c0d2f08"
      },
      "source": [
        "churned['churned'] = 'Yes'\n",
        "churned['%'] = round(100*churned['count(userId)']/np.sum(churned['count(userId)']),1)\n",
        "churned= churned.drop(labels=['count(userId)'],axis=1)\n",
        "churned"
      ],
      "execution_count": null,
      "outputs": [
        {
          "output_type": "execute_result",
          "data": {
            "text/html": [
              "<div>\n",
              "<style scoped>\n",
              "    .dataframe tbody tr th:only-of-type {\n",
              "        vertical-align: middle;\n",
              "    }\n",
              "\n",
              "    .dataframe tbody tr th {\n",
              "        vertical-align: top;\n",
              "    }\n",
              "\n",
              "    .dataframe thead th {\n",
              "        text-align: right;\n",
              "    }\n",
              "</style>\n",
              "<table border=\"1\" class=\"dataframe\">\n",
              "  <thead>\n",
              "    <tr style=\"text-align: right;\">\n",
              "      <th></th>\n",
              "      <th>page</th>\n",
              "      <th>churned</th>\n",
              "      <th>%</th>\n",
              "    </tr>\n",
              "  </thead>\n",
              "  <tbody>\n",
              "    <tr>\n",
              "      <th>0</th>\n",
              "      <td>Cancel</td>\n",
              "      <td>Yes</td>\n",
              "      <td>0.1</td>\n",
              "    </tr>\n",
              "    <tr>\n",
              "      <th>1</th>\n",
              "      <td>Submit Downgrade</td>\n",
              "      <td>Yes</td>\n",
              "      <td>0.0</td>\n",
              "    </tr>\n",
              "    <tr>\n",
              "      <th>2</th>\n",
              "      <td>Thumbs Down</td>\n",
              "      <td>Yes</td>\n",
              "      <td>1.1</td>\n",
              "    </tr>\n",
              "    <tr>\n",
              "      <th>3</th>\n",
              "      <td>Home</td>\n",
              "      <td>Yes</td>\n",
              "      <td>3.7</td>\n",
              "    </tr>\n",
              "    <tr>\n",
              "      <th>4</th>\n",
              "      <td>Downgrade</td>\n",
              "      <td>Yes</td>\n",
              "      <td>0.8</td>\n",
              "    </tr>\n",
              "    <tr>\n",
              "      <th>5</th>\n",
              "      <td>Roll Advert</td>\n",
              "      <td>Yes</td>\n",
              "      <td>2.2</td>\n",
              "    </tr>\n",
              "    <tr>\n",
              "      <th>6</th>\n",
              "      <td>Logout</td>\n",
              "      <td>Yes</td>\n",
              "      <td>1.2</td>\n",
              "    </tr>\n",
              "    <tr>\n",
              "      <th>7</th>\n",
              "      <td>Save Settings</td>\n",
              "      <td>Yes</td>\n",
              "      <td>0.1</td>\n",
              "    </tr>\n",
              "    <tr>\n",
              "      <th>8</th>\n",
              "      <td>Cancellation Confirmation</td>\n",
              "      <td>Yes</td>\n",
              "      <td>0.1</td>\n",
              "    </tr>\n",
              "    <tr>\n",
              "      <th>9</th>\n",
              "      <td>About</td>\n",
              "      <td>Yes</td>\n",
              "      <td>0.1</td>\n",
              "    </tr>\n",
              "    <tr>\n",
              "      <th>10</th>\n",
              "      <td>Settings</td>\n",
              "      <td>Yes</td>\n",
              "      <td>0.6</td>\n",
              "    </tr>\n",
              "    <tr>\n",
              "      <th>11</th>\n",
              "      <td>Add to Playlist</td>\n",
              "      <td>Yes</td>\n",
              "      <td>2.3</td>\n",
              "    </tr>\n",
              "    <tr>\n",
              "      <th>12</th>\n",
              "      <td>Add Friend</td>\n",
              "      <td>Yes</td>\n",
              "      <td>1.4</td>\n",
              "    </tr>\n",
              "    <tr>\n",
              "      <th>13</th>\n",
              "      <td>NextSong</td>\n",
              "      <td>Yes</td>\n",
              "      <td>81.1</td>\n",
              "    </tr>\n",
              "    <tr>\n",
              "      <th>14</th>\n",
              "      <td>Thumbs Up</td>\n",
              "      <td>Yes</td>\n",
              "      <td>4.1</td>\n",
              "    </tr>\n",
              "    <tr>\n",
              "      <th>15</th>\n",
              "      <td>Help</td>\n",
              "      <td>Yes</td>\n",
              "      <td>0.5</td>\n",
              "    </tr>\n",
              "    <tr>\n",
              "      <th>16</th>\n",
              "      <td>Upgrade</td>\n",
              "      <td>Yes</td>\n",
              "      <td>0.2</td>\n",
              "    </tr>\n",
              "    <tr>\n",
              "      <th>17</th>\n",
              "      <td>Error</td>\n",
              "      <td>Yes</td>\n",
              "      <td>0.1</td>\n",
              "    </tr>\n",
              "    <tr>\n",
              "      <th>18</th>\n",
              "      <td>Submit Upgrade</td>\n",
              "      <td>Yes</td>\n",
              "      <td>0.1</td>\n",
              "    </tr>\n",
              "  </tbody>\n",
              "</table>\n",
              "</div>"
            ],
            "text/plain": [
              "                         page churned     %\n",
              "0                      Cancel     Yes   0.1\n",
              "1            Submit Downgrade     Yes   0.0\n",
              "2                 Thumbs Down     Yes   1.1\n",
              "3                        Home     Yes   3.7\n",
              "4                   Downgrade     Yes   0.8\n",
              "5                 Roll Advert     Yes   2.2\n",
              "6                      Logout     Yes   1.2\n",
              "7               Save Settings     Yes   0.1\n",
              "8   Cancellation Confirmation     Yes   0.1\n",
              "9                       About     Yes   0.1\n",
              "10                   Settings     Yes   0.6\n",
              "11            Add to Playlist     Yes   2.3\n",
              "12                 Add Friend     Yes   1.4\n",
              "13                   NextSong     Yes  81.1\n",
              "14                  Thumbs Up     Yes   4.1\n",
              "15                       Help     Yes   0.5\n",
              "16                    Upgrade     Yes   0.2\n",
              "17                      Error     Yes   0.1\n",
              "18             Submit Upgrade     Yes   0.1"
            ]
          },
          "metadata": {
            "tags": []
          },
          "execution_count": 39
        }
      ]
    },
    {
      "cell_type": "code",
      "metadata": {
        "id": "zgIIKc0Izz4B",
        "colab_type": "code",
        "colab": {}
      },
      "source": [
        "users = pd.concat([churned,active],sort=False)"
      ],
      "execution_count": null,
      "outputs": []
    },
    {
      "cell_type": "code",
      "metadata": {
        "id": "JurOT1XEzz4M",
        "colab_type": "code",
        "colab": {},
        "outputId": "a6287194-7af4-4043-d1e1-922f57c6950e"
      },
      "source": [
        "users"
      ],
      "execution_count": null,
      "outputs": [
        {
          "output_type": "execute_result",
          "data": {
            "text/html": [
              "<div>\n",
              "<style scoped>\n",
              "    .dataframe tbody tr th:only-of-type {\n",
              "        vertical-align: middle;\n",
              "    }\n",
              "\n",
              "    .dataframe tbody tr th {\n",
              "        vertical-align: top;\n",
              "    }\n",
              "\n",
              "    .dataframe thead th {\n",
              "        text-align: right;\n",
              "    }\n",
              "</style>\n",
              "<table border=\"1\" class=\"dataframe\">\n",
              "  <thead>\n",
              "    <tr style=\"text-align: right;\">\n",
              "      <th></th>\n",
              "      <th>page</th>\n",
              "      <th>churned</th>\n",
              "      <th>%</th>\n",
              "    </tr>\n",
              "  </thead>\n",
              "  <tbody>\n",
              "    <tr>\n",
              "      <th>0</th>\n",
              "      <td>Cancel</td>\n",
              "      <td>Yes</td>\n",
              "      <td>0.1</td>\n",
              "    </tr>\n",
              "    <tr>\n",
              "      <th>1</th>\n",
              "      <td>Submit Downgrade</td>\n",
              "      <td>Yes</td>\n",
              "      <td>0.0</td>\n",
              "    </tr>\n",
              "    <tr>\n",
              "      <th>2</th>\n",
              "      <td>Thumbs Down</td>\n",
              "      <td>Yes</td>\n",
              "      <td>1.1</td>\n",
              "    </tr>\n",
              "    <tr>\n",
              "      <th>3</th>\n",
              "      <td>Home</td>\n",
              "      <td>Yes</td>\n",
              "      <td>3.7</td>\n",
              "    </tr>\n",
              "    <tr>\n",
              "      <th>4</th>\n",
              "      <td>Downgrade</td>\n",
              "      <td>Yes</td>\n",
              "      <td>0.8</td>\n",
              "    </tr>\n",
              "    <tr>\n",
              "      <th>5</th>\n",
              "      <td>Roll Advert</td>\n",
              "      <td>Yes</td>\n",
              "      <td>2.2</td>\n",
              "    </tr>\n",
              "    <tr>\n",
              "      <th>6</th>\n",
              "      <td>Logout</td>\n",
              "      <td>Yes</td>\n",
              "      <td>1.2</td>\n",
              "    </tr>\n",
              "    <tr>\n",
              "      <th>7</th>\n",
              "      <td>Save Settings</td>\n",
              "      <td>Yes</td>\n",
              "      <td>0.1</td>\n",
              "    </tr>\n",
              "    <tr>\n",
              "      <th>8</th>\n",
              "      <td>Cancellation Confirmation</td>\n",
              "      <td>Yes</td>\n",
              "      <td>0.1</td>\n",
              "    </tr>\n",
              "    <tr>\n",
              "      <th>9</th>\n",
              "      <td>About</td>\n",
              "      <td>Yes</td>\n",
              "      <td>0.1</td>\n",
              "    </tr>\n",
              "    <tr>\n",
              "      <th>10</th>\n",
              "      <td>Settings</td>\n",
              "      <td>Yes</td>\n",
              "      <td>0.6</td>\n",
              "    </tr>\n",
              "    <tr>\n",
              "      <th>11</th>\n",
              "      <td>Add to Playlist</td>\n",
              "      <td>Yes</td>\n",
              "      <td>2.3</td>\n",
              "    </tr>\n",
              "    <tr>\n",
              "      <th>12</th>\n",
              "      <td>Add Friend</td>\n",
              "      <td>Yes</td>\n",
              "      <td>1.4</td>\n",
              "    </tr>\n",
              "    <tr>\n",
              "      <th>13</th>\n",
              "      <td>NextSong</td>\n",
              "      <td>Yes</td>\n",
              "      <td>81.1</td>\n",
              "    </tr>\n",
              "    <tr>\n",
              "      <th>14</th>\n",
              "      <td>Thumbs Up</td>\n",
              "      <td>Yes</td>\n",
              "      <td>4.1</td>\n",
              "    </tr>\n",
              "    <tr>\n",
              "      <th>15</th>\n",
              "      <td>Help</td>\n",
              "      <td>Yes</td>\n",
              "      <td>0.5</td>\n",
              "    </tr>\n",
              "    <tr>\n",
              "      <th>16</th>\n",
              "      <td>Upgrade</td>\n",
              "      <td>Yes</td>\n",
              "      <td>0.2</td>\n",
              "    </tr>\n",
              "    <tr>\n",
              "      <th>17</th>\n",
              "      <td>Error</td>\n",
              "      <td>Yes</td>\n",
              "      <td>0.1</td>\n",
              "    </tr>\n",
              "    <tr>\n",
              "      <th>18</th>\n",
              "      <td>Submit Upgrade</td>\n",
              "      <td>Yes</td>\n",
              "      <td>0.1</td>\n",
              "    </tr>\n",
              "    <tr>\n",
              "      <th>0</th>\n",
              "      <td>Submit Downgrade</td>\n",
              "      <td>No</td>\n",
              "      <td>0.0</td>\n",
              "    </tr>\n",
              "    <tr>\n",
              "      <th>1</th>\n",
              "      <td>Thumbs Down</td>\n",
              "      <td>No</td>\n",
              "      <td>0.9</td>\n",
              "    </tr>\n",
              "    <tr>\n",
              "      <th>2</th>\n",
              "      <td>Home</td>\n",
              "      <td>No</td>\n",
              "      <td>3.6</td>\n",
              "    </tr>\n",
              "    <tr>\n",
              "      <th>3</th>\n",
              "      <td>Downgrade</td>\n",
              "      <td>No</td>\n",
              "      <td>0.7</td>\n",
              "    </tr>\n",
              "    <tr>\n",
              "      <th>4</th>\n",
              "      <td>Roll Advert</td>\n",
              "      <td>No</td>\n",
              "      <td>1.3</td>\n",
              "    </tr>\n",
              "    <tr>\n",
              "      <th>5</th>\n",
              "      <td>Logout</td>\n",
              "      <td>No</td>\n",
              "      <td>1.1</td>\n",
              "    </tr>\n",
              "    <tr>\n",
              "      <th>6</th>\n",
              "      <td>Save Settings</td>\n",
              "      <td>No</td>\n",
              "      <td>0.1</td>\n",
              "    </tr>\n",
              "    <tr>\n",
              "      <th>7</th>\n",
              "      <td>About</td>\n",
              "      <td>No</td>\n",
              "      <td>0.2</td>\n",
              "    </tr>\n",
              "    <tr>\n",
              "      <th>8</th>\n",
              "      <td>Settings</td>\n",
              "      <td>No</td>\n",
              "      <td>0.5</td>\n",
              "    </tr>\n",
              "    <tr>\n",
              "      <th>9</th>\n",
              "      <td>Add to Playlist</td>\n",
              "      <td>No</td>\n",
              "      <td>2.4</td>\n",
              "    </tr>\n",
              "    <tr>\n",
              "      <th>10</th>\n",
              "      <td>Add Friend</td>\n",
              "      <td>No</td>\n",
              "      <td>1.6</td>\n",
              "    </tr>\n",
              "    <tr>\n",
              "      <th>11</th>\n",
              "      <td>NextSong</td>\n",
              "      <td>No</td>\n",
              "      <td>82.2</td>\n",
              "    </tr>\n",
              "    <tr>\n",
              "      <th>12</th>\n",
              "      <td>Thumbs Up</td>\n",
              "      <td>No</td>\n",
              "      <td>4.6</td>\n",
              "    </tr>\n",
              "    <tr>\n",
              "      <th>13</th>\n",
              "      <td>Help</td>\n",
              "      <td>No</td>\n",
              "      <td>0.5</td>\n",
              "    </tr>\n",
              "    <tr>\n",
              "      <th>14</th>\n",
              "      <td>Upgrade</td>\n",
              "      <td>No</td>\n",
              "      <td>0.2</td>\n",
              "    </tr>\n",
              "    <tr>\n",
              "      <th>15</th>\n",
              "      <td>Error</td>\n",
              "      <td>No</td>\n",
              "      <td>0.1</td>\n",
              "    </tr>\n",
              "    <tr>\n",
              "      <th>16</th>\n",
              "      <td>Submit Upgrade</td>\n",
              "      <td>No</td>\n",
              "      <td>0.1</td>\n",
              "    </tr>\n",
              "  </tbody>\n",
              "</table>\n",
              "</div>"
            ],
            "text/plain": [
              "                         page churned     %\n",
              "0                      Cancel     Yes   0.1\n",
              "1            Submit Downgrade     Yes   0.0\n",
              "2                 Thumbs Down     Yes   1.1\n",
              "3                        Home     Yes   3.7\n",
              "4                   Downgrade     Yes   0.8\n",
              "5                 Roll Advert     Yes   2.2\n",
              "6                      Logout     Yes   1.2\n",
              "7               Save Settings     Yes   0.1\n",
              "8   Cancellation Confirmation     Yes   0.1\n",
              "9                       About     Yes   0.1\n",
              "10                   Settings     Yes   0.6\n",
              "11            Add to Playlist     Yes   2.3\n",
              "12                 Add Friend     Yes   1.4\n",
              "13                   NextSong     Yes  81.1\n",
              "14                  Thumbs Up     Yes   4.1\n",
              "15                       Help     Yes   0.5\n",
              "16                    Upgrade     Yes   0.2\n",
              "17                      Error     Yes   0.1\n",
              "18             Submit Upgrade     Yes   0.1\n",
              "0            Submit Downgrade      No   0.0\n",
              "1                 Thumbs Down      No   0.9\n",
              "2                        Home      No   3.6\n",
              "3                   Downgrade      No   0.7\n",
              "4                 Roll Advert      No   1.3\n",
              "5                      Logout      No   1.1\n",
              "6               Save Settings      No   0.1\n",
              "7                       About      No   0.2\n",
              "8                    Settings      No   0.5\n",
              "9             Add to Playlist      No   2.4\n",
              "10                 Add Friend      No   1.6\n",
              "11                   NextSong      No  82.2\n",
              "12                  Thumbs Up      No   4.6\n",
              "13                       Help      No   0.5\n",
              "14                    Upgrade      No   0.2\n",
              "15                      Error      No   0.1\n",
              "16             Submit Upgrade      No   0.1"
            ]
          },
          "metadata": {
            "tags": []
          },
          "execution_count": 41
        }
      ]
    },
    {
      "cell_type": "code",
      "metadata": {
        "id": "WMUkT2JWzz4Q",
        "colab_type": "code",
        "colab": {},
        "outputId": "f2a4d07a-4f90-488c-debf-55a76dca3df7"
      },
      "source": [
        "fig=plt.figure(figsize=(15,10))\n",
        "sns.set(font_scale=1)\n",
        "snsbp = sns.barplot(data=users,x='%',y='page',capsize=0.2,hue='churned');\n",
        "snsbp.set_xticklabels(snsbp.get_xticklabels(), rotation=90,minor=True);"
      ],
      "execution_count": null,
      "outputs": [
        {
          "output_type": "display_data",
          "data": {
            "image/png": "[encoded data removed]",
            "text/plain": [
              "<matplotlib.figure.Figure at 0x7ff9d8105940>"
            ]
          },
          "metadata": {
            "tags": [],
            "needs_background": "light"
          }
        }
      ]
    },
    {
      "cell_type": "markdown",
      "metadata": {
        "id": "6flEMIimzz4U",
        "colab_type": "text"
      },
      "source": [
        "# Feature Engineering\n",
        "Once you've familiarized yourself with the data, build out the features you find promising to train your model on. To work with the full dataset, you can follow the following steps.\n",
        "- Write a script to extract the necessary features from the smaller subset of data\n",
        "- Ensure that your script is scalable, using the best practices discussed in Lesson 3\n",
        "- Try your script on the full data set, debugging your script if necessary\n",
        "\n",
        "If you are working in the classroom workspace, you can just extract features based on the small subset of data contained here. Be sure to transfer over this work to the larger dataset when you work on your Spark cluster."
      ]
    },
    {
      "cell_type": "code",
      "metadata": {
        "id": "z0JUuuCozz4V",
        "colab_type": "code",
        "colab": {},
        "outputId": "1db92020-c351-47f8-bcf2-762dfff1f1c3"
      },
      "source": [
        "# Make gender to binary\n",
        "gender = df_clean.dropDuplicates(['userId']).sort('userId')\\\n",
        "    .select(['userId','gender']).replace(['F','M'], ['1', '0'], 'gender')\n",
        "gender.withColumn('gender', gender.gender.cast(\"int\"))\n",
        "gender.show(5)"
      ],
      "execution_count": null,
      "outputs": [
        {
          "output_type": "stream",
          "text": [
            "+------+------+\n",
            "|userId|gender|\n",
            "+------+------+\n",
            "|    10|     0|\n",
            "|   100|     0|\n",
            "|100001|     1|\n",
            "|100002|     1|\n",
            "|100003|     1|\n",
            "+------+------+\n",
            "only showing top 5 rows\n",
            "\n"
          ],
          "name": "stdout"
        }
      ]
    },
    {
      "cell_type": "code",
      "metadata": {
        "id": "NFkjgS32zz4Y",
        "colab_type": "code",
        "colab": {},
        "outputId": "b36c3d39-6bf3-47b7-ec03-142136659f01"
      },
      "source": [
        "gender.count()"
      ],
      "execution_count": null,
      "outputs": [
        {
          "output_type": "execute_result",
          "data": {
            "text/plain": [
              "225"
            ]
          },
          "metadata": {
            "tags": []
          },
          "execution_count": 44
        }
      ]
    },
    {
      "cell_type": "code",
      "metadata": {
        "id": "YuS75jIezz4c",
        "colab_type": "code",
        "colab": {},
        "outputId": "6582c065-b461-46e6-cb12-1b7ee7f4f9fd"
      },
      "source": [
        "# Number of songs played\n",
        "songs = df_clean.where(df_clean.song!='null').groupby('userId')\\\n",
        "    .agg(count(df_clean.song).alias('songs_played')).orderBy('userId')\\\n",
        "    .select(['userId','songs_played'])\n",
        "songs.show(5)"
      ],
      "execution_count": null,
      "outputs": [
        {
          "output_type": "stream",
          "text": [
            "+------+------------+\n",
            "|userId|songs_played|\n",
            "+------+------------+\n",
            "|    10|         673|\n",
            "|   100|        2682|\n",
            "|100001|         133|\n",
            "|100002|         195|\n",
            "|100003|          51|\n",
            "+------+------------+\n",
            "only showing top 5 rows\n",
            "\n"
          ],
          "name": "stdout"
        }
      ]
    },
    {
      "cell_type": "code",
      "metadata": {
        "id": "2SixvuyGzz4g",
        "colab_type": "code",
        "colab": {},
        "outputId": "b1d4c92c-30d1-4747-b9c7-c340e8b6a622"
      },
      "source": [
        "songs.count()"
      ],
      "execution_count": null,
      "outputs": [
        {
          "output_type": "execute_result",
          "data": {
            "text/plain": [
              "225"
            ]
          },
          "metadata": {
            "tags": []
          },
          "execution_count": 46
        }
      ]
    },
    {
      "cell_type": "code",
      "metadata": {
        "id": "EYskIPOGzz4m",
        "colab_type": "code",
        "colab": {},
        "outputId": "5f08b7f8-f37a-4f9c-f848-36ad832e6e74"
      },
      "source": [
        "# Number of roll advertisement\n",
        "ads = df_clean.where(df_clean.page=='Roll Advert') \\\n",
        "    .groupby(['userId']).agg(count(col('page')).alias('roll_advert'))\\\n",
        "    .orderBy('userId').select(['userId','roll_advert'])\n",
        "\n",
        "ads.show(5)"
      ],
      "execution_count": null,
      "outputs": [
        {
          "output_type": "stream",
          "text": [
            "+------+-----------+\n",
            "|userId|roll_advert|\n",
            "+------+-----------+\n",
            "|    10|          1|\n",
            "|   100|         25|\n",
            "|100001|         14|\n",
            "|100002|          3|\n",
            "|100003|          9|\n",
            "+------+-----------+\n",
            "only showing top 5 rows\n",
            "\n"
          ],
          "name": "stdout"
        }
      ]
    },
    {
      "cell_type": "code",
      "metadata": {
        "id": "4YAJCNcazz4p",
        "colab_type": "code",
        "colab": {},
        "outputId": "605c8dd2-a7f2-424a-a3de-1fa078333611"
      },
      "source": [
        "ads.count()"
      ],
      "execution_count": null,
      "outputs": [
        {
          "output_type": "execute_result",
          "data": {
            "text/plain": [
              "207"
            ]
          },
          "metadata": {
            "tags": []
          },
          "execution_count": 48
        }
      ]
    },
    {
      "cell_type": "code",
      "metadata": {
        "id": "xDWT0YWjzz4t",
        "colab_type": "code",
        "colab": {},
        "outputId": "ab6a042c-1e52-4e54-e22c-0709693be524"
      },
      "source": [
        "# Number of settings in pages\n",
        "settings = df_clean.where(df_clean.page=='Settings')\\\n",
        "    .groupby(['userId']).agg(count(col('page')).alias('settings'))\\\n",
        "    .orderBy('userId').select(['userId','settings'])\n",
        "\n",
        "settings.show(5)"
      ],
      "execution_count": null,
      "outputs": [
        {
          "output_type": "stream",
          "text": [
            "+------+--------+\n",
            "|userId|settings|\n",
            "+------+--------+\n",
            "|    10|       7|\n",
            "|   100|      11|\n",
            "|100001|       1|\n",
            "|100004|      11|\n",
            "|100005|       2|\n",
            "+------+--------+\n",
            "only showing top 5 rows\n",
            "\n"
          ],
          "name": "stdout"
        }
      ]
    },
    {
      "cell_type": "code",
      "metadata": {
        "id": "4ePwekJSzz4w",
        "colab_type": "code",
        "colab": {},
        "outputId": "fd3463d7-18a8-449a-d3d0-b38ff97fa521"
      },
      "source": [
        "settings.count()"
      ],
      "execution_count": null,
      "outputs": [
        {
          "output_type": "execute_result",
          "data": {
            "text/plain": [
              "195"
            ]
          },
          "metadata": {
            "tags": []
          },
          "execution_count": 50
        }
      ]
    },
    {
      "cell_type": "code",
      "metadata": {
        "id": "3HmSCGtfzz40",
        "colab_type": "code",
        "colab": {},
        "outputId": "f28411d0-cfd6-4426-9600-47bdec05a865"
      },
      "source": [
        "# Number of friends\n",
        "addfriend = df_clean.where(df_clean.page=='Add Friend')\\\n",
        "    .groupby(['userId']).agg(count(col('page')).alias('add_friend'))\\\n",
        "    .orderBy('userId').select(['userId','add_friend'])\n",
        "\n",
        "addfriend.show(5)"
      ],
      "execution_count": null,
      "outputs": [
        {
          "output_type": "stream",
          "text": [
            "+------+----------+\n",
            "|userId|add_friend|\n",
            "+------+----------+\n",
            "|    10|        12|\n",
            "|   100|        49|\n",
            "|100001|         2|\n",
            "|100002|         1|\n",
            "|100004|        19|\n",
            "+------+----------+\n",
            "only showing top 5 rows\n",
            "\n"
          ],
          "name": "stdout"
        }
      ]
    },
    {
      "cell_type": "code",
      "metadata": {
        "id": "GQ9BjM6dzz45",
        "colab_type": "code",
        "colab": {},
        "outputId": "eaa49691-d3e2-45cb-93a0-8ab458c8878a"
      },
      "source": [
        "# Number of thumbs up and thumbs down\n",
        "thumbsup = df_clean.where(df_clean.page=='Thumbs Up')\\\n",
        "    .groupby(['userId']).agg(count(col('page')).alias('thumbsUps'))\\\n",
        "    .orderBy('userId').select(['userId','thumbsUps'])\n",
        "\n",
        "thumbsdown = df_clean.where(df_clean.page=='Thumbs Down')\\\n",
        "    .groupby(['userId']).agg(count(col('page')).alias('thumbsDowns'))\\\n",
        "    .orderBy('userId').select(['userId','thumbsDowns'])\n",
        "\n",
        "thumbsup.show(5)"
      ],
      "execution_count": null,
      "outputs": [
        {
          "output_type": "stream",
          "text": [
            "+------+---------+\n",
            "|userId|thumbsUps|\n",
            "+------+---------+\n",
            "|    10|       37|\n",
            "|   100|      148|\n",
            "|100001|        8|\n",
            "|100002|        5|\n",
            "|100003|        3|\n",
            "+------+---------+\n",
            "only showing top 5 rows\n",
            "\n"
          ],
          "name": "stdout"
        }
      ]
    },
    {
      "cell_type": "code",
      "metadata": {
        "id": "mSXpDnAPzz5N",
        "colab_type": "code",
        "colab": {},
        "outputId": "855edf7d-4a13-479f-a7dc-7095c6f2facb"
      },
      "source": [
        "# Average number of songs played per session per userId\n",
        "sessions_songs = df_clean.select(['userId','song','sessionId'])\\\n",
        "                    .groupby(['userId','sessionId'])\\\n",
        "                    .count().groupby(['userId']).agg({'count':'avg'})\n",
        "\n",
        "sessions_songs = sessions_songs.withColumnRenamed(\"avg(count)\", \"avg_session\")\n",
        "sessions_songs.show()"
      ],
      "execution_count": null,
      "outputs": [
        {
          "output_type": "stream",
          "text": [
            "+------+------------------+\n",
            "|userId|       avg_session|\n",
            "+------+------------------+\n",
            "|100010| 54.42857142857143|\n",
            "|200002|              79.0|\n",
            "|   125|              11.0|\n",
            "|    51|             246.4|\n",
            "|   124| 166.3793103448276|\n",
            "|     7|28.714285714285715|\n",
            "|    54| 92.89189189189189|\n",
            "|    15|151.86666666666667|\n",
            "|   155|             167.0|\n",
            "|100014|51.666666666666664|\n",
            "|   132|             144.0|\n",
            "|   154|39.333333333333336|\n",
            "|   101|             214.9|\n",
            "|    11|              53.0|\n",
            "|300017| 70.28571428571429|\n",
            "|   138|             164.6|\n",
            "|    29|105.97058823529412|\n",
            "|    69|149.11111111111111|\n",
            "|100021|              63.8|\n",
            "|    42| 90.57446808510639|\n",
            "+------+------------------+\n",
            "only showing top 20 rows\n",
            "\n"
          ],
          "name": "stdout"
        }
      ]
    },
    {
      "cell_type": "code",
      "metadata": {
        "id": "4rDCKg1bzz5Q",
        "colab_type": "code",
        "colab": {},
        "outputId": "85de577b-c546-409b-cfe3-55fc32709947"
      },
      "source": [
        "# Length churn stats\n",
        "length = df_clean.select(['userId', \"length\"]).groupby(['userId']).agg(avg('length').alias('mean_length'))\n",
        "length.show()"
      ],
      "execution_count": null,
      "outputs": [
        {
          "output_type": "stream",
          "text": [
            "+------+------------------+\n",
            "|userId|       mean_length|\n",
            "+------+------------------+\n",
            "|100010|  243.421444909091|\n",
            "|200002|242.91699209302305|\n",
            "|   125|261.13913750000006|\n",
            "|    51|247.88055082899118|\n",
            "|   124|248.17653659965674|\n",
            "|     7| 253.5605806666668|\n",
            "|    54|250.38539934530132|\n",
            "|    15|249.37701452978064|\n",
            "|   155| 242.4137706097561|\n",
            "|   132|250.58034431535253|\n",
            "|   154| 245.9526655952382|\n",
            "|100014|263.43763455252935|\n",
            "|   101|249.00612947690533|\n",
            "|    11| 246.7851051622872|\n",
            "|   138|247.56032983574826|\n",
            "|300017|  247.083419661344|\n",
            "|    29|249.18017257926053|\n",
            "|    69|254.27913390222213|\n",
            "|100021| 250.5790245217391|\n",
            "|    42|246.79344140218322|\n",
            "+------+------------------+\n",
            "only showing top 20 rows\n",
            "\n"
          ],
          "name": "stdout"
        }
      ]
    },
    {
      "cell_type": "code",
      "metadata": {
        "id": "WlUCbRsSzz5S",
        "colab_type": "code",
        "colab": {},
        "outputId": "4dab1194-8ab4-4a5b-c8e4-4b58b24de3bf"
      },
      "source": [
        "# Number of songs added by the user to playlist\n",
        "playlist = df_clean.select(['userId','page'])\\\n",
        "                .filter(df_clean.page == 'Add to Playlist')\\\n",
        "                .groupby('userId').count()\n",
        "\n",
        "playlist = playlist.withColumnRenamed(\"count\", \"add_to_playlist\")\n",
        "playlist.show()"
      ],
      "execution_count": null,
      "outputs": [
        {
          "output_type": "stream",
          "text": [
            "+------+-------------+\n",
            "|userId|addtoplaylist|\n",
            "+------+-------------+\n",
            "|100010|            7|\n",
            "|200002|            8|\n",
            "|    51|           52|\n",
            "|   124|          118|\n",
            "|     7|            5|\n",
            "|    15|           59|\n",
            "|    54|           72|\n",
            "|   155|           24|\n",
            "|   132|           38|\n",
            "|   154|            1|\n",
            "|100014|            7|\n",
            "|   101|           61|\n",
            "|    11|           20|\n",
            "|   138|           67|\n",
            "|300017|          113|\n",
            "|    29|           89|\n",
            "|    69|           33|\n",
            "|100021|            7|\n",
            "|    42|          104|\n",
            "|   112|            7|\n",
            "+------+-------------+\n",
            "only showing top 20 rows\n",
            "\n"
          ],
          "name": "stdout"
        }
      ]
    },
    {
      "cell_type": "code",
      "metadata": {
        "id": "AUU91EnZzz5U",
        "colab_type": "code",
        "colab": {},
        "outputId": "c380d42c-1709-4981-94ca-a0453c48bc3c"
      },
      "source": [
        "# Number of songs added by the user to playlist\n",
        "downgrade = df_clean.select(['userId','downgrade'])\\\n",
        "                .filter(df_clean.downgrade == 1).groupby('userId').count()\n",
        "                #.drop_duplicates([\"userId\",\"downgrade\"])\n",
        "                \n",
        "\n",
        "downgrade = downgrade.withColumnRenamed(\"count\", \"downgrade\")\n",
        "downgrade.show()"
      ],
      "execution_count": null,
      "outputs": [
        {
          "output_type": "stream",
          "text": [
            "+------+---------+\n",
            "|userId|downgrade|\n",
            "+------+---------+\n",
            "|200002|        5|\n",
            "|    51|       23|\n",
            "|   124|       41|\n",
            "|    54|       39|\n",
            "|    15|       28|\n",
            "|   155|       12|\n",
            "|   132|       19|\n",
            "|100014|        3|\n",
            "|   101|       22|\n",
            "|    11|        5|\n",
            "|   138|       21|\n",
            "|300017|       25|\n",
            "|    29|       18|\n",
            "|    69|        9|\n",
            "|    42|       37|\n",
            "|    87|        1|\n",
            "|    73|        1|\n",
            "|     3|        2|\n",
            "|   113|       16|\n",
            "|    30|        6|\n",
            "+------+---------+\n",
            "only showing top 20 rows\n",
            "\n"
          ],
          "name": "stdout"
        }
      ]
    },
    {
      "cell_type": "code",
      "metadata": {
        "id": "z9pNtH1Szz5Y",
        "colab_type": "code",
        "colab": {},
        "outputId": "ade73a17-e7df-4e92-a259-8806c83f912e"
      },
      "source": [
        "# Number of days spent using the service since registration date\n",
        "loyalty = df_clean.withColumn(\"loyalty\" , (df_clean.ts-df_clean.registration)/(1000*60*60*24))\\\n",
        "                    .select(['userId','loyalty']).groupby('userId').max('loyalty').alias('loyalty')\n",
        "\n",
        "loyalty = loyalty.withColumnRenamed(\"max(loyalty)\", \"loyalty\")\n",
        "\n",
        "loyalty.show()"
      ],
      "execution_count": null,
      "outputs": [
        {
          "output_type": "stream",
          "text": [
            "+------+------------------+\n",
            "|userId|           loyalty|\n",
            "+------+------------------+\n",
            "|100010| 55.64365740740741|\n",
            "|200002| 70.07462962962963|\n",
            "|   125| 71.31688657407408|\n",
            "|    51|19.455844907407407|\n",
            "|   124|131.55591435185184|\n",
            "|     7| 72.77818287037037|\n",
            "|    54|110.75168981481481|\n",
            "|    15|56.513576388888886|\n",
            "|   155|23.556018518518517|\n",
            "|   132|  66.8891087962963|\n",
            "|   154|23.872037037037035|\n",
            "|100014| 85.08340277777778|\n",
            "|   101|        53.9659375|\n",
            "|    11|124.47825231481481|\n",
            "|   138| 66.62668981481481|\n",
            "|300017| 74.35851851851852|\n",
            "|    29|60.104050925925925|\n",
            "|    69| 71.42444444444445|\n",
            "|100021| 64.73886574074074|\n",
            "|    42| 67.11364583333334|\n",
            "+------+------------------+\n",
            "only showing top 20 rows\n",
            "\n"
          ],
          "name": "stdout"
        }
      ]
    },
    {
      "cell_type": "code",
      "metadata": {
        "id": "Qvl_jn1gzz5a",
        "colab_type": "code",
        "colab": {},
        "outputId": "daf47daf-f729-4689-d9d6-61649a136096"
      },
      "source": [
        "# Create final dataset\n",
        "feature_list = [songs, ads, addfriend, thumbsup, thumbsdown, \\\n",
        "                loyalty, playlist, length, sessions_songs]\n",
        "\n",
        "df = df_clean.dropDuplicates(['userId']).sort('userId').select(['userId','churn'])\n",
        "for feature in feature_list:\n",
        "    df = df.join(feature,'userId', how='left').na.fill(0)\n",
        "\n",
        "df = df.withColumnRenamed(\"churn\", \"label\")\n",
        "df.show()"
      ],
      "execution_count": null,
      "outputs": [
        {
          "output_type": "stream",
          "text": [
            "+------+-----+------------+-----------+----------+---------+-----------+------------------+-------------+------------------+------------------+\n",
            "|userId|label|songs_played|roll_advert|add_friend|thumbsUps|thumbsDowns|           loyalty|addtoplaylist|       mean_length|       avg_session|\n",
            "+------+-----+------------+-----------+----------+---------+-----------+------------------+-------------+------------------+------------------+\n",
            "|100010|    0|         275|         52|         4|       17|          5| 55.64365740740741|            7|  243.421444909091| 54.42857142857143|\n",
            "|200002|    0|         387|          7|         4|       21|          6| 70.07462962962963|            8|242.91699209302305|              79.0|\n",
            "|   125|    1|           8|          1|         0|        0|          0| 71.31688657407408|            0|261.13913750000006|              11.0|\n",
            "|   124|    0|        4079|          4|        74|      171|         41|131.55591435185184|          118|248.17653659965674| 166.3793103448276|\n",
            "|    51|    1|        2111|          0|        28|      100|         21|19.455844907407407|           52|247.88055082899118|             246.4|\n",
            "|     7|    0|         150|         16|         1|        7|          1| 72.77818287037037|            5| 253.5605806666668|28.714285714285715|\n",
            "|    15|    0|        1914|          1|        31|       81|         14|56.513576388888886|           59|249.37701452978064|151.86666666666667|\n",
            "|    54|    1|        2841|         47|        33|      163|         29|110.75168981481481|           72|250.38539934530132| 92.89189189189189|\n",
            "|   155|    0|         820|          8|        11|       58|          3|23.556018518518517|           24| 242.4137706097561|             167.0|\n",
            "|100014|    1|         257|          2|         6|       17|          3| 85.08340277777778|            7|263.43763455252935|51.666666666666664|\n",
            "|   132|    0|        1928|          2|        41|       96|         17|  66.8891087962963|           38|250.58034431535253|             144.0|\n",
            "|   154|    0|          84|         10|         3|       11|          0|23.872037037037035|            1| 245.9526655952382|39.333333333333336|\n",
            "|   101|    1|        1797|          8|        29|       86|         16|        53.9659375|           61|249.00612947690533|             214.9|\n",
            "|    11|    0|         647|         39|         6|       40|          9|124.47825231481481|           20| 246.7851051622872|              53.0|\n",
            "|   138|    0|        2070|         17|        41|       95|         24| 66.62668981481481|           67|247.56032983574826|             164.6|\n",
            "|300017|    0|        3632|         11|        63|      303|         28| 74.35851851851852|          113|  247.083419661344| 70.28571428571429|\n",
            "|100021|    1|         230|         30|         7|       11|          5| 64.73886574074074|            7| 250.5790245217391|              63.8|\n",
            "|    29|    1|        3028|         22|        47|      154|         22|60.104050925925925|           89|249.18017257926053|105.97058823529412|\n",
            "|    69|    0|        1125|          3|        12|       72|          9| 71.42444444444445|           33|254.27913390222213|149.11111111111111|\n",
            "|   112|    0|         215|         21|         7|        9|          3| 87.46262731481481|            7|246.80347251162797|              29.2|\n",
            "+------+-----+------------+-----------+----------+---------+-----------+------------------+-------------+------------------+------------------+\n",
            "only showing top 20 rows\n",
            "\n"
          ],
          "name": "stdout"
        }
      ]
    },
    {
      "cell_type": "code",
      "metadata": {
        "id": "G5vsrsmqzz5c",
        "colab_type": "code",
        "colab": {}
      },
      "source": [
        "# Drop userid\n",
        "df = df.drop('userId')"
      ],
      "execution_count": null,
      "outputs": []
    },
    {
      "cell_type": "code",
      "metadata": {
        "id": "iCIuaKAizz5e",
        "colab_type": "code",
        "colab": {}
      },
      "source": [
        "# Transform to float\n",
        "for feature in df.columns[1:]:\n",
        "    df = df.withColumn(feature, df[feature].cast('float'))"
      ],
      "execution_count": null,
      "outputs": []
    },
    {
      "cell_type": "code",
      "metadata": {
        "id": "P42sXuzBzz5g",
        "colab_type": "code",
        "colab": {},
        "outputId": "540e8303-935a-428d-c67b-c883ddd674dc"
      },
      "source": [
        "# This is the data we will use to train\n",
        "df.printSchema()"
      ],
      "execution_count": null,
      "outputs": [
        {
          "output_type": "stream",
          "text": [
            "root\n",
            " |-- label: long (nullable = true)\n",
            " |-- songs_played: float (nullable = true)\n",
            " |-- roll_advert: float (nullable = true)\n",
            " |-- add_friend: float (nullable = true)\n",
            " |-- thumbsUps: float (nullable = true)\n",
            " |-- thumbsDowns: float (nullable = true)\n",
            " |-- loyalty: float (nullable = false)\n",
            " |-- addtoplaylist: float (nullable = true)\n",
            " |-- mean_length: float (nullable = false)\n",
            " |-- avg_session: float (nullable = false)\n",
            "\n"
          ],
          "name": "stdout"
        }
      ]
    },
    {
      "cell_type": "code",
      "metadata": {
        "id": "kftoC1igzz5i",
        "colab_type": "code",
        "colab": {},
        "outputId": "20f62b19-4306-407f-f5c9-13806bb35ecf"
      },
      "source": [
        "df.count()"
      ],
      "execution_count": null,
      "outputs": [
        {
          "output_type": "execute_result",
          "data": {
            "text/plain": [
              "225"
            ]
          },
          "metadata": {
            "tags": []
          },
          "execution_count": 62
        }
      ]
    },
    {
      "cell_type": "markdown",
      "metadata": {
        "id": "-8ZEXX88zz5k",
        "colab_type": "text"
      },
      "source": [
        "# Modeling\n",
        "Split the full dataset into train, test, and validation sets. Test out several of the machine learning methods you learned. Evaluate the accuracy of the various models, tuning parameters as necessary. Determine your winning model based on test accuracy and report results on the validation set. Since the churned users are a fairly small subset, I suggest using F1 score as the metric to optimize."
      ]
    },
    {
      "cell_type": "code",
      "metadata": {
        "id": "eJaqwitYzz5k",
        "colab_type": "code",
        "colab": {}
      },
      "source": [
        "def undersample(df): \n",
        "    '''\n",
        "    Implement undersample on dataset, return a balanced dataset.\n",
        "    '''    \n",
        "    # Size of minority class(0)\n",
        "    minoritySize = df.where(df.label == '1').count()\n",
        "    \n",
        "    # Two classes with the same size\n",
        "    df_min = df.where(df.label == '1')\n",
        "    df_max = df.where(df.label == '0').sample(1.0, seed=7).limit(minoritySize)\n",
        "    \n",
        "    # Concatenate them together\n",
        "    result = df_min.union(df_max)\n",
        "    \n",
        "    # Shuffle data\n",
        "    result = result.orderBy(rand())\n",
        "    return result"
      ],
      "execution_count": null,
      "outputs": []
    },
    {
      "cell_type": "code",
      "metadata": {
        "id": "VRQdZ7FTzz5l",
        "colab_type": "code",
        "colab": {}
      },
      "source": [
        "df_bal = undersample(df)"
      ],
      "execution_count": null,
      "outputs": []
    },
    {
      "cell_type": "code",
      "metadata": {
        "id": "phjZPNUczz5n",
        "colab_type": "code",
        "colab": {},
        "outputId": "0698bde1-e21b-45fb-87d4-3e93eef9cf26"
      },
      "source": [
        "# Check the output\n",
        "df_bal.groupby(df_bal.label).count().show()"
      ],
      "execution_count": null,
      "outputs": [
        {
          "output_type": "stream",
          "text": [
            "+-----+-----+\n",
            "|label|count|\n",
            "+-----+-----+\n",
            "|    0|   52|\n",
            "|    1|   52|\n",
            "+-----+-----+\n",
            "\n"
          ],
          "name": "stdout"
        }
      ]
    },
    {
      "cell_type": "code",
      "metadata": {
        "id": "XsWEcfo2zz5p",
        "colab_type": "code",
        "colab": {},
        "outputId": "16b2cdc3-b99a-435e-b96d-ed8a8346eded"
      },
      "source": [
        "df_bal.printSchema()"
      ],
      "execution_count": null,
      "outputs": [
        {
          "output_type": "stream",
          "text": [
            "root\n",
            " |-- label: long (nullable = true)\n",
            " |-- songs_played: float (nullable = true)\n",
            " |-- roll_advert: float (nullable = true)\n",
            " |-- add_friend: float (nullable = true)\n",
            " |-- thumbsUps: float (nullable = true)\n",
            " |-- thumbsDowns: float (nullable = true)\n",
            " |-- loyalty: float (nullable = false)\n",
            " |-- addtoplaylist: float (nullable = true)\n",
            " |-- mean_length: float (nullable = false)\n",
            " |-- avg_session: float (nullable = false)\n",
            "\n"
          ],
          "name": "stdout"
        }
      ]
    },
    {
      "cell_type": "code",
      "metadata": {
        "id": "IrM1IPdfzz5t",
        "colab_type": "code",
        "colab": {}
      },
      "source": [
        "# Create VectorAssembler to push data to ML models\n",
        "assembler = VectorAssembler(inputCols=df_bal.columns[1:],\\\n",
        "                            outputCol=\"inputFeatures\")\n",
        "\n",
        "# Normalize data\n",
        "scaler = Normalizer(inputCol=\"inputFeatures\", outputCol=\"ScaledFeatures\");"
      ],
      "execution_count": null,
      "outputs": []
    },
    {
      "cell_type": "code",
      "metadata": {
        "id": "NtcyPckszz5u",
        "colab_type": "code",
        "colab": {}
      },
      "source": [
        "# ElasticNetParam corresponds to α and regParam corresponds to λ.\n",
        "#model_lr = LogisticRegression(featuresCol=\"ScaledFeatures\", labelCol=\"label\", maxIter=10, regParam=0.01)\n",
        "#model_rf = RandomForestClassifier(featuresCol=\"ScaledFeatures\", labelCol=\"label\")\n",
        "#model_gbt = GBTClassifier(featuresCol=\"ScaledFeatures\", labelCol=\"label\")"
      ],
      "execution_count": null,
      "outputs": []
    },
    {
      "cell_type": "code",
      "metadata": {
        "id": "SrmH3enuzz5w",
        "colab_type": "code",
        "colab": {}
      },
      "source": [
        "# Create Pipeline\n",
        "#pipeline_lr = Pipeline(stages=[assembler, scaler, model_lr]);\n",
        "#pipeline_rf = Pipeline(stages=[assembler, scaler, model_rf]);\n",
        "#pipeline_gbt = Pipeline(stages=[assembler, scaler, model_gbt])"
      ],
      "execution_count": null,
      "outputs": []
    },
    {
      "cell_type": "code",
      "metadata": {
        "id": "SYDk1u3czz5z",
        "colab_type": "code",
        "colab": {}
      },
      "source": [
        "# spilt data for Train and test \n",
        "train, test = df_bal.randomSplit([0.8, 0.2], seed=7);"
      ],
      "execution_count": null,
      "outputs": []
    },
    {
      "cell_type": "code",
      "metadata": {
        "id": "WUSr5JRhzz51",
        "colab_type": "code",
        "colab": {}
      },
      "source": [
        "# Build Logistic Regression Classification Model\n",
        "\n",
        "# Initiate Log Regression model\n",
        "\n",
        "lr =  LogisticRegression(featuresCol=\"ScaledFeatures\", labelCol=\"label\", maxIter=10)\n",
        "\n",
        "# Make pipeline for lr\n",
        "pipeline_lr = Pipeline(stages=[assembler, \n",
        "                               scaler, \n",
        "                               lr\n",
        "                              ]\n",
        "                      )\n",
        "\n",
        "# Grid search params\n",
        "paramGrid_lr = ParamGridBuilder() \\\n",
        "    .addGrid(lr.elasticNetParam,[0.1, 0.5, 1]) \\\n",
        "    .addGrid(lr.regParam,[0.01, 0.05, 0.1]) \\\n",
        "    .build()\n",
        "\n",
        "# Cross-validation params\n",
        "cv_lr = CrossValidator(estimator=pipeline_lr,\n",
        "                             estimatorParamMaps=paramGrid_lr,\n",
        "                             evaluator=MulticlassClassificationEvaluator(),\n",
        "                             numFolds=3\n",
        "                            )\n",
        "\n",
        "\n",
        "# Build Random Forest Classification Model\n",
        "\n",
        "# Initiate Random Forest model\n",
        "\n",
        "model_rf = RandomForestClassifier(featuresCol=\"ScaledFeatures\", labelCol=\"label\")\n",
        "\n",
        "\n",
        "# Make pipeline for rf\n",
        "pipeline_rf = Pipeline(stages=[assembler, \n",
        "                               scaler, \n",
        "                               model_rf \n",
        "                              ]\n",
        "                      )\n",
        "\n",
        "# Grid search params\n",
        "paramGrid_rf = ParamGridBuilder() \\\n",
        "    .addGrid(model_rf.maxDepth, [8, 16,20]) \\\n",
        "    .addGrid(model_rf.maxBins, [8, 16, 20]) \\\n",
        "    .addGrid(model_rf.impurity, ['gini','entropy']) \\\n",
        "    .build()\n",
        "    \n",
        "# Cross validation params\n",
        "cv_rf = CrossValidator(estimator=pipeline_rf,\n",
        "                       estimatorParamMaps=paramGrid_rf,\n",
        "                       evaluator=MulticlassClassificationEvaluator(),\n",
        "                       numFolds=3\n",
        "                      )"
      ],
      "execution_count": null,
      "outputs": []
    },
    {
      "cell_type": "code",
      "metadata": {
        "id": "8J5edBenzz58",
        "colab_type": "code",
        "colab": {},
        "outputId": "c6b4c6a0-f793-4d35-e54a-335e92655cf2"
      },
      "source": [
        "# Fit models\n",
        "import time\n",
        "from dateutil import tz\n",
        "from datetime import datetime\n",
        "\n",
        "rome_tz = tz.gettz(\"Europe/Rome\")\n",
        "now = datetime.now(tz=rome_tz)\n",
        "print(now)\n",
        "\n",
        "start_time= time.time()\n",
        "\n",
        "model_lr_fitted = cv_lr.fit(train);\n",
        "model_rf_fitted = cv_rf.fit(train)\n",
        "\n",
        "end_time= time.time()\n",
        "\n",
        "print(\"Total execute time:{}\".format(end_time-start_time))"
      ],
      "execution_count": null,
      "outputs": [
        {
          "output_type": "stream",
          "text": [
            "2020-07-19 16:26:55.172727+02:00\n",
            "Total execute time:4562.521004915237\n"
          ],
          "name": "stdout"
        }
      ]
    },
    {
      "cell_type": "code",
      "metadata": {
        "id": "gKAU6-A0zz5-",
        "colab_type": "code",
        "colab": {}
      },
      "source": [
        "# Function to calculate Accuracy scores:\n",
        "def model_performance_accuracy(model, test_data, metric = 'accuracy'):\n",
        "    \"\"\" Calculate Model Scores using accuracy metric \n",
        "        Input: \n",
        "            model- trained model or pipeline object\n",
        "            metric- the metric used to measure performance\n",
        "            data - data on which performance measurement should be done\n",
        "        Output:\n",
        "            score\n",
        "    \"\"\"\n",
        "    evaluator = MulticlassClassificationEvaluator(metricName = metric)\n",
        "    prediction_result = model.transform(test_data)\n",
        "    # find f1 score\n",
        "    score = evaluator.evaluate(prediction_result)\n",
        "    #return score\n",
        "    return score"
      ],
      "execution_count": null,
      "outputs": []
    },
    {
      "cell_type": "code",
      "metadata": {
        "id": "pQLFAlUlzz6A",
        "colab_type": "code",
        "colab": {},
        "outputId": "ceb8cd5f-e931-4fd0-a408-4b72a65bc3c0"
      },
      "source": [
        "# Print Models Accuracy\n",
        "print(\"Logistic Regression Classifier Accuracy:{}\".format(model_performance_accuracy(model_lr_fitted, test)));\n",
        "print(\"Random Forest Classifier Accuracy:{}\".format(model_performance_accuracy(model_rf_fitted, test)));"
      ],
      "execution_count": null,
      "outputs": [
        {
          "output_type": "stream",
          "text": [
            "Logistic Regression Classifier Accuracy:0.8235294117647058\n",
            "Random Forest Classifier Accuracy:0.47058823529411764\n"
          ],
          "name": "stdout"
        }
      ]
    },
    {
      "cell_type": "code",
      "metadata": {
        "id": "HjagQkzMzz6B",
        "colab_type": "code",
        "colab": {}
      },
      "source": [
        "feature_importances = model_rf_fitted.bestModel.stages[2].featureImportances.values.tolist()"
      ],
      "execution_count": null,
      "outputs": []
    },
    {
      "cell_type": "code",
      "metadata": {
        "id": "CunJACcnzz6D",
        "colab_type": "code",
        "colab": {},
        "outputId": "979f7e7d-0580-47e7-e2aa-f2e90eac81e1"
      },
      "source": [
        "feature_importances"
      ],
      "execution_count": null,
      "outputs": [
        {
          "output_type": "execute_result",
          "data": {
            "text/plain": [
              "[0.09719724784680375,\n",
              " 0.09690520636672105,\n",
              " 0.10325106271161158,\n",
              " 0.09713101563434623,\n",
              " 0.1812948111171091,\n",
              " 0.13723700205832226,\n",
              " 0.12629861092561726,\n",
              " 0.04939782732960924,\n",
              " 0.11128721600985951]"
            ]
          },
          "metadata": {
            "tags": []
          },
          "execution_count": 90
        }
      ]
    },
    {
      "cell_type": "code",
      "metadata": {
        "id": "9dNcTvpzzz6E",
        "colab_type": "code",
        "colab": {}
      },
      "source": [
        "feature_importance_df = pd.DataFrame({'feature_importance': feature_importances, 'feature name': df_bal.columns[1:]})"
      ],
      "execution_count": null,
      "outputs": []
    },
    {
      "cell_type": "code",
      "metadata": {
        "id": "CclVvizyzz6G",
        "colab_type": "code",
        "colab": {},
        "outputId": "5bc5104b-22af-4795-9b36-c1571f3db8fc"
      },
      "source": [
        "sns.barplot(x='feature_importance', y='feature name', data=feature_importance_df)"
      ],
      "execution_count": null,
      "outputs": [
        {
          "output_type": "execute_result",
          "data": {
            "text/plain": [
              "<matplotlib.axes._subplots.AxesSubplot at 0x7ff9d1a7d400>"
            ]
          },
          "metadata": {
            "tags": []
          },
          "execution_count": 92
        },
        {
          "output_type": "display_data",
          "data": {
            "image/png": "[encoded data removed]",
            "text/plain": [
              "<matplotlib.figure.Figure at 0x7ff9d1a4c940>"
            ]
          },
          "metadata": {
            "tags": []
          }
        }
      ]
    },
    {
      "cell_type": "code",
      "metadata": {
        "id": "1C8hoGmGzz6I",
        "colab_type": "code",
        "colab": {}
      },
      "source": [
        "# Function to calculate F-1 scores:\n",
        "def model_performance_f1(model, test_data, metric = 'f1'):\n",
        "    \"\"\" Calculate Model Scores using f1 metric \n",
        "        Input: \n",
        "            model- trained model or pipeline object\n",
        "            metric- the metric used to measure performance\n",
        "            data - data on which performance measurement should be done\n",
        "        Output:\n",
        "            score\n",
        "    \"\"\"\n",
        "    evaluator = MulticlassClassificationEvaluator(metricName = metric)\n",
        "    prediction_result = model.transform(test_data)\n",
        "    # find f1 score\n",
        "    score = evaluator.evaluate(prediction_result)\n",
        "    #return score\n",
        "    return score"
      ],
      "execution_count": null,
      "outputs": []
    },
    {
      "cell_type": "code",
      "metadata": {
        "id": "WKTIrPVmzz6J",
        "colab_type": "code",
        "colab": {},
        "outputId": "829e6b6c-54c7-44d7-e0f2-a79dd349597e"
      },
      "source": [
        "# Print Models F-1 score\n",
        "print(\"Logistic Regression Classifier F1-Score:{}\".format(model_performance_f1(model_lr_fitted, test)));\n",
        "print(\"Random Forest Classifier F1-Score:{}\".format(model_performance_f1(model_rf_fitted, test)));"
      ],
      "execution_count": null,
      "outputs": [
        {
          "output_type": "stream",
          "text": [
            "Logistic Regression Classifier F1-Score:0.8198142414860681\n",
            "Random Forest Classifier F1-Score:0.45944272445820433\n"
          ],
          "name": "stdout"
        }
      ]
    },
    {
      "cell_type": "markdown",
      "metadata": {
        "id": "EIIo94kjzz6L",
        "colab_type": "text"
      },
      "source": [
        "# Final Steps\n",
        "Clean up your code, adding comments and renaming variables to make the code easier to read and maintain. Refer to the Spark Project Overview page and Data Scientist Capstone Project Rubric to make sure you are including all components of the capstone project and meet all expectations. Remember, this includes thorough documentation in a README file in a Github repository, as well as a web app or blog post."
      ]
    },
    {
      "cell_type": "code",
      "metadata": {
        "id": "k0_rRdEgzz6L",
        "colab_type": "code",
        "colab": {}
      },
      "source": [
        ""
      ],
      "execution_count": null,
      "outputs": []
    }
  ]
}