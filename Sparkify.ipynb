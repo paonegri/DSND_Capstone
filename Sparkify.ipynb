{
  "nbformat": 4,
  "nbformat_minor": 0,
  "metadata": {
    "kernelspec": {
      "display_name": "Python 3",
      "language": "python",
      "name": "python3"
    },
    "language_info": {
      "codemirror_mode": {
        "name": "ipython",
        "version": 3
      },
      "file_extension": ".py",
      "mimetype": "text/x-python",
      "name": "python",
      "nbconvert_exporter": "python",
      "pygments_lexer": "ipython3",
      "version": "3.6.3"
    },
    "colab": {
      "name": "Sparkify.ipynb",
      "provenance": [],
      "toc_visible": true
    }
  },
  "cells": [
    {
      "cell_type": "markdown",
      "metadata": {
        "id": "1-mePNNVop3w",
        "colab_type": "text"
      },
      "source": [
        "# Sparkify Project Workspace\n",
        "This workspace contains a tiny subset (128MB) of the full dataset available (12GB). Feel free to use this workspace to build your project, or to explore a smaller subset with Spark before deploying your cluster on the cloud. Instructions for setting up your Spark cluster is included in the last lesson of the Extracurricular Spark Course content.\n",
        "\n",
        "You can follow the steps below to guide your data analysis and model building portion of this project."
      ]
    },
    {
      "cell_type": "code",
      "metadata": {
        "id": "v7mnzdF6op3z",
        "colab_type": "code",
        "colab": {}
      },
      "source": [
        "# import libraries\n",
        "import datetime\n",
        "import time\n",
        "import numpy as np\n",
        "import pandas as pd\n",
        "import matplotlib.pyplot as plt\n",
        "import seaborn as sns\n",
        "\n",
        "from pyspark import SparkContext, SparkConf\n",
        "from pyspark.sql import SparkSession\n",
        "from pyspark.sql import Window\n",
        "from pyspark.sql.functions import udf, col, concat, count, lit, avg, lag, first, last, when\n",
        "from pyspark.sql.functions import min as Fmin, max as Fmax, sum as Fsum, round as Fround\n",
        "\n",
        "from pyspark.sql.types import IntegerType, DateType, TimestampType\n",
        "\n",
        "from pyspark.ml import Pipeline\n",
        "from pyspark.ml.feature import VectorAssembler, Normalizer, StandardScaler\n",
        "from pyspark.ml.regression import LinearRegression\n",
        "from pyspark.ml.classification import LogisticRegression, RandomForestClassifier, GBTClassifier\n",
        "from pyspark.ml.clustering import KMeans\n",
        "from pyspark.ml.tuning import CrossValidator, ParamGridBuilder\n",
        "from pyspark.ml.evaluation import BinaryClassificationEvaluator, Evaluator\n"
      ],
      "execution_count": null,
      "outputs": []
    },
    {
      "cell_type": "code",
      "metadata": {
        "id": "moWa6c6Gop4A",
        "colab_type": "code",
        "colab": {}
      },
      "source": [
        "# Create a Spark Session\n",
        "spark = SparkSession \\\n",
        ".builder \\\n",
        ".appName('Sparkify') \\\n",
        ".getOrCreate()"
      ],
      "execution_count": null,
      "outputs": []
    },
    {
      "cell_type": "markdown",
      "metadata": {
        "id": "ihPAUlkLop4U",
        "colab_type": "text"
      },
      "source": [
        "# Load and Clean Dataset\n",
        "In this workspace, the mini-dataset file is `mini_sparkify_event_data.json`. Load and clean the dataset, checking for invalid or missing data - for example, records without userids or sessionids. "
      ]
    },
    {
      "cell_type": "code",
      "metadata": {
        "id": "pID-JwxJop4a",
        "colab_type": "code",
        "colab": {}
      },
      "source": [
        "# Load data and store it into a Spark dataframe\n",
        "path = \"mini_sparkify_event_data.json\"\n",
        "df = spark.read.json(path)"
      ],
      "execution_count": null,
      "outputs": []
    },
    {
      "cell_type": "code",
      "metadata": {
        "id": "ef_LT-57op4u",
        "colab_type": "code",
        "colab": {},
        "outputId": "05ac190b-c55e-4f32-db24-3c111ec86439"
      },
      "source": [
        "# Structure of the dataframe\n",
        "df.printSchema()"
      ],
      "execution_count": null,
      "outputs": [
        {
          "output_type": "stream",
          "text": [
            "root\n",
            " |-- artist: string (nullable = true)\n",
            " |-- auth: string (nullable = true)\n",
            " |-- firstName: string (nullable = true)\n",
            " |-- gender: string (nullable = true)\n",
            " |-- itemInSession: long (nullable = true)\n",
            " |-- lastName: string (nullable = true)\n",
            " |-- length: double (nullable = true)\n",
            " |-- level: string (nullable = true)\n",
            " |-- location: string (nullable = true)\n",
            " |-- method: string (nullable = true)\n",
            " |-- page: string (nullable = true)\n",
            " |-- registration: long (nullable = true)\n",
            " |-- sessionId: long (nullable = true)\n",
            " |-- song: string (nullable = true)\n",
            " |-- status: long (nullable = true)\n",
            " |-- ts: long (nullable = true)\n",
            " |-- userAgent: string (nullable = true)\n",
            " |-- userId: string (nullable = true)\n",
            "\n"
          ],
          "name": "stdout"
        }
      ]
    },
    {
      "cell_type": "code",
      "metadata": {
        "id": "Yycsjamjop47",
        "colab_type": "code",
        "colab": {},
        "outputId": "d7dca89d-6bf4-417d-f4e7-0346d5388662"
      },
      "source": [
        "#scan data\n",
        "df = spark.read.json('mini_sparkify_event_data.json')\n",
        "df.show(1)"
      ],
      "execution_count": null,
      "outputs": [
        {
          "output_type": "stream",
          "text": [
            "+--------------+---------+---------+------+-------------+--------+---------+-----+---------------+------+--------+-------------+---------+---------+------+-------------+--------------------+------+\n",
            "|        artist|     auth|firstName|gender|itemInSession|lastName|   length|level|       location|method|    page| registration|sessionId|     song|status|           ts|           userAgent|userId|\n",
            "+--------------+---------+---------+------+-------------+--------+---------+-----+---------------+------+--------+-------------+---------+---------+------+-------------+--------------------+------+\n",
            "|Martha Tilston|Logged In|    Colin|     M|           50| Freeman|277.89016| paid|Bakersfield, CA|   PUT|NextSong|1538173362000|       29|Rockpools|   200|1538352117000|Mozilla/5.0 (Wind...|    30|\n",
            "+--------------+---------+---------+------+-------------+--------+---------+-----+---------------+------+--------+-------------+---------+---------+------+-------------+--------------------+------+\n",
            "only showing top 1 row\n",
            "\n"
          ],
          "name": "stdout"
        }
      ]
    },
    {
      "cell_type": "code",
      "metadata": {
        "id": "JSJYis0oop5H",
        "colab_type": "code",
        "colab": {},
        "outputId": "2256dbb5-ccf9-4a36-c9e6-dc102237eef9"
      },
      "source": [
        "#describe user ID\n",
        "df.describe('userId').show()"
      ],
      "execution_count": null,
      "outputs": [
        {
          "output_type": "stream",
          "text": [
            "+-------+-----------------+\n",
            "|summary|           userId|\n",
            "+-------+-----------------+\n",
            "|  count|           286500|\n",
            "|   mean|59682.02278593872|\n",
            "| stddev|109091.9499991047|\n",
            "|    min|                 |\n",
            "|    max|               99|\n",
            "+-------+-----------------+\n",
            "\n"
          ],
          "name": "stdout"
        }
      ]
    },
    {
      "cell_type": "markdown",
      "metadata": {
        "id": "t2j4QRIwop5S",
        "colab_type": "text"
      },
      "source": [
        "# Exploratory Data Analysis\n",
        "When you're working with the full dataset, perform EDA by loading a small subset of the data and doing basic manipulations within Spark. In this workspace, you are already provided a small subset of data you can explore.\n",
        "\n",
        "### Define Churn\n",
        "\n",
        "Once you've done some preliminary analysis, create a column `Churn` to use as the label for your model. I suggest using the `Cancellation Confirmation` events to define your churn, which happen for both paid and free users. As a bonus task, you can also look into the `Downgrade` events.\n",
        "\n",
        "### Explore Data\n",
        "Once you've defined churn, perform some exploratory data analysis to observe the behavior for users who stayed vs users who churned. You can start by exploring aggregates on these two groups of users, observing how much of a specific action they experienced per a certain time unit or number of songs played."
      ]
    },
    {
      "cell_type": "code",
      "metadata": {
        "id": "sQrJSC08op5W",
        "colab_type": "code",
        "colab": {}
      },
      "source": [
        ""
      ],
      "execution_count": null,
      "outputs": []
    },
    {
      "cell_type": "markdown",
      "metadata": {
        "id": "lQjD196Eop5g",
        "colab_type": "text"
      },
      "source": [
        "# Feature Engineering\n",
        "Once you've familiarized yourself with the data, build out the features you find promising to train your model on. To work with the full dataset, you can follow the following steps.\n",
        "- Write a script to extract the necessary features from the smaller subset of data\n",
        "- Ensure that your script is scalable, using the best practices discussed in Lesson 3\n",
        "- Try your script on the full data set, debugging your script if necessary\n",
        "\n",
        "If you are working in the classroom workspace, you can just extract features based on the small subset of data contained here. Be sure to transfer over this work to the larger dataset when you work on your Spark cluster."
      ]
    },
    {
      "cell_type": "code",
      "metadata": {
        "id": "ChezrRpmop5i",
        "colab_type": "code",
        "colab": {}
      },
      "source": [
        ""
      ],
      "execution_count": null,
      "outputs": []
    },
    {
      "cell_type": "markdown",
      "metadata": {
        "id": "WIVo55sAop5q",
        "colab_type": "text"
      },
      "source": [
        "# Modeling\n",
        "Split the full dataset into train, test, and validation sets. Test out several of the machine learning methods you learned. Evaluate the accuracy of the various models, tuning parameters as necessary. Determine your winning model based on test accuracy and report results on the validation set. Since the churned users are a fairly small subset, I suggest using F1 score as the metric to optimize."
      ]
    },
    {
      "cell_type": "code",
      "metadata": {
        "id": "5WW4KGVvop6S",
        "colab_type": "code",
        "colab": {}
      },
      "source": [
        ""
      ],
      "execution_count": null,
      "outputs": []
    },
    {
      "cell_type": "markdown",
      "metadata": {
        "id": "Nwxrw5Nlop6Z",
        "colab_type": "text"
      },
      "source": [
        "# Final Steps\n",
        "Clean up your code, adding comments and renaming variables to make the code easier to read and maintain. Refer to the Spark Project Overview page and Data Scientist Capstone Project Rubric to make sure you are including all components of the capstone project and meet all expectations. Remember, this includes thorough documentation in a README file in a Github repository, as well as a web app or blog post."
      ]
    },
    {
      "cell_type": "code",
      "metadata": {
        "id": "9sBB9DnDop6c",
        "colab_type": "code",
        "colab": {}
      },
      "source": [
        ""
      ],
      "execution_count": null,
      "outputs": []
    }
  ]
}