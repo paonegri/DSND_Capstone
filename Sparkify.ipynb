{
  "nbformat": 4,
  "nbformat_minor": 0,
  "metadata": {
    "kernelspec": {
      "display_name": "Python 3",
      "language": "python",
      "name": "python3"
    },
    "language_info": {
      "codemirror_mode": {
        "name": "ipython",
        "version": 3
      },
      "file_extension": ".py",
      "mimetype": "text/x-python",
      "name": "python",
      "nbconvert_exporter": "python",
      "pygments_lexer": "ipython3",
      "version": "3.6.3"
    },
    "colab": {
      "name": "Sparkify.ipynb",
      "provenance": [],
      "toc_visible": true
    }
  },
  "cells": [
    {
      "cell_type": "markdown",
      "metadata": {
        "id": "xNFkJZ2-iGDi",
        "colab_type": "text"
      },
      "source": [
        "# Sparkify Project Workspace\n",
        "This workspace contains a tiny subset (128MB) of the full dataset available (12GB). Feel free to use this workspace to build your project, or to explore a smaller subset with Spark before deploying your cluster on the cloud. Instructions for setting up your Spark cluster is included in the last lesson of the Extracurricular Spark Course content.\n",
        "\n",
        "You can follow the steps below to guide your data analysis and model building portion of this project."
      ]
    },
    {
      "cell_type": "code",
      "metadata": {
        "id": "YoYFGsUfiGDk",
        "colab_type": "code",
        "colab": {}
      },
      "source": [
        "#import libraries\n",
        "import pandas as pd\n",
        "import numpy as np\n",
        "import matplotlib.pyplot as plt\n",
        "import seaborn as sns\n",
        "import re\n",
        "import datetime\n",
        "\n",
        "from scipy.stats import chi2_contingency\n",
        "from scipy.stats import chi2\n",
        "\n",
        "from pyspark.sql import SparkSession\n",
        "from pyspark.sql.functions import avg, stddev,col, concat, desc, isnan, explode, lit, count, when, sort_array, asc, avg, min, max, split, udf, isnull, countDistinct, rand\n",
        "from pyspark.sql.functions import min as fmin\n",
        "from pyspark.sql.functions import max as fmax\n",
        "from pyspark.sql.types import IntegerType\n",
        "from pyspark.sql.types import StringType\n",
        "\n",
        "from pyspark.ml import Pipeline\n",
        "\n",
        "from pyspark.ml.classification import LogisticRegression, RandomForestClassifier, GBTClassifier, DecisionTreeClassifier, NaiveBayes\n",
        "from pyspark.ml.evaluation import MulticlassClassificationEvaluator\n",
        "from pyspark.ml.feature import CountVectorizer, IDF, Normalizer, PCA, RegexTokenizer, StandardScaler, StopWordsRemover, StringIndexer, VectorAssembler\n",
        "from pyspark.ml.regression import LinearRegression\n",
        "from pyspark.ml.feature import OneHotEncoder, StringIndexer\n",
        "from pyspark.ml.tuning import CrossValidator, ParamGridBuilder\n",
        "from pyspark.ml.classification import LogisticRegression\n",
        "from pyspark.sql import Row\n",
        "from pyspark.sql.functions import sum as Fsum\n",
        "from pyspark.sql.window import Window\n",
        "%matplotlib inline\n"
      ],
      "execution_count": null,
      "outputs": []
    },
    {
      "cell_type": "code",
      "metadata": {
        "id": "WHSZoVv4iGDp",
        "colab_type": "code",
        "colab": {}
      },
      "source": [
        "# Create a Spark Session\n",
        "spark = SparkSession \\\n",
        ".builder \\\n",
        ".appName('Sparkify') \\\n",
        ".getOrCreate()"
      ],
      "execution_count": null,
      "outputs": []
    },
    {
      "cell_type": "markdown",
      "metadata": {
        "id": "kYPvBwFNiGDt",
        "colab_type": "text"
      },
      "source": [
        "# Load and Clean Dataset\n",
        "In this workspace, the mini-dataset file is `mini_sparkify_event_data.json`. Load and clean the dataset, checking for invalid or missing data - for example, records without userids or sessionids. "
      ]
    },
    {
      "cell_type": "code",
      "metadata": {
        "id": "45Qtm3FuiGDt",
        "colab_type": "code",
        "colab": {}
      },
      "source": [
        "# Load data and store it into a Spark dataframe\n",
        "path = \"mini_sparkify_event_data.json\"\n",
        "df = spark.read.json(path)"
      ],
      "execution_count": null,
      "outputs": []
    },
    {
      "cell_type": "code",
      "metadata": {
        "id": "8qisSjXUiGDw",
        "colab_type": "code",
        "colab": {},
        "outputId": "2ea75679-bb4d-46cd-8f87-91850ba2b36b"
      },
      "source": [
        "# Structure of the dataframe\n",
        "df.printSchema()"
      ],
      "execution_count": null,
      "outputs": [
        {
          "output_type": "stream",
          "text": [
            "root\n",
            " |-- artist: string (nullable = true)\n",
            " |-- auth: string (nullable = true)\n",
            " |-- firstName: string (nullable = true)\n",
            " |-- gender: string (nullable = true)\n",
            " |-- itemInSession: long (nullable = true)\n",
            " |-- lastName: string (nullable = true)\n",
            " |-- length: double (nullable = true)\n",
            " |-- level: string (nullable = true)\n",
            " |-- location: string (nullable = true)\n",
            " |-- method: string (nullable = true)\n",
            " |-- page: string (nullable = true)\n",
            " |-- registration: long (nullable = true)\n",
            " |-- sessionId: long (nullable = true)\n",
            " |-- song: string (nullable = true)\n",
            " |-- status: long (nullable = true)\n",
            " |-- ts: long (nullable = true)\n",
            " |-- userAgent: string (nullable = true)\n",
            " |-- userId: string (nullable = true)\n",
            "\n"
          ],
          "name": "stdout"
        }
      ]
    },
    {
      "cell_type": "code",
      "metadata": {
        "id": "jeZnI3-2iGD1",
        "colab_type": "code",
        "colab": {},
        "outputId": "30a7755f-cf1b-4418-cd58-856fa2103b01"
      },
      "source": [
        "# Print first line\n",
        "df = spark.read.json('mini_sparkify_event_data.json')\n",
        "df.show(1)"
      ],
      "execution_count": null,
      "outputs": [
        {
          "output_type": "stream",
          "text": [
            "+--------------+---------+---------+------+-------------+--------+---------+-----+---------------+------+--------+-------------+---------+---------+------+-------------+--------------------+------+\n",
            "|        artist|     auth|firstName|gender|itemInSession|lastName|   length|level|       location|method|    page| registration|sessionId|     song|status|           ts|           userAgent|userId|\n",
            "+--------------+---------+---------+------+-------------+--------+---------+-----+---------------+------+--------+-------------+---------+---------+------+-------------+--------------------+------+\n",
            "|Martha Tilston|Logged In|    Colin|     M|           50| Freeman|277.89016| paid|Bakersfield, CA|   PUT|NextSong|1538173362000|       29|Rockpools|   200|1538352117000|Mozilla/5.0 (Wind...|    30|\n",
            "+--------------+---------+---------+------+-------------+--------+---------+-----+---------------+------+--------+-------------+---------+---------+------+-------------+--------------------+------+\n",
            "only showing top 1 row\n",
            "\n"
          ],
          "name": "stdout"
        }
      ]
    },
    {
      "cell_type": "code",
      "metadata": {
        "id": "rsD7iE8hiGD5",
        "colab_type": "code",
        "colab": {},
        "outputId": "f166f598-3988-4858-ff8a-c5110ccfe68f"
      },
      "source": [
        "# Describe user ID\n",
        "df.count()"
      ],
      "execution_count": null,
      "outputs": [
        {
          "output_type": "execute_result",
          "data": {
            "text/plain": [
              "286500"
            ]
          },
          "metadata": {
            "tags": []
          },
          "execution_count": 6
        }
      ]
    },
    {
      "cell_type": "code",
      "metadata": {
        "id": "z8my9s7EiGD8",
        "colab_type": "code",
        "colab": {},
        "outputId": "ff3cde1b-e2eb-4d99-af55-f0c18801d43a"
      },
      "source": [
        "# Check userId null values\n",
        "df.filter(isnull(df['userId'])).count()"
      ],
      "execution_count": null,
      "outputs": [
        {
          "output_type": "execute_result",
          "data": {
            "text/plain": [
              "0"
            ]
          },
          "metadata": {
            "tags": []
          },
          "execution_count": 7
        }
      ]
    },
    {
      "cell_type": "code",
      "metadata": {
        "id": "ddnL96_ziGD_",
        "colab_type": "code",
        "colab": {},
        "outputId": "f44c6140-c9c0-4ebb-ddcf-280355caa016"
      },
      "source": [
        "# Check sessionId null values\n",
        "df.filter(isnull(df['sessionId'])).count()"
      ],
      "execution_count": null,
      "outputs": [
        {
          "output_type": "execute_result",
          "data": {
            "text/plain": [
              "0"
            ]
          },
          "metadata": {
            "tags": []
          },
          "execution_count": 8
        }
      ]
    },
    {
      "cell_type": "code",
      "metadata": {
        "id": "AxdTlNW5iGEC",
        "colab_type": "code",
        "colab": {},
        "outputId": "c758a04a-eb55-42b7-82c4-aa914ee63dbd"
      },
      "source": [
        "# Check userId missing values\n",
        "df.filter(df['userId']=='').count()"
      ],
      "execution_count": null,
      "outputs": [
        {
          "output_type": "execute_result",
          "data": {
            "text/plain": [
              "8346"
            ]
          },
          "metadata": {
            "tags": []
          },
          "execution_count": 9
        }
      ]
    },
    {
      "cell_type": "code",
      "metadata": {
        "id": "_f2RwzCdiGEF",
        "colab_type": "code",
        "colab": {},
        "outputId": "118f8ebc-16c4-48dc-8e54-8cedfecf51ab"
      },
      "source": [
        "# Check sessionId missing values\n",
        "df.filter(df['sessionId']=='').count()"
      ],
      "execution_count": null,
      "outputs": [
        {
          "output_type": "execute_result",
          "data": {
            "text/plain": [
              "0"
            ]
          },
          "metadata": {
            "tags": []
          },
          "execution_count": 10
        }
      ]
    },
    {
      "cell_type": "code",
      "metadata": {
        "id": "reKip7OViGEJ",
        "colab_type": "code",
        "colab": {}
      },
      "source": [
        "# Remove userId with no values\n",
        "df_clean = df.filter(df['userId']!='')"
      ],
      "execution_count": null,
      "outputs": []
    },
    {
      "cell_type": "code",
      "metadata": {
        "id": "ZZU_4ox1iGEM",
        "colab_type": "code",
        "colab": {},
        "outputId": "66f2e715-00c4-4f09-9b9f-26798e034421"
      },
      "source": [
        "df_clean.take(1)"
      ],
      "execution_count": null,
      "outputs": [
        {
          "output_type": "execute_result",
          "data": {
            "text/plain": [
              "[Row(artist='Martha Tilston', auth='Logged In', firstName='Colin', gender='M', itemInSession=50, lastName='Freeman', length=277.89016, level='paid', location='Bakersfield, CA', method='PUT', page='NextSong', registration=1538173362000, sessionId=29, song='Rockpools', status=200, ts=1538352117000, userAgent='Mozilla/5.0 (Windows NT 6.1; WOW64; rv:31.0) Gecko/20100101 Firefox/31.0', userId='30')]"
            ]
          },
          "metadata": {
            "tags": []
          },
          "execution_count": 12
        }
      ]
    },
    {
      "cell_type": "markdown",
      "metadata": {
        "id": "7fRZW2sciGEP",
        "colab_type": "text"
      },
      "source": [
        "# Exploratory Data Analysis\n",
        "When you're working with the full dataset, perform EDA by loading a small subset of the data and doing basic manipulations within Spark. In this workspace, you are already provided a small subset of data you can explore."
      ]
    },
    {
      "cell_type": "code",
      "metadata": {
        "id": "F-KdVDCWiGEP",
        "colab_type": "code",
        "colab": {}
      },
      "source": [
        "# Sparksql\n",
        "# Create a temporary view to perform SQL operations\n",
        "df_clean.createOrReplaceTempView(\"Sparkify_clean\")"
      ],
      "execution_count": null,
      "outputs": []
    },
    {
      "cell_type": "code",
      "metadata": {
        "id": "hOLvEp4RiGES",
        "colab_type": "code",
        "colab": {},
        "outputId": "cb64ebd6-3d42-4d09-b5e2-e62e54df0097"
      },
      "source": [
        "# Explore auth by user\n",
        "spark.sql('''\n",
        "        SELECT auth,COUNT(DISTINCT userId) AS distinct_users\n",
        "        FROM Sparkify_clean\n",
        "        GROUP BY auth\n",
        "        ORDER BY distinct_users DESC\n",
        "''').show()"
      ],
      "execution_count": null,
      "outputs": [
        {
          "output_type": "stream",
          "text": [
            "+---------+--------------+\n",
            "|     auth|distinct_users|\n",
            "+---------+--------------+\n",
            "|Logged In|           225|\n",
            "|Cancelled|            52|\n",
            "+---------+--------------+\n",
            "\n"
          ],
          "name": "stdout"
        }
      ]
    },
    {
      "cell_type": "code",
      "metadata": {
        "id": "_VPwnbAQiGEU",
        "colab_type": "code",
        "colab": {},
        "outputId": "930e518f-fbec-462f-e117-d9e3acfa331a"
      },
      "source": [
        "# Explore Gender\n",
        "gender_count = spark.sql('''\n",
        "        SELECT gender,COUNT(DISTINCT userId) AS distinct_users\n",
        "        FROM Sparkify_clean\n",
        "        GROUP BY gender\n",
        "        ORDER BY distinct_users DESC\n",
        "''').show()"
      ],
      "execution_count": null,
      "outputs": [
        {
          "output_type": "stream",
          "text": [
            "+------+--------------+\n",
            "|gender|distinct_users|\n",
            "+------+--------------+\n",
            "|     M|           121|\n",
            "|     F|           104|\n",
            "+------+--------------+\n",
            "\n"
          ],
          "name": "stdout"
        }
      ]
    },
    {
      "cell_type": "code",
      "metadata": {
        "id": "lF0x3kTXiGEW",
        "colab_type": "code",
        "colab": {},
        "outputId": "369791a2-a48f-433a-b8f7-2568b3d21855"
      },
      "source": [
        "# Explore length distribution\n",
        "length = spark.sql('''\n",
        "        SELECT length\n",
        "        FROM Sparkify_clean\n",
        "''').toPandas()\n",
        "\n",
        "# Length Density viz\n",
        "sns.distplot(length.dropna())"
      ],
      "execution_count": null,
      "outputs": [
        {
          "output_type": "execute_result",
          "data": {
            "text/plain": [
              "<matplotlib.axes._subplots.AxesSubplot at 0x7f7167d40a58>"
            ]
          },
          "metadata": {
            "tags": []
          },
          "execution_count": 16
        },
        {
          "output_type": "display_data",
          "data": {
            "image/png": "[encoded data removed]",
            "text/plain": [
              "<matplotlib.figure.Figure at 0x7f7167ccf2e8>"
            ]
          },
          "metadata": {
            "tags": [],
            "needs_background": "light"
          }
        }
      ]
    },
    {
      "cell_type": "code",
      "metadata": {
        "id": "qX-Kw7IhiGEa",
        "colab_type": "code",
        "colab": {},
        "outputId": "0dbbd2ec-8e33-4ea8-c6ac-517d3fcc133c"
      },
      "source": [
        "# Explore level type\n",
        "spark.sql('''\n",
        "        SELECT level,COUNT(DISTINCT userId) AS user_counts\n",
        "        FROM Sparkify_clean\n",
        "        GROUP BY level\n",
        "        ORDER BY user_counts DESC\n",
        "''').show()"
      ],
      "execution_count": null,
      "outputs": [
        {
          "output_type": "stream",
          "text": [
            "+-----+-----------+\n",
            "|level|user_counts|\n",
            "+-----+-----------+\n",
            "| free|        195|\n",
            "| paid|        165|\n",
            "+-----+-----------+\n",
            "\n"
          ],
          "name": "stdout"
        }
      ]
    },
    {
      "cell_type": "code",
      "metadata": {
        "id": "wV41zNbWiGEd",
        "colab_type": "code",
        "colab": {},
        "outputId": "8afdafc2-393f-4fd0-98cf-c2d42152e292"
      },
      "source": [
        "# Explore page by user\n",
        "spark.sql('''\n",
        "        SELECT page,COUNT(userId) AS user_counts\n",
        "        FROM Sparkify_clean\n",
        "        GROUP BY page\n",
        "        ORDER BY user_counts DESC\n",
        "''').show()"
      ],
      "execution_count": null,
      "outputs": [
        {
          "output_type": "stream",
          "text": [
            "+--------------------+-----------+\n",
            "|                page|user_counts|\n",
            "+--------------------+-----------+\n",
            "|            NextSong|     228108|\n",
            "|           Thumbs Up|      12551|\n",
            "|                Home|      10082|\n",
            "|     Add to Playlist|       6526|\n",
            "|          Add Friend|       4277|\n",
            "|         Roll Advert|       3933|\n",
            "|              Logout|       3226|\n",
            "|         Thumbs Down|       2546|\n",
            "|           Downgrade|       2055|\n",
            "|            Settings|       1514|\n",
            "|                Help|       1454|\n",
            "|             Upgrade|        499|\n",
            "|               About|        495|\n",
            "|       Save Settings|        310|\n",
            "|               Error|        252|\n",
            "|      Submit Upgrade|        159|\n",
            "|    Submit Downgrade|         63|\n",
            "|              Cancel|         52|\n",
            "|Cancellation Conf...|         52|\n",
            "+--------------------+-----------+\n",
            "\n"
          ],
          "name": "stdout"
        }
      ]
    },
    {
      "cell_type": "markdown",
      "metadata": {
        "id": "k_VlxbfjiGEf",
        "colab_type": "text"
      },
      "source": [
        "### Define Churn\n",
        "\n",
        "Once you've done some preliminary analysis, create a column `Churn` to use as the label for your model. I suggest using the `Cancellation Confirmation` events to define your churn, which happen for both paid and free users. As a bonus task, you can also look into the `Downgrade` events.\n"
      ]
    },
    {
      "cell_type": "code",
      "metadata": {
        "id": "AlQpAWcCiGEg",
        "colab_type": "code",
        "colab": {}
      },
      "source": [
        "# Add a new colum called time to see clearly the timestamp\n",
        "get_datetime = udf(lambda x: datetime.datetime.fromtimestamp(x / 1000.0).strftime(\"%Y-%m-%d %H:%M:%S\"))\n",
        "df_clean = df_clean.withColumn(\"datetime\", get_datetime(df_clean.ts))"
      ],
      "execution_count": null,
      "outputs": []
    },
    {
      "cell_type": "code",
      "metadata": {
        "scrolled": true,
        "id": "trfgwoKOiGEj",
        "colab_type": "code",
        "colab": {},
        "outputId": "0ec3d92a-7727-4e49-8699-74709c5abaee"
      },
      "source": [
        "#next, let's take a look at the userId 100001\n",
        "df_clean.select(['datetime','userId','page','artist','song']).filter(df_clean['userId'] == 100001)\\\n",
        ".sort('datetime',ascending=False).show(20)"
      ],
      "execution_count": null,
      "outputs": [
        {
          "output_type": "stream",
          "text": [
            "+-------------------+------+--------------------+--------------------+--------------------+\n",
            "|           datetime|userId|                page|              artist|                song|\n",
            "+-------------------+------+--------------------+--------------------+--------------------+\n",
            "|2018-10-02 16:36:45|100001|Cancellation Conf...|                null|                null|\n",
            "|2018-10-02 16:34:34|100001|              Cancel|                null|                null|\n",
            "|2018-10-02 16:34:33|100001|         Roll Advert|                null|                null|\n",
            "|2018-10-02 16:33:52|100001|            NextSong|            Harmonia|       Sehr kosmisch|\n",
            "|2018-10-02 16:29:46|100001|                Home|                null|                null|\n",
            "|2018-10-02 16:29:19|100001|              Logout|                null|                null|\n",
            "|2018-10-02 16:29:18|100001|            NextSong|           Lady GaGa|           Alejandro|\n",
            "|2018-10-02 16:24:34|100001|            NextSong|Michael BublÃÂ© ...|Quando_ Quando_ Q...|\n",
            "|2018-10-02 16:19:54|100001|            NextSong|      Bebel Gilberto|     Samba Da Bencao|\n",
            "|2018-10-02 16:16:50|100001|                Help|                null|                null|\n",
            "|2018-10-02 16:16:24|100001|            NextSong|            Natiruts|Jamaica Roots II(...|\n",
            "|2018-10-02 16:13:59|100001|         Roll Advert|                null|                null|\n",
            "|2018-10-02 16:12:33|100001|            NextSong|Peter Bjorn And John|          Paris 2004|\n",
            "|2018-10-02 16:07:00|100001|            NextSong|         Sheryl Crow|     I Shall Believe|\n",
            "|2018-10-02 16:03:18|100001|            NextSong|            Sanalejo|             Amapola|\n",
            "|2018-10-02 16:00:21|100001|            NextSong|Sopor Aeternus & ...|    La Mort d'Arthur|\n",
            "|2018-10-02 15:50:27|100001|            NextSong|Beanfield feat. B...|Tides (C's Moveme...|\n",
            "|2018-10-02 15:42:36|100001|            NextSong|      Peter Frampton|  Most Of All (Live)|\n",
            "|2018-10-02 15:39:43|100001|            NextSong|        Matt Pond PA|     KC (LP Version)|\n",
            "|2018-10-02 15:33:45|100001|                Home|                null|                null|\n",
            "+-------------------+------+--------------------+--------------------+--------------------+\n",
            "only showing top 20 rows\n",
            "\n"
          ],
          "name": "stdout"
        }
      ]
    },
    {
      "cell_type": "code",
      "metadata": {
        "id": "Mz4DYsryiGEn",
        "colab_type": "code",
        "colab": {}
      },
      "source": [
        "# Create a churn column which will contain 1 if the user cancelled, 0 otherwise\n",
        "cancellation_event = udf(lambda x: 1 if x == \"Cancellation Confirmation\" else 0, IntegerType())\n",
        "\n",
        "df_clean = df_clean.withColumn(\"churn\", cancellation_event('page'))\n",
        "windowval = Window.partitionBy(\"userId\").rangeBetween(Window.unboundedPreceding, Window.unboundedFollowing)\n",
        "df_clean = df_clean.withColumn(\"churn\",Fsum(\"churn\").over(windowval))"
      ],
      "execution_count": null,
      "outputs": []
    },
    {
      "cell_type": "code",
      "metadata": {
        "id": "6osxrt-OiGEq",
        "colab_type": "code",
        "colab": {},
        "outputId": "cb6c4f32-e9f7-4300-eb36-381d72487081"
      },
      "source": [
        "#let's reuse userId=100001 to confirm that the column Churn is indeed == 1 when the page event is 'Cancellation confirmation'\n",
        "df_clean.select(['datetime','userId','page','artist','song','churn']).filter(df_clean['userId'] == 100005)\\\n",
        ".sort('datetime',ascending=False).show(10)\n"
      ],
      "execution_count": null,
      "outputs": [
        {
          "output_type": "stream",
          "text": [
            "+-------------------+------+--------------------+---------------+--------------------+-----+\n",
            "|           datetime|userId|                page|         artist|                song|churn|\n",
            "+-------------------+------+--------------------+---------------+--------------------+-----+\n",
            "|2018-10-19 17:57:05|100005|Cancellation Conf...|           null|                null|    1|\n",
            "|2018-10-19 17:56:50|100005|              Cancel|           null|                null|    1|\n",
            "|2018-10-19 17:56:49|100005|            Settings|           null|                null|    1|\n",
            "|2018-10-19 17:56:43|100005|                Help|           null|                null|    1|\n",
            "|2018-10-19 17:56:40|100005|            NextSong|      Chris Rea|Driving Home For ...|    1|\n",
            "|2018-10-19 17:52:10|100005|            NextSong|    Gipsy Kings|         Trista Pena|    1|\n",
            "|2018-10-19 17:49:21|100005|            NextSong|  Flat Duo Jets|     My Life My Love|    1|\n",
            "|2018-10-19 17:42:56|100005|            NextSong|Jimmy Eat World|         Drugs Or Me|    1|\n",
            "|2018-10-19 17:40:04|100005|           Thumbs Up|           null|                null|    1|\n",
            "|2018-10-19 17:40:03|100005|            NextSong|      Cold Cave|The Laurels Of Er...|    1|\n",
            "+-------------------+------+--------------------+---------------+--------------------+-----+\n",
            "only showing top 10 rows\n",
            "\n"
          ],
          "name": "stdout"
        }
      ]
    },
    {
      "cell_type": "markdown",
      "metadata": {
        "id": "JdoIDKRSiGEs",
        "colab_type": "text"
      },
      "source": [
        "### Explore Data\n",
        "Once you've defined churn, perform some exploratory data analysis to observe the behavior for users who stayed vs users who churned. You can start by exploring aggregates on these two groups of users, observing how much of a specific action they experienced per a certain time unit or number of songs played."
      ]
    },
    {
      "cell_type": "code",
      "metadata": {
        "id": "9xmZkd4fiGEs",
        "colab_type": "code",
        "colab": {},
        "outputId": "6dfd5c5b-7234-4b28-a559-944155350e45"
      },
      "source": [
        "# Print again the dataframe schema\n",
        "df_clean.printSchema()"
      ],
      "execution_count": null,
      "outputs": [
        {
          "output_type": "stream",
          "text": [
            "root\n",
            " |-- artist: string (nullable = true)\n",
            " |-- auth: string (nullable = true)\n",
            " |-- firstName: string (nullable = true)\n",
            " |-- gender: string (nullable = true)\n",
            " |-- itemInSession: long (nullable = true)\n",
            " |-- lastName: string (nullable = true)\n",
            " |-- length: double (nullable = true)\n",
            " |-- level: string (nullable = true)\n",
            " |-- location: string (nullable = true)\n",
            " |-- method: string (nullable = true)\n",
            " |-- page: string (nullable = true)\n",
            " |-- registration: long (nullable = true)\n",
            " |-- sessionId: long (nullable = true)\n",
            " |-- song: string (nullable = true)\n",
            " |-- status: long (nullable = true)\n",
            " |-- ts: long (nullable = true)\n",
            " |-- userAgent: string (nullable = true)\n",
            " |-- userId: string (nullable = true)\n",
            " |-- datetime: string (nullable = true)\n",
            " |-- churn: long (nullable = true)\n",
            "\n"
          ],
          "name": "stdout"
        }
      ]
    },
    {
      "cell_type": "code",
      "metadata": {
        "id": "f3mtfrZmiGEv",
        "colab_type": "code",
        "colab": {},
        "outputId": "0eca984b-9e85-40d5-9ff2-5af01a6d326e"
      },
      "source": [
        "print('number of distinct users in sparkify : {}'\\\n",
        "    .format(df_clean.select('userId').drop_duplicates().count()))"
      ],
      "execution_count": null,
      "outputs": [
        {
          "output_type": "stream",
          "text": [
            "number of distinct users in sparkify : 225\n"
          ],
          "name": "stdout"
        }
      ]
    },
    {
      "cell_type": "code",
      "metadata": {
        "id": "I1s81z6_iGEx",
        "colab_type": "code",
        "colab": {},
        "outputId": "9bc5e086-99a0-4605-b9dd-0a0137574bb7"
      },
      "source": [
        "# Total amount of churned users\n",
        "print('total amount of churned users : {}'.format(df_clean.select('userId')\\\n",
        "                                            .where(df_clean.churn == 1).drop_duplicates().count()))"
      ],
      "execution_count": null,
      "outputs": [
        {
          "output_type": "stream",
          "text": [
            "total amount of churned users : 52\n"
          ],
          "name": "stdout"
        }
      ]
    },
    {
      "cell_type": "code",
      "metadata": {
        "id": "DHWgsxUiiGEz",
        "colab_type": "code",
        "colab": {},
        "outputId": "bd585a8f-c781-49f8-c92b-5575836ff2e8"
      },
      "source": [
        "print('percentage of churned users : {}%'\\\n",
        "      .format(round(100*(df_clean.select('userId').where(df_clean.churn == 1)\\\n",
        "                         .drop_duplicates().count())/df_clean.select('userId')\\\n",
        "                         .drop_duplicates().count())))"
      ],
      "execution_count": null,
      "outputs": [
        {
          "output_type": "stream",
          "text": [
            "percentage of churned users : 23%\n"
          ],
          "name": "stdout"
        }
      ]
    },
    {
      "cell_type": "code",
      "metadata": {
        "id": "0zfkJlmOiGE2",
        "colab_type": "code",
        "colab": {},
        "outputId": "fc16d325-0474-4c94-b276-48c6b485377d"
      },
      "source": [
        "# Get churn rates based on Gender\n",
        "pd_gender = df_clean.select(['userId','churn','gender']).\\\n",
        "drop_duplicates([\"userId\",\"churn\",'gender']).groupby([\"churn\",\"gender\"]).count().toPandas()\n",
        "pd_gender"
      ],
      "execution_count": null,
      "outputs": [
        {
          "output_type": "execute_result",
          "data": {
            "text/html": [
              "<div>\n",
              "<style scoped>\n",
              "    .dataframe tbody tr th:only-of-type {\n",
              "        vertical-align: middle;\n",
              "    }\n",
              "\n",
              "    .dataframe tbody tr th {\n",
              "        vertical-align: top;\n",
              "    }\n",
              "\n",
              "    .dataframe thead th {\n",
              "        text-align: right;\n",
              "    }\n",
              "</style>\n",
              "<table border=\"1\" class=\"dataframe\">\n",
              "  <thead>\n",
              "    <tr style=\"text-align: right;\">\n",
              "      <th></th>\n",
              "      <th>churn</th>\n",
              "      <th>gender</th>\n",
              "      <th>count</th>\n",
              "    </tr>\n",
              "  </thead>\n",
              "  <tbody>\n",
              "    <tr>\n",
              "      <th>0</th>\n",
              "      <td>0</td>\n",
              "      <td>F</td>\n",
              "      <td>84</td>\n",
              "    </tr>\n",
              "    <tr>\n",
              "      <th>1</th>\n",
              "      <td>1</td>\n",
              "      <td>M</td>\n",
              "      <td>32</td>\n",
              "    </tr>\n",
              "    <tr>\n",
              "      <th>2</th>\n",
              "      <td>1</td>\n",
              "      <td>F</td>\n",
              "      <td>20</td>\n",
              "    </tr>\n",
              "    <tr>\n",
              "      <th>3</th>\n",
              "      <td>0</td>\n",
              "      <td>M</td>\n",
              "      <td>89</td>\n",
              "    </tr>\n",
              "  </tbody>\n",
              "</table>\n",
              "</div>"
            ],
            "text/plain": [
              "   churn gender  count\n",
              "0      0      F     84\n",
              "1      1      M     32\n",
              "2      1      F     20\n",
              "3      0      M     89"
            ]
          },
          "metadata": {
            "tags": []
          },
          "execution_count": 27
        }
      ]
    },
    {
      "cell_type": "code",
      "metadata": {
        "id": "STHGu_AxiGE4",
        "colab_type": "code",
        "colab": {},
        "outputId": "c6c3cb0b-56fb-4e45-9b98-e1fd0caf0e94"
      },
      "source": [
        "# Gender churn viz\n",
        "sns.barplot(x='churn',y='count',hue='gender',data=pd_gender)"
      ],
      "execution_count": null,
      "outputs": [
        {
          "output_type": "execute_result",
          "data": {
            "text/plain": [
              "<matplotlib.axes._subplots.AxesSubplot at 0x7f71651be128>"
            ]
          },
          "metadata": {
            "tags": []
          },
          "execution_count": 28
        },
        {
          "output_type": "display_data",
          "data": {
            "image/png": "[encoded data removed]",
            "text/plain": [
              "<matplotlib.figure.Figure at 0x7f71651ecb00>"
            ]
          },
          "metadata": {
            "tags": [],
            "needs_background": "light"
          }
        }
      ]
    },
    {
      "cell_type": "code",
      "metadata": {
        "id": "1jo9RSX4iGE6",
        "colab_type": "code",
        "colab": {},
        "outputId": "85416e84-ffb6-4af1-abcf-f62bdf48dcbd"
      },
      "source": [
        "# contingency table\n",
        "table = [[pd_gender.iat[1,2], pd_gender.iat[3,2],],[pd_gender.iat[2,2],pd_gender.iat[0,2]]]\n",
        "print(table)\n",
        "stat, p, dof, expected = chi2_contingency(table)\n",
        "print('dof=%d' % dof)\n",
        "print(expected)\n",
        "\n",
        "# interpret test-statistic\n",
        "prob = 0.95\n",
        "critical = chi2.ppf(prob, dof)\n",
        "print('probability=%.3f, critical=%.3f, stat=%.3f' % (prob, critical, stat))\n",
        "\n",
        "#If Statistic >= Critical Value: significant result, reject null hypothesis (H0), dependent.\n",
        "#If Statistic < Critical Value: not significant result, fail to reject null hypothesis (H0), independent.\n",
        "\n",
        "if abs(stat) >= critical:\n",
        "    print('Dependent (reject H0)')\n",
        "else:\n",
        "    print('Independent (fail to reject H0)')\n",
        "# interpret p-value\n",
        "alpha = 1.0 - prob\n",
        "print('significance=%.3f, p=%.3f' % (alpha, p))\n",
        "if p <= alpha:\n",
        "    print('Dependent (reject H0)')\n",
        "else:\n",
        "    print('Independent (fail to reject H0), gender seems to be not significant in determining churn or not')\n"
      ],
      "execution_count": null,
      "outputs": [
        {
          "output_type": "stream",
          "text": [
            "[[32, 89], [20, 84]]\n",
            "dof=1\n",
            "[[ 27.96444444  93.03555556]\n",
            " [ 24.03555556  79.96444444]]\n",
            "probability=0.950, critical=3.841, stat=1.258\n",
            "Independent (fail to reject H0)\n",
            "significance=0.050, p=0.262\n",
            "Independent (fail to reject H0), gender seems to be not significant in determining churn or not\n"
          ],
          "name": "stdout"
        }
      ]
    },
    {
      "cell_type": "code",
      "metadata": {
        "id": "D3rpGi4KiGE8",
        "colab_type": "code",
        "colab": {}
      },
      "source": [
        "# Level churn\n",
        "pd_item = df_clean.select(['userId','churn','level']).\\\n",
        "drop_duplicates([\"userId\",\"churn\",'level']).groupby([\"churn\",\"level\"]).count().toPandas()"
      ],
      "execution_count": null,
      "outputs": []
    },
    {
      "cell_type": "code",
      "metadata": {
        "id": "RgYXbC8KiGE_",
        "colab_type": "code",
        "colab": {},
        "outputId": "7b1d2361-7748-41fe-9a24-867e3da62b14"
      },
      "source": [
        "pd_item"
      ],
      "execution_count": null,
      "outputs": [
        {
          "output_type": "execute_result",
          "data": {
            "text/html": [
              "<div>\n",
              "<style scoped>\n",
              "    .dataframe tbody tr th:only-of-type {\n",
              "        vertical-align: middle;\n",
              "    }\n",
              "\n",
              "    .dataframe tbody tr th {\n",
              "        vertical-align: top;\n",
              "    }\n",
              "\n",
              "    .dataframe thead th {\n",
              "        text-align: right;\n",
              "    }\n",
              "</style>\n",
              "<table border=\"1\" class=\"dataframe\">\n",
              "  <thead>\n",
              "    <tr style=\"text-align: right;\">\n",
              "      <th></th>\n",
              "      <th>churn</th>\n",
              "      <th>level</th>\n",
              "      <th>count</th>\n",
              "    </tr>\n",
              "  </thead>\n",
              "  <tbody>\n",
              "    <tr>\n",
              "      <th>0</th>\n",
              "      <td>1</td>\n",
              "      <td>paid</td>\n",
              "      <td>36</td>\n",
              "    </tr>\n",
              "    <tr>\n",
              "      <th>1</th>\n",
              "      <td>1</td>\n",
              "      <td>free</td>\n",
              "      <td>46</td>\n",
              "    </tr>\n",
              "    <tr>\n",
              "      <th>2</th>\n",
              "      <td>0</td>\n",
              "      <td>free</td>\n",
              "      <td>149</td>\n",
              "    </tr>\n",
              "    <tr>\n",
              "      <th>3</th>\n",
              "      <td>0</td>\n",
              "      <td>paid</td>\n",
              "      <td>129</td>\n",
              "    </tr>\n",
              "  </tbody>\n",
              "</table>\n",
              "</div>"
            ],
            "text/plain": [
              "   churn level  count\n",
              "0      1  paid     36\n",
              "1      1  free     46\n",
              "2      0  free    149\n",
              "3      0  paid    129"
            ]
          },
          "metadata": {
            "tags": []
          },
          "execution_count": 31
        }
      ]
    },
    {
      "cell_type": "code",
      "metadata": {
        "id": "94aoolYWiGFB",
        "colab_type": "code",
        "colab": {},
        "outputId": "064c871c-1c1b-41b1-9c7b-60ba2ed350fb"
      },
      "source": [
        "# Level churn viz\n",
        "sns.barplot(x='churn',y='count',hue='level',data=pd_item)"
      ],
      "execution_count": null,
      "outputs": [
        {
          "output_type": "execute_result",
          "data": {
            "text/plain": [
              "<matplotlib.axes._subplots.AxesSubplot at 0x7f7165136278>"
            ]
          },
          "metadata": {
            "tags": []
          },
          "execution_count": 32
        },
        {
          "output_type": "display_data",
          "data": {
            "image/png": "[encoded data removed]",
            "text/plain": [
              "<matplotlib.figure.Figure at 0x7f7165122390>"
            ]
          },
          "metadata": {
            "tags": [],
            "needs_background": "light"
          }
        }
      ]
    },
    {
      "cell_type": "code",
      "metadata": {
        "id": "CXjYTHuuiGFE",
        "colab_type": "code",
        "colab": {},
        "outputId": "8d1a70a3-ca11-4787-dd55-64e96ed65e36"
      },
      "source": [
        "# contingency table\n",
        "table = [[pd_item.iat[1,2], pd_item.iat[2,2],],[pd_item.iat[0,2],pd_item.iat[3,2]]]\n",
        "print(table)\n",
        "stat, p, dof, expected = chi2_contingency(table)\n",
        "print('dof=%d' % dof)\n",
        "print(expected)\n",
        "\n",
        "# interpret test-statistic\n",
        "prob = 0.95\n",
        "critical = chi2.ppf(prob, dof)\n",
        "print('probability=%.3f, critical=%.3f, stat=%.3f' % (prob, critical, stat))\n",
        "\n",
        "#If Statistic >= Critical Value: significant result, reject null hypothesis (H0), dependent.\n",
        "#If Statistic < Critical Value: not significant result, fail to reject null hypothesis (H0), independent.\n",
        "\n",
        "if abs(stat) >= critical:\n",
        "    print('Dependent (reject H0)')\n",
        "else:\n",
        "    print('Independent (fail to reject H0)')\n",
        "# interpret p-value\n",
        "alpha = 1.0 - prob\n",
        "print('significance=%.3f, p=%.3f' % (alpha, p))\n",
        "if p <= alpha:\n",
        "    print('Dependent (reject H0)')\n",
        "else:\n",
        "    print('Independent (fail to reject H0), item seems to be not significant in determining churn or not')\n"
      ],
      "execution_count": null,
      "outputs": [
        {
          "output_type": "stream",
          "text": [
            "[[46, 149], [36, 129]]\n",
            "dof=1\n",
            "[[  44.41666667  150.58333333]\n",
            " [  37.58333333  127.41666667]]\n",
            "probability=0.950, critical=3.841, stat=0.075\n",
            "Independent (fail to reject H0)\n",
            "significance=0.050, p=0.785\n",
            "Independent (fail to reject H0), item seems to be not significant in determining churn or not\n"
          ],
          "name": "stdout"
        }
      ]
    },
    {
      "cell_type": "code",
      "metadata": {
        "id": "KXABlN1hiGFG",
        "colab_type": "code",
        "colab": {},
        "outputId": "293e7028-6e96-4a61-9e53-efc0131c5705"
      },
      "source": [
        "# Length churn stats\n",
        "df_clean.select([\"churn\", \"length\"]).groupby([\"churn\"]).agg(avg('length').alias('mean_length'), \n",
        "                                                                     stddev('length').alias('stdev_length'),\n",
        "                                                                    fmax('length').alias('max_length'),\n",
        "                                                                    fmin('length').alias('min_length')).show()"
      ],
      "execution_count": null,
      "outputs": [
        {
          "output_type": "stream",
          "text": [
            "+-----+------------------+------------------+----------+----------+\n",
            "|churn|       mean_length|      stdev_length|max_length|min_length|\n",
            "+-----+------------------+------------------+----------+----------+\n",
            "|    0|249.20913538880816|  98.6258830014688|3024.66567|   0.78322|\n",
            "|    1|248.63279564406218|102.38497717575477|3024.66567|   4.04853|\n",
            "+-----+------------------+------------------+----------+----------+\n",
            "\n"
          ],
          "name": "stdout"
        }
      ]
    },
    {
      "cell_type": "code",
      "metadata": {
        "id": "QTfOqJg_iGFH",
        "colab_type": "code",
        "colab": {}
      },
      "source": [
        "# Create two datasets; churned users vs.  active users\n",
        "churned = df_clean.select(['userId','page']).where(df_clean.churn == 1).groupby('page').agg(count(\"userId\")).toPandas()\n",
        "active = df_clean.select(['userId','page']).where(df_clean.churn == 0).groupby('page').agg(count(\"userId\")).toPandas()"
      ],
      "execution_count": null,
      "outputs": []
    },
    {
      "cell_type": "code",
      "metadata": {
        "id": "m6hpF6VWiGFJ",
        "colab_type": "code",
        "colab": {},
        "outputId": "6b64437d-4b23-4e32-934c-e8f202aace1e"
      },
      "source": [
        "active['churned'] = 'No'\n",
        "active['%'] = round(100*active['count(userId)']/np.sum(active['count(userId)']),1)\n",
        "active = active.drop(labels=['count(userId)'],axis=1)\n",
        "active"
      ],
      "execution_count": null,
      "outputs": [
        {
          "output_type": "execute_result",
          "data": {
            "text/html": [
              "<div>\n",
              "<style scoped>\n",
              "    .dataframe tbody tr th:only-of-type {\n",
              "        vertical-align: middle;\n",
              "    }\n",
              "\n",
              "    .dataframe tbody tr th {\n",
              "        vertical-align: top;\n",
              "    }\n",
              "\n",
              "    .dataframe thead th {\n",
              "        text-align: right;\n",
              "    }\n",
              "</style>\n",
              "<table border=\"1\" class=\"dataframe\">\n",
              "  <thead>\n",
              "    <tr style=\"text-align: right;\">\n",
              "      <th></th>\n",
              "      <th>page</th>\n",
              "      <th>churned</th>\n",
              "      <th>%</th>\n",
              "    </tr>\n",
              "  </thead>\n",
              "  <tbody>\n",
              "    <tr>\n",
              "      <th>0</th>\n",
              "      <td>Submit Downgrade</td>\n",
              "      <td>No</td>\n",
              "      <td>0.0</td>\n",
              "    </tr>\n",
              "    <tr>\n",
              "      <th>1</th>\n",
              "      <td>Thumbs Down</td>\n",
              "      <td>No</td>\n",
              "      <td>0.9</td>\n",
              "    </tr>\n",
              "    <tr>\n",
              "      <th>2</th>\n",
              "      <td>Home</td>\n",
              "      <td>No</td>\n",
              "      <td>3.6</td>\n",
              "    </tr>\n",
              "    <tr>\n",
              "      <th>3</th>\n",
              "      <td>Downgrade</td>\n",
              "      <td>No</td>\n",
              "      <td>0.7</td>\n",
              "    </tr>\n",
              "    <tr>\n",
              "      <th>4</th>\n",
              "      <td>Roll Advert</td>\n",
              "      <td>No</td>\n",
              "      <td>1.3</td>\n",
              "    </tr>\n",
              "    <tr>\n",
              "      <th>5</th>\n",
              "      <td>Logout</td>\n",
              "      <td>No</td>\n",
              "      <td>1.1</td>\n",
              "    </tr>\n",
              "    <tr>\n",
              "      <th>6</th>\n",
              "      <td>Save Settings</td>\n",
              "      <td>No</td>\n",
              "      <td>0.1</td>\n",
              "    </tr>\n",
              "    <tr>\n",
              "      <th>7</th>\n",
              "      <td>About</td>\n",
              "      <td>No</td>\n",
              "      <td>0.2</td>\n",
              "    </tr>\n",
              "    <tr>\n",
              "      <th>8</th>\n",
              "      <td>Settings</td>\n",
              "      <td>No</td>\n",
              "      <td>0.5</td>\n",
              "    </tr>\n",
              "    <tr>\n",
              "      <th>9</th>\n",
              "      <td>Add to Playlist</td>\n",
              "      <td>No</td>\n",
              "      <td>2.4</td>\n",
              "    </tr>\n",
              "    <tr>\n",
              "      <th>10</th>\n",
              "      <td>Add Friend</td>\n",
              "      <td>No</td>\n",
              "      <td>1.6</td>\n",
              "    </tr>\n",
              "    <tr>\n",
              "      <th>11</th>\n",
              "      <td>NextSong</td>\n",
              "      <td>No</td>\n",
              "      <td>82.2</td>\n",
              "    </tr>\n",
              "    <tr>\n",
              "      <th>12</th>\n",
              "      <td>Thumbs Up</td>\n",
              "      <td>No</td>\n",
              "      <td>4.6</td>\n",
              "    </tr>\n",
              "    <tr>\n",
              "      <th>13</th>\n",
              "      <td>Help</td>\n",
              "      <td>No</td>\n",
              "      <td>0.5</td>\n",
              "    </tr>\n",
              "    <tr>\n",
              "      <th>14</th>\n",
              "      <td>Upgrade</td>\n",
              "      <td>No</td>\n",
              "      <td>0.2</td>\n",
              "    </tr>\n",
              "    <tr>\n",
              "      <th>15</th>\n",
              "      <td>Error</td>\n",
              "      <td>No</td>\n",
              "      <td>0.1</td>\n",
              "    </tr>\n",
              "    <tr>\n",
              "      <th>16</th>\n",
              "      <td>Submit Upgrade</td>\n",
              "      <td>No</td>\n",
              "      <td>0.1</td>\n",
              "    </tr>\n",
              "  </tbody>\n",
              "</table>\n",
              "</div>"
            ],
            "text/plain": [
              "                page churned     %\n",
              "0   Submit Downgrade      No   0.0\n",
              "1        Thumbs Down      No   0.9\n",
              "2               Home      No   3.6\n",
              "3          Downgrade      No   0.7\n",
              "4        Roll Advert      No   1.3\n",
              "5             Logout      No   1.1\n",
              "6      Save Settings      No   0.1\n",
              "7              About      No   0.2\n",
              "8           Settings      No   0.5\n",
              "9    Add to Playlist      No   2.4\n",
              "10        Add Friend      No   1.6\n",
              "11          NextSong      No  82.2\n",
              "12         Thumbs Up      No   4.6\n",
              "13              Help      No   0.5\n",
              "14           Upgrade      No   0.2\n",
              "15             Error      No   0.1\n",
              "16    Submit Upgrade      No   0.1"
            ]
          },
          "metadata": {
            "tags": []
          },
          "execution_count": 36
        }
      ]
    },
    {
      "cell_type": "code",
      "metadata": {
        "id": "6no3c29KiGFN",
        "colab_type": "code",
        "colab": {},
        "outputId": "6d7af4ab-deb1-43c3-fe69-ef23dbe6930f"
      },
      "source": [
        "churned['churned'] = 'Yes'\n",
        "churned['%'] = round(100*churned['count(userId)']/np.sum(churned['count(userId)']),1)\n",
        "churned= churned.drop(labels=['count(userId)'],axis=1)\n",
        "churned"
      ],
      "execution_count": null,
      "outputs": [
        {
          "output_type": "execute_result",
          "data": {
            "text/html": [
              "<div>\n",
              "<style scoped>\n",
              "    .dataframe tbody tr th:only-of-type {\n",
              "        vertical-align: middle;\n",
              "    }\n",
              "\n",
              "    .dataframe tbody tr th {\n",
              "        vertical-align: top;\n",
              "    }\n",
              "\n",
              "    .dataframe thead th {\n",
              "        text-align: right;\n",
              "    }\n",
              "</style>\n",
              "<table border=\"1\" class=\"dataframe\">\n",
              "  <thead>\n",
              "    <tr style=\"text-align: right;\">\n",
              "      <th></th>\n",
              "      <th>page</th>\n",
              "      <th>churned</th>\n",
              "      <th>%</th>\n",
              "    </tr>\n",
              "  </thead>\n",
              "  <tbody>\n",
              "    <tr>\n",
              "      <th>0</th>\n",
              "      <td>Cancel</td>\n",
              "      <td>Yes</td>\n",
              "      <td>0.1</td>\n",
              "    </tr>\n",
              "    <tr>\n",
              "      <th>1</th>\n",
              "      <td>Submit Downgrade</td>\n",
              "      <td>Yes</td>\n",
              "      <td>0.0</td>\n",
              "    </tr>\n",
              "    <tr>\n",
              "      <th>2</th>\n",
              "      <td>Thumbs Down</td>\n",
              "      <td>Yes</td>\n",
              "      <td>1.1</td>\n",
              "    </tr>\n",
              "    <tr>\n",
              "      <th>3</th>\n",
              "      <td>Home</td>\n",
              "      <td>Yes</td>\n",
              "      <td>3.7</td>\n",
              "    </tr>\n",
              "    <tr>\n",
              "      <th>4</th>\n",
              "      <td>Downgrade</td>\n",
              "      <td>Yes</td>\n",
              "      <td>0.8</td>\n",
              "    </tr>\n",
              "    <tr>\n",
              "      <th>5</th>\n",
              "      <td>Roll Advert</td>\n",
              "      <td>Yes</td>\n",
              "      <td>2.2</td>\n",
              "    </tr>\n",
              "    <tr>\n",
              "      <th>6</th>\n",
              "      <td>Logout</td>\n",
              "      <td>Yes</td>\n",
              "      <td>1.2</td>\n",
              "    </tr>\n",
              "    <tr>\n",
              "      <th>7</th>\n",
              "      <td>Save Settings</td>\n",
              "      <td>Yes</td>\n",
              "      <td>0.1</td>\n",
              "    </tr>\n",
              "    <tr>\n",
              "      <th>8</th>\n",
              "      <td>Cancellation Confirmation</td>\n",
              "      <td>Yes</td>\n",
              "      <td>0.1</td>\n",
              "    </tr>\n",
              "    <tr>\n",
              "      <th>9</th>\n",
              "      <td>About</td>\n",
              "      <td>Yes</td>\n",
              "      <td>0.1</td>\n",
              "    </tr>\n",
              "    <tr>\n",
              "      <th>10</th>\n",
              "      <td>Settings</td>\n",
              "      <td>Yes</td>\n",
              "      <td>0.6</td>\n",
              "    </tr>\n",
              "    <tr>\n",
              "      <th>11</th>\n",
              "      <td>Add to Playlist</td>\n",
              "      <td>Yes</td>\n",
              "      <td>2.3</td>\n",
              "    </tr>\n",
              "    <tr>\n",
              "      <th>12</th>\n",
              "      <td>Add Friend</td>\n",
              "      <td>Yes</td>\n",
              "      <td>1.4</td>\n",
              "    </tr>\n",
              "    <tr>\n",
              "      <th>13</th>\n",
              "      <td>NextSong</td>\n",
              "      <td>Yes</td>\n",
              "      <td>81.1</td>\n",
              "    </tr>\n",
              "    <tr>\n",
              "      <th>14</th>\n",
              "      <td>Thumbs Up</td>\n",
              "      <td>Yes</td>\n",
              "      <td>4.1</td>\n",
              "    </tr>\n",
              "    <tr>\n",
              "      <th>15</th>\n",
              "      <td>Help</td>\n",
              "      <td>Yes</td>\n",
              "      <td>0.5</td>\n",
              "    </tr>\n",
              "    <tr>\n",
              "      <th>16</th>\n",
              "      <td>Upgrade</td>\n",
              "      <td>Yes</td>\n",
              "      <td>0.2</td>\n",
              "    </tr>\n",
              "    <tr>\n",
              "      <th>17</th>\n",
              "      <td>Error</td>\n",
              "      <td>Yes</td>\n",
              "      <td>0.1</td>\n",
              "    </tr>\n",
              "    <tr>\n",
              "      <th>18</th>\n",
              "      <td>Submit Upgrade</td>\n",
              "      <td>Yes</td>\n",
              "      <td>0.1</td>\n",
              "    </tr>\n",
              "  </tbody>\n",
              "</table>\n",
              "</div>"
            ],
            "text/plain": [
              "                         page churned     %\n",
              "0                      Cancel     Yes   0.1\n",
              "1            Submit Downgrade     Yes   0.0\n",
              "2                 Thumbs Down     Yes   1.1\n",
              "3                        Home     Yes   3.7\n",
              "4                   Downgrade     Yes   0.8\n",
              "5                 Roll Advert     Yes   2.2\n",
              "6                      Logout     Yes   1.2\n",
              "7               Save Settings     Yes   0.1\n",
              "8   Cancellation Confirmation     Yes   0.1\n",
              "9                       About     Yes   0.1\n",
              "10                   Settings     Yes   0.6\n",
              "11            Add to Playlist     Yes   2.3\n",
              "12                 Add Friend     Yes   1.4\n",
              "13                   NextSong     Yes  81.1\n",
              "14                  Thumbs Up     Yes   4.1\n",
              "15                       Help     Yes   0.5\n",
              "16                    Upgrade     Yes   0.2\n",
              "17                      Error     Yes   0.1\n",
              "18             Submit Upgrade     Yes   0.1"
            ]
          },
          "metadata": {
            "tags": []
          },
          "execution_count": 37
        }
      ]
    },
    {
      "cell_type": "code",
      "metadata": {
        "id": "HdISbrO8iGFP",
        "colab_type": "code",
        "colab": {}
      },
      "source": [
        "users = pd.concat([churned,active],sort=False)"
      ],
      "execution_count": null,
      "outputs": []
    },
    {
      "cell_type": "code",
      "metadata": {
        "id": "GEblncxoiGFS",
        "colab_type": "code",
        "colab": {},
        "outputId": "16cb57b4-df2e-4ba6-8091-655a6ef65c0b"
      },
      "source": [
        "users"
      ],
      "execution_count": null,
      "outputs": [
        {
          "output_type": "execute_result",
          "data": {
            "text/html": [
              "<div>\n",
              "<style scoped>\n",
              "    .dataframe tbody tr th:only-of-type {\n",
              "        vertical-align: middle;\n",
              "    }\n",
              "\n",
              "    .dataframe tbody tr th {\n",
              "        vertical-align: top;\n",
              "    }\n",
              "\n",
              "    .dataframe thead th {\n",
              "        text-align: right;\n",
              "    }\n",
              "</style>\n",
              "<table border=\"1\" class=\"dataframe\">\n",
              "  <thead>\n",
              "    <tr style=\"text-align: right;\">\n",
              "      <th></th>\n",
              "      <th>page</th>\n",
              "      <th>churned</th>\n",
              "      <th>%</th>\n",
              "    </tr>\n",
              "  </thead>\n",
              "  <tbody>\n",
              "    <tr>\n",
              "      <th>0</th>\n",
              "      <td>Cancel</td>\n",
              "      <td>Yes</td>\n",
              "      <td>0.1</td>\n",
              "    </tr>\n",
              "    <tr>\n",
              "      <th>1</th>\n",
              "      <td>Submit Downgrade</td>\n",
              "      <td>Yes</td>\n",
              "      <td>0.0</td>\n",
              "    </tr>\n",
              "    <tr>\n",
              "      <th>2</th>\n",
              "      <td>Thumbs Down</td>\n",
              "      <td>Yes</td>\n",
              "      <td>1.1</td>\n",
              "    </tr>\n",
              "    <tr>\n",
              "      <th>3</th>\n",
              "      <td>Home</td>\n",
              "      <td>Yes</td>\n",
              "      <td>3.7</td>\n",
              "    </tr>\n",
              "    <tr>\n",
              "      <th>4</th>\n",
              "      <td>Downgrade</td>\n",
              "      <td>Yes</td>\n",
              "      <td>0.8</td>\n",
              "    </tr>\n",
              "    <tr>\n",
              "      <th>5</th>\n",
              "      <td>Roll Advert</td>\n",
              "      <td>Yes</td>\n",
              "      <td>2.2</td>\n",
              "    </tr>\n",
              "    <tr>\n",
              "      <th>6</th>\n",
              "      <td>Logout</td>\n",
              "      <td>Yes</td>\n",
              "      <td>1.2</td>\n",
              "    </tr>\n",
              "    <tr>\n",
              "      <th>7</th>\n",
              "      <td>Save Settings</td>\n",
              "      <td>Yes</td>\n",
              "      <td>0.1</td>\n",
              "    </tr>\n",
              "    <tr>\n",
              "      <th>8</th>\n",
              "      <td>Cancellation Confirmation</td>\n",
              "      <td>Yes</td>\n",
              "      <td>0.1</td>\n",
              "    </tr>\n",
              "    <tr>\n",
              "      <th>9</th>\n",
              "      <td>About</td>\n",
              "      <td>Yes</td>\n",
              "      <td>0.1</td>\n",
              "    </tr>\n",
              "    <tr>\n",
              "      <th>10</th>\n",
              "      <td>Settings</td>\n",
              "      <td>Yes</td>\n",
              "      <td>0.6</td>\n",
              "    </tr>\n",
              "    <tr>\n",
              "      <th>11</th>\n",
              "      <td>Add to Playlist</td>\n",
              "      <td>Yes</td>\n",
              "      <td>2.3</td>\n",
              "    </tr>\n",
              "    <tr>\n",
              "      <th>12</th>\n",
              "      <td>Add Friend</td>\n",
              "      <td>Yes</td>\n",
              "      <td>1.4</td>\n",
              "    </tr>\n",
              "    <tr>\n",
              "      <th>13</th>\n",
              "      <td>NextSong</td>\n",
              "      <td>Yes</td>\n",
              "      <td>81.1</td>\n",
              "    </tr>\n",
              "    <tr>\n",
              "      <th>14</th>\n",
              "      <td>Thumbs Up</td>\n",
              "      <td>Yes</td>\n",
              "      <td>4.1</td>\n",
              "    </tr>\n",
              "    <tr>\n",
              "      <th>15</th>\n",
              "      <td>Help</td>\n",
              "      <td>Yes</td>\n",
              "      <td>0.5</td>\n",
              "    </tr>\n",
              "    <tr>\n",
              "      <th>16</th>\n",
              "      <td>Upgrade</td>\n",
              "      <td>Yes</td>\n",
              "      <td>0.2</td>\n",
              "    </tr>\n",
              "    <tr>\n",
              "      <th>17</th>\n",
              "      <td>Error</td>\n",
              "      <td>Yes</td>\n",
              "      <td>0.1</td>\n",
              "    </tr>\n",
              "    <tr>\n",
              "      <th>18</th>\n",
              "      <td>Submit Upgrade</td>\n",
              "      <td>Yes</td>\n",
              "      <td>0.1</td>\n",
              "    </tr>\n",
              "    <tr>\n",
              "      <th>0</th>\n",
              "      <td>Submit Downgrade</td>\n",
              "      <td>No</td>\n",
              "      <td>0.0</td>\n",
              "    </tr>\n",
              "    <tr>\n",
              "      <th>1</th>\n",
              "      <td>Thumbs Down</td>\n",
              "      <td>No</td>\n",
              "      <td>0.9</td>\n",
              "    </tr>\n",
              "    <tr>\n",
              "      <th>2</th>\n",
              "      <td>Home</td>\n",
              "      <td>No</td>\n",
              "      <td>3.6</td>\n",
              "    </tr>\n",
              "    <tr>\n",
              "      <th>3</th>\n",
              "      <td>Downgrade</td>\n",
              "      <td>No</td>\n",
              "      <td>0.7</td>\n",
              "    </tr>\n",
              "    <tr>\n",
              "      <th>4</th>\n",
              "      <td>Roll Advert</td>\n",
              "      <td>No</td>\n",
              "      <td>1.3</td>\n",
              "    </tr>\n",
              "    <tr>\n",
              "      <th>5</th>\n",
              "      <td>Logout</td>\n",
              "      <td>No</td>\n",
              "      <td>1.1</td>\n",
              "    </tr>\n",
              "    <tr>\n",
              "      <th>6</th>\n",
              "      <td>Save Settings</td>\n",
              "      <td>No</td>\n",
              "      <td>0.1</td>\n",
              "    </tr>\n",
              "    <tr>\n",
              "      <th>7</th>\n",
              "      <td>About</td>\n",
              "      <td>No</td>\n",
              "      <td>0.2</td>\n",
              "    </tr>\n",
              "    <tr>\n",
              "      <th>8</th>\n",
              "      <td>Settings</td>\n",
              "      <td>No</td>\n",
              "      <td>0.5</td>\n",
              "    </tr>\n",
              "    <tr>\n",
              "      <th>9</th>\n",
              "      <td>Add to Playlist</td>\n",
              "      <td>No</td>\n",
              "      <td>2.4</td>\n",
              "    </tr>\n",
              "    <tr>\n",
              "      <th>10</th>\n",
              "      <td>Add Friend</td>\n",
              "      <td>No</td>\n",
              "      <td>1.6</td>\n",
              "    </tr>\n",
              "    <tr>\n",
              "      <th>11</th>\n",
              "      <td>NextSong</td>\n",
              "      <td>No</td>\n",
              "      <td>82.2</td>\n",
              "    </tr>\n",
              "    <tr>\n",
              "      <th>12</th>\n",
              "      <td>Thumbs Up</td>\n",
              "      <td>No</td>\n",
              "      <td>4.6</td>\n",
              "    </tr>\n",
              "    <tr>\n",
              "      <th>13</th>\n",
              "      <td>Help</td>\n",
              "      <td>No</td>\n",
              "      <td>0.5</td>\n",
              "    </tr>\n",
              "    <tr>\n",
              "      <th>14</th>\n",
              "      <td>Upgrade</td>\n",
              "      <td>No</td>\n",
              "      <td>0.2</td>\n",
              "    </tr>\n",
              "    <tr>\n",
              "      <th>15</th>\n",
              "      <td>Error</td>\n",
              "      <td>No</td>\n",
              "      <td>0.1</td>\n",
              "    </tr>\n",
              "    <tr>\n",
              "      <th>16</th>\n",
              "      <td>Submit Upgrade</td>\n",
              "      <td>No</td>\n",
              "      <td>0.1</td>\n",
              "    </tr>\n",
              "  </tbody>\n",
              "</table>\n",
              "</div>"
            ],
            "text/plain": [
              "                         page churned     %\n",
              "0                      Cancel     Yes   0.1\n",
              "1            Submit Downgrade     Yes   0.0\n",
              "2                 Thumbs Down     Yes   1.1\n",
              "3                        Home     Yes   3.7\n",
              "4                   Downgrade     Yes   0.8\n",
              "5                 Roll Advert     Yes   2.2\n",
              "6                      Logout     Yes   1.2\n",
              "7               Save Settings     Yes   0.1\n",
              "8   Cancellation Confirmation     Yes   0.1\n",
              "9                       About     Yes   0.1\n",
              "10                   Settings     Yes   0.6\n",
              "11            Add to Playlist     Yes   2.3\n",
              "12                 Add Friend     Yes   1.4\n",
              "13                   NextSong     Yes  81.1\n",
              "14                  Thumbs Up     Yes   4.1\n",
              "15                       Help     Yes   0.5\n",
              "16                    Upgrade     Yes   0.2\n",
              "17                      Error     Yes   0.1\n",
              "18             Submit Upgrade     Yes   0.1\n",
              "0            Submit Downgrade      No   0.0\n",
              "1                 Thumbs Down      No   0.9\n",
              "2                        Home      No   3.6\n",
              "3                   Downgrade      No   0.7\n",
              "4                 Roll Advert      No   1.3\n",
              "5                      Logout      No   1.1\n",
              "6               Save Settings      No   0.1\n",
              "7                       About      No   0.2\n",
              "8                    Settings      No   0.5\n",
              "9             Add to Playlist      No   2.4\n",
              "10                 Add Friend      No   1.6\n",
              "11                   NextSong      No  82.2\n",
              "12                  Thumbs Up      No   4.6\n",
              "13                       Help      No   0.5\n",
              "14                    Upgrade      No   0.2\n",
              "15                      Error      No   0.1\n",
              "16             Submit Upgrade      No   0.1"
            ]
          },
          "metadata": {
            "tags": []
          },
          "execution_count": 39
        }
      ]
    },
    {
      "cell_type": "code",
      "metadata": {
        "id": "4ZS_QzcZiGFU",
        "colab_type": "code",
        "colab": {},
        "outputId": "bbd30c07-ed9e-46c2-938e-3eb2df9513d8"
      },
      "source": [
        "fig=plt.figure(figsize=(15,10))\n",
        "sns.set(font_scale=1)\n",
        "snsbp = sns.barplot(data=users,x='%',y='page',capsize=0.2,hue='churned');\n",
        "snsbp.set_xticklabels(snsbp.get_xticklabels(), rotation=90,minor=True);"
      ],
      "execution_count": null,
      "outputs": [
        {
          "output_type": "display_data",
          "data": {
            "image/png": "[encoded data removed]",
            "text/plain": [
              "<matplotlib.figure.Figure at 0x7f71651171d0>"
            ]
          },
          "metadata": {
            "tags": [],
            "needs_background": "light"
          }
        }
      ]
    },
    {
      "cell_type": "code",
      "metadata": {
        "id": "y8Db5DxliGFc",
        "colab_type": "code",
        "colab": {}
      },
      "source": [
        "# Time dimensions churn (hours, weekday)\n",
        "get_hour = udf(lambda x: datetime.datetime.fromtimestamp(x / 1000.0).hour)\n",
        "get_weekday = udf(lambda x: datetime.datetime.fromtimestamp(x / 1000.0).strftime(\"%w\"))\n",
        "get_month = udf(lambda x: datetime.datetime.fromtimestamp(x / 1000.0).strftime(\"%m\"))\n",
        "\n",
        "df_clean = df_clean.withColumn(\"hour\", get_hour(df_clean.ts))\n",
        "df_clean = df_clean.withColumn(\"weekday\", get_weekday(df_clean.ts))\n",
        "df_clean = df_clean.withColumn(\"month\", get_month(df_clean.ts))"
      ],
      "execution_count": null,
      "outputs": []
    },
    {
      "cell_type": "code",
      "metadata": {
        "id": "BPrT1LHHiGFf",
        "colab_type": "code",
        "colab": {},
        "outputId": "e7d7bb73-6b33-4adc-ca17-a4156fd54e68"
      },
      "source": [
        "df_clean.select(['userId','firstName','hour','weekday','month']).where(df_clean.userId == 10).show()"
      ],
      "execution_count": null,
      "outputs": [
        {
          "output_type": "stream",
          "text": [
            "+------+---------+----+-------+-----+\n",
            "|userId|firstName|hour|weekday|month|\n",
            "+------+---------+----+-------+-----+\n",
            "|    10|   Brycen|   2|      1|   10|\n",
            "|    10|   Brycen|   2|      1|   10|\n",
            "|    10|   Brycen|   2|      1|   10|\n",
            "|    10|   Brycen|   2|      1|   10|\n",
            "|    10|   Brycen|   2|      1|   10|\n",
            "|    10|   Brycen|   2|      1|   10|\n",
            "|    10|   Brycen|   2|      1|   10|\n",
            "|    10|   Brycen|   2|      1|   10|\n",
            "|    10|   Brycen|   2|      1|   10|\n",
            "|    10|   Brycen|   2|      1|   10|\n",
            "|    10|   Brycen|   2|      1|   10|\n",
            "|    10|   Brycen|   2|      1|   10|\n",
            "|    10|   Brycen|   2|      1|   10|\n",
            "|    10|   Brycen|   3|      1|   10|\n",
            "|    10|   Brycen|   3|      1|   10|\n",
            "|    10|   Brycen|   3|      1|   10|\n",
            "|    10|   Brycen|   3|      1|   10|\n",
            "|    10|   Brycen|   3|      1|   10|\n",
            "|    10|   Brycen|   3|      1|   10|\n",
            "|    10|   Brycen|   3|      1|   10|\n",
            "+------+---------+----+-------+-----+\n",
            "only showing top 20 rows\n",
            "\n"
          ],
          "name": "stdout"
        }
      ]
    },
    {
      "cell_type": "markdown",
      "metadata": {
        "id": "87vc11wbiGFk",
        "colab_type": "text"
      },
      "source": [
        "# Feature Engineering\n",
        "Once you've familiarized yourself with the data, build out the features you find promising to train your model on. To work with the full dataset, you can follow the following steps.\n",
        "- Write a script to extract the necessary features from the smaller subset of data\n",
        "- Ensure that your script is scalable, using the best practices discussed in Lesson 3\n",
        "- Try your script on the full data set, debugging your script if necessary\n",
        "\n",
        "If you are working in the classroom workspace, you can just extract features based on the small subset of data contained here. Be sure to transfer over this work to the larger dataset when you work on your Spark cluster."
      ]
    },
    {
      "cell_type": "code",
      "metadata": {
        "id": "flPSfHWNiGFk",
        "colab_type": "code",
        "colab": {},
        "outputId": "e5aed796-159c-4f23-b95c-71b4068496e1"
      },
      "source": [
        "# Make gender to binary\n",
        "gender_bin = df_clean.dropDuplicates(['userId']).sort('userId')\\\n",
        "    .select(['userId','gender']).replace(['F','M'], ['1', '0'], 'gender')\n",
        "gender_bin.withColumn('gender_bin', gender_bin.gender.cast(\"int\"))\n",
        "gender_bin.show(5)"
      ],
      "execution_count": null,
      "outputs": [
        {
          "output_type": "stream",
          "text": [
            "+------+------+\n",
            "|userId|gender|\n",
            "+------+------+\n",
            "|    10|     0|\n",
            "|   100|     0|\n",
            "|100001|     1|\n",
            "|100002|     1|\n",
            "|100003|     1|\n",
            "+------+------+\n",
            "only showing top 5 rows\n",
            "\n"
          ],
          "name": "stdout"
        }
      ]
    },
    {
      "cell_type": "code",
      "metadata": {
        "id": "d5cAHrrXiGFp",
        "colab_type": "code",
        "colab": {},
        "outputId": "7f1b5951-3437-48b5-b9a2-8d35a75a3f26"
      },
      "source": [
        "gender_bin.count()"
      ],
      "execution_count": null,
      "outputs": [
        {
          "output_type": "execute_result",
          "data": {
            "text/plain": [
              "225"
            ]
          },
          "metadata": {
            "tags": []
          },
          "execution_count": 44
        }
      ]
    },
    {
      "cell_type": "code",
      "metadata": {
        "id": "1RvZUiMriGFt",
        "colab_type": "code",
        "colab": {},
        "outputId": "93967e54-65ec-4eec-ec8e-009a031b4523"
      },
      "source": [
        "# Number of songs played\n",
        "songs = df_clean.where(df_clean.song!='null').groupby('userId')\\\n",
        "    .agg(count(df_clean.song).alias('SongsPlayed')).orderBy('userId')\\\n",
        "    .select(['userId','SongsPlayed'])\n",
        "songs.show(5)"
      ],
      "execution_count": null,
      "outputs": [
        {
          "output_type": "stream",
          "text": [
            "+------+-----------+\n",
            "|userId|SongsPlayed|\n",
            "+------+-----------+\n",
            "|    10|        673|\n",
            "|   100|       2682|\n",
            "|100001|        133|\n",
            "|100002|        195|\n",
            "|100003|         51|\n",
            "+------+-----------+\n",
            "only showing top 5 rows\n",
            "\n"
          ],
          "name": "stdout"
        }
      ]
    },
    {
      "cell_type": "code",
      "metadata": {
        "id": "HH3SDMdMiGFw",
        "colab_type": "code",
        "colab": {},
        "outputId": "b151e9a3-e015-4c98-de15-34720cb9e3df"
      },
      "source": [
        "songs.count()"
      ],
      "execution_count": null,
      "outputs": [
        {
          "output_type": "execute_result",
          "data": {
            "text/plain": [
              "225"
            ]
          },
          "metadata": {
            "tags": []
          },
          "execution_count": 46
        }
      ]
    },
    {
      "cell_type": "code",
      "metadata": {
        "id": "n4_oIMvwiGFz",
        "colab_type": "code",
        "colab": {},
        "outputId": "b1bb39a1-e82e-455a-927f-84da1cbdff44"
      },
      "source": [
        "# Number of roll advertisement\n",
        "ads = df_clean.where(df_clean.page=='Roll Advert') \\\n",
        "    .groupby(['userId']).agg(count(col('page')).alias('Roll Advert'))\\\n",
        "    .orderBy('userId').select(['userId','Roll Advert'])\n",
        "\n",
        "ads.show(5)"
      ],
      "execution_count": null,
      "outputs": [
        {
          "output_type": "stream",
          "text": [
            "+------+-----------+\n",
            "|userId|Roll Advert|\n",
            "+------+-----------+\n",
            "|    10|          1|\n",
            "|   100|         25|\n",
            "|100001|         14|\n",
            "|100002|          3|\n",
            "|100003|          9|\n",
            "+------+-----------+\n",
            "only showing top 5 rows\n",
            "\n"
          ],
          "name": "stdout"
        }
      ]
    },
    {
      "cell_type": "code",
      "metadata": {
        "id": "ME4weV-OiGF2",
        "colab_type": "code",
        "colab": {},
        "outputId": "5b10380b-f9ec-4c82-fbba-0db7b78921ff"
      },
      "source": [
        "ads.count()"
      ],
      "execution_count": null,
      "outputs": [
        {
          "output_type": "execute_result",
          "data": {
            "text/plain": [
              "207"
            ]
          },
          "metadata": {
            "tags": []
          },
          "execution_count": 48
        }
      ]
    },
    {
      "cell_type": "code",
      "metadata": {
        "id": "ynuuxpIziGF4",
        "colab_type": "code",
        "colab": {},
        "outputId": "7a9022f3-0873-4514-e24b-4993b428a709"
      },
      "source": [
        "# Number of settings in pages\n",
        "settings = df_clean.where(df_clean.page=='Settings')\\\n",
        "    .groupby(['userId']).agg(count(col('page')).alias('Settings'))\\\n",
        "    .orderBy('userId').select(['userId','Settings'])\n",
        "\n",
        "settings.show(5)"
      ],
      "execution_count": null,
      "outputs": [
        {
          "output_type": "stream",
          "text": [
            "+------+--------+\n",
            "|userId|Settings|\n",
            "+------+--------+\n",
            "|    10|       7|\n",
            "|   100|      11|\n",
            "|100001|       1|\n",
            "|100004|      11|\n",
            "|100005|       2|\n",
            "+------+--------+\n",
            "only showing top 5 rows\n",
            "\n"
          ],
          "name": "stdout"
        }
      ]
    },
    {
      "cell_type": "code",
      "metadata": {
        "id": "bEGZw4NniGF7",
        "colab_type": "code",
        "colab": {},
        "outputId": "577026a7-a6db-45aa-8f43-f772e6dca705"
      },
      "source": [
        "settings.count()"
      ],
      "execution_count": null,
      "outputs": [
        {
          "output_type": "execute_result",
          "data": {
            "text/plain": [
              "195"
            ]
          },
          "metadata": {
            "tags": []
          },
          "execution_count": 50
        }
      ]
    },
    {
      "cell_type": "code",
      "metadata": {
        "id": "9RWLmLgqiGF-",
        "colab_type": "code",
        "colab": {},
        "outputId": "c4d7e61b-8e5d-469e-b6ea-ea9a40bb8335"
      },
      "source": [
        "# Number of friends\n",
        "addfriend = df_clean.where(df_clean.page=='Add Friend')\\\n",
        "    .groupby(['userId']).agg(count(col('page')).alias('Add Friend'))\\\n",
        "    .orderBy('userId').select(['userId','Add Friend'])\n",
        "\n",
        "addfriend.show(5)"
      ],
      "execution_count": null,
      "outputs": [
        {
          "output_type": "stream",
          "text": [
            "+------+----------+\n",
            "|userId|Add Friend|\n",
            "+------+----------+\n",
            "|    10|        12|\n",
            "|   100|        49|\n",
            "|100001|         2|\n",
            "|100002|         1|\n",
            "|100004|        19|\n",
            "+------+----------+\n",
            "only showing top 5 rows\n",
            "\n"
          ],
          "name": "stdout"
        }
      ]
    },
    {
      "cell_type": "code",
      "metadata": {
        "id": "i7jdV4HjiGGC",
        "colab_type": "code",
        "colab": {},
        "outputId": "4a03ccc5-5a1a-47d6-91af-68070362ab63"
      },
      "source": [
        "# Number of thumbs up and thumbs down\n",
        "thumbsup = df_clean.where(df_clean.page=='Thumbs Up')\\\n",
        "    .groupby(['userId']).agg(count(col('page')).alias('ThumbsUps'))\\\n",
        "    .orderBy('userId').select(['userId','ThumbsUps'])\n",
        "\n",
        "thumbsdown = df_clean.where(df_clean.page=='Thumbs Down')\\\n",
        "    .groupby(['userId']).agg(count(col('page')).alias('ThumbsDowns'))\\\n",
        "    .orderBy('userId').select(['userId','ThumbsDowns'])\n",
        "\n",
        "thumbsup.show(5)"
      ],
      "execution_count": null,
      "outputs": [
        {
          "output_type": "stream",
          "text": [
            "+------+---------+\n",
            "|userId|ThumbsUps|\n",
            "+------+---------+\n",
            "|    10|       37|\n",
            "|   100|      148|\n",
            "|100001|        8|\n",
            "|100002|        5|\n",
            "|100003|        3|\n",
            "+------+---------+\n",
            "only showing top 5 rows\n",
            "\n"
          ],
          "name": "stdout"
        }
      ]
    },
    {
      "cell_type": "code",
      "metadata": {
        "id": "HPYU9TAaiGGG",
        "colab_type": "code",
        "colab": {},
        "outputId": "57c80d72-e6ca-445f-c2c7-272928ee090c"
      },
      "source": [
        "# Average number of songs played per session per userId\n",
        "sessions_songs = df_clean.select(['userId','song','sessionId'])\\\n",
        "                    .groupby(['userId','sessionId'])\\\n",
        "                    .count().groupby(['userId']).agg({'count':'avg'})\n",
        "\n",
        "sessions_songs = sessions_songs.withColumnRenamed(\"avg(count)\", \"avg_songs\")\n",
        "sessions_songs.show()"
      ],
      "execution_count": null,
      "outputs": [
        {
          "output_type": "stream",
          "text": [
            "+------+------------------+\n",
            "|userId|         avg_songs|\n",
            "+------+------------------+\n",
            "|100010| 54.42857142857143|\n",
            "|200002|              79.0|\n",
            "|   125|              11.0|\n",
            "|    51|             246.4|\n",
            "|   124| 166.3793103448276|\n",
            "|     7|28.714285714285715|\n",
            "|    54| 92.89189189189189|\n",
            "|    15|151.86666666666667|\n",
            "|   155|             167.0|\n",
            "|100014|51.666666666666664|\n",
            "|   132|             144.0|\n",
            "|   154|39.333333333333336|\n",
            "|   101|             214.9|\n",
            "|    11|              53.0|\n",
            "|300017| 70.28571428571429|\n",
            "|   138|             164.6|\n",
            "|    29|105.97058823529412|\n",
            "|    69|149.11111111111111|\n",
            "|100021|              63.8|\n",
            "|    42| 90.57446808510639|\n",
            "+------+------------------+\n",
            "only showing top 20 rows\n",
            "\n"
          ],
          "name": "stdout"
        }
      ]
    },
    {
      "cell_type": "code",
      "metadata": {
        "id": "TIiBgkOuiGGI",
        "colab_type": "code",
        "colab": {},
        "outputId": "4ed0c360-4eb2-4708-a0f3-48034cee89c5"
      },
      "source": [
        "# Length churn stats\n",
        "length = df_clean.select(['userId', \"length\"]).groupby(['userId']).agg(avg('length').alias('mean_length'), \n",
        "                                                                    fmax('length').alias('max_length'),\n",
        "                                                                    fmin('length').alias('min_length'))\n",
        "length.show()"
      ],
      "execution_count": null,
      "outputs": [
        {
          "output_type": "stream",
          "text": [
            "+------+------------------+----------+----------+\n",
            "|userId|       mean_length|max_length|min_length|\n",
            "+------+------------------+----------+----------+\n",
            "|100010|  243.421444909091| 538.85342|  52.27057|\n",
            "|200002|242.91699209302305| 592.06485|  26.56608|\n",
            "|   125|261.13913750000006| 391.26159| 178.41587|\n",
            "|    51|247.88055082899118|2594.87302|   4.04853|\n",
            "|   124|248.17653659965674|2369.04444|  18.05016|\n",
            "|     7| 253.5605806666668|   878.602|   38.3473|\n",
            "|    54|250.38539934530132| 1400.2673|  11.98975|\n",
            "|    15|249.37701452978064| 1373.6224|  21.91628|\n",
            "|   155| 242.4137706097561| 655.77751|  26.90567|\n",
            "|   132|250.58034431535253|1242.46159|  26.04363|\n",
            "|   154| 245.9526655952382| 655.77751|  28.26404|\n",
            "|100014|263.43763455252935|2594.87302|  45.94893|\n",
            "|   101|249.00612947690533|3024.66567|  22.12526|\n",
            "|    11| 246.7851051622872| 995.13424|  40.69832|\n",
            "|   138|247.56032983574826|1670.45179|  13.63546|\n",
            "|300017|  247.083419661344|1731.00363|   9.01179|\n",
            "|    29|249.18017257926053|2520.99873|  13.42649|\n",
            "|    69|254.27913390222213|1670.45179|  27.01016|\n",
            "|100021| 250.5790245217391| 563.35628|  32.73098|\n",
            "|    42|246.79344140218322| 1400.2673|  11.54567|\n",
            "+------+------------------+----------+----------+\n",
            "only showing top 20 rows\n",
            "\n"
          ],
          "name": "stdout"
        }
      ]
    },
    {
      "cell_type": "code",
      "metadata": {
        "id": "CAAMVl1fiGGL",
        "colab_type": "code",
        "colab": {},
        "outputId": "68434db6-ffc5-4587-98f0-d7f5d83b40ad"
      },
      "source": [
        "# Number of songs added by the user to playlist\n",
        "playlist = df_clean.select(['userId','page'])\\\n",
        "                .filter(df_clean.page == 'Add to Playlist')\\\n",
        "                .groupby('userId').count()\n",
        "\n",
        "playlist = playlist.withColumnRenamed(\"count\", \"addtoplaylist\")\n",
        "playlist.show()"
      ],
      "execution_count": null,
      "outputs": [
        {
          "output_type": "stream",
          "text": [
            "+------+-------------+\n",
            "|userId|addtoplaylist|\n",
            "+------+-------------+\n",
            "|100010|            7|\n",
            "|200002|            8|\n",
            "|    51|           52|\n",
            "|   124|          118|\n",
            "|     7|            5|\n",
            "|    15|           59|\n",
            "|    54|           72|\n",
            "|   155|           24|\n",
            "|   132|           38|\n",
            "|   154|            1|\n",
            "|100014|            7|\n",
            "|   101|           61|\n",
            "|    11|           20|\n",
            "|   138|           67|\n",
            "|300017|          113|\n",
            "|    29|           89|\n",
            "|    69|           33|\n",
            "|100021|            7|\n",
            "|    42|          104|\n",
            "|   112|            7|\n",
            "+------+-------------+\n",
            "only showing top 20 rows\n",
            "\n"
          ],
          "name": "stdout"
        }
      ]
    },
    {
      "cell_type": "code",
      "metadata": {
        "id": "v5C_-9n7iGGP",
        "colab_type": "code",
        "colab": {},
        "outputId": "90a1ad92-cab8-42ff-8979-512f088221ed"
      },
      "source": [
        "# Number of days spent using the service since registration date\n",
        "loyalty = df_clean.withColumn(\"loyalty\" , (df_clean.ts-df_clean.registration)/(1000*60*60*24))\\\n",
        "                    .select(['userId','loyalty']).groupby('userId').max('loyalty').alias('loyalty')\n",
        "\n",
        "loyalty.show()"
      ],
      "execution_count": null,
      "outputs": [
        {
          "output_type": "stream",
          "text": [
            "+------+------------------+\n",
            "|userId|      max(loyalty)|\n",
            "+------+------------------+\n",
            "|100010| 55.64365740740741|\n",
            "|200002| 70.07462962962963|\n",
            "|   125| 71.31688657407408|\n",
            "|    51|19.455844907407407|\n",
            "|   124|131.55591435185184|\n",
            "|     7| 72.77818287037037|\n",
            "|    54|110.75168981481481|\n",
            "|    15|56.513576388888886|\n",
            "|   155|23.556018518518517|\n",
            "|   132|  66.8891087962963|\n",
            "|   154|23.872037037037035|\n",
            "|100014| 85.08340277777778|\n",
            "|   101|        53.9659375|\n",
            "|    11|124.47825231481481|\n",
            "|   138| 66.62668981481481|\n",
            "|300017| 74.35851851851852|\n",
            "|    29|60.104050925925925|\n",
            "|    69| 71.42444444444445|\n",
            "|100021| 64.73886574074074|\n",
            "|    42| 67.11364583333334|\n",
            "+------+------------------+\n",
            "only showing top 20 rows\n",
            "\n"
          ],
          "name": "stdout"
        }
      ]
    },
    {
      "cell_type": "code",
      "metadata": {
        "id": "SDsC9Xj6iGGX",
        "colab_type": "code",
        "colab": {},
        "outputId": "7bb44737-e827-4d35-d619-563e072c801f"
      },
      "source": [
        "# Create final dataset\n",
        "feature_list = [gender_bin, songs, ads, settings, addfriend, thumbsup, thumbsdown, playlist, sessions_songs, loyalty, length]\n",
        "\n",
        "df = df_clean.dropDuplicates(['userId']).sort('userId').select(['userId','churn'])\n",
        "for feature in feature_list:\n",
        "    df = df.join(feature,'userId', how='left').na.fill(0)\n",
        "\n",
        "df = df.withColumnRenamed(\"churn\", \"label\")\n",
        "df.show()"
      ],
      "execution_count": null,
      "outputs": [
        {
          "output_type": "stream",
          "text": [
            "+------+-----+------+-----------+-----------+--------+----------+---------+-----------+-------------+------------------+------------------+------------------+----------+----------+\n",
            "|userId|label|gender|SongsPlayed|Roll Advert|Settings|Add Friend|ThumbsUps|ThumbsDowns|addtoplaylist|         avg_songs|      max(loyalty)|       mean_length|max_length|min_length|\n",
            "+------+-----+------+-----------+-----------+--------+----------+---------+-----------+-------------+------------------+------------------+------------------+----------+----------+\n",
            "|100010|    0|     1|        275|         52|       0|         4|       17|          5|            7| 54.42857142857143| 55.64365740740741|  243.421444909091| 538.85342|  52.27057|\n",
            "|200002|    0|     0|        387|          7|       3|         4|       21|          6|            8|              79.0| 70.07462962962963|242.91699209302305| 592.06485|  26.56608|\n",
            "|   125|    1|     0|          8|          1|       0|         0|        0|          0|            0|              11.0| 71.31688657407408|261.13913750000006| 391.26159| 178.41587|\n",
            "|   124|    0|     1|       4079|          4|      20|        74|      171|         41|          118| 166.3793103448276|131.55591435185184|248.17653659965674|2369.04444|  18.05016|\n",
            "|    51|    1|     0|       2111|          0|      12|        28|      100|         21|           52|             246.4|19.455844907407407|247.88055082899118|2594.87302|   4.04853|\n",
            "|     7|    0|     0|        150|         16|       3|         1|        7|          1|            5|28.714285714285715| 72.77818287037037| 253.5605806666668|   878.602|   38.3473|\n",
            "|    15|    0|     0|       1914|          1|      16|        31|       81|         14|           59|151.86666666666667|56.513576388888886|249.37701452978064| 1373.6224|  21.91628|\n",
            "|    54|    1|     1|       2841|         47|      17|        33|      163|         29|           72| 92.89189189189189|110.75168981481481|250.38539934530132| 1400.2673|  11.98975|\n",
            "|   155|    0|     1|        820|          8|       5|        11|       58|          3|           24|             167.0|23.556018518518517| 242.4137706097561| 655.77751|  26.90567|\n",
            "|100014|    1|     0|        257|          2|       1|         6|       17|          3|            7|51.666666666666664| 85.08340277777778|263.43763455252935|2594.87302|  45.94893|\n",
            "|   132|    0|     1|       1928|          2|      17|        41|       96|         17|           38|             144.0|  66.8891087962963|250.58034431535253|1242.46159|  26.04363|\n",
            "|   154|    0|     1|         84|         10|       0|         3|       11|          0|            1|39.333333333333336|23.872037037037035| 245.9526655952382| 655.77751|  28.26404|\n",
            "|   101|    1|     0|       1797|          8|       9|        29|       86|         16|           61|             214.9|        53.9659375|249.00612947690533|3024.66567|  22.12526|\n",
            "|    11|    0|     1|        647|         39|       6|         6|       40|          9|           20|              53.0|124.47825231481481| 246.7851051622872| 995.13424|  40.69832|\n",
            "|   138|    0|     0|       2070|         17|      17|        41|       95|         24|           67|             164.6| 66.62668981481481|247.56032983574826|1670.45179|  13.63546|\n",
            "|300017|    0|     1|       3632|         11|      23|        63|      303|         28|          113| 70.28571428571429| 74.35851851851852|  247.083419661344|1731.00363|   9.01179|\n",
            "|100021|    1|     0|        230|         30|       0|         7|       11|          5|            7|              63.8| 64.73886574074074| 250.5790245217391| 563.35628|  32.73098|\n",
            "|    29|    1|     0|       3028|         22|      19|        47|      154|         22|           89|105.97058823529412|60.104050925925925|249.18017257926053|2520.99873|  13.42649|\n",
            "|    69|    0|     1|       1125|          3|       3|        12|       72|          9|           33|149.11111111111111| 71.42444444444445|254.27913390222213|1670.45179|  27.01016|\n",
            "|   112|    0|     0|        215|         21|       4|         7|        9|          3|            7|              29.2| 87.46262731481481|246.80347251162797|1242.46159|  22.36036|\n",
            "+------+-----+------+-----------+-----------+--------+----------+---------+-----------+-------------+------------------+------------------+------------------+----------+----------+\n",
            "only showing top 20 rows\n",
            "\n"
          ],
          "name": "stdout"
        }
      ]
    },
    {
      "cell_type": "code",
      "metadata": {
        "id": "gxDc5EGSiGGY",
        "colab_type": "code",
        "colab": {}
      },
      "source": [
        "for feature in df.columns[1:]:\n",
        "    df = df.withColumn(feature, df[feature].cast('float'))"
      ],
      "execution_count": null,
      "outputs": []
    },
    {
      "cell_type": "code",
      "metadata": {
        "id": "Hvl1csC9iGGe",
        "colab_type": "code",
        "colab": {},
        "outputId": "341083b3-69f0-422c-cf53-9c12e2efa5de"
      },
      "source": [
        "# This is the data we will use to train\n",
        "df.printSchema()"
      ],
      "execution_count": null,
      "outputs": [
        {
          "output_type": "stream",
          "text": [
            "root\n",
            " |-- userId: string (nullable = true)\n",
            " |-- label: float (nullable = true)\n",
            " |-- gender: float (nullable = true)\n",
            " |-- SongsPlayed: float (nullable = true)\n",
            " |-- Roll Advert: float (nullable = true)\n",
            " |-- Settings: float (nullable = true)\n",
            " |-- Add Friend: float (nullable = true)\n",
            " |-- ThumbsUps: float (nullable = true)\n",
            " |-- ThumbsDowns: float (nullable = true)\n",
            " |-- addtoplaylist: float (nullable = true)\n",
            " |-- avg_songs: float (nullable = false)\n",
            " |-- max(loyalty): float (nullable = false)\n",
            "\n"
          ],
          "name": "stdout"
        }
      ]
    },
    {
      "cell_type": "code",
      "metadata": {
        "id": "DEVoVc2-iGGh",
        "colab_type": "code",
        "colab": {}
      },
      "source": [
        "df.count()"
      ],
      "execution_count": null,
      "outputs": []
    },
    {
      "cell_type": "markdown",
      "metadata": {
        "id": "vA0BqTJ8iGGj",
        "colab_type": "text"
      },
      "source": [
        "# Modeling\n",
        "Split the full dataset into train, test, and validation sets. Test out several of the machine learning methods you learned. Evaluate the accuracy of the various models, tuning parameters as necessary. Determine your winning model based on test accuracy and report results on the validation set. Since the churned users are a fairly small subset, I suggest using F1 score as the metric to optimize."
      ]
    },
    {
      "cell_type": "code",
      "metadata": {
        "id": "aeFji7AEiGGj",
        "colab_type": "code",
        "colab": {}
      },
      "source": [
        "def undersample(df): \n",
        "    '''\n",
        "    Implement undersample on dataset, return a balanced dataset.\n",
        "    '''    \n",
        "    # size of minority class(0)\n",
        "    minoritySize = df.where(df.label == '1').count()\n",
        "    \n",
        "    # two classes with the same size\n",
        "    df_min = df.where(df.label == '1')\n",
        "    df_max = df.where(df.label == '0').sample(1.0, seed=7).limit(minoritySize)\n",
        "    \n",
        "    # concatenate them together\n",
        "    result = df_min.union(df_max)\n",
        "    \n",
        "    #shuffle data\n",
        "    result = result.orderBy(rand())\n",
        "    return result"
      ],
      "execution_count": null,
      "outputs": []
    },
    {
      "cell_type": "code",
      "metadata": {
        "id": "Lx5OPm3jiGGl",
        "colab_type": "code",
        "colab": {}
      },
      "source": [
        "df_bal = undersample(df)"
      ],
      "execution_count": null,
      "outputs": []
    },
    {
      "cell_type": "code",
      "metadata": {
        "id": "hH72-rPPiGGn",
        "colab_type": "code",
        "colab": {}
      },
      "source": [
        "# Check the output\n",
        "df_bal.groupby(df_bal.label).count().show()"
      ],
      "execution_count": null,
      "outputs": []
    },
    {
      "cell_type": "code",
      "metadata": {
        "id": "HBiiyczTiGGo",
        "colab_type": "code",
        "colab": {},
        "outputId": "901eaab2-b5e0-408d-e2b6-5b4faf6523d0"
      },
      "source": [
        "df_bal.printSchema()"
      ],
      "execution_count": null,
      "outputs": [
        {
          "output_type": "stream",
          "text": [
            "root\n",
            " |-- userId: string (nullable = true)\n",
            " |-- label: float (nullable = true)\n",
            " |-- gender: float (nullable = true)\n",
            " |-- SongsPlayed: float (nullable = true)\n",
            " |-- Roll Advert: float (nullable = true)\n",
            " |-- Settings: float (nullable = true)\n",
            " |-- Add Friend: float (nullable = true)\n",
            " |-- ThumbsUps: float (nullable = true)\n",
            " |-- ThumbsDowns: float (nullable = true)\n",
            " |-- addtoplaylist: float (nullable = true)\n",
            " |-- avg_songs: float (nullable = false)\n",
            " |-- max(loyalty): float (nullable = false)\n",
            "\n"
          ],
          "name": "stdout"
        }
      ]
    },
    {
      "cell_type": "code",
      "metadata": {
        "id": "uof8o4iWiGGq",
        "colab_type": "code",
        "colab": {}
      },
      "source": [
        "# spilt data for Train and test \n",
        "train, test = df_bal.randomSplit([0.8, 0.2], seed=7);"
      ],
      "execution_count": null,
      "outputs": []
    },
    {
      "cell_type": "code",
      "metadata": {
        "id": "mIUb69CViGGs",
        "colab_type": "code",
        "colab": {}
      },
      "source": [
        "# Create VectorAssembler to push data to ML models\n",
        "assembler = VectorAssembler(inputCols=df.columns[2:],\\\n",
        "                            outputCol=\"inputFeatures\")\n",
        "\n",
        "# Normalize data\n",
        "scaler = Normalizer(inputCol=\"inputFeatures\", outputCol=\"ScaledFeatures\");"
      ],
      "execution_count": null,
      "outputs": []
    },
    {
      "cell_type": "code",
      "metadata": {
        "id": "mTz0dOYziGGt",
        "colab_type": "code",
        "colab": {}
      },
      "source": [
        "# Create Pipeline\n",
        "#pipeline_lr = Pipeline(stages=[assembler, scaler, model_lr]);\n",
        "#pipeline_rf = Pipeline(stages=[assembler, scaler, model_rf]);\n",
        "#pipeline_gbt = Pipeline(stages=[assembler, scaler, model_gbt])"
      ],
      "execution_count": null,
      "outputs": []
    },
    {
      "cell_type": "code",
      "metadata": {
        "id": "Xn04BA2EiGGv",
        "colab_type": "code",
        "colab": {}
      },
      "source": [
        "# ElasticNetParam corresponds to α and regParam corresponds to λ.\n",
        "#model_lr = LogisticRegression(featuresCol=\"ScaledFeatures\", labelCol=\"label\", maxIter=10, regParam=0.01)\n",
        "#model_rf = RandomForestClassifier(featuresCol=\"ScaledFeatures\", labelCol=\"label\")\n",
        "#model_gbt = GBTClassifier(featuresCol=\"ScaledFeatures\", labelCol=\"label\")"
      ],
      "execution_count": null,
      "outputs": []
    },
    {
      "cell_type": "code",
      "metadata": {
        "id": "PetwnyLyiGGw",
        "colab_type": "code",
        "colab": {}
      },
      "source": [
        "# Build Logistic Regression Classification Model\n",
        "\n",
        "# Initiate Log Regression model\n",
        "lr =  LogisticRegression(featuresCol=\"ScaledFeatures\", labelCol=\"label\",maxIter=10, elasticNetParam=0)\n",
        "\n",
        "# Make pipeline for lr\n",
        "pipeline_lr = Pipeline(stages=[assembler, \n",
        "                               scaler, \n",
        "                               lr\n",
        "                              ]\n",
        "                      )\n",
        "\n",
        "# Grid Search Params\n",
        "paramGrid_lr = ParamGridBuilder() \\\n",
        "    .addGrid(lr.regParam,[0.01]) \\\n",
        "    .build()\n",
        "\n",
        "# Cross-validation\n",
        "cv_lr = CrossValidator(estimator=pipeline_lr,\n",
        "                             estimatorParamMaps=paramGrid_lr,\n",
        "                             evaluator=MulticlassClassificationEvaluator(),\n",
        "                             numFolds=3\n",
        "                            )\n"
      ],
      "execution_count": null,
      "outputs": []
    },
    {
      "cell_type": "code",
      "metadata": {
        "id": "NsDhMZVAiGGz",
        "colab_type": "code",
        "colab": {}
      },
      "source": [
        "# Build Random Forest Classification Model\n",
        "\n",
        "# Initiate Random Forest model\n",
        "\n",
        "model_rf = RandomForestClassifier(featuresCol=\"ScaledFeatures\", labelCol=\"label\")\n",
        "\n",
        "\n",
        "# build pipeline\n",
        "pipeline_rf = Pipeline(stages=[assembler, \n",
        "                               scaler, \n",
        "                               model_rf \n",
        "                              ]\n",
        "                      )\n",
        "\n",
        "# build grid of params\n",
        "paramGrid_rf = ParamGridBuilder() \\\n",
        "    .addGrid(model_rf.maxDepth, [8, 16,20]) \\\n",
        "    .addGrid(model_rf.maxBins, [8, 16, 20]) \\\n",
        "    .addGrid(model_rf.impurity, ['gini','entropy']) \\\n",
        "    .build()\n",
        "    \n",
        "# Cross validation specs\n",
        "cv_rf = CrossValidator(estimator=pipeline_rf,\n",
        "                       estimatorParamMaps=paramGrid_rf,\n",
        "                       evaluator=MulticlassClassificationEvaluator(),\n",
        "                       numFolds=3\n",
        "                      )\n"
      ],
      "execution_count": null,
      "outputs": []
    },
    {
      "cell_type": "code",
      "metadata": {
        "id": "87-OUjoriGG4",
        "colab_type": "code",
        "colab": {}
      },
      "source": [
        "# Build GBT Classification Model\n",
        "\n",
        "# Initiate BGT model\n",
        "\n",
        "model_gbt = GBTClassifier(featuresCol=\"ScaledFeatures\", labelCol=\"label\")\n",
        "\n",
        "\n",
        "# build pipeline\n",
        "pipeline_gbt = Pipeline(stages=[assembler, \n",
        "                               scaler, \n",
        "                               model_gbt\n",
        "                              ]\n",
        "                      )\n",
        "\n",
        "# build grid of params\n",
        "paramGrid_gbt = ParamGridBuilder() \\\n",
        "     .addGrid(model_gbt.maxDepth, [8, 16,20])\\\n",
        "     .addGrid(model_gbt.maxBins, [8 ,16,20])\\\n",
        "     .addGrid(model_gbt.maxIter, [10, 15])\\\n",
        "     .build()\n",
        "\n",
        "# Cross validation specs\n",
        "cv_gbt = CrossValidator(estimator=pipeline_gbt,\n",
        "                       estimatorParamMaps=paramGrid_gbt,\n",
        "                       evaluator=MulticlassClassificationEvaluator(),\n",
        "                       numFolds=3\n",
        "                      )"
      ],
      "execution_count": null,
      "outputs": []
    },
    {
      "cell_type": "code",
      "metadata": {
        "id": "zw9_yhW4iGG8",
        "colab_type": "code",
        "colab": {},
        "outputId": "c1148674-cec2-4826-f305-b716ad003ebe"
      },
      "source": [
        "# Fit the model\n",
        "import time\n",
        "\n",
        "print(datetime.datetime.now())\n",
        "\n",
        "start_time= time.time()\n",
        "\n",
        "model_lr_fitted = cv_lr.fit(train);\n",
        "#model_rf_fitted = cv_rf.fit(train);\n",
        "#model_gbt_fitted = cv_gbt.fit(train)\n",
        "\n",
        "end_time= time.time()\n",
        "\n",
        "print(\"Total execute time:{}\".format(end_time-start_time))"
      ],
      "execution_count": null,
      "outputs": [
        {
          "output_type": "stream",
          "text": [
            "2020-07-14 21:59:08.351208\n",
            "Total execute time:1600.5893931388855\n"
          ],
          "name": "stdout"
        }
      ]
    },
    {
      "cell_type": "code",
      "metadata": {
        "id": "kZGTwF5QiGG9",
        "colab_type": "code",
        "colab": {}
      },
      "source": [
        "# Function to calculate Accuracy scores:\n",
        "def model_performance_accuracy(model, test_data, metric = 'accuracy'):\n",
        "    \"\"\" Calculate Model Scores using f1 metric \n",
        "        Input: \n",
        "            model- trained model or pipeline object\n",
        "            metric- the metric used to measure performance\n",
        "            data - data on which performance measurement should be done\n",
        "        Output:\n",
        "            score\n",
        "    \"\"\"\n",
        "    evaluator = MulticlassClassificationEvaluator(metricName = metric)\n",
        "    prediction_result = model.transform(test_data)\n",
        "    # find f1 score\n",
        "    score = evaluator.evaluate(prediction_result)\n",
        "    #return score\n",
        "    return score"
      ],
      "execution_count": null,
      "outputs": []
    },
    {
      "cell_type": "code",
      "metadata": {
        "id": "fQan3giGiGG_",
        "colab_type": "code",
        "colab": {},
        "outputId": "ef7a09ed-302c-4477-cb8c-a975fb77794b"
      },
      "source": [
        "# Print Models Accuracy\n",
        "print(\"Logistic Regression Classifier Accuracy:{}\".format(model_performance_accuracy(model_lr_fitted, test)));\n",
        "#print(\"Random Forest  Classifier Accuracy:{}\".format(model_performance_accuracy(model_rf_fitted, test)));\n",
        "#print(\"GBTClassifier  Classifier Accuracy:{}\".format(model_performance_accuracy(model_gbt_fitted, test)));"
      ],
      "execution_count": null,
      "outputs": [
        {
          "output_type": "stream",
          "text": [
            "Logistic Regression Classifier Accuracy:0.7058823529411765\n"
          ],
          "name": "stdout"
        }
      ]
    },
    {
      "cell_type": "code",
      "metadata": {
        "id": "UrB0KiWFiGHB",
        "colab_type": "code",
        "colab": {}
      },
      "source": [
        "# Function to calculate F-1 scores:\n",
        "def model_performance_accuracy(model, test_data, metric = 'f1'):\n",
        "    \"\"\" Calculate Model Scores using f1 metric \n",
        "        Input: \n",
        "            model- trained model or pipeline object\n",
        "            metric- the metric used to measure performance\n",
        "            data - data on which performance measurement should be done\n",
        "        Output:\n",
        "            score\n",
        "    \"\"\"\n",
        "    evaluator = MulticlassClassificationEvaluator(metricName = metric)\n",
        "    prediction_result = model.transform(test_data)\n",
        "    # find f1 score\n",
        "    score = evaluator.evaluate(prediction_result)\n",
        "    #return score\n",
        "    return score"
      ],
      "execution_count": null,
      "outputs": []
    },
    {
      "cell_type": "code",
      "metadata": {
        "id": "nTOJwRnLiGHF",
        "colab_type": "code",
        "colab": {}
      },
      "source": [
        "# Print Models F-1 score\n",
        "print(\"Logistic Regression Classifier F1-Score:{}\".format(model_performance(model_lr_fitted, test)));\n",
        "print(\"Random Forest  Classifier F1-Score:{}\".format(model_performance(model_rf_fitted, test)));\n",
        "print(\"GBTClassifier  Classifier F1-Score:{}\".format(model_performance(model_gbt_fitted, test)));"
      ],
      "execution_count": null,
      "outputs": []
    },
    {
      "cell_type": "markdown",
      "metadata": {
        "id": "52tsQ6ahiGHG",
        "colab_type": "text"
      },
      "source": [
        "# Final Steps\n",
        "Clean up your code, adding comments and renaming variables to make the code easier to read and maintain. Refer to the Spark Project Overview page and Data Scientist Capstone Project Rubric to make sure you are including all components of the capstone project and meet all expectations. Remember, this includes thorough documentation in a README file in a Github repository, as well as a web app or blog post."
      ]
    },
    {
      "cell_type": "code",
      "metadata": {
        "id": "0ZCD8vPiiGHH",
        "colab_type": "code",
        "colab": {}
      },
      "source": [
        ""
      ],
      "execution_count": null,
      "outputs": []
    }
  ]
}